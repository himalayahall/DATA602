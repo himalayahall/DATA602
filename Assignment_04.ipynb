{
  "nbformat": 4,
  "nbformat_minor": 0,
  "metadata": {
    "colab": {
      "provenance": [],
      "authorship_tag": "ABX9TyMNbPBcSBenUTr1Q2BrwDyy",
      "include_colab_link": true
    },
    "kernelspec": {
      "name": "python3",
      "display_name": "Python 3"
    },
    "language_info": {
      "name": "python"
    }
  },
  "cells": [
    {
      "cell_type": "markdown",
      "metadata": {
        "id": "view-in-github",
        "colab_type": "text"
      },
      "source": [
        "<a href=\"https://colab.research.google.com/github/himalayahall/DATA602/blob/main/Assignment_04.ipynb\" target=\"_parent\"><img src=\"https://colab.research.google.com/assets/colab-badge.svg\" alt=\"Open In Colab\"/></a>"
      ]
    },
    {
      "cell_type": "markdown",
      "source": [
        "# CUNY Data 602 - Assignment 04"
      ],
      "metadata": {
        "id": "j1phUj8V0eeb"
      }
    },
    {
      "cell_type": "markdown",
      "source": [
        "## Q1 Create a class called BankAccount that has four attributes: bankname, firstname, lastname, and balance.\n",
        "\n",
        "The default balance should be set to 0.\n",
        "In addition, create ...\n",
        "- A method called deposit() that allows the user to make deposits into their balance.\n",
        "- A method called withdrawal() that allows the user to withdraw from their balance.\n",
        "- Withdrawal may not exceed the available balance. Hint: consider a conditional argument\n",
        "in your withdrawal() method.\n",
        "- Use the __str__() method in order to display the bank name, owner name, and current\n",
        "balance.\n",
        "-\n",
        " Make a series of deposits and withdrawals to test your "
      ],
      "metadata": {
        "id": "3uUtwFXC0w_0"
      }
    },
    {
      "cell_type": "code",
      "execution_count": 45,
      "metadata": {
        "id": "_qZjBoC40Z0L"
      },
      "outputs": [],
      "source": [
        "class BankAccount:\n",
        "    def __init__(self, bankname : str, firstname : str, lastname : str, balance: float):\n",
        "        self.bankname = bankname\n",
        "        self.firstname = firstname\n",
        "        self.lastname = lastname\n",
        "        self.balance = balance\n",
        "\n",
        "    def __str__(self):\n",
        "        return f'Bank name: {self.bankname}, ' \\\n",
        "               f'Account holder: {self.firstname.title()} {self.lastname.title()}, ' \\\n",
        "               f'Balance: {self.balance}'\n",
        "\n",
        "    def deposit(self, amt : float) -> float:\n",
        "        \"\"\"\n",
        "        Deposit amount into account.\n",
        "\n",
        "        Parameters\n",
        "        ----------\n",
        "        amt : float\n",
        "            Deposit amount. Must be >= 0\n",
        "\n",
        "        Returns\n",
        "        -------\n",
        "        float\n",
        "            New account balance\n",
        "\n",
        "        \"\"\"       \n",
        "        if amt <= 0:\n",
        "            raise RuntimeError('Deposit amount <= 0')\n",
        "        self.balance += amt\n",
        "        return self.balance\n",
        "\n",
        "    def withdrawal(self, amt : float) -> float:\n",
        "        \"\"\"\n",
        "        Withdraw amount from account.\n",
        "\n",
        "        Parameters\n",
        "        ----------\n",
        "        amt : float\n",
        "            Withdrawl amount. Must be <= account balance\n",
        "\n",
        "        Returns\n",
        "        -------\n",
        "        float\n",
        "            New account balance\n",
        "\n",
        "        \"\"\"         \n",
        "        if amt <= 0:\n",
        "            raise RuntimeError('Deposit amount <= 0')\n",
        "\n",
        "        if amt > self.balance:\n",
        "            raise RuntimeError('Withdrawl amount exceeded balance')\n",
        "\n",
        "        self.balance -= amt\n",
        "        return self.balance\n",
        "\n"
      ]
    },
    {
      "cell_type": "code",
      "source": [
        "ba = BankAccount('Citi', 'Fred', 'Astair', 1000)\n",
        "bal = ba.deposit(100.50)\n",
        "print(ba)\n",
        "bal = ba.deposit(100.50)\n",
        "ba.withdrawal(55.50)\n",
        "print(ba)\n",
        "bal = ba.withdrawal(200)\n",
        "print(ba)\n",
        "bal = ba.withdrawal(bal)\n",
        "print(ba)\n",
        "\n",
        "try:\n",
        "    bal = ba.withdrawal(10)\n",
        "except RuntimeError as inst:\n",
        "    print(inst)\n",
        "\n",
        "try:\n",
        "    bal = ba.withdrawal(-10)\n",
        "except RuntimeError as inst:\n",
        "    print(inst)"
      ],
      "metadata": {
        "colab": {
          "base_uri": "https://localhost:8080/"
        },
        "id": "zB4W8-1v4WT2",
        "outputId": "3754ed40-5aa3-4be0-a8ea-bab1ea110347"
      },
      "execution_count": 46,
      "outputs": [
        {
          "output_type": "stream",
          "name": "stdout",
          "text": [
            "Bank name: Citi, Account holder: Fred Astair, Balance: 1100.5\n",
            "Bank name: Citi, Account holder: Fred Astair, Balance: 1145.5\n",
            "Bank name: Citi, Account holder: Fred Astair, Balance: 945.5\n",
            "Bank name: Citi, Account holder: Fred Astair, Balance: 0.0\n",
            "Withdrawl amount exceeded balance\n",
            "Deposit amount <= 0\n"
          ]
        }
      ]
    },
    {
      "cell_type": "markdown",
      "source": [
        "# Q2: Create a class Box that has attributes length and width that takes values for length\n",
        "and width upon construction (instantiation via the constructor).\n",
        "In addition, create...\n",
        "- A method called **render()** that prints out to the screen a box made with asterisks of\n",
        "length and width dimensions\n",
        "- A method called **invert()** that switches length and width with each other\n",
        "- Methods **get_area()** and **get_perimeter()** that return appropriate geometric calculations\n",
        "- A method called **double()** that doubles the size of the box. Hint: Pay attention to return\n",
        "value here.\n",
        "- Implement **\\_\\_eq\\_\\_** so that two boxes can be compared using ==. Two boxes are equal if\n",
        "their respective lengths and widths are identical.\n",
        "- A method **print_dim()** that prints to screen the length and width details of the box\n",
        "- A method **get_dim()** that returns a tuple containing the length and width of the box\n",
        "- A method **combine()** that takes another box as an argument and increases the length\n",
        "and width by the dimensions of the box passed in\n",
        "- A method **get_hypot()** that finds the length of the diagonal that cuts through the middle\n",
        "\n",
        "----\n",
        "- Instantiate 3 boxes of dimensions 5,10 , 3,4 and 5,10 and assign to variables box1,\n",
        "box2 and box3 respectively\n",
        "- Print dimension info for each using print_dim()\n",
        "- Evaluate if box1 == box2, and also evaluate if box1 == box3, print True or False to the\n",
        "screen accordingly\n",
        "- Combine box3 into box1 (i.e. box1.combine())\n",
        "- Double the size of box2\n",
        "- Combine box2 into box1\n"
      ],
      "metadata": {
        "id": "vNqiwSFM5Hwr"
      }
    },
    {
      "cell_type": "code",
      "source": [
        "class Box:\n",
        "    def __init__(self, length, width):\n",
        "        if length <= 0 or width <= 0:\n",
        "            raise RuntimeError('Invalid length or width')\n",
        "\n",
        "        self.length = length\n",
        "        self.width = width\n",
        "\n",
        "    def __eq__(self, other):\n",
        "        return self.length == other.length and self.width == other.width\n",
        "\n",
        "    def __str__(self):\n",
        "        return f'Length: {self.length}, Width: {self.width}'\n",
        "\n",
        "    def render(self) -> None:\n",
        "        \"\"\"\n",
        "        Print box made with asterisks of length and width dimensions.\n",
        "        \"\"\"       \n",
        "        print(self.width * '*')\n",
        "        for i in range(self.length - 2):\n",
        "            print('*', (self.width - 2) * ' ', '*', sep='')\n",
        "        print(self.width * '*')\n",
        "\n",
        "    def invert(self) -> None:\n",
        "        \"\"\"\n",
        "        switch length and width with each other\n",
        "        \"\"\"       \n",
        "        self.length, self.width = self.width, self.length\n",
        "\n",
        "    def get_area(self) -> float :\n",
        "        \"\"\"\n",
        "        box area     \n",
        "        \"\"\"\n",
        "        return self.length * self.width\n",
        "\n",
        "    def get_perimeter(self):\n",
        "        \"\"\"\n",
        "        box perimeter     \n",
        "        \"\"\"\n",
        "        return 2 * (self.length + self.width)\n",
        "\n",
        "    def double(self):\n",
        "        \"\"\"\n",
        "        doubles the size of the box\n",
        "        \n",
        "        Returns\n",
        "        -------\n",
        "        tuple\n",
        "            updated length, width          \n",
        "        \"\"\"\n",
        "        self.length *= 2\n",
        "        self.width *= 2\n",
        "        return self.length, self.width\n",
        "\n",
        "    def print_dim(self):\n",
        "        \"\"\"\n",
        "        length and width details of the box    \n",
        "        \"\"\"\n",
        "        print(self)\n",
        "\n",
        "    def get_dim(self):\n",
        "        \"\"\"\n",
        "        tuple containing the length and width of the box   \n",
        "        \"\"\"\n",
        "        return self.length, self.width\n",
        "\n",
        "    def combine(self, other):\n",
        "        \"\"\"\n",
        "        increase dimension by the dimensions of the other box passed in.\n",
        "\n",
        "        Parameters\n",
        "        ----------\n",
        "        other : Box\n",
        "            Other box\n",
        "\n",
        "        Returns\n",
        "        -------\n",
        "        tuple\n",
        "            New dimension of box\n",
        "\n",
        "        \"\"\"       \n",
        "        self.length += other.length\n",
        "        self.width += other.width\n",
        "        return self.get_dim()\n",
        "\n",
        "    def get_hypot(self):\n",
        "        \"\"\"\n",
        "        length of the diagonal that cuts through the middle of box. rounded to 5 decimal places\n",
        "        \"\"\"       \n",
        "        return round((self.length ** 2 + self.width ** 2) ** 0.5, 5)\n",
        "\n"
      ],
      "metadata": {
        "id": "Rm7ri7mN6Dsz"
      },
      "execution_count": 47,
      "outputs": []
    },
    {
      "cell_type": "code",
      "source": [
        "# Create box\n",
        "box = Box(4, 6)\n",
        "\n",
        "# render\n",
        "box.render()\n",
        "\n",
        "# invert and render\n",
        "box.invert()\n",
        "box.render()\n",
        "\n",
        "# double and show dimension\n",
        "box.double()\n",
        "box.print_dim()\n",
        "\n",
        "# create 3 boxes\n",
        "box1 = Box(5, 10)\n",
        "box1.print_dim()\n",
        "\n",
        "box2 = Box(3, 4)\n",
        "box2.print_dim()\n",
        "\n",
        "print(box1 == box2)\n",
        "\n",
        "box3 = Box(5, 10)\n",
        "box3.print_dim()\n",
        "\n",
        "print(box1 == box3)\n",
        "\n",
        "box1.combine(box3)\n",
        "box1.print_dim()\n",
        "\n",
        "box2.double()\n",
        "box2.print_dim()\n",
        "\n",
        "box1.combine(box2)\n",
        "box1.print_dim()\n",
        "\n",
        "box1.print_dim()\n",
        "print('Hypot: ', box1.get_hypot())"
      ],
      "metadata": {
        "colab": {
          "base_uri": "https://localhost:8080/"
        },
        "id": "_2UUAF3u-wjm",
        "outputId": "a84be8dd-c6d2-4843-def3-ee7556872032"
      },
      "execution_count": 48,
      "outputs": [
        {
          "output_type": "stream",
          "name": "stdout",
          "text": [
            "******\n",
            "*    *\n",
            "*    *\n",
            "******\n",
            "****\n",
            "*  *\n",
            "*  *\n",
            "*  *\n",
            "*  *\n",
            "****\n",
            "Length: 12, Width: 8\n",
            "Length: 5, Width: 10\n",
            "Length: 3, Width: 4\n",
            "False\n",
            "Length: 5, Width: 10\n",
            "True\n",
            "Length: 10, Width: 20\n",
            "Length: 6, Width: 8\n",
            "Length: 16, Width: 28\n",
            "Length: 16, Width: 28\n",
            "Hypot:  32.24903\n"
          ]
        }
      ]
    }
  ]
}