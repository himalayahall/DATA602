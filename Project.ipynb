{
 "cells": [
  {
   "cell_type": "markdown",
   "id": "445736c3",
   "metadata": {
    "colab_type": "text",
    "id": "view-in-github",
    "slideshow": {
     "slide_type": "skip"
    }
   },
   "source": [
    "<a href=\"https://colab.research.google.com/github/himalayahall/DATA602/blob/main/Project.ipynb\" target=\"_parent\"><img src=\"https://colab.research.google.com/assets/colab-badge.svg\" alt=\"Open In Colab\"/></a>"
   ]
  },
  {
   "cell_type": "markdown",
   "id": "XUDsGtAc9Khg",
   "metadata": {
    "id": "XUDsGtAc9Khg",
    "slideshow": {
     "slide_type": "slide"
    }
   },
   "source": [
    "# Abstract\n",
    "\n",
    "Recently, there have been game-changing developments in Natural Language Processing (NLP), most notably the remarkable text generation capabilities of Large Language Models (LLMs) like ChatGPT. \n",
    "\n",
    "These developments are the driving motivation for this project to use NLP/LLM techniques for text classification and text generation.\n"
   ]
  },
  {
   "cell_type": "markdown",
   "id": "a1eb9144",
   "metadata": {
    "slideshow": {
     "slide_type": "notes"
    }
   },
   "source": [
    "- it would not be an overstatement to say these advances have taken the public imagination by storm.\n",
    "\n",
    "- companies across all industry sectors are investing and exploring NLP in order to create new products and services using a natural language interface.\n"
   ]
  },
  {
   "cell_type": "markdown",
   "id": "48abf522",
   "metadata": {
    "_cell_guid": "356b1e8e-5777-4832-a31f-4c14b30f5c55",
    "_uuid": "327abaae-b2d2-42be-86c3-50997d599b34",
    "id": "48abf522",
    "papermill": {
     "duration": 0.01369,
     "end_time": "2023-01-18T21:25:40.673032",
     "exception": false,
     "start_time": "2023-01-18T21:25:40.659342",
     "status": "completed"
    },
    "slideshow": {
     "slide_type": "slide"
    },
    "tags": []
   },
   "source": [
    "## Introduction\n",
    "\n",
    "Language/text related subtopics of Machine Learning can be broadly broken down as follows:\n",
    "\n",
    "- **NLP:** involves numerous tasks that break down natural language into smaller elements in order to understand the relationships between those elements and how they work together.\n",
    "\n",
    "- **NLU:** uses syntactic and semantic analysis to determine the meaning of text.\n",
    "\n",
    "- **NLG:** concerned with enabling machines to not just process and understand text but to generate text.\n",
    "\n",
    "- **Large Language Model (LLM)**\n",
    "\n",
    "- **Transfer Learning**\n"
   ]
  },
  {
   "cell_type": "markdown",
   "id": "66f67164",
   "metadata": {
    "id": "66f67164",
    "slideshow": {
     "slide_type": "notes"
    }
   },
   "source": [
    "- **NLP:** NLP focuses largely on converting text to structured data. It does this through the identification of named entities (a process called named entity recognition or NER) and identification of word patterns, using methods like tokenization, stemming, and lemmatization, which examine the root forms of words.\n",
    "\n",
    "\n",
    "- **NLU:** One of the primary goals of NLU is to teach machines how to interpret and understand language. It leverages algorithms to recognize attributes of language such as sentiment, semantics, context, and intent.\n",
    "\n",
    "\n",
    "- **NLG:** NLG is the process of producing a human language text response based on some data input (prompt).\n",
    "\n",
    "\n",
    "- **LLM:** A large language model (LLM) is a language model consisting of a neural network with many parameters (typically, billions of weights or more), trained on large quantities of unlabeled text using self-supervised or semi-supervised learning.\n",
    "\n",
    "\n",
    "- **Transfer Learning:** enables using a pre-trained LLM as a baseline for a variety of machine learning tasks.\n",
    "\n",
    "\n",
    "Some factors driving the proliferation of ML and NLP:\n",
    "\n",
    "- **Large Language Models** (LLMs) emerged around 2018 and perform well at a wide variety of tasks such as machine translation, named entiry recognization (NER), sentiment analysis, summarization, text generation, etc. In this project we will use all these, implicitly and explicitly, to build a classifier for product reviews.\n",
    "\n",
    "- **Transfer Learning** is a game changer and it allows pre-trained LLMs to be shared and leveraged for domain specific tasks with minimal incremental training. Instead of training a LLM from scratch developers can piggyback off a pre-trained model like ChatGPT.\n",
    "\n",
    "- Modern frameworks like Tensorflow, PyTorch, Fastai, Tidymodels, and many others, together with cloud platforms such as Huggingface and Google Colab, have made it possible to build powerful ML applications with relatively modest effort.\n"
   ]
  },
  {
   "cell_type": "markdown",
   "id": "Zm7JnhBRWcI-",
   "metadata": {
    "id": "Zm7JnhBRWcI-",
    "slideshow": {
     "slide_type": "slide"
    }
   },
   "source": [
    "## Dataset\n",
    "\n",
    "* Motivation: Fake reviews are a major problem because they erode consumer confidence in the online marketplace. Companies spend considerable effort to identify and remove fake reviews.\n",
    "\n",
    "* [Fake reviews dataset](https://osf.io/3vds7) contains 20K fake reviews and 20k real product reviews. \n",
    "\n",
    "* Review labels: OR = Original reviews (presumably human created and authentic), CG = Computer-generated fake reviews.\n"
   ]
  },
  {
   "cell_type": "markdown",
   "id": "0e86ffea",
   "metadata": {
    "id": "0e86ffea",
    "slideshow": {
     "slide_type": "slide"
    }
   },
   "source": [
    "## Project goals\n",
    "\n",
    "1. Build a classifier for product reviews using a base LLM.\n",
    "\n",
    "2. Fine-tune the base LLM for product reviews.\n",
    "\n",
    "3. Build a new classifier for product reviews using the fine-tuned LLM (hopefully, performs better than the first classifier).\n",
    "\n",
    "4. Auto-generate reviews using the fine-tuned LLM.\n",
    "\n",
    "\n",
    "### Tools and Frameworks\n",
    "\n",
    "- Python\n",
    "\n",
    "- [Fastai](https://fastai.github.io/fastbook2e/book10.html)\n",
    "\n",
    "- Jupyter Notebook\n",
    "\n",
    "- [nbconvert](https://nbconvert.readthedocs.io/en/latest/)\n",
    "\n",
    "- Google Colab"
   ]
  },
  {
   "cell_type": "markdown",
   "id": "94812522",
   "metadata": {
    "id": "94812522",
    "slideshow": {
     "slide_type": "notes"
    }
   },
   "source": [
    "We will use Deep Learning and LLM architectures for building a classifier to label product reviews as either original or fake. \n",
    "\n",
    "Transfer Learning - we use a LLM that was trained on Wikipedia as the base model for building the classifier. Transfer Learning is a great way to leverage pre-built LLMs without needing to do prohibitively expensive training from scratch.\n",
    "\n",
    "Domain-specific LLM: The English language learned by the pretrained language model (using Wikipedia) is slightly different from the English used for product reviews. So, instead of jumping directly to the classifier, fine-tune the pretrained language model to the product corpus and use the new language model as the base for our classifier. This should (if all goes as well) result in better classifier performance.\n",
    "\n",
    "Text generation: This will be done by giving the model some starting text (prompt) and asking the model to generate the rest (up to a maximum number of words). All text generation models require prompts, in fact prompt engineering is a an area of intense interest and research.\n"
   ]
  },
  {
   "cell_type": "markdown",
   "id": "92429604",
   "metadata": {
    "id": "92429604",
    "papermill": {
     "duration": 0.013115,
     "end_time": "2023-01-18T21:25:40.698649",
     "exception": false,
     "start_time": "2023-01-18T21:25:40.685534",
     "status": "completed"
    },
    "slideshow": {
     "slide_type": "slide"
    },
    "tags": []
   },
   "source": [
    "## Load data"
   ]
  },
  {
   "cell_type": "code",
   "execution_count": null,
   "id": "d6af7845",
   "metadata": {
    "_cell_guid": "338d8162-b3d6-450a-a4f9-6a4992ff486e",
    "_uuid": "06bea0f2-713c-4d40-9dcd-66986c19a0d6",
    "execution": {
     "iopub.execute_input": "2023-01-18T21:25:40.724171Z",
     "iopub.status.busy": "2023-01-18T21:25:40.723317Z",
     "iopub.status.idle": "2023-01-18T21:25:41.295136Z",
     "shell.execute_reply": "2023-01-18T21:25:41.294143Z"
    },
    "id": "d6af7845",
    "jupyter": {
     "outputs_hidden": false
    },
    "papermill": {
     "duration": 0.587405,
     "end_time": "2023-01-18T21:25:41.297731",
     "exception": false,
     "start_time": "2023-01-18T21:25:40.710326",
     "status": "completed"
    },
    "slideshow": {
     "slide_type": "subslide"
    },
    "tags": []
   },
   "outputs": [],
   "source": [
    "import pandas as pd\n",
    "\n",
    "df = pd.read_csv('https://raw.githubusercontent.com/himalayahall/DATA602/main/fake%20reviews%20dataset.csv')"
   ]
  },
  {
   "cell_type": "code",
   "execution_count": null,
   "id": "c10c43dc",
   "metadata": {
    "_cell_guid": "2df8474f-8da9-401c-bf34-a52d4e3334df",
    "_uuid": "38c38e1e-dcab-457c-b65f-5ff70b4cdc3c",
    "colab": {
     "base_uri": "https://localhost:8080/",
     "height": 420
    },
    "execution": {
     "iopub.execute_input": "2023-01-18T21:25:41.322730Z",
     "iopub.status.busy": "2023-01-18T21:25:41.321902Z",
     "iopub.status.idle": "2023-01-18T21:25:41.341106Z",
     "shell.execute_reply": "2023-01-18T21:25:41.340069Z"
    },
    "id": "c10c43dc",
    "jupyter": {
     "outputs_hidden": false
    },
    "outputId": "35b3c8f4-855d-4023-9393-ed059111203b",
    "papermill": {
     "duration": 0.034861,
     "end_time": "2023-01-18T21:25:41.344129",
     "exception": false,
     "start_time": "2023-01-18T21:25:41.309268",
     "status": "completed"
    },
    "scrolled": true,
    "slideshow": {
     "slide_type": "subslide"
    },
    "tags": []
   },
   "outputs": [
    {
     "name": "stdout",
     "output_type": "stream",
     "text": [
      "<class 'pandas.core.frame.DataFrame'>\n",
      "RangeIndex: 40432 entries, 0 to 40431\n",
      "Data columns (total 4 columns):\n",
      " #   Column    Non-Null Count  Dtype  \n",
      "---  ------    --------------  -----  \n",
      " 0   category  40432 non-null  object \n",
      " 1   rating    40432 non-null  float64\n",
      " 2   label     40432 non-null  object \n",
      " 3   text_     40432 non-null  object \n",
      "dtypes: float64(1), object(3)\n",
      "memory usage: 1.2+ MB\n",
      "None\n"
     ]
    },
    {
     "data": {
      "text/html": [
       "\n",
       "  <div id=\"df-5dbd7f50-d16c-4130-8e9f-c61073cf4df1\">\n",
       "    <div class=\"colab-df-container\">\n",
       "      <div>\n",
       "<style scoped>\n",
       "    .dataframe tbody tr th:only-of-type {\n",
       "        vertical-align: middle;\n",
       "    }\n",
       "\n",
       "    .dataframe tbody tr th {\n",
       "        vertical-align: top;\n",
       "    }\n",
       "\n",
       "    .dataframe thead th {\n",
       "        text-align: right;\n",
       "    }\n",
       "</style>\n",
       "<table border=\"1\" class=\"dataframe\">\n",
       "  <thead>\n",
       "    <tr style=\"text-align: right;\">\n",
       "      <th></th>\n",
       "      <th>category</th>\n",
       "      <th>rating</th>\n",
       "      <th>label</th>\n",
       "      <th>text_</th>\n",
       "    </tr>\n",
       "  </thead>\n",
       "  <tbody>\n",
       "    <tr>\n",
       "      <th>0</th>\n",
       "      <td>Home_and_Kitchen_5</td>\n",
       "      <td>5.0</td>\n",
       "      <td>CG</td>\n",
       "      <td>Love this!  Well made, sturdy, and very comfor...</td>\n",
       "    </tr>\n",
       "    <tr>\n",
       "      <th>1</th>\n",
       "      <td>Home_and_Kitchen_5</td>\n",
       "      <td>5.0</td>\n",
       "      <td>CG</td>\n",
       "      <td>love it, a great upgrade from the original.  I...</td>\n",
       "    </tr>\n",
       "    <tr>\n",
       "      <th>2</th>\n",
       "      <td>Home_and_Kitchen_5</td>\n",
       "      <td>5.0</td>\n",
       "      <td>CG</td>\n",
       "      <td>This pillow saved my back. I love the look and...</td>\n",
       "    </tr>\n",
       "    <tr>\n",
       "      <th>3</th>\n",
       "      <td>Home_and_Kitchen_5</td>\n",
       "      <td>1.0</td>\n",
       "      <td>CG</td>\n",
       "      <td>Missing information on how to use it, but it i...</td>\n",
       "    </tr>\n",
       "    <tr>\n",
       "      <th>4</th>\n",
       "      <td>Home_and_Kitchen_5</td>\n",
       "      <td>5.0</td>\n",
       "      <td>CG</td>\n",
       "      <td>Very nice set. Good quality. We have had the s...</td>\n",
       "    </tr>\n",
       "  </tbody>\n",
       "</table>\n",
       "</div>\n",
       "      <button class=\"colab-df-convert\" onclick=\"convertToInteractive('df-5dbd7f50-d16c-4130-8e9f-c61073cf4df1')\"\n",
       "              title=\"Convert this dataframe to an interactive table.\"\n",
       "              style=\"display:none;\">\n",
       "        \n",
       "  <svg xmlns=\"http://www.w3.org/2000/svg\" height=\"24px\"viewBox=\"0 0 24 24\"\n",
       "       width=\"24px\">\n",
       "    <path d=\"M0 0h24v24H0V0z\" fill=\"none\"/>\n",
       "    <path d=\"M18.56 5.44l.94 2.06.94-2.06 2.06-.94-2.06-.94-.94-2.06-.94 2.06-2.06.94zm-11 1L8.5 8.5l.94-2.06 2.06-.94-2.06-.94L8.5 2.5l-.94 2.06-2.06.94zm10 10l.94 2.06.94-2.06 2.06-.94-2.06-.94-.94-2.06-.94 2.06-2.06.94z\"/><path d=\"M17.41 7.96l-1.37-1.37c-.4-.4-.92-.59-1.43-.59-.52 0-1.04.2-1.43.59L10.3 9.45l-7.72 7.72c-.78.78-.78 2.05 0 2.83L4 21.41c.39.39.9.59 1.41.59.51 0 1.02-.2 1.41-.59l7.78-7.78 2.81-2.81c.8-.78.8-2.07 0-2.86zM5.41 20L4 18.59l7.72-7.72 1.47 1.35L5.41 20z\"/>\n",
       "  </svg>\n",
       "      </button>\n",
       "      \n",
       "  <style>\n",
       "    .colab-df-container {\n",
       "      display:flex;\n",
       "      flex-wrap:wrap;\n",
       "      gap: 12px;\n",
       "    }\n",
       "\n",
       "    .colab-df-convert {\n",
       "      background-color: #E8F0FE;\n",
       "      border: none;\n",
       "      border-radius: 50%;\n",
       "      cursor: pointer;\n",
       "      display: none;\n",
       "      fill: #1967D2;\n",
       "      height: 32px;\n",
       "      padding: 0 0 0 0;\n",
       "      width: 32px;\n",
       "    }\n",
       "\n",
       "    .colab-df-convert:hover {\n",
       "      background-color: #E2EBFA;\n",
       "      box-shadow: 0px 1px 2px rgba(60, 64, 67, 0.3), 0px 1px 3px 1px rgba(60, 64, 67, 0.15);\n",
       "      fill: #174EA6;\n",
       "    }\n",
       "\n",
       "    [theme=dark] .colab-df-convert {\n",
       "      background-color: #3B4455;\n",
       "      fill: #D2E3FC;\n",
       "    }\n",
       "\n",
       "    [theme=dark] .colab-df-convert:hover {\n",
       "      background-color: #434B5C;\n",
       "      box-shadow: 0px 1px 3px 1px rgba(0, 0, 0, 0.15);\n",
       "      filter: drop-shadow(0px 1px 2px rgba(0, 0, 0, 0.3));\n",
       "      fill: #FFFFFF;\n",
       "    }\n",
       "  </style>\n",
       "\n",
       "      <script>\n",
       "        const buttonEl =\n",
       "          document.querySelector('#df-5dbd7f50-d16c-4130-8e9f-c61073cf4df1 button.colab-df-convert');\n",
       "        buttonEl.style.display =\n",
       "          google.colab.kernel.accessAllowed ? 'block' : 'none';\n",
       "\n",
       "        async function convertToInteractive(key) {\n",
       "          const element = document.querySelector('#df-5dbd7f50-d16c-4130-8e9f-c61073cf4df1');\n",
       "          const dataTable =\n",
       "            await google.colab.kernel.invokeFunction('convertToInteractive',\n",
       "                                                     [key], {});\n",
       "          if (!dataTable) return;\n",
       "\n",
       "          const docLinkHtml = 'Like what you see? Visit the ' +\n",
       "            '<a target=\"_blank\" href=https://colab.research.google.com/notebooks/data_table.ipynb>data table notebook</a>'\n",
       "            + ' to learn more about interactive tables.';\n",
       "          element.innerHTML = '';\n",
       "          dataTable['output_type'] = 'display_data';\n",
       "          await google.colab.output.renderOutput(dataTable, element);\n",
       "          const docLink = document.createElement('div');\n",
       "          docLink.innerHTML = docLinkHtml;\n",
       "          element.appendChild(docLink);\n",
       "        }\n",
       "      </script>\n",
       "    </div>\n",
       "  </div>\n",
       "  "
      ],
      "text/plain": [
       "             category  rating label  \\\n",
       "0  Home_and_Kitchen_5     5.0    CG   \n",
       "1  Home_and_Kitchen_5     5.0    CG   \n",
       "2  Home_and_Kitchen_5     5.0    CG   \n",
       "3  Home_and_Kitchen_5     1.0    CG   \n",
       "4  Home_and_Kitchen_5     5.0    CG   \n",
       "\n",
       "                                               text_  \n",
       "0  Love this!  Well made, sturdy, and very comfor...  \n",
       "1  love it, a great upgrade from the original.  I...  \n",
       "2  This pillow saved my back. I love the look and...  \n",
       "3  Missing information on how to use it, but it i...  \n",
       "4  Very nice set. Good quality. We have had the s...  "
      ]
     },
     "execution_count": 2,
     "metadata": {},
     "output_type": "execute_result"
    }
   ],
   "source": [
    "print(df.info())\n",
    "df.head()"
   ]
  },
  {
   "cell_type": "markdown",
   "id": "OVgKH6GtjAbY",
   "metadata": {
    "id": "OVgKH6GtjAbY",
    "slideshow": {
     "slide_type": "subslide"
    }
   },
   "source": [
    "Data cleanup - drop *category* and *rating* columns, rename *text_* to *text*."
   ]
  },
  {
   "cell_type": "code",
   "execution_count": null,
   "id": "6fd6BE8mi_Sx",
   "metadata": {
    "colab": {
     "base_uri": "https://localhost:8080/"
    },
    "id": "6fd6BE8mi_Sx",
    "outputId": "2eddafb2-43e2-4ea1-f314-d12e7d3919bb",
    "slideshow": {
     "slide_type": "skip"
    }
   },
   "outputs": [
    {
     "name": "stdout",
     "output_type": "stream",
     "text": [
      "<class 'pandas.core.frame.DataFrame'>\n",
      "RangeIndex: 40432 entries, 0 to 40431\n",
      "Data columns (total 2 columns):\n",
      " #   Column  Non-Null Count  Dtype \n",
      "---  ------  --------------  ----- \n",
      " 0   label   40432 non-null  object\n",
      " 1   text    40432 non-null  object\n",
      "dtypes: object(2)\n",
      "memory usage: 631.9+ KB\n"
     ]
    }
   ],
   "source": [
    "df['text'] = df['text_']\n",
    "df.drop(columns=['category', 'rating', 'text_'], inplace=True)\n",
    "df.info()"
   ]
  },
  {
   "cell_type": "code",
   "execution_count": null,
   "id": "Git2OYI6V_L1",
   "metadata": {
    "colab": {
     "base_uri": "https://localhost:8080/",
     "height": 221
    },
    "id": "Git2OYI6V_L1",
    "outputId": "a6f3a82f-fc62-41c0-cace-90b367e21a43",
    "slideshow": {
     "slide_type": "subslide"
    }
   },
   "outputs": [
    {
     "data": {
      "text/html": [
       "\n",
       "  <div id=\"df-fd4649dd-586c-4be8-b7d8-c7d24034c102\">\n",
       "    <div class=\"colab-df-container\">\n",
       "      <div>\n",
       "<style scoped>\n",
       "    .dataframe tbody tr th:only-of-type {\n",
       "        vertical-align: middle;\n",
       "    }\n",
       "\n",
       "    .dataframe tbody tr th {\n",
       "        vertical-align: top;\n",
       "    }\n",
       "\n",
       "    .dataframe thead th {\n",
       "        text-align: right;\n",
       "    }\n",
       "</style>\n",
       "<table border=\"1\" class=\"dataframe\">\n",
       "  <thead>\n",
       "    <tr style=\"text-align: right;\">\n",
       "      <th></th>\n",
       "      <th>label</th>\n",
       "      <th>text</th>\n",
       "    </tr>\n",
       "  </thead>\n",
       "  <tbody>\n",
       "    <tr>\n",
       "      <th>0</th>\n",
       "      <td>CG</td>\n",
       "      <td>Love this!  Well made, sturdy, and very comfor...</td>\n",
       "    </tr>\n",
       "    <tr>\n",
       "      <th>1</th>\n",
       "      <td>CG</td>\n",
       "      <td>love it, a great upgrade from the original.  I...</td>\n",
       "    </tr>\n",
       "    <tr>\n",
       "      <th>2</th>\n",
       "      <td>CG</td>\n",
       "      <td>This pillow saved my back. I love the look and...</td>\n",
       "    </tr>\n",
       "    <tr>\n",
       "      <th>3</th>\n",
       "      <td>CG</td>\n",
       "      <td>Missing information on how to use it, but it i...</td>\n",
       "    </tr>\n",
       "    <tr>\n",
       "      <th>4</th>\n",
       "      <td>CG</td>\n",
       "      <td>Very nice set. Good quality. We have had the s...</td>\n",
       "    </tr>\n",
       "  </tbody>\n",
       "</table>\n",
       "</div>\n",
       "      <button class=\"colab-df-convert\" onclick=\"convertToInteractive('df-fd4649dd-586c-4be8-b7d8-c7d24034c102')\"\n",
       "              title=\"Convert this dataframe to an interactive table.\"\n",
       "              style=\"display:none;\">\n",
       "        \n",
       "  <svg xmlns=\"http://www.w3.org/2000/svg\" height=\"24px\"viewBox=\"0 0 24 24\"\n",
       "       width=\"24px\">\n",
       "    <path d=\"M0 0h24v24H0V0z\" fill=\"none\"/>\n",
       "    <path d=\"M18.56 5.44l.94 2.06.94-2.06 2.06-.94-2.06-.94-.94-2.06-.94 2.06-2.06.94zm-11 1L8.5 8.5l.94-2.06 2.06-.94-2.06-.94L8.5 2.5l-.94 2.06-2.06.94zm10 10l.94 2.06.94-2.06 2.06-.94-2.06-.94-.94-2.06-.94 2.06-2.06.94z\"/><path d=\"M17.41 7.96l-1.37-1.37c-.4-.4-.92-.59-1.43-.59-.52 0-1.04.2-1.43.59L10.3 9.45l-7.72 7.72c-.78.78-.78 2.05 0 2.83L4 21.41c.39.39.9.59 1.41.59.51 0 1.02-.2 1.41-.59l7.78-7.78 2.81-2.81c.8-.78.8-2.07 0-2.86zM5.41 20L4 18.59l7.72-7.72 1.47 1.35L5.41 20z\"/>\n",
       "  </svg>\n",
       "      </button>\n",
       "      \n",
       "  <style>\n",
       "    .colab-df-container {\n",
       "      display:flex;\n",
       "      flex-wrap:wrap;\n",
       "      gap: 12px;\n",
       "    }\n",
       "\n",
       "    .colab-df-convert {\n",
       "      background-color: #E8F0FE;\n",
       "      border: none;\n",
       "      border-radius: 50%;\n",
       "      cursor: pointer;\n",
       "      display: none;\n",
       "      fill: #1967D2;\n",
       "      height: 32px;\n",
       "      padding: 0 0 0 0;\n",
       "      width: 32px;\n",
       "    }\n",
       "\n",
       "    .colab-df-convert:hover {\n",
       "      background-color: #E2EBFA;\n",
       "      box-shadow: 0px 1px 2px rgba(60, 64, 67, 0.3), 0px 1px 3px 1px rgba(60, 64, 67, 0.15);\n",
       "      fill: #174EA6;\n",
       "    }\n",
       "\n",
       "    [theme=dark] .colab-df-convert {\n",
       "      background-color: #3B4455;\n",
       "      fill: #D2E3FC;\n",
       "    }\n",
       "\n",
       "    [theme=dark] .colab-df-convert:hover {\n",
       "      background-color: #434B5C;\n",
       "      box-shadow: 0px 1px 3px 1px rgba(0, 0, 0, 0.15);\n",
       "      filter: drop-shadow(0px 1px 2px rgba(0, 0, 0, 0.3));\n",
       "      fill: #FFFFFF;\n",
       "    }\n",
       "  </style>\n",
       "\n",
       "      <script>\n",
       "        const buttonEl =\n",
       "          document.querySelector('#df-fd4649dd-586c-4be8-b7d8-c7d24034c102 button.colab-df-convert');\n",
       "        buttonEl.style.display =\n",
       "          google.colab.kernel.accessAllowed ? 'block' : 'none';\n",
       "\n",
       "        async function convertToInteractive(key) {\n",
       "          const element = document.querySelector('#df-fd4649dd-586c-4be8-b7d8-c7d24034c102');\n",
       "          const dataTable =\n",
       "            await google.colab.kernel.invokeFunction('convertToInteractive',\n",
       "                                                     [key], {});\n",
       "          if (!dataTable) return;\n",
       "\n",
       "          const docLinkHtml = 'Like what you see? Visit the ' +\n",
       "            '<a target=\"_blank\" href=https://colab.research.google.com/notebooks/data_table.ipynb>data table notebook</a>'\n",
       "            + ' to learn more about interactive tables.';\n",
       "          element.innerHTML = '';\n",
       "          dataTable['output_type'] = 'display_data';\n",
       "          await google.colab.output.renderOutput(dataTable, element);\n",
       "          const docLink = document.createElement('div');\n",
       "          docLink.innerHTML = docLinkHtml;\n",
       "          element.appendChild(docLink);\n",
       "        }\n",
       "      </script>\n",
       "    </div>\n",
       "  </div>\n",
       "  "
      ],
      "text/plain": [
       "  label                                               text\n",
       "0    CG  Love this!  Well made, sturdy, and very comfor...\n",
       "1    CG  love it, a great upgrade from the original.  I...\n",
       "2    CG  This pillow saved my back. I love the look and...\n",
       "3    CG  Missing information on how to use it, but it i...\n",
       "4    CG  Very nice set. Good quality. We have had the s..."
      ]
     },
     "execution_count": 4,
     "metadata": {},
     "output_type": "execute_result"
    }
   ],
   "source": [
    "df.head()"
   ]
  },
  {
   "cell_type": "markdown",
   "id": "f5efa9e1",
   "metadata": {
    "id": "f5efa9e1",
    "papermill": {
     "duration": 0.01219,
     "end_time": "2023-01-18T21:25:41.900665",
     "exception": false,
     "start_time": "2023-01-18T21:25:41.888475",
     "status": "completed"
    },
    "slideshow": {
     "slide_type": "slide"
    },
    "tags": []
   },
   "source": [
    "## Null model (baseline performance)"
   ]
  },
  {
   "cell_type": "markdown",
   "id": "5a008116",
   "metadata": {
    "_cell_guid": "168d1c33-2f28-4aef-915d-dc5466e224aa",
    "_uuid": "72537732-ff6f-4b5c-bb71-330dc8c56987",
    "id": "5a008116",
    "papermill": {
     "duration": 0.012109,
     "end_time": "2023-01-18T21:25:41.925162",
     "exception": false,
     "start_time": "2023-01-18T21:25:41.913053",
     "status": "completed"
    },
    "tags": []
   },
   "source": [
    "* For a perfectly **balanced** dataset (e.g. equal number of CG and OR), *accuracy* of the *Null* model is $50\\%$.\n",
    "\n",
    "* It provides guardrail - i.e. any model we build must have **higher accuracy**.\n",
    "\n",
    "* *Null* model for  **always** predicts the majority class. For example, suppose a dataset for college admission contains $40\\%$ acceptances and $60\\%$ rejections. The *Null* model classifier for this dataset will always predict *rejection*, and it will have $accuracy = 60\\%$.\n",
    "\n",
    "\n",
    "Note: *accuracy* is **not** a good metric for **unbalanced datasets**. \n"
   ]
  },
  {
   "cell_type": "markdown",
   "id": "27e1944f",
   "metadata": {
    "id": "27e1944f",
    "slideshow": {
     "slide_type": "notes"
    }
   },
   "source": [
    "To evaluate classifier model performance it is important to have a baseline. This baseline, called the *Null* model, is the simplest possible classifier for a given dataset and acts as a guardrail during new model development. In a nutshell, any model worth deploying **must** perform better than the *Null* model\n",
    "\n",
    "As a example example, data shows us that the prevalence of cancer in the general population in USA is roughly 5.5%. Accuracy of the *Null* model for such a dataset would be 94.5%. However, the *Null* model would be completely useless at detecting cancer (since it never predicts cancer)!"
   ]
  },
  {
   "cell_type": "code",
   "execution_count": null,
   "id": "044bde93",
   "metadata": {
    "_cell_guid": "3eec5891-33fc-4067-8e50-af5a0556c9fa",
    "_uuid": "633b3f11-36ad-4090-8546-bcca2037f7d0",
    "colab": {
     "base_uri": "https://localhost:8080/"
    },
    "execution": {
     "iopub.execute_input": "2023-01-18T21:25:41.951384Z",
     "iopub.status.busy": "2023-01-18T21:25:41.950984Z",
     "iopub.status.idle": "2023-01-18T21:25:41.960806Z",
     "shell.execute_reply": "2023-01-18T21:25:41.959180Z"
    },
    "id": "044bde93",
    "jupyter": {
     "outputs_hidden": false
    },
    "outputId": "85c32323-84b8-449d-8efe-38b39336f149",
    "papermill": {
     "duration": 0.025617,
     "end_time": "2023-01-18T21:25:41.963039",
     "exception": false,
     "start_time": "2023-01-18T21:25:41.937422",
     "status": "completed"
    },
    "slideshow": {
     "slide_type": "subslide"
    },
    "tags": []
   },
   "outputs": [
    {
     "name": "stdout",
     "output_type": "stream",
     "text": [
      "label\n",
      "CG    20216\n",
      "OR    20216\n",
      "dtype: int64\n",
      "Baseline (null model) accuracy:  0.5\n"
     ]
    }
   ],
   "source": [
    "cat_size = df.groupby('label').size()\n",
    "print(cat_size)\n",
    "\n",
    "prop = cat_size[0] / (cat_size[0] + cat_size[1])\n",
    "print('Baseline (null model) accuracy: ' , prop)"
   ]
  },
  {
   "cell_type": "markdown",
   "id": "9andnUNvVb1u",
   "metadata": {
    "id": "9andnUNvVb1u",
    "slideshow": {
     "slide_type": "slide"
    }
   },
   "source": [
    "## Model Performance - Accuracy\n",
    "\n",
    "For a balanced dataset, Accuracy is perhaps the simplest and most intuitive performance metric for a binary classifier.\n",
    "\n",
    "$CP = Number\\ of\\ Correct\\ Predictions$\n",
    "\n",
    "$IP = Number\\ of\\ Incorrect\\ Predictions$\n",
    "\n",
    "$Accuracy = \\frac{CP}{CP + IP}$ \n"
   ]
  },
  {
   "cell_type": "markdown",
   "id": "0j_jdoxNDr2G",
   "metadata": {
    "id": "0j_jdoxNDr2G",
    "slideshow": {
     "slide_type": "slide"
    }
   },
   "source": [
    "## Other Performance Metrics\n",
    "\n",
    "Some commonly used metrics:\n",
    "\n",
    "- **Precision** ($P$) is defined as the number of true positives ($T_p$) over the number of true positives plus the number of false positives ($F_p$). \n",
    "\n",
    "$P = \\frac{T_p}{T_p+F_p}$\n",
    "\n",
    "- **Recall** ($R$) is defined as the number of true positives ($T_p$) over the number of true positives plus the number of false negatives ($F_n$).\n",
    "\n",
    "$R = \\frac{T_p}{T_p+F_n}$ \n",
    "\n",
    "- **F1 Measure**, is defined as the harmonic mean of precision and recall. It is a number in the range [0.0, 1.0], the closer it is to 1.0 the better the model.  \n",
    "\n",
    "$F1 = 2 \\frac{P \\times R}{P+R}$"
   ]
  },
  {
   "cell_type": "markdown",
   "id": "693b0ca5",
   "metadata": {
    "id": "693b0ca5",
    "papermill": {
     "duration": 0.012336,
     "end_time": "2023-01-18T21:25:41.987810",
     "exception": false,
     "start_time": "2023-01-18T21:25:41.975474",
     "status": "completed"
    },
    "slideshow": {
     "slide_type": "slide"
    },
    "tags": []
   },
   "source": [
    "## ML Framework\n",
    "\n",
    "We will use the [Fastai](https://fastai.github.io/fastbook2e/book10.html) framework to build a Large Language Model (LLM). \n"
   ]
  },
  {
   "cell_type": "markdown",
   "id": "a94948af",
   "metadata": {
    "id": "a94948af",
    "slideshow": {
     "slide_type": "notes"
    }
   },
   "source": [
    "Fastai is a great framework that enables rapid creation of predictive models without the need to write low level code in in frameworks like Tensorflow or PyTorch."
   ]
  },
  {
   "cell_type": "code",
   "execution_count": null,
   "id": "4e8b8651",
   "metadata": {
    "_cell_guid": "a7941db3-82c5-4c7a-97e8-c0bcec82add4",
    "_uuid": "7b48a168-7bd4-4627-94c2-597a779c1b0f",
    "execution": {
     "iopub.execute_input": "2023-01-18T21:25:42.014648Z",
     "iopub.status.busy": "2023-01-18T21:25:42.013730Z",
     "iopub.status.idle": "2023-01-18T21:25:44.844140Z",
     "shell.execute_reply": "2023-01-18T21:25:44.843159Z"
    },
    "id": "4e8b8651",
    "jupyter": {
     "outputs_hidden": false
    },
    "papermill": {
     "duration": 2.846373,
     "end_time": "2023-01-18T21:25:44.846536",
     "exception": false,
     "start_time": "2023-01-18T21:25:42.000163",
     "status": "completed"
    },
    "slideshow": {
     "slide_type": "subslide"
    },
    "tags": []
   },
   "outputs": [],
   "source": [
    "from fastai.data.all import *\n",
    "from fastai.text.all import *"
   ]
  },
  {
   "cell_type": "markdown",
   "id": "851c6063",
   "metadata": {
    "_cell_guid": "b1225a72-8b09-43f1-9993-1bd2cdf26ccd",
    "_uuid": "54e06603-17d9-4da6-bc2a-b3d316beb50a",
    "id": "851c6063",
    "papermill": {
     "duration": 0.012322,
     "end_time": "2023-01-18T21:25:44.871853",
     "exception": false,
     "start_time": "2023-01-18T21:25:44.859531",
     "status": "completed"
    },
    "slideshow": {
     "slide_type": "slide"
    },
    "tags": []
   },
   "source": [
    "## Create Classifier\n",
    "\n",
    "Using the dataframe, build data loaders for classification.\n"
   ]
  },
  {
   "cell_type": "code",
   "execution_count": null,
   "id": "95079834",
   "metadata": {
    "_cell_guid": "7f78bf4c-8eb0-469c-a6a3-094ac0957563",
    "_uuid": "7ce96696-dd98-48df-a5d4-64415ad1004c",
    "colab": {
     "base_uri": "https://localhost:8080/",
     "height": 38
    },
    "execution": {
     "iopub.execute_input": "2023-01-18T21:25:44.899093Z",
     "iopub.status.busy": "2023-01-18T21:25:44.897884Z",
     "iopub.status.idle": "2023-01-18T21:26:47.544925Z",
     "shell.execute_reply": "2023-01-18T21:26:47.543699Z"
    },
    "id": "95079834",
    "jupyter": {
     "outputs_hidden": false
    },
    "outputId": "0681d9ef-a1cd-4ec7-d305-4a662bbcce86",
    "papermill": {
     "duration": 62.663163,
     "end_time": "2023-01-18T21:26:47.547442",
     "exception": false,
     "start_time": "2023-01-18T21:25:44.884279",
     "status": "completed"
    },
    "slideshow": {
     "slide_type": "subslide"
    },
    "tags": []
   },
   "outputs": [
    {
     "data": {
      "text/html": [
       "\n",
       "<style>\n",
       "    /* Turns off some styling */\n",
       "    progress {\n",
       "        /* gets rid of default border in Firefox and Opera. */\n",
       "        border: none;\n",
       "        /* Needs to be in here for Safari polyfill so background images work as expected. */\n",
       "        background-size: auto;\n",
       "    }\n",
       "    progress:not([value]), progress:not([value])::-webkit-progress-bar {\n",
       "        background: repeating-linear-gradient(45deg, #7e7e7e, #7e7e7e 10px, #5c5c5c 10px, #5c5c5c 20px);\n",
       "    }\n",
       "    .progress-bar-interrupted, .progress-bar-interrupted::-webkit-progress-bar {\n",
       "        background: #F44336;\n",
       "    }\n",
       "</style>\n"
      ],
      "text/plain": [
       "<IPython.core.display.HTML object>"
      ]
     },
     "metadata": {},
     "output_type": "display_data"
    },
    {
     "data": {
      "text/html": [],
      "text/plain": [
       "<IPython.core.display.HTML object>"
      ]
     },
     "metadata": {},
     "output_type": "display_data"
    }
   ],
   "source": [
    "dls_cls = DataBlock(\n",
    "            blocks=(\n",
    "                TextBlock.from_df(text_cols=('text'), \n",
    "                        is_lm=False),\n",
    "                CategoryBlock),\n",
    "            get_x=ColReader('text'), \n",
    "            get_y=ColReader('label'),\n",
    "            splitter=TrainTestSplitter(test_size=0.2, \n",
    "                                       random_state=42\n",
    "                                       #,stratify=df.label\n",
    "                                       )\n",
    "        ).dataloaders(df)"
   ]
  },
  {
   "cell_type": "markdown",
   "id": "0Vit0iOcdN8T",
   "metadata": {
    "id": "0Vit0iOcdN8T",
    "slideshow": {
     "slide_type": "notes"
    }
   },
   "source": [
    "DataBlock is a generic container for quickly building data loaders.\n",
    "\n",
    "Set aside 20% data using **TrainTestSplitter** for model testing.\n",
    "\n",
    "**random_state** controls the shuffling applied to data before the split. Here it is set explicitly for reproducible output across multiple function calls\n",
    "\n",
    "Since this dataset is perfectly balanced there is no need for stratification.\n"
   ]
  },
  {
   "cell_type": "code",
   "execution_count": null,
   "id": "677aa21b",
   "metadata": {
    "_cell_guid": "978be4fa-a641-492d-a7f3-d67c14ead48a",
    "_uuid": "6fce97a1-fb6a-4d96-ab7f-61399f1d838e",
    "colab": {
     "base_uri": "https://localhost:8080/",
     "height": 519
    },
    "execution": {
     "iopub.execute_input": "2023-01-18T21:26:47.574821Z",
     "iopub.status.busy": "2023-01-18T21:26:47.574469Z",
     "iopub.status.idle": "2023-01-18T21:26:49.680870Z",
     "shell.execute_reply": "2023-01-18T21:26:49.679766Z"
    },
    "id": "677aa21b",
    "jupyter": {
     "outputs_hidden": false
    },
    "outputId": "8def4032-1afa-4b41-81a3-e0f865cfe863",
    "papermill": {
     "duration": 2.122551,
     "end_time": "2023-01-18T21:26:49.683062",
     "exception": false,
     "start_time": "2023-01-18T21:26:47.560511",
     "status": "completed"
    },
    "scrolled": true,
    "slideshow": {
     "slide_type": "skip"
    },
    "tags": []
   },
   "outputs": [
    {
     "data": {
      "text/html": [
       "<table border=\"1\" class=\"dataframe\">\n",
       "  <thead>\n",
       "    <tr style=\"text-align: right;\">\n",
       "      <th></th>\n",
       "      <th>text</th>\n",
       "      <th>category</th>\n",
       "    </tr>\n",
       "  </thead>\n",
       "  <tbody>\n",
       "    <tr>\n",
       "      <th>0</th>\n",
       "      <td>xxbos i compared this rawhide to &amp; &lt; a data - hook=\"product - link - linked \" class=\"a - link - normal \" href= \" / good - buddy - usa - rawhide - braided - sticks - for - dogs-7 - to-8 - inch-2 - count - pack - of-1 / dp / xxup b005gwvwja / ref = cm_cr_arp_d_rvw_txt?ie = utf8\"&gt;good xxmaj buddy xxup usa xxmaj rawhide xxmaj braided xxmaj sticks for xxmaj dogs , 7 to 8 - inch , 2 xxmaj count ( pack of 1 ) &lt; / a &gt; &amp; for my 3 year old labradoodle . \\n\\n xxup where xxup it xxup is xxup made : xxmaj this is made in xxup china . xxmaj the &amp; &lt; a data - hook=\"product - link - linked \" class=\"a - link - normal \" href= \" / good - buddy - usa - rawhide -</td>\n",
       "      <td>OR</td>\n",
       "    </tr>\n",
       "    <tr>\n",
       "      <th>1</th>\n",
       "      <td>xxbos xxmaj what is going on here . xxmaj first and most importantly , xxmaj this is not season three of scooby - doo . xxmaj seasons three and four was the scooby - doo movies , and seasons five thru seven is ' the scooby - doo xxmaj show ' which features scooby - xxunk . xxmaj here is all the episodes of seasons five thru seven . \\n\\n xxmaj season xxmaj five : \\n 01 . a xxmaj bum xxmaj steer xxmaj for xxmaj scooby \\n 02 . xxmaj the xxmaj gruesome xxmaj game xxmaj of xxmaj the xxmaj gator xxmaj xxunk \\n 03 . xxmaj the xxmaj spirits of ' 76 \\n 04 . xxmaj the xxmaj ghost xxmaj of xxmaj the xxmaj bad xxmaj humor xxmaj man \\n xxunk . xxmaj the no - face xxmaj zombie xxmaj chase xxmaj case \\n 06 . scooby -</td>\n",
       "      <td>OR</td>\n",
       "    </tr>\n",
       "    <tr>\n",
       "      <th>2</th>\n",
       "      <td>xxbos xxrep 3 &gt; … \" the xxmaj lean xxmaj startup : … \" is a \" mustread \" for those who use the xxmaj application of xxmaj lean xxmaj thinking to the xxmaj process of xxmaj innovation xxrep 3 ! … xxrep 3 &gt; xxmaj eric xxmaj xxunk , xxmaj entrepreneur , xxmaj authority , xxmaj thought / xxmaj team xxmaj leader &amp; xxmaj author , etc . has put together xxunk + pages , 3 xxmaj parts , 14 xxmaj chapters of xxmaj knowledge , xxmaj context , xxmaj content , etc . applied to \" the xxmaj lean xxmaj startup \" xxrep 3 ! … &lt; a data - hook=\"product - link - linked \" class=\"a - link - normal \" href= \" / the - lean - startup - how - today - s - entrepreneurs - use - continuous - innovation - to - create</td>\n",
       "      <td>OR</td>\n",
       "    </tr>\n",
       "    <tr>\n",
       "      <th>3</th>\n",
       "      <td>xxbos xxup ecw xxmaj extreme xxmaj evolution \\n i had never seen any xxup ecw before buying this , but this is what i thought of it … \\n xxup rvd v xxmaj jerry xxmaj lynn \\n xxmaj this is a good match , although it takes a while to get started because of xxup rvd xxunk . xxmaj when it does though , the match makes up for the slow start . xxmaj there 's a nice table spot and lots of chairs . 7 / 10 \\n xxmaj awesome v xxmaj xxunk \\n xxmaj the best match on the xxup dvd . 2 tables break and lots of chairs are used ! xxmaj there are some good bumps and lots of high - flying moves too . i was surprised at how good this was . 8 / 10 \\n xxmaj xxunk wire xxmaj match xxmaj raven v</td>\n",
       "      <td>OR</td>\n",
       "    </tr>\n",
       "    <tr>\n",
       "      <th>4</th>\n",
       "      <td>xxbos xxmaj the xxmaj secret xxmaj life of xxmaj walter xxmaj mitty is a book for xxunk , lovers and the xxunk boy in all of us . i lived at home until i was a vine - xxunk 27 , so believe me i can relate to xxmaj james xxmaj xxunk xxmaj mitty . xxmaj and xxmaj i ve always been a fond of a good daydream . xxmaj lets see what comes to me now : \\n\\n xxmaj i m a powerful land baron with an eye patch . xxmaj nay , a xxunk samurai lord . xxmaj no , xxmaj i m an oil tycoon . xxmaj fabulously rich , silver - haired , xxunk - eyed and what s this ? xxmaj i m in turbulent fight with my lover , no my sister , no my lover and her xxunk son . xxmaj he has</td>\n",
       "      <td>OR</td>\n",
       "    </tr>\n",
       "  </tbody>\n",
       "</table>"
      ],
      "text/plain": [
       "<IPython.core.display.HTML object>"
      ]
     },
     "metadata": {},
     "output_type": "display_data"
    }
   ],
   "source": [
    "dls_cls.show_batch(max_n = 5)"
   ]
  },
  {
   "cell_type": "markdown",
   "id": "Ogfn2BLwmKiZ",
   "metadata": {
    "id": "Ogfn2BLwmKiZ",
    "slideshow": {
     "slide_type": "subslide"
    }
   },
   "source": [
    "### Text Classifier\n",
    "\n",
    "Create a text classifier using [AWD_LST]([https://arxiv.org/pdf/1708.02182.pdf]) (averaged weight-dropped long-short term memory) LLM."
   ]
  },
  {
   "cell_type": "code",
   "execution_count": null,
   "id": "80916ffe",
   "metadata": {
    "_cell_guid": "dd1e421b-54a9-4748-8a78-b87761e1f481",
    "_uuid": "711c0928-89ca-4737-aaed-14b6ab7eaa9e",
    "colab": {
     "base_uri": "https://localhost:8080/",
     "height": 58
    },
    "execution": {
     "iopub.execute_input": "2023-01-18T21:26:49.735642Z",
     "iopub.status.busy": "2023-01-18T21:26:49.734759Z",
     "iopub.status.idle": "2023-01-18T21:26:55.632931Z",
     "shell.execute_reply": "2023-01-18T21:26:55.631766Z"
    },
    "id": "80916ffe",
    "jupyter": {
     "outputs_hidden": false
    },
    "outputId": "dfa93851-34bc-4a9a-9e57-4de93fc68a45",
    "papermill": {
     "duration": 5.914326,
     "end_time": "2023-01-18T21:26:55.635581",
     "exception": false,
     "start_time": "2023-01-18T21:26:49.721255",
     "status": "completed"
    },
    "scrolled": true,
    "slideshow": {
     "slide_type": "subslide"
    },
    "tags": []
   },
   "outputs": [
    {
     "data": {
      "text/html": [
       "\n",
       "<style>\n",
       "    /* Turns off some styling */\n",
       "    progress {\n",
       "        /* gets rid of default border in Firefox and Opera. */\n",
       "        border: none;\n",
       "        /* Needs to be in here for Safari polyfill so background images work as expected. */\n",
       "        background-size: auto;\n",
       "    }\n",
       "    progress:not([value]), progress:not([value])::-webkit-progress-bar {\n",
       "        background: repeating-linear-gradient(45deg, #7e7e7e, #7e7e7e 10px, #5c5c5c 10px, #5c5c5c 20px);\n",
       "    }\n",
       "    .progress-bar-interrupted, .progress-bar-interrupted::-webkit-progress-bar {\n",
       "        background: #F44336;\n",
       "    }\n",
       "</style>\n"
      ],
      "text/plain": [
       "<IPython.core.display.HTML object>"
      ]
     },
     "metadata": {},
     "output_type": "display_data"
    },
    {
     "data": {
      "text/html": [
       "\n",
       "    <div>\n",
       "      <progress value='105070592' class='' max='105067061' style='width:300px; height:20px; vertical-align: middle;'></progress>\n",
       "      100.00% [105070592/105067061 00:01&lt;00:00]\n",
       "    </div>\n",
       "    "
      ],
      "text/plain": [
       "<IPython.core.display.HTML object>"
      ]
     },
     "metadata": {},
     "output_type": "display_data"
    }
   ],
   "source": [
    "learner = text_classifier_learner(\n",
    "                dls_cls, \n",
    "                AWD_LSTM, \n",
    "                metrics=[accuracy, Precision(), Recall(), F1Score()])"
   ]
  },
  {
   "cell_type": "markdown",
   "id": "WNEUlcM7l8xN",
   "metadata": {
    "id": "WNEUlcM7l8xN",
    "slideshow": {
     "slide_type": "subslide"
    }
   },
   "source": [
    "Before training the classifier we calculate the optimal learning rate. \n",
    "\n",
    "Learning rate, a key hyper-parameter, determines the step size at each iteration while moving toward a minimum of a loss function. \n",
    "\n",
    "This will greatly influence how quickly the model converges."
   ]
  },
  {
   "cell_type": "code",
   "execution_count": null,
   "id": "UfWKUp7lKQGJ",
   "metadata": {
    "colab": {
     "base_uri": "https://localhost:8080/",
     "height": 492
    },
    "id": "UfWKUp7lKQGJ",
    "outputId": "68e53203-af95-4d91-f793-9cf956a4de81",
    "slideshow": {
     "slide_type": "subslide"
    }
   },
   "outputs": [
    {
     "data": {
      "text/html": [
       "\n",
       "<style>\n",
       "    /* Turns off some styling */\n",
       "    progress {\n",
       "        /* gets rid of default border in Firefox and Opera. */\n",
       "        border: none;\n",
       "        /* Needs to be in here for Safari polyfill so background images work as expected. */\n",
       "        background-size: auto;\n",
       "    }\n",
       "    progress:not([value]), progress:not([value])::-webkit-progress-bar {\n",
       "        background: repeating-linear-gradient(45deg, #7e7e7e, #7e7e7e 10px, #5c5c5c 10px, #5c5c5c 20px);\n",
       "    }\n",
       "    .progress-bar-interrupted, .progress-bar-interrupted::-webkit-progress-bar {\n",
       "        background: #F44336;\n",
       "    }\n",
       "</style>\n"
      ],
      "text/plain": [
       "<IPython.core.display.HTML object>"
      ]
     },
     "metadata": {},
     "output_type": "display_data"
    },
    {
     "data": {
      "text/html": [],
      "text/plain": [
       "<IPython.core.display.HTML object>"
      ]
     },
     "metadata": {},
     "output_type": "display_data"
    },
    {
     "data": {
      "text/plain": [
       "SuggestedLRs(valley=0.00363078061491251)"
      ]
     },
     "execution_count": 10,
     "metadata": {},
     "output_type": "execute_result"
    },
    {
     "data": {
      "image/png": "[encoded data removed]",
      "text/plain": [
       "<Figure size 640x480 with 1 Axes>"
      ]
     },
     "metadata": {},
     "output_type": "display_data"
    }
   ],
   "source": [
    "lr = learner.lr_find()\n",
    "lr"
   ]
  },
  {
   "cell_type": "markdown",
   "id": "oSDNo9RvmYcm",
   "metadata": {
    "id": "oSDNo9RvmYcm",
    "slideshow": {
     "slide_type": "subslide"
    }
   },
   "source": [
    "Fine tune model for 3 epochs using optimal learning rate."
   ]
  },
  {
   "cell_type": "code",
   "execution_count": null,
   "id": "99fa8b11",
   "metadata": {
    "_cell_guid": "a8b2771f-894e-4e18-936a-eab5c1b02065",
    "_uuid": "7576db43-97ab-4a53-9e31-92b2efa07b81",
    "colab": {
     "base_uri": "https://localhost:8080/",
     "height": 222
    },
    "execution": {
     "iopub.execute_input": "2023-01-18T21:26:55.663514Z",
     "iopub.status.busy": "2023-01-18T21:26:55.663154Z",
     "iopub.status.idle": "2023-01-18T21:32:20.306199Z",
     "shell.execute_reply": "2023-01-18T21:32:20.304910Z"
    },
    "id": "99fa8b11",
    "jupyter": {
     "outputs_hidden": false
    },
    "outputId": "c294513f-f22c-4105-ae23-3739b5bbf3aa",
    "papermill": {
     "duration": 324.660025,
     "end_time": "2023-01-18T21:32:20.308965",
     "exception": false,
     "start_time": "2023-01-18T21:26:55.648940",
     "status": "completed"
    },
    "slideshow": {
     "slide_type": "subslide"
    },
    "tags": []
   },
   "outputs": [
    {
     "data": {
      "text/html": [
       "\n",
       "<style>\n",
       "    /* Turns off some styling */\n",
       "    progress {\n",
       "        /* gets rid of default border in Firefox and Opera. */\n",
       "        border: none;\n",
       "        /* Needs to be in here for Safari polyfill so background images work as expected. */\n",
       "        background-size: auto;\n",
       "    }\n",
       "    progress:not([value]), progress:not([value])::-webkit-progress-bar {\n",
       "        background: repeating-linear-gradient(45deg, #7e7e7e, #7e7e7e 10px, #5c5c5c 10px, #5c5c5c 20px);\n",
       "    }\n",
       "    .progress-bar-interrupted, .progress-bar-interrupted::-webkit-progress-bar {\n",
       "        background: #F44336;\n",
       "    }\n",
       "</style>\n"
      ],
      "text/plain": [
       "<IPython.core.display.HTML object>"
      ]
     },
     "metadata": {},
     "output_type": "display_data"
    },
    {
     "data": {
      "text/html": [
       "<table border=\"1\" class=\"dataframe\">\n",
       "  <thead>\n",
       "    <tr style=\"text-align: left;\">\n",
       "      <th>epoch</th>\n",
       "      <th>train_loss</th>\n",
       "      <th>valid_loss</th>\n",
       "      <th>accuracy</th>\n",
       "      <th>precision_score</th>\n",
       "      <th>recall_score</th>\n",
       "      <th>f1_score</th>\n",
       "      <th>time</th>\n",
       "    </tr>\n",
       "  </thead>\n",
       "  <tbody>\n",
       "    <tr>\n",
       "      <td>0</td>\n",
       "      <td>0.373153</td>\n",
       "      <td>0.386125</td>\n",
       "      <td>0.841721</td>\n",
       "      <td>0.921474</td>\n",
       "      <td>0.749447</td>\n",
       "      <td>0.826605</td>\n",
       "      <td>01:13</td>\n",
       "    </tr>\n",
       "  </tbody>\n",
       "</table>"
      ],
      "text/plain": [
       "<IPython.core.display.HTML object>"
      ]
     },
     "metadata": {},
     "output_type": "display_data"
    },
    {
     "data": {
      "text/html": [
       "\n",
       "<style>\n",
       "    /* Turns off some styling */\n",
       "    progress {\n",
       "        /* gets rid of default border in Firefox and Opera. */\n",
       "        border: none;\n",
       "        /* Needs to be in here for Safari polyfill so background images work as expected. */\n",
       "        background-size: auto;\n",
       "    }\n",
       "    progress:not([value]), progress:not([value])::-webkit-progress-bar {\n",
       "        background: repeating-linear-gradient(45deg, #7e7e7e, #7e7e7e 10px, #5c5c5c 10px, #5c5c5c 20px);\n",
       "    }\n",
       "    .progress-bar-interrupted, .progress-bar-interrupted::-webkit-progress-bar {\n",
       "        background: #F44336;\n",
       "    }\n",
       "</style>\n"
      ],
      "text/plain": [
       "<IPython.core.display.HTML object>"
      ]
     },
     "metadata": {},
     "output_type": "display_data"
    },
    {
     "data": {
      "text/html": [
       "<table border=\"1\" class=\"dataframe\">\n",
       "  <thead>\n",
       "    <tr style=\"text-align: left;\">\n",
       "      <th>epoch</th>\n",
       "      <th>train_loss</th>\n",
       "      <th>valid_loss</th>\n",
       "      <th>accuracy</th>\n",
       "      <th>precision_score</th>\n",
       "      <th>recall_score</th>\n",
       "      <th>f1_score</th>\n",
       "      <th>time</th>\n",
       "    </tr>\n",
       "  </thead>\n",
       "  <tbody>\n",
       "    <tr>\n",
       "      <td>0</td>\n",
       "      <td>0.255537</td>\n",
       "      <td>0.355370</td>\n",
       "      <td>0.881415</td>\n",
       "      <td>0.981138</td>\n",
       "      <td>0.779415</td>\n",
       "      <td>0.868720</td>\n",
       "      <td>02:27</td>\n",
       "    </tr>\n",
       "    <tr>\n",
       "      <td>1</td>\n",
       "      <td>0.216305</td>\n",
       "      <td>0.218795</td>\n",
       "      <td>0.916904</td>\n",
       "      <td>0.987102</td>\n",
       "      <td>0.845984</td>\n",
       "      <td>0.911111</td>\n",
       "      <td>02:27</td>\n",
       "    </tr>\n",
       "    <tr>\n",
       "      <td>2</td>\n",
       "      <td>0.191615</td>\n",
       "      <td>0.238240</td>\n",
       "      <td>0.917275</td>\n",
       "      <td>0.992472</td>\n",
       "      <td>0.842054</td>\n",
       "      <td>0.911096</td>\n",
       "      <td>02:25</td>\n",
       "    </tr>\n",
       "  </tbody>\n",
       "</table>"
      ],
      "text/plain": [
       "<IPython.core.display.HTML object>"
      ]
     },
     "metadata": {},
     "output_type": "display_data"
    }
   ],
   "source": [
    "learner.fine_tune(3, lr[0])"
   ]
  },
  {
   "cell_type": "code",
   "execution_count": null,
   "id": "pFmhsq_-sB9R",
   "metadata": {
    "id": "pFmhsq_-sB9R",
    "slideshow": {
     "slide_type": "skip"
    }
   },
   "outputs": [],
   "source": [
    "learner_interp = ClassificationInterpretation.from_learner(learner)"
   ]
  },
  {
   "cell_type": "code",
   "execution_count": null,
   "id": "6a9c258a",
   "metadata": {
    "_cell_guid": "d1e5c3a7-80bc-46ec-b525-770f14372be8",
    "_uuid": "5d21a719-08b6-427f-a95e-ab5175c264c5",
    "colab": {
     "base_uri": "https://localhost:8080/",
     "height": 186
    },
    "execution": {
     "iopub.execute_input": "2023-01-18T21:32:20.365953Z",
     "iopub.status.busy": "2023-01-18T21:32:20.365559Z",
     "iopub.status.idle": "2023-01-18T21:32:24.510253Z",
     "shell.execute_reply": "2023-01-18T21:32:24.509285Z"
    },
    "id": "6a9c258a",
    "jupyter": {
     "outputs_hidden": false
    },
    "outputId": "5398e2f6-e2d1-44f0-b1f3-ce6c260d7f9a",
    "papermill": {
     "duration": 4.162025,
     "end_time": "2023-01-18T21:32:24.512467",
     "exception": false,
     "start_time": "2023-01-18T21:32:20.350442",
     "status": "completed"
    },
    "slideshow": {
     "slide_type": "subslide"
    },
    "tags": []
   },
   "outputs": [
    {
     "data": {
      "text/html": [
       "\n",
       "<style>\n",
       "    /* Turns off some styling */\n",
       "    progress {\n",
       "        /* gets rid of default border in Firefox and Opera. */\n",
       "        border: none;\n",
       "        /* Needs to be in here for Safari polyfill so background images work as expected. */\n",
       "        background-size: auto;\n",
       "    }\n",
       "    progress:not([value]), progress:not([value])::-webkit-progress-bar {\n",
       "        background: repeating-linear-gradient(45deg, #7e7e7e, #7e7e7e 10px, #5c5c5c 10px, #5c5c5c 20px);\n",
       "    }\n",
       "    .progress-bar-interrupted, .progress-bar-interrupted::-webkit-progress-bar {\n",
       "        background: #F44336;\n",
       "    }\n",
       "</style>\n"
      ],
      "text/plain": [
       "<IPython.core.display.HTML object>"
      ]
     },
     "metadata": {},
     "output_type": "display_data"
    },
    {
     "data": {
      "text/html": [],
      "text/plain": [
       "<IPython.core.display.HTML object>"
      ]
     },
     "metadata": {},
     "output_type": "display_data"
    },
    {
     "name": "stdout",
     "output_type": "stream",
     "text": [
      "              precision    recall  f1-score   support\n",
      "\n",
      "          CG       0.86      0.99      0.92      4016\n",
      "          OR       0.99      0.84      0.91      4071\n",
      "\n",
      "    accuracy                           0.92      8087\n",
      "   macro avg       0.93      0.92      0.92      8087\n",
      "weighted avg       0.93      0.92      0.92      8087\n",
      "\n"
     ]
    }
   ],
   "source": [
    "learner_interp.print_classification_report()"
   ]
  },
  {
   "cell_type": "markdown",
   "id": "3f7399f4",
   "metadata": {
    "id": "3f7399f4",
    "papermill": {
     "duration": 0.013391,
     "end_time": "2023-01-18T21:32:20.336623",
     "exception": false,
     "start_time": "2023-01-18T21:32:20.323232",
     "status": "completed"
    },
    "slideshow": {
     "slide_type": "subslide"
    },
    "tags": []
   },
   "source": [
    "## Model performance\n",
    "\n",
    "- $accuracy = 92\\%$, which is significantly higher than the *Null* model ($50\\%$). \n",
    "\n",
    "- *Precision* is high for OR ($99\\%$), lower for CG ($86\\%$)\n",
    "\n",
    "- *Recall* is high for CG ($99\\%$), lower for OR ($84\\%$).\n",
    "\n",
    "- Overall, these are great performance numbers and will be hard to beat!"
   ]
  },
  {
   "cell_type": "code",
   "execution_count": null,
   "id": "46cd4c61",
   "metadata": {
    "_cell_guid": "ff379c59-0493-436d-aa44-51f282994126",
    "_uuid": "d8c4552e-f06c-4a5c-9c39-ddbf95067be7",
    "colab": {
     "base_uri": "https://localhost:8080/",
     "height": 526
    },
    "execution": {
     "iopub.execute_input": "2023-01-18T21:32:24.571214Z",
     "iopub.status.busy": "2023-01-18T21:32:24.570275Z",
     "iopub.status.idle": "2023-01-18T21:32:38.573772Z",
     "shell.execute_reply": "2023-01-18T21:32:38.572074Z"
    },
    "id": "46cd4c61",
    "jupyter": {
     "outputs_hidden": false
    },
    "outputId": "89ec73a4-4484-42e5-f9b1-03db9f301985",
    "papermill": {
     "duration": 14.02216,
     "end_time": "2023-01-18T21:32:38.577304",
     "exception": false,
     "start_time": "2023-01-18T21:32:24.555144",
     "status": "completed"
    },
    "slideshow": {
     "slide_type": "subslide"
    },
    "tags": []
   },
   "outputs": [
    {
     "data": {
      "text/html": [
       "\n",
       "<style>\n",
       "    /* Turns off some styling */\n",
       "    progress {\n",
       "        /* gets rid of default border in Firefox and Opera. */\n",
       "        border: none;\n",
       "        /* Needs to be in here for Safari polyfill so background images work as expected. */\n",
       "        background-size: auto;\n",
       "    }\n",
       "    progress:not([value]), progress:not([value])::-webkit-progress-bar {\n",
       "        background: repeating-linear-gradient(45deg, #7e7e7e, #7e7e7e 10px, #5c5c5c 10px, #5c5c5c 20px);\n",
       "    }\n",
       "    .progress-bar-interrupted, .progress-bar-interrupted::-webkit-progress-bar {\n",
       "        background: #F44336;\n",
       "    }\n",
       "</style>\n"
      ],
      "text/plain": [
       "<IPython.core.display.HTML object>"
      ]
     },
     "metadata": {},
     "output_type": "display_data"
    },
    {
     "data": {
      "text/html": [],
      "text/plain": [
       "<IPython.core.display.HTML object>"
      ]
     },
     "metadata": {},
     "output_type": "display_data"
    },
    {
     "data": {
      "image/png": "[encoded data removed]",
      "text/plain": [
       "<Figure size 640x480 with 1 Axes>"
      ]
     },
     "metadata": {},
     "output_type": "display_data"
    }
   ],
   "source": [
    "learner_interp.plot_confusion_matrix()"
   ]
  },
  {
   "cell_type": "markdown",
   "id": "c527148a",
   "metadata": {
    "id": "c527148a",
    "papermill": {
     "duration": 0.014064,
     "end_time": "2023-01-18T21:32:24.540782",
     "exception": false,
     "start_time": "2023-01-18T21:32:24.526718",
     "status": "completed"
    },
    "slideshow": {
     "slide_type": "notes"
    },
    "tags": []
   },
   "source": [
    "The confusion matrix shows the model is misclassifying a much larger number of ORs (original reviews) compared to CGs (computer generated)."
   ]
  },
  {
   "cell_type": "markdown",
   "id": "d490c239",
   "metadata": {
    "id": "d490c239",
    "papermill": {
     "duration": 0.031204,
     "end_time": "2023-01-18T21:32:38.646583",
     "exception": false,
     "start_time": "2023-01-18T21:32:38.615379",
     "status": "completed"
    },
    "slideshow": {
     "slide_type": "skip"
    },
    "tags": []
   },
   "source": [
    "## Saving and loading model\n",
    "\n",
    "At this point, if we wanted, we could save the model and it's trained weights. Later, the saved model could be loaded for making predictions."
   ]
  },
  {
   "cell_type": "code",
   "execution_count": null,
   "id": "34273f78",
   "metadata": {
    "_cell_guid": "71abf7f6-5eb6-4eb4-b726-a84341b2cf41",
    "_uuid": "a9724113-37f9-4f4e-b703-52092eefc307",
    "colab": {
     "base_uri": "https://localhost:8080/"
    },
    "execution": {
     "iopub.execute_input": "2023-01-18T21:32:38.677322Z",
     "iopub.status.busy": "2023-01-18T21:32:38.676940Z",
     "iopub.status.idle": "2023-01-18T21:32:38.681702Z",
     "shell.execute_reply": "2023-01-18T21:32:38.680769Z"
    },
    "id": "34273f78",
    "jupyter": {
     "outputs_hidden": false
    },
    "outputId": "29c5eefb-e7cc-4b36-9a79-7efcb008bfe6",
    "papermill": {
     "duration": 0.022711,
     "end_time": "2023-01-18T21:32:38.683783",
     "exception": false,
     "start_time": "2023-01-18T21:32:38.661072",
     "status": "completed"
    },
    "slideshow": {
     "slide_type": "skip"
    },
    "tags": []
   },
   "outputs": [
    {
     "data": {
      "text/plain": [
       "Path('models/pretrained.pth')"
      ]
     },
     "execution_count": 16,
     "metadata": {},
     "output_type": "execute_result"
    }
   ],
   "source": [
    "learner.save('pretrained')"
   ]
  },
  {
   "cell_type": "code",
   "execution_count": null,
   "id": "9752ef42",
   "metadata": {
    "colab": {
     "base_uri": "https://localhost:8080/"
    },
    "execution": {
     "iopub.execute_input": "2023-01-18T21:32:38.714462Z",
     "iopub.status.busy": "2023-01-18T21:32:38.713616Z",
     "iopub.status.idle": "2023-01-18T21:32:38.718221Z",
     "shell.execute_reply": "2023-01-18T21:32:38.717256Z"
    },
    "id": "9752ef42",
    "outputId": "7e7902cf-6d0c-4ffc-b775-6c9272be2e97",
    "papermill": {
     "duration": 0.022034,
     "end_time": "2023-01-18T21:32:38.720184",
     "exception": false,
     "start_time": "2023-01-18T21:32:38.698150",
     "status": "completed"
    },
    "slideshow": {
     "slide_type": "skip"
    },
    "tags": []
   },
   "outputs": [
    {
     "data": {
      "text/plain": [
       "<fastai.text.learner.TextLearner at 0x7f360fe4a110>"
      ]
     },
     "execution_count": 17,
     "metadata": {},
     "output_type": "execute_result"
    }
   ],
   "source": [
    "learner.load('pretrained')"
   ]
  },
  {
   "cell_type": "markdown",
   "id": "67d76165",
   "metadata": {
    "_cell_guid": "bd7441ec-65d5-4bc6-b433-a597ad33382a",
    "_uuid": "00a74f0c-421d-46e0-ad4f-74d3fb4365f9",
    "id": "67d76165",
    "papermill": {
     "duration": 0.014221,
     "end_time": "2023-01-18T21:32:38.748727",
     "exception": false,
     "start_time": "2023-01-18T21:32:38.734506",
     "status": "completed"
    },
    "slideshow": {
     "slide_type": "slide"
    },
    "tags": []
   },
   "source": [
    "# Language Model (ULMFiT approach)\n",
    "\n",
    "To build this classifier we used a pretrained language model (AWD_LSTM). It was pretrained on Wikipedia English on the task of guessing the next word, after reading all previous words (within a fixed length window). \n",
    "\n",
    "Previouly, we got great results by directly fine-tuning this language model to build a product review classifier, but can we do even better?"
   ]
  },
  {
   "cell_type": "markdown",
   "id": "3f417304",
   "metadata": {
    "id": "3f417304",
    "slideshow": {
     "slide_type": "notes"
    }
   },
   "source": [
    "Notice, we are glossing over the details of exactly how many words are considered in making the prediction, what is the $loss function$, which $optimizer$ to use to fit the model, etc. Good news is Fastai selects defaults for all these paramaters and more.\n",
    "\n",
    "In general, with one extra step, we *might* do better: Wikipedia English is slightly different from the English in our review corpus. We might want to **fine-tune** the pretrained language model to the review corpus and use that to build our classifier."
   ]
  },
  {
   "cell_type": "markdown",
   "id": "4HqTdU10v50_",
   "metadata": {
    "id": "4HqTdU10v50_",
    "slideshow": {
     "slide_type": "slide"
    }
   },
   "source": [
    "Create the data loader for language modeling by setting $is\\_lm=True$ . We set aside 10% data using **RandomSplitter** for model validation."
   ]
  },
  {
   "cell_type": "code",
   "execution_count": null,
   "id": "a7592654",
   "metadata": {
    "_cell_guid": "dfe42466-34b4-465e-b494-72034c9d514a",
    "_uuid": "6b0894ff-c526-42c3-974b-d60c27672f5d",
    "colab": {
     "base_uri": "https://localhost:8080/",
     "height": 38
    },
    "execution": {
     "iopub.execute_input": "2023-01-18T21:32:38.779661Z",
     "iopub.status.busy": "2023-01-18T21:32:38.778746Z",
     "iopub.status.idle": "2023-01-18T21:32:38.783247Z",
     "shell.execute_reply": "2023-01-18T21:32:38.782215Z"
    },
    "id": "a7592654",
    "jupyter": {
     "outputs_hidden": false
    },
    "outputId": "ddec73b1-196c-4d0a-b204-5f72e4b3ae4f",
    "papermill": {
     "duration": 0.022023,
     "end_time": "2023-01-18T21:32:38.785255",
     "exception": false,
     "start_time": "2023-01-18T21:32:38.763232",
     "status": "completed"
    },
    "slideshow": {
     "slide_type": "subslide"
    },
    "tags": []
   },
   "outputs": [
    {
     "data": {
      "text/html": [
       "\n",
       "<style>\n",
       "    /* Turns off some styling */\n",
       "    progress {\n",
       "        /* gets rid of default border in Firefox and Opera. */\n",
       "        border: none;\n",
       "        /* Needs to be in here for Safari polyfill so background images work as expected. */\n",
       "        background-size: auto;\n",
       "    }\n",
       "    progress:not([value]), progress:not([value])::-webkit-progress-bar {\n",
       "        background: repeating-linear-gradient(45deg, #7e7e7e, #7e7e7e 10px, #5c5c5c 10px, #5c5c5c 20px);\n",
       "    }\n",
       "    .progress-bar-interrupted, .progress-bar-interrupted::-webkit-progress-bar {\n",
       "        background: #F44336;\n",
       "    }\n",
       "</style>\n"
      ],
      "text/plain": [
       "<IPython.core.display.HTML object>"
      ]
     },
     "metadata": {},
     "output_type": "display_data"
    },
    {
     "data": {
      "text/html": [],
      "text/plain": [
       "<IPython.core.display.HTML object>"
      ]
     },
     "metadata": {},
     "output_type": "display_data"
    }
   ],
   "source": [
    "dls_lm = DataBlock(\n",
    "    blocks=TextBlock.from_df(\n",
    "                        text_cols=('text'), \n",
    "                        is_lm=True),\n",
    "                get_x=ColReader('text'), \n",
    "                splitter=RandomSplitter(valid_pct=0.1, seed=12345)\n",
    "                ).dataloaders(df, bs=64)"
   ]
  },
  {
   "cell_type": "code",
   "execution_count": null,
   "id": "fb1b669b",
   "metadata": {
    "_cell_guid": "de56ae16-e2fb-4fcc-a7f2-d34861e96bff",
    "_uuid": "ccdbfcba-063c-425d-8293-ea927978d962",
    "colab": {
     "base_uri": "https://localhost:8080/",
     "height": 469
    },
    "execution": {
     "iopub.execute_input": "2023-01-18T21:32:38.845228Z",
     "iopub.status.busy": "2023-01-18T21:32:38.843625Z",
     "iopub.status.idle": "2023-01-18T21:32:38.848620Z",
     "shell.execute_reply": "2023-01-18T21:32:38.847735Z"
    },
    "id": "fb1b669b",
    "jupyter": {
     "outputs_hidden": false
    },
    "outputId": "2b00c856-eb01-49ae-ce77-ff95d45990c0",
    "papermill": {
     "duration": 0.022488,
     "end_time": "2023-01-18T21:32:38.850668",
     "exception": false,
     "start_time": "2023-01-18T21:32:38.828180",
     "status": "completed"
    },
    "slideshow": {
     "slide_type": "skip"
    },
    "tags": []
   },
   "outputs": [
    {
     "data": {
      "text/html": [
       "<table border=\"1\" class=\"dataframe\">\n",
       "  <thead>\n",
       "    <tr style=\"text-align: right;\">\n",
       "      <th></th>\n",
       "      <th>text</th>\n",
       "      <th>text_</th>\n",
       "    </tr>\n",
       "  </thead>\n",
       "  <tbody>\n",
       "    <tr>\n",
       "      <th>0</th>\n",
       "      <td>xxbos i loved it great variety of characters and the writing style was great . i really enjoyed this book.i read this book in the last few days and have enjoyed it xxbos xxmaj nice , affordable base sets that work well with xxmaj lego , xxup kre - o , etc . xxbos i read very little fiction but as an older friend said it is a \" pot xxunk .</td>\n",
       "      <td>i loved it great variety of characters and the writing style was great . i really enjoyed this book.i read this book in the last few days and have enjoyed it xxbos xxmaj nice , affordable base sets that work well with xxmaj lego , xxup kre - o , etc . xxbos i read very little fiction but as an older friend said it is a \" pot xxunk . xxunk</td>\n",
       "    </tr>\n",
       "    <tr>\n",
       "      <th>1</th>\n",
       "      <td>covers ever since i bought it . i bought this for my daughter 's room and it 's been a good xxbos i do n't write well and this book kept me on my toes . xxmaj there were a few typos and mistakes but the story kept me interested xxbos xxmaj educational and fun toy . i recommend it.my son loves this toy . xxmaj he loves the music and the</td>\n",
       "      <td>ever since i bought it . i bought this for my daughter 's room and it 's been a good xxbos i do n't write well and this book kept me on my toes . xxmaj there were a few typos and mistakes but the story kept me interested xxbos xxmaj educational and fun toy . i recommend it.my son loves this toy . xxmaj he loves the music and the lights</td>\n",
       "    </tr>\n",
       "    <tr>\n",
       "      <th>2</th>\n",
       "      <td>a decent blade , gets the job done - cuts aluminum . xxmaj it came nicely packaged in thick cardboard \" sleeve \" , with clear tubing protecting the teeth . 5 stars for packaging . \\n xxmaj at my place , it will be used now and then for thin aluminum angle and strips . \\n xxmaj cuts are not clean , i have to use a file to clean them</td>\n",
       "      <td>decent blade , gets the job done - cuts aluminum . xxmaj it came nicely packaged in thick cardboard \" sleeve \" , with clear tubing protecting the teeth . 5 stars for packaging . \\n xxmaj at my place , it will be used now and then for thin aluminum angle and strips . \\n xxmaj cuts are not clean , i have to use a file to clean them up</td>\n",
       "    </tr>\n",
       "    <tr>\n",
       "      <th>3</th>\n",
       "      <td>better looking than the plastic ones xxmaj i 've had before . xxmaj it looks like a decor piece instead of pet fountain , which makes me feel less like a crazy cat lady . xxmaj and xxmaj emily , my cat , has already approved it . xxmaj i 'm keeping my fingers crossed and hope it will last a long time . xxbos i loved this book so much .</td>\n",
       "      <td>looking than the plastic ones xxmaj i 've had before . xxmaj it looks like a decor piece instead of pet fountain , which makes me feel less like a crazy cat lady . xxmaj and xxmaj emily , my cat , has already approved it . xxmaj i 'm keeping my fingers crossed and hope it will last a long time . xxbos i loved this book so much . xxmaj</td>\n",
       "    </tr>\n",
       "    <tr>\n",
       "      <th>4</th>\n",
       "      <td>film to anyone who wants a complete set of movies.i love this show . i have watched the entire series several times . i am so happy to have all of the seasons . xxmaj this is a great show and is on my top 10 favorite shows of all time . i highly recommend this show . i would highly recommend this show . xxbos xxmaj this is called \" thor</td>\n",
       "      <td>to anyone who wants a complete set of movies.i love this show . i have watched the entire series several times . i am so happy to have all of the seasons . xxmaj this is a great show and is on my top 10 favorite shows of all time . i highly recommend this show . i would highly recommend this show . xxbos xxmaj this is called \" thor \"</td>\n",
       "    </tr>\n",
       "  </tbody>\n",
       "</table>"
      ],
      "text/plain": [
       "<IPython.core.display.HTML object>"
      ]
     },
     "metadata": {},
     "output_type": "display_data"
    }
   ],
   "source": [
    "dls_lm.show_batch(max_n = 5)"
   ]
  },
  {
   "cell_type": "markdown",
   "id": "ab3963af",
   "metadata": {
    "_cell_guid": "a8c3fa63-ae51-4903-b6df-4a97fbf5133d",
    "_uuid": "a306e43b-cacf-4ce2-8973-6a499da3652c",
    "id": "ab3963af",
    "papermill": {
     "duration": 0.014225,
     "end_time": "2023-01-18T21:32:38.879352",
     "exception": false,
     "start_time": "2023-01-18T21:32:38.865127",
     "status": "completed"
    },
    "slideshow": {
     "slide_type": "subslide"
    },
    "tags": []
   },
   "source": [
    "Next we create a language model learner using Perplexity metric to track LLM performance (how well the language model predicts a sample). Lower is better."
   ]
  },
  {
   "cell_type": "code",
   "execution_count": null,
   "id": "2cd4af95",
   "metadata": {
    "_cell_guid": "ba17bf51-1e2a-4bfb-acc6-b49dfc56c7a1",
    "_uuid": "3d64fdcf-95d2-4d68-8e97-ce84bae5bbc7",
    "execution": {
     "iopub.execute_input": "2023-01-18T21:32:38.910963Z",
     "iopub.status.busy": "2023-01-18T21:32:38.909380Z",
     "iopub.status.idle": "2023-01-18T21:32:38.914186Z",
     "shell.execute_reply": "2023-01-18T21:32:38.913283Z"
    },
    "id": "2cd4af95",
    "jupyter": {
     "outputs_hidden": false
    },
    "papermill": {
     "duration": 0.02234,
     "end_time": "2023-01-18T21:32:38.916148",
     "exception": false,
     "start_time": "2023-01-18T21:32:38.893808",
     "status": "completed"
    },
    "slideshow": {
     "slide_type": "subslide"
    },
    "tags": []
   },
   "outputs": [],
   "source": [
    "lm_learner = language_model_learner(\n",
    "                dls_lm, \n",
    "                AWD_LSTM, \n",
    "                wd=0.1,\n",
    "                metrics=[Perplexity()]).to_fp16()"
   ]
  },
  {
   "cell_type": "markdown",
   "id": "5mZ3PGZSoBz4",
   "metadata": {
    "id": "5mZ3PGZSoBz4",
    "slideshow": {
     "slide_type": "subslide"
    }
   },
   "source": [
    "Once again, find the optimal learning rate."
   ]
  },
  {
   "cell_type": "code",
   "execution_count": null,
   "id": "yE6Vu6JIgElo",
   "metadata": {
    "colab": {
     "base_uri": "https://localhost:8080/",
     "height": 492
    },
    "id": "yE6Vu6JIgElo",
    "outputId": "f4a2b36a-76e2-4685-f988-841c232802f9",
    "slideshow": {
     "slide_type": "subslide"
    }
   },
   "outputs": [
    {
     "data": {
      "text/html": [
       "\n",
       "<style>\n",
       "    /* Turns off some styling */\n",
       "    progress {\n",
       "        /* gets rid of default border in Firefox and Opera. */\n",
       "        border: none;\n",
       "        /* Needs to be in here for Safari polyfill so background images work as expected. */\n",
       "        background-size: auto;\n",
       "    }\n",
       "    progress:not([value]), progress:not([value])::-webkit-progress-bar {\n",
       "        background: repeating-linear-gradient(45deg, #7e7e7e, #7e7e7e 10px, #5c5c5c 10px, #5c5c5c 20px);\n",
       "    }\n",
       "    .progress-bar-interrupted, .progress-bar-interrupted::-webkit-progress-bar {\n",
       "        background: #F44336;\n",
       "    }\n",
       "</style>\n"
      ],
      "text/plain": [
       "<IPython.core.display.HTML object>"
      ]
     },
     "metadata": {},
     "output_type": "display_data"
    },
    {
     "data": {
      "text/html": [],
      "text/plain": [
       "<IPython.core.display.HTML object>"
      ]
     },
     "metadata": {},
     "output_type": "display_data"
    },
    {
     "data": {
      "text/plain": [
       "SuggestedLRs(valley=0.001737800776027143)"
      ]
     },
     "execution_count": 20,
     "metadata": {},
     "output_type": "execute_result"
    },
    {
     "data": {
      "image/png": "[encoded data removed]",
      "text/plain": [
       "<Figure size 640x480 with 1 Axes>"
      ]
     },
     "metadata": {},
     "output_type": "display_data"
    }
   ],
   "source": [
    "lr = lm_learner.lr_find()\n",
    "lr"
   ]
  },
  {
   "cell_type": "markdown",
   "id": "c99ba52e",
   "metadata": {
    "_cell_guid": "02b2a416-97d2-4703-97ca-c525ac94c072",
    "_uuid": "1aa0722c-f4e7-4972-9855-8d6ee4dedf65",
    "id": "c99ba52e",
    "papermill": {
     "duration": 0.014236,
     "end_time": "2023-01-18T21:32:38.944822",
     "exception": false,
     "start_time": "2023-01-18T21:32:38.930586",
     "status": "completed"
    },
    "slideshow": {
     "slide_type": "subslide"
    },
    "tags": []
   },
   "source": [
    "Train the model for 1 epoch. By default, a pretrained Learner is in a *frozen* state, meaning that only the head of the model will train while the body stays frozen \n",
    "\n",
    "As a result, the pretrained language model is kept intact. This is the essence of of **transfer learning**."
   ]
  },
  {
   "cell_type": "code",
   "execution_count": null,
   "id": "4415d978",
   "metadata": {
    "_cell_guid": "488ff5fe-5e90-4495-88d8-5b171d48b08a",
    "_uuid": "42b35b8e-7e5e-4c5f-a39f-6167f061adb6",
    "colab": {
     "base_uri": "https://localhost:8080/",
     "height": 100
    },
    "execution": {
     "iopub.execute_input": "2023-01-18T21:32:38.975630Z",
     "iopub.status.busy": "2023-01-18T21:32:38.974691Z",
     "iopub.status.idle": "2023-01-18T21:32:38.979214Z",
     "shell.execute_reply": "2023-01-18T21:32:38.978323Z"
    },
    "id": "4415d978",
    "jupyter": {
     "outputs_hidden": false
    },
    "outputId": "d28f3ab8-e7d6-48ec-884e-fed764b8dcfb",
    "papermill": {
     "duration": 0.022024,
     "end_time": "2023-01-18T21:32:38.981178",
     "exception": false,
     "start_time": "2023-01-18T21:32:38.959154",
     "status": "completed"
    },
    "slideshow": {
     "slide_type": "subslide"
    },
    "tags": []
   },
   "outputs": [
    {
     "data": {
      "text/html": [
       "\n",
       "<style>\n",
       "    /* Turns off some styling */\n",
       "    progress {\n",
       "        /* gets rid of default border in Firefox and Opera. */\n",
       "        border: none;\n",
       "        /* Needs to be in here for Safari polyfill so background images work as expected. */\n",
       "        background-size: auto;\n",
       "    }\n",
       "    progress:not([value]), progress:not([value])::-webkit-progress-bar {\n",
       "        background: repeating-linear-gradient(45deg, #7e7e7e, #7e7e7e 10px, #5c5c5c 10px, #5c5c5c 20px);\n",
       "    }\n",
       "    .progress-bar-interrupted, .progress-bar-interrupted::-webkit-progress-bar {\n",
       "        background: #F44336;\n",
       "    }\n",
       "</style>\n"
      ],
      "text/plain": [
       "<IPython.core.display.HTML object>"
      ]
     },
     "metadata": {},
     "output_type": "display_data"
    },
    {
     "data": {
      "text/html": [
       "<table border=\"1\" class=\"dataframe\">\n",
       "  <thead>\n",
       "    <tr style=\"text-align: left;\">\n",
       "      <th>epoch</th>\n",
       "      <th>train_loss</th>\n",
       "      <th>valid_loss</th>\n",
       "      <th>perplexity</th>\n",
       "      <th>time</th>\n",
       "    </tr>\n",
       "  </thead>\n",
       "  <tbody>\n",
       "    <tr>\n",
       "      <td>0</td>\n",
       "      <td>3.873621</td>\n",
       "      <td>3.566238</td>\n",
       "      <td>35.383221</td>\n",
       "      <td>02:36</td>\n",
       "    </tr>\n",
       "  </tbody>\n",
       "</table>"
      ],
      "text/plain": [
       "<IPython.core.display.HTML object>"
      ]
     },
     "metadata": {},
     "output_type": "display_data"
    }
   ],
   "source": [
    "lm_learner.fit_one_cycle(1, lr[0])"
   ]
  },
  {
   "cell_type": "markdown",
   "id": "a8bb022f",
   "metadata": {
    "_cell_guid": "c3bfa931-0c71-4f56-a21a-606a6fcd34a9",
    "_uuid": "0041d125-f622-48a5-a3f9-c2d25074ddde",
    "id": "a8bb022f",
    "papermill": {
     "duration": 0.014417,
     "end_time": "2023-01-18T21:32:39.009893",
     "exception": false,
     "start_time": "2023-01-18T21:32:38.995476",
     "status": "completed"
    },
    "slideshow": {
     "slide_type": "skip"
    },
    "tags": []
   },
   "source": [
    "Save model after 1 epoch."
   ]
  },
  {
   "cell_type": "code",
   "execution_count": null,
   "id": "fc517c10",
   "metadata": {
    "_cell_guid": "5de6446d-9b0f-40f7-aea3-b4902da18e68",
    "_uuid": "2de7b3df-4eaa-45e7-aa43-2a9eaa5a7d58",
    "colab": {
     "base_uri": "https://localhost:8080/"
    },
    "execution": {
     "iopub.execute_input": "2023-01-18T21:32:39.040233Z",
     "iopub.status.busy": "2023-01-18T21:32:39.039889Z",
     "iopub.status.idle": "2023-01-18T21:32:39.044083Z",
     "shell.execute_reply": "2023-01-18T21:32:39.043073Z"
    },
    "id": "fc517c10",
    "jupyter": {
     "outputs_hidden": false
    },
    "outputId": "3dab38e8-eda3-41a7-d5bd-5749973aaac7",
    "papermill": {
     "duration": 0.021865,
     "end_time": "2023-01-18T21:32:39.046069",
     "exception": false,
     "start_time": "2023-01-18T21:32:39.024204",
     "status": "completed"
    },
    "slideshow": {
     "slide_type": "skip"
    },
    "tags": []
   },
   "outputs": [
    {
     "data": {
      "text/plain": [
       "Path('models/1epoch.pth')"
      ]
     },
     "execution_count": 22,
     "metadata": {},
     "output_type": "execute_result"
    }
   ],
   "source": [
    "lm_learner.save('1epoch')"
   ]
  },
  {
   "cell_type": "markdown",
   "id": "a9f3f4cb",
   "metadata": {
    "_cell_guid": "72c34cf5-365f-48f1-8277-523d9f65a361",
    "_uuid": "953a3a51-8f43-4b68-8ec3-0d4e1c1196d2",
    "id": "a9f3f4cb",
    "papermill": {
     "duration": 0.014296,
     "end_time": "2023-01-18T21:32:39.074958",
     "exception": false,
     "start_time": "2023-01-18T21:32:39.060662",
     "status": "completed"
    },
    "slideshow": {
     "slide_type": "subslide"
    },
    "tags": []
   },
   "source": [
    "Next, we unfreeze all layers of model for futher tuning."
   ]
  },
  {
   "cell_type": "code",
   "execution_count": null,
   "id": "4295ef5c",
   "metadata": {
    "_cell_guid": "c50916dc-8edf-47f9-9cfc-6a97cb9a502b",
    "_uuid": "c4250484-ddb4-4493-862a-cb7bfce1ec25",
    "execution": {
     "iopub.execute_input": "2023-01-18T21:32:39.105608Z",
     "iopub.status.busy": "2023-01-18T21:32:39.104796Z",
     "iopub.status.idle": "2023-01-18T21:32:39.109015Z",
     "shell.execute_reply": "2023-01-18T21:32:39.108056Z"
    },
    "id": "4295ef5c",
    "jupyter": {
     "outputs_hidden": false
    },
    "papermill": {
     "duration": 0.02169,
     "end_time": "2023-01-18T21:32:39.110981",
     "exception": false,
     "start_time": "2023-01-18T21:32:39.089291",
     "status": "completed"
    },
    "slideshow": {
     "slide_type": "subslide"
    },
    "tags": []
   },
   "outputs": [],
   "source": [
    "lm_learner.unfreeze()"
   ]
  },
  {
   "cell_type": "markdown",
   "id": "YstfLnBfXNPk",
   "metadata": {
    "id": "YstfLnBfXNPk",
    "slideshow": {
     "slide_type": "subslide"
    }
   },
   "source": [
    "As before, find the optimal learning rate."
   ]
  },
  {
   "cell_type": "code",
   "execution_count": null,
   "id": "vIpzyl-CgMBM",
   "metadata": {
    "colab": {
     "base_uri": "https://localhost:8080/",
     "height": 492
    },
    "id": "vIpzyl-CgMBM",
    "outputId": "f5659eb9-dd5c-4f7c-94dd-00f40ac433aa",
    "slideshow": {
     "slide_type": "subslide"
    }
   },
   "outputs": [
    {
     "data": {
      "text/html": [
       "\n",
       "<style>\n",
       "    /* Turns off some styling */\n",
       "    progress {\n",
       "        /* gets rid of default border in Firefox and Opera. */\n",
       "        border: none;\n",
       "        /* Needs to be in here for Safari polyfill so background images work as expected. */\n",
       "        background-size: auto;\n",
       "    }\n",
       "    progress:not([value]), progress:not([value])::-webkit-progress-bar {\n",
       "        background: repeating-linear-gradient(45deg, #7e7e7e, #7e7e7e 10px, #5c5c5c 10px, #5c5c5c 20px);\n",
       "    }\n",
       "    .progress-bar-interrupted, .progress-bar-interrupted::-webkit-progress-bar {\n",
       "        background: #F44336;\n",
       "    }\n",
       "</style>\n"
      ],
      "text/plain": [
       "<IPython.core.display.HTML object>"
      ]
     },
     "metadata": {},
     "output_type": "display_data"
    },
    {
     "data": {
      "text/html": [],
      "text/plain": [
       "<IPython.core.display.HTML object>"
      ]
     },
     "metadata": {},
     "output_type": "display_data"
    },
    {
     "data": {
      "text/plain": [
       "SuggestedLRs(valley=0.0003981071640737355)"
      ]
     },
     "execution_count": 24,
     "metadata": {},
     "output_type": "execute_result"
    },
    {
     "data": {
      "image/png": "[encoded data removed]",
      "text/plain": [
       "<Figure size 640x480 with 1 Axes>"
      ]
     },
     "metadata": {},
     "output_type": "display_data"
    }
   ],
   "source": [
    "lr = lm_learner.lr_find()\n",
    "lr"
   ]
  },
  {
   "cell_type": "markdown",
   "id": "rjo7JRtXohJa",
   "metadata": {
    "id": "rjo7JRtXohJa",
    "slideshow": {
     "slide_type": "subslide"
    }
   },
   "source": [
    "Train language model for 3 epochs."
   ]
  },
  {
   "cell_type": "code",
   "execution_count": null,
   "id": "75a5f9de",
   "metadata": {
    "_cell_guid": "f3807a2d-a8b7-4fc4-8f71-57352d020fea",
    "_uuid": "25ca60f9-32c3-4d24-bd3e-1afcfda6210d",
    "colab": {
     "base_uri": "https://localhost:8080/",
     "height": 160
    },
    "execution": {
     "iopub.execute_input": "2023-01-18T21:32:39.142529Z",
     "iopub.status.busy": "2023-01-18T21:32:39.141008Z",
     "iopub.status.idle": "2023-01-18T21:32:39.145711Z",
     "shell.execute_reply": "2023-01-18T21:32:39.144864Z"
    },
    "id": "75a5f9de",
    "jupyter": {
     "outputs_hidden": false
    },
    "outputId": "0dca2f3d-8db8-48ad-ca6a-4460ffc2ea15",
    "papermill": {
     "duration": 0.022294,
     "end_time": "2023-01-18T21:32:39.147727",
     "exception": false,
     "start_time": "2023-01-18T21:32:39.125433",
     "status": "completed"
    },
    "slideshow": {
     "slide_type": "subslide"
    },
    "tags": []
   },
   "outputs": [
    {
     "data": {
      "text/html": [
       "\n",
       "<style>\n",
       "    /* Turns off some styling */\n",
       "    progress {\n",
       "        /* gets rid of default border in Firefox and Opera. */\n",
       "        border: none;\n",
       "        /* Needs to be in here for Safari polyfill so background images work as expected. */\n",
       "        background-size: auto;\n",
       "    }\n",
       "    progress:not([value]), progress:not([value])::-webkit-progress-bar {\n",
       "        background: repeating-linear-gradient(45deg, #7e7e7e, #7e7e7e 10px, #5c5c5c 10px, #5c5c5c 20px);\n",
       "    }\n",
       "    .progress-bar-interrupted, .progress-bar-interrupted::-webkit-progress-bar {\n",
       "        background: #F44336;\n",
       "    }\n",
       "</style>\n"
      ],
      "text/plain": [
       "<IPython.core.display.HTML object>"
      ]
     },
     "metadata": {},
     "output_type": "display_data"
    },
    {
     "data": {
      "text/html": [
       "<table border=\"1\" class=\"dataframe\">\n",
       "  <thead>\n",
       "    <tr style=\"text-align: left;\">\n",
       "      <th>epoch</th>\n",
       "      <th>train_loss</th>\n",
       "      <th>valid_loss</th>\n",
       "      <th>perplexity</th>\n",
       "      <th>time</th>\n",
       "    </tr>\n",
       "  </thead>\n",
       "  <tbody>\n",
       "    <tr>\n",
       "      <td>0</td>\n",
       "      <td>3.485900</td>\n",
       "      <td>3.252466</td>\n",
       "      <td>25.854015</td>\n",
       "      <td>02:44</td>\n",
       "    </tr>\n",
       "    <tr>\n",
       "      <td>1</td>\n",
       "      <td>3.337689</td>\n",
       "      <td>3.136334</td>\n",
       "      <td>23.019327</td>\n",
       "      <td>02:44</td>\n",
       "    </tr>\n",
       "    <tr>\n",
       "      <td>2</td>\n",
       "      <td>3.264591</td>\n",
       "      <td>3.117341</td>\n",
       "      <td>22.586233</td>\n",
       "      <td>02:48</td>\n",
       "    </tr>\n",
       "  </tbody>\n",
       "</table>"
      ],
      "text/plain": [
       "<IPython.core.display.HTML object>"
      ]
     },
     "metadata": {},
     "output_type": "display_data"
    }
   ],
   "source": [
    "lm_learner.fit_one_cycle(3, lr[0])"
   ]
  },
  {
   "cell_type": "code",
   "execution_count": null,
   "id": "UmQo9u5dillI",
   "metadata": {
    "colab": {
     "base_uri": "https://localhost:8080/",
     "height": 451
    },
    "id": "UmQo9u5dillI",
    "outputId": "84cd53d9-b154-4bb5-8cc4-147a05a97062",
    "slideshow": {
     "slide_type": "subslide"
    }
   },
   "outputs": [
    {
     "data": {
      "image/png": "[encoded data removed]",
      "text/plain": [
       "<Figure size 640x480 with 1 Axes>"
      ]
     },
     "metadata": {},
     "output_type": "display_data"
    }
   ],
   "source": [
    "lm_learner.recorder.plot_loss()"
   ]
  },
  {
   "cell_type": "markdown",
   "id": "f6303f07",
   "metadata": {
    "_cell_guid": "f4ecaff9-e2c4-4a10-b005-9fc9aebdd321",
    "_uuid": "2a26cdf4-62a7-48ec-9d11-98e78e7acc76",
    "id": "f6303f07",
    "papermill": {
     "duration": 0.014266,
     "end_time": "2023-01-18T21:32:39.176371",
     "exception": false,
     "start_time": "2023-01-18T21:32:39.162105",
     "status": "completed"
    },
    "slideshow": {
     "slide_type": "subslide"
    },
    "tags": []
   },
   "source": [
    "Now we save all of our model **except** the final layer that converts activations to probabilities of picking each token in our vocabulary. \n",
    "\n",
    "The model, not including the final layer, is called the **encoder**."
   ]
  },
  {
   "cell_type": "code",
   "execution_count": null,
   "id": "ebd831d0",
   "metadata": {
    "_cell_guid": "b76c9321-a1f3-4673-bb54-ab0ae86d2882",
    "_uuid": "182f2d96-cb9b-4897-bcda-af69e787b481",
    "execution": {
     "iopub.execute_input": "2023-01-18T21:32:39.207986Z",
     "iopub.status.busy": "2023-01-18T21:32:39.206424Z",
     "iopub.status.idle": "2023-01-18T21:32:39.211230Z",
     "shell.execute_reply": "2023-01-18T21:32:39.210270Z"
    },
    "id": "ebd831d0",
    "jupyter": {
     "outputs_hidden": false
    },
    "papermill": {
     "duration": 0.022222,
     "end_time": "2023-01-18T21:32:39.213182",
     "exception": false,
     "start_time": "2023-01-18T21:32:39.190960",
     "status": "completed"
    },
    "slideshow": {
     "slide_type": "subslide"
    },
    "tags": []
   },
   "outputs": [],
   "source": [
    "lm_learner.save_encoder('finetuned')"
   ]
  },
  {
   "cell_type": "markdown",
   "id": "3d6c9484",
   "metadata": {
    "_cell_guid": "3a625921-a83f-494a-b87b-852caab01d4f",
    "_uuid": "73f0cb97-d7e3-4f77-8637-309568cd7be3",
    "id": "3d6c9484",
    "papermill": {
     "duration": 0.014147,
     "end_time": "2023-01-18T21:32:39.306544",
     "exception": false,
     "start_time": "2023-01-18T21:32:39.292397",
     "status": "completed"
    },
    "slideshow": {
     "slide_type": "subslide"
    },
    "tags": []
   },
   "source": [
    "Now we will use the new LLM to build another classifier with the hope of beating the previous classifier.\n",
    "\n",
    "Create DataLoaders for classification using the domain specific language model. Notice, we set $is\\_lm=False$ and use the vocabulary list from the LLM by setting $vocab=dls\\_lm.vocab$."
   ]
  },
  {
   "cell_type": "code",
   "execution_count": null,
   "id": "fab4a91c",
   "metadata": {
    "_cell_guid": "58190c03-2e4a-4d32-bf32-6344696075ce",
    "_uuid": "b264d5a6-afdc-4ec6-b7cb-be8baacade98",
    "colab": {
     "base_uri": "https://localhost:8080/",
     "height": 38
    },
    "execution": {
     "iopub.execute_input": "2023-01-18T21:32:39.337562Z",
     "iopub.status.busy": "2023-01-18T21:32:39.336680Z",
     "iopub.status.idle": "2023-01-18T21:32:39.341532Z",
     "shell.execute_reply": "2023-01-18T21:32:39.340692Z"
    },
    "id": "fab4a91c",
    "jupyter": {
     "outputs_hidden": false
    },
    "outputId": "aeab9b79-60a5-44fe-b72e-d85569e3687e",
    "papermill": {
     "duration": 0.022216,
     "end_time": "2023-01-18T21:32:39.343457",
     "exception": false,
     "start_time": "2023-01-18T21:32:39.321241",
     "status": "completed"
    },
    "slideshow": {
     "slide_type": "subslide"
    },
    "tags": []
   },
   "outputs": [
    {
     "data": {
      "text/html": [
       "\n",
       "<style>\n",
       "    /* Turns off some styling */\n",
       "    progress {\n",
       "        /* gets rid of default border in Firefox and Opera. */\n",
       "        border: none;\n",
       "        /* Needs to be in here for Safari polyfill so background images work as expected. */\n",
       "        background-size: auto;\n",
       "    }\n",
       "    progress:not([value]), progress:not([value])::-webkit-progress-bar {\n",
       "        background: repeating-linear-gradient(45deg, #7e7e7e, #7e7e7e 10px, #5c5c5c 10px, #5c5c5c 20px);\n",
       "    }\n",
       "    .progress-bar-interrupted, .progress-bar-interrupted::-webkit-progress-bar {\n",
       "        background: #F44336;\n",
       "    }\n",
       "</style>\n"
      ],
      "text/plain": [
       "<IPython.core.display.HTML object>"
      ]
     },
     "metadata": {},
     "output_type": "display_data"
    },
    {
     "data": {
      "text/html": [],
      "text/plain": [
       "<IPython.core.display.HTML object>"
      ]
     },
     "metadata": {},
     "output_type": "display_data"
    }
   ],
   "source": [
    "dls_cls = DataBlock(\n",
    "            blocks=(\n",
    "                    TextBlock.from_df(text_cols=('text'), \n",
    "                              is_lm=False, \n",
    "                              vocab=dls_lm.vocab), \n",
    "                    CategoryBlock\n",
    "                    ),\n",
    "                    get_x=ColReader('text'),\n",
    "                    get_y=ColReader('label'), \n",
    "            splitter=RandomSplitter(valid_pct=0.2, \n",
    "                                    seed=12345)\n",
    "            ).dataloaders(df, bs=64)"
   ]
  },
  {
   "cell_type": "markdown",
   "id": "cabf1480",
   "metadata": {
    "_cell_guid": "dbe88362-490a-4529-ae8e-2fc32811a26b",
    "_uuid": "2e7cd64b-f227-4662-8c90-41cad2a09c94",
    "id": "cabf1480",
    "papermill": {
     "duration": 0.014226,
     "end_time": "2023-01-18T21:32:39.408441",
     "exception": false,
     "start_time": "2023-01-18T21:32:39.394215",
     "status": "completed"
    },
    "slideshow": {
     "slide_type": "subslide"
    },
    "tags": []
   },
   "source": [
    "Create text classification learner, using the new LLM as the encoder."
   ]
  },
  {
   "cell_type": "code",
   "execution_count": null,
   "id": "704e7575",
   "metadata": {
    "_cell_guid": "865faf8b-914f-411d-9582-4a6b6e3cf920",
    "_uuid": "b90bc0a4-ff99-4018-b04a-44bc1fc55611",
    "execution": {
     "iopub.execute_input": "2023-01-18T21:32:39.440157Z",
     "iopub.status.busy": "2023-01-18T21:32:39.439306Z",
     "iopub.status.idle": "2023-01-18T21:32:39.444484Z",
     "shell.execute_reply": "2023-01-18T21:32:39.443546Z"
    },
    "id": "704e7575",
    "jupyter": {
     "outputs_hidden": false
    },
    "papermill": {
     "duration": 0.023466,
     "end_time": "2023-01-18T21:32:39.446712",
     "exception": false,
     "start_time": "2023-01-18T21:32:39.423246",
     "status": "completed"
    },
    "slideshow": {
     "slide_type": "subslide"
    },
    "tags": []
   },
   "outputs": [],
   "source": [
    "llm_learn = text_classifier_learner(\n",
    "                dls_cls, \n",
    "                AWD_LSTM, \n",
    "                metrics=[accuracy, Precision(), Recall(), F1Score()])\n",
    "llm_learn = llm_learn.load_encoder('finetuned')"
   ]
  },
  {
   "cell_type": "markdown",
   "id": "kcBP9Cs05Z8C",
   "metadata": {
    "id": "kcBP9Cs05Z8C",
    "slideshow": {
     "slide_type": "subslide"
    }
   },
   "source": [
    "Find the optimal learning rate."
   ]
  },
  {
   "cell_type": "code",
   "execution_count": null,
   "id": "d7blfeK41mIP",
   "metadata": {
    "colab": {
     "base_uri": "https://localhost:8080/",
     "height": 475
    },
    "id": "d7blfeK41mIP",
    "outputId": "ccc21087-b8fc-484c-fb0f-83e55131f876",
    "slideshow": {
     "slide_type": "subslide"
    }
   },
   "outputs": [
    {
     "data": {
      "text/html": [
       "\n",
       "<style>\n",
       "    /* Turns off some styling */\n",
       "    progress {\n",
       "        /* gets rid of default border in Firefox and Opera. */\n",
       "        border: none;\n",
       "        /* Needs to be in here for Safari polyfill so background images work as expected. */\n",
       "        background-size: auto;\n",
       "    }\n",
       "    progress:not([value]), progress:not([value])::-webkit-progress-bar {\n",
       "        background: repeating-linear-gradient(45deg, #7e7e7e, #7e7e7e 10px, #5c5c5c 10px, #5c5c5c 20px);\n",
       "    }\n",
       "    .progress-bar-interrupted, .progress-bar-interrupted::-webkit-progress-bar {\n",
       "        background: #F44336;\n",
       "    }\n",
       "</style>\n"
      ],
      "text/plain": [
       "<IPython.core.display.HTML object>"
      ]
     },
     "metadata": {},
     "output_type": "display_data"
    },
    {
     "data": {
      "text/html": [],
      "text/plain": [
       "<IPython.core.display.HTML object>"
      ]
     },
     "metadata": {},
     "output_type": "display_data"
    },
    {
     "data": {
      "image/png": "[encoded data removed]",
      "text/plain": [
       "<Figure size 640x480 with 1 Axes>"
      ]
     },
     "metadata": {},
     "output_type": "display_data"
    }
   ],
   "source": [
    "lr = llm_learn.lr_find()"
   ]
  },
  {
   "cell_type": "markdown",
   "id": "vxpCClkQ5fSa",
   "metadata": {
    "id": "vxpCClkQ5fSa",
    "slideshow": {
     "slide_type": "subslide"
    }
   },
   "source": [
    "Tune model for 3 epochs."
   ]
  },
  {
   "cell_type": "code",
   "execution_count": null,
   "id": "9c196c31",
   "metadata": {
    "_cell_guid": "46e92bf6-f9bd-4f3d-9c55-a625987060f4",
    "_uuid": "4d585937-1805-490e-8668-f95efa18121d",
    "colab": {
     "base_uri": "https://localhost:8080/",
     "height": 222
    },
    "execution": {
     "iopub.execute_input": "2023-01-18T21:32:39.515286Z",
     "iopub.status.busy": "2023-01-18T21:32:39.514430Z",
     "iopub.status.idle": "2023-01-18T21:32:39.519053Z",
     "shell.execute_reply": "2023-01-18T21:32:39.518205Z"
    },
    "id": "9c196c31",
    "jupyter": {
     "outputs_hidden": false
    },
    "outputId": "8a457dbb-4db6-4173-fd24-10fa8eb1a9f4",
    "papermill": {
     "duration": 0.021788,
     "end_time": "2023-01-18T21:32:39.520790",
     "exception": false,
     "start_time": "2023-01-18T21:32:39.499002",
     "status": "completed"
    },
    "slideshow": {
     "slide_type": "subslide"
    },
    "tags": []
   },
   "outputs": [
    {
     "data": {
      "text/html": [
       "\n",
       "<style>\n",
       "    /* Turns off some styling */\n",
       "    progress {\n",
       "        /* gets rid of default border in Firefox and Opera. */\n",
       "        border: none;\n",
       "        /* Needs to be in here for Safari polyfill so background images work as expected. */\n",
       "        background-size: auto;\n",
       "    }\n",
       "    progress:not([value]), progress:not([value])::-webkit-progress-bar {\n",
       "        background: repeating-linear-gradient(45deg, #7e7e7e, #7e7e7e 10px, #5c5c5c 10px, #5c5c5c 20px);\n",
       "    }\n",
       "    .progress-bar-interrupted, .progress-bar-interrupted::-webkit-progress-bar {\n",
       "        background: #F44336;\n",
       "    }\n",
       "</style>\n"
      ],
      "text/plain": [
       "<IPython.core.display.HTML object>"
      ]
     },
     "metadata": {},
     "output_type": "display_data"
    },
    {
     "data": {
      "text/html": [
       "<table border=\"1\" class=\"dataframe\">\n",
       "  <thead>\n",
       "    <tr style=\"text-align: left;\">\n",
       "      <th>epoch</th>\n",
       "      <th>train_loss</th>\n",
       "      <th>valid_loss</th>\n",
       "      <th>accuracy</th>\n",
       "      <th>precision_score</th>\n",
       "      <th>recall_score</th>\n",
       "      <th>f1_score</th>\n",
       "      <th>time</th>\n",
       "    </tr>\n",
       "  </thead>\n",
       "  <tbody>\n",
       "    <tr>\n",
       "      <td>0</td>\n",
       "      <td>0.244453</td>\n",
       "      <td>0.161761</td>\n",
       "      <td>0.936062</td>\n",
       "      <td>0.946749</td>\n",
       "      <td>0.922885</td>\n",
       "      <td>0.934664</td>\n",
       "      <td>01:13</td>\n",
       "    </tr>\n",
       "  </tbody>\n",
       "</table>"
      ],
      "text/plain": [
       "<IPython.core.display.HTML object>"
      ]
     },
     "metadata": {},
     "output_type": "display_data"
    },
    {
     "data": {
      "text/html": [
       "\n",
       "<style>\n",
       "    /* Turns off some styling */\n",
       "    progress {\n",
       "        /* gets rid of default border in Firefox and Opera. */\n",
       "        border: none;\n",
       "        /* Needs to be in here for Safari polyfill so background images work as expected. */\n",
       "        background-size: auto;\n",
       "    }\n",
       "    progress:not([value]), progress:not([value])::-webkit-progress-bar {\n",
       "        background: repeating-linear-gradient(45deg, #7e7e7e, #7e7e7e 10px, #5c5c5c 10px, #5c5c5c 20px);\n",
       "    }\n",
       "    .progress-bar-interrupted, .progress-bar-interrupted::-webkit-progress-bar {\n",
       "        background: #F44336;\n",
       "    }\n",
       "</style>\n"
      ],
      "text/plain": [
       "<IPython.core.display.HTML object>"
      ]
     },
     "metadata": {},
     "output_type": "display_data"
    },
    {
     "data": {
      "text/html": [
       "<table border=\"1\" class=\"dataframe\">\n",
       "  <thead>\n",
       "    <tr style=\"text-align: left;\">\n",
       "      <th>epoch</th>\n",
       "      <th>train_loss</th>\n",
       "      <th>valid_loss</th>\n",
       "      <th>accuracy</th>\n",
       "      <th>precision_score</th>\n",
       "      <th>recall_score</th>\n",
       "      <th>f1_score</th>\n",
       "      <th>time</th>\n",
       "    </tr>\n",
       "  </thead>\n",
       "  <tbody>\n",
       "    <tr>\n",
       "      <td>0</td>\n",
       "      <td>0.186865</td>\n",
       "      <td>0.120941</td>\n",
       "      <td>0.956221</td>\n",
       "      <td>0.947562</td>\n",
       "      <td>0.965061</td>\n",
       "      <td>0.956231</td>\n",
       "      <td>02:27</td>\n",
       "    </tr>\n",
       "    <tr>\n",
       "      <td>1</td>\n",
       "      <td>0.131349</td>\n",
       "      <td>0.103125</td>\n",
       "      <td>0.963146</td>\n",
       "      <td>0.960974</td>\n",
       "      <td>0.964812</td>\n",
       "      <td>0.962889</td>\n",
       "      <td>02:26</td>\n",
       "    </tr>\n",
       "    <tr>\n",
       "      <td>2</td>\n",
       "      <td>0.092955</td>\n",
       "      <td>0.085086</td>\n",
       "      <td>0.967227</td>\n",
       "      <td>0.981720</td>\n",
       "      <td>0.951585</td>\n",
       "      <td>0.966417</td>\n",
       "      <td>02:34</td>\n",
       "    </tr>\n",
       "  </tbody>\n",
       "</table>"
      ],
      "text/plain": [
       "<IPython.core.display.HTML object>"
      ]
     },
     "metadata": {},
     "output_type": "display_data"
    }
   ],
   "source": [
    "llm_learn.fine_tune(3, lr[0])"
   ]
  },
  {
   "cell_type": "code",
   "execution_count": null,
   "id": "46483003",
   "metadata": {
    "colab": {
     "base_uri": "https://localhost:8080/",
     "height": 38
    },
    "id": "46483003",
    "outputId": "1143dd5c-82a6-4834-f10e-e521a01d5847",
    "slideshow": {
     "slide_type": "skip"
    }
   },
   "outputs": [
    {
     "data": {
      "text/html": [
       "\n",
       "<style>\n",
       "    /* Turns off some styling */\n",
       "    progress {\n",
       "        /* gets rid of default border in Firefox and Opera. */\n",
       "        border: none;\n",
       "        /* Needs to be in here for Safari polyfill so background images work as expected. */\n",
       "        background-size: auto;\n",
       "    }\n",
       "    progress:not([value]), progress:not([value])::-webkit-progress-bar {\n",
       "        background: repeating-linear-gradient(45deg, #7e7e7e, #7e7e7e 10px, #5c5c5c 10px, #5c5c5c 20px);\n",
       "    }\n",
       "    .progress-bar-interrupted, .progress-bar-interrupted::-webkit-progress-bar {\n",
       "        background: #F44336;\n",
       "    }\n",
       "</style>\n"
      ],
      "text/plain": [
       "<IPython.core.display.HTML object>"
      ]
     },
     "metadata": {},
     "output_type": "display_data"
    },
    {
     "data": {
      "text/html": [],
      "text/plain": [
       "<IPython.core.display.HTML object>"
      ]
     },
     "metadata": {},
     "output_type": "display_data"
    }
   ],
   "source": [
    "llm_learn_interp = ClassificationInterpretation.from_learner(llm_learn)"
   ]
  },
  {
   "cell_type": "code",
   "execution_count": null,
   "id": "oCVIfNXptNsa",
   "metadata": {
    "colab": {
     "base_uri": "https://localhost:8080/",
     "height": 186
    },
    "id": "oCVIfNXptNsa",
    "outputId": "bbccfa61-bd29-4fec-a483-42faa9d63c81",
    "slideshow": {
     "slide_type": "subslide"
    }
   },
   "outputs": [
    {
     "data": {
      "text/html": [
       "\n",
       "<style>\n",
       "    /* Turns off some styling */\n",
       "    progress {\n",
       "        /* gets rid of default border in Firefox and Opera. */\n",
       "        border: none;\n",
       "        /* Needs to be in here for Safari polyfill so background images work as expected. */\n",
       "        background-size: auto;\n",
       "    }\n",
       "    progress:not([value]), progress:not([value])::-webkit-progress-bar {\n",
       "        background: repeating-linear-gradient(45deg, #7e7e7e, #7e7e7e 10px, #5c5c5c 10px, #5c5c5c 20px);\n",
       "    }\n",
       "    .progress-bar-interrupted, .progress-bar-interrupted::-webkit-progress-bar {\n",
       "        background: #F44336;\n",
       "    }\n",
       "</style>\n"
      ],
      "text/plain": [
       "<IPython.core.display.HTML object>"
      ]
     },
     "metadata": {},
     "output_type": "display_data"
    },
    {
     "data": {
      "text/html": [],
      "text/plain": [
       "<IPython.core.display.HTML object>"
      ]
     },
     "metadata": {},
     "output_type": "display_data"
    },
    {
     "name": "stdout",
     "output_type": "stream",
     "text": [
      "              precision    recall  f1-score   support\n",
      "\n",
      "          CG       0.95      0.98      0.97      4079\n",
      "          OR       0.98      0.95      0.97      4007\n",
      "\n",
      "    accuracy                           0.97      8086\n",
      "   macro avg       0.97      0.97      0.97      8086\n",
      "weighted avg       0.97      0.97      0.97      8086\n",
      "\n"
     ]
    }
   ],
   "source": [
    "llm_learn_interp.print_classification_report()"
   ]
  },
  {
   "cell_type": "markdown",
   "id": "b3782b41",
   "metadata": {
    "_cell_guid": "91c3f5ce-1fe8-4802-8f9a-a04317f96952",
    "_uuid": "807234a5-be52-43fc-aa26-19d0de77e38c",
    "id": "b3782b41",
    "papermill": {
     "duration": 0.014142,
     "end_time": "2023-01-18T21:32:39.697683",
     "exception": false,
     "start_time": "2023-01-18T21:32:39.683541",
     "status": "completed"
    },
    "slideshow": {
     "slide_type": "subslide"
    },
    "tags": []
   },
   "source": [
    " ## New model performance\n",
    "\n",
    "- $accuracy = 97\\%$, which is significantly higher than the previous model ($92\\%$). \n",
    "\n",
    "- *Precision* is slightly lower for OR ($98\\%$ versus $99\\%$), higher for CG ($95\\%$ versus $86\\%$)\n",
    "\n",
    "- *Recall* is slightly lower for CG ($98\\%$ versus $99\\%$), higher for OG ($95\\%$ versus $84\\%$).\n"
   ]
  },
  {
   "cell_type": "code",
   "execution_count": null,
   "id": "261P0ptytRBz",
   "metadata": {
    "colab": {
     "base_uri": "https://localhost:8080/",
     "height": 526
    },
    "id": "261P0ptytRBz",
    "outputId": "277a0720-9aba-4015-ec32-8aef301ef5b0",
    "slideshow": {
     "slide_type": "subslide"
    }
   },
   "outputs": [
    {
     "data": {
      "text/html": [
       "\n",
       "<style>\n",
       "    /* Turns off some styling */\n",
       "    progress {\n",
       "        /* gets rid of default border in Firefox and Opera. */\n",
       "        border: none;\n",
       "        /* Needs to be in here for Safari polyfill so background images work as expected. */\n",
       "        background-size: auto;\n",
       "    }\n",
       "    progress:not([value]), progress:not([value])::-webkit-progress-bar {\n",
       "        background: repeating-linear-gradient(45deg, #7e7e7e, #7e7e7e 10px, #5c5c5c 10px, #5c5c5c 20px);\n",
       "    }\n",
       "    .progress-bar-interrupted, .progress-bar-interrupted::-webkit-progress-bar {\n",
       "        background: #F44336;\n",
       "    }\n",
       "</style>\n"
      ],
      "text/plain": [
       "<IPython.core.display.HTML object>"
      ]
     },
     "metadata": {},
     "output_type": "display_data"
    },
    {
     "data": {
      "text/html": [],
      "text/plain": [
       "<IPython.core.display.HTML object>"
      ]
     },
     "metadata": {},
     "output_type": "display_data"
    },
    {
     "data": {
      "image/png": "[encoded data removed]",
      "text/plain": [
       "<Figure size 640x480 with 1 Axes>"
      ]
     },
     "metadata": {},
     "output_type": "display_data"
    }
   ],
   "source": [
    "llm_learn_interp.plot_confusion_matrix()"
   ]
  },
  {
   "cell_type": "markdown",
   "id": "OgTlWwUWxkA0",
   "metadata": {
    "id": "OgTlWwUWxkA0",
    "slideshow": {
     "slide_type": "notes"
    }
   },
   "source": [
    " The confusion matrix shows the new model has much better performance overall (265 total missclassifications versus 669 for previous model). \n",
    " \n",
    " However, it's worth noting that while the previous model misclassified 26 CGs, the new model misclassified 71 CGs."
   ]
  },
  {
   "cell_type": "markdown",
   "id": "NaPsZR5uaclT",
   "metadata": {
    "id": "NaPsZR5uaclT",
    "slideshow": {
     "slide_type": "slide"
    }
   },
   "source": [
    "**Text Generation**\n",
    "\n",
    "Use the new LLM for text generation (NLG). Text generation involves prompting the model with some text and asking the model to generate additional text."
   ]
  },
  {
   "cell_type": "markdown",
   "id": "88428eda",
   "metadata": {
    "id": "88428eda",
    "slideshow": {
     "slide_type": "notes"
    }
   },
   "source": [
    " Sample prompts are actual *Amazon* reviews for different products."
   ]
  },
  {
   "cell_type": "code",
   "execution_count": null,
   "id": "MjdpRcWkattj",
   "metadata": {
    "colab": {
     "base_uri": "https://localhost:8080/",
     "height": 87
    },
    "id": "MjdpRcWkattj",
    "outputId": "acf73aa6-3933-4ae2-8a81-af4df53b3871",
    "scrolled": false,
    "slideshow": {
     "slide_type": "slide"
    }
   },
   "outputs": [
    {
     "data": {
      "text/html": [
       "\n",
       "<style>\n",
       "    /* Turns off some styling */\n",
       "    progress {\n",
       "        /* gets rid of default border in Firefox and Opera. */\n",
       "        border: none;\n",
       "        /* Needs to be in here for Safari polyfill so background images work as expected. */\n",
       "        background-size: auto;\n",
       "    }\n",
       "    progress:not([value]), progress:not([value])::-webkit-progress-bar {\n",
       "        background: repeating-linear-gradient(45deg, #7e7e7e, #7e7e7e 10px, #5c5c5c 10px, #5c5c5c 20px);\n",
       "    }\n",
       "    .progress-bar-interrupted, .progress-bar-interrupted::-webkit-progress-bar {\n",
       "        background: #F44336;\n",
       "    }\n",
       "</style>\n"
      ],
      "text/plain": [
       "<IPython.core.display.HTML object>"
      ]
     },
     "metadata": {},
     "output_type": "display_data"
    },
    {
     "data": {
      "text/html": [],
      "text/plain": [
       "<IPython.core.display.HTML object>"
      ]
     },
     "metadata": {},
     "output_type": "display_data"
    },
    {
     "data": {
      "text/html": [
       "\n",
       "<style>\n",
       "    /* Turns off some styling */\n",
       "    progress {\n",
       "        /* gets rid of default border in Firefox and Opera. */\n",
       "        border: none;\n",
       "        /* Needs to be in here for Safari polyfill so background images work as expected. */\n",
       "        background-size: auto;\n",
       "    }\n",
       "    progress:not([value]), progress:not([value])::-webkit-progress-bar {\n",
       "        background: repeating-linear-gradient(45deg, #7e7e7e, #7e7e7e 10px, #5c5c5c 10px, #5c5c5c 20px);\n",
       "    }\n",
       "    .progress-bar-interrupted, .progress-bar-interrupted::-webkit-progress-bar {\n",
       "        background: #F44336;\n",
       "    }\n",
       "</style>\n"
      ],
      "text/plain": [
       "<IPython.core.display.HTML object>"
      ]
     },
     "metadata": {},
     "output_type": "display_data"
    },
    {
     "data": {
      "text/html": [],
      "text/plain": [
       "<IPython.core.display.HTML object>"
      ]
     },
     "metadata": {},
     "output_type": "display_data"
    },
    {
     "data": {
      "text/html": [
       "\n",
       "<style>\n",
       "    /* Turns off some styling */\n",
       "    progress {\n",
       "        /* gets rid of default border in Firefox and Opera. */\n",
       "        border: none;\n",
       "        /* Needs to be in here for Safari polyfill so background images work as expected. */\n",
       "        background-size: auto;\n",
       "    }\n",
       "    progress:not([value]), progress:not([value])::-webkit-progress-bar {\n",
       "        background: repeating-linear-gradient(45deg, #7e7e7e, #7e7e7e 10px, #5c5c5c 10px, #5c5c5c 20px);\n",
       "    }\n",
       "    .progress-bar-interrupted, .progress-bar-interrupted::-webkit-progress-bar {\n",
       "        background: #F44336;\n",
       "    }\n",
       "</style>\n"
      ],
      "text/plain": [
       "<IPython.core.display.HTML object>"
      ]
     },
     "metadata": {},
     "output_type": "display_data"
    },
    {
     "data": {
      "text/html": [],
      "text/plain": [
       "<IPython.core.display.HTML object>"
      ]
     },
     "metadata": {},
     "output_type": "display_data"
    },
    {
     "name": "stdout",
     "output_type": "stream",
     "text": [
      "0: My husband is hard of hearing and would have a difficult time xxunk this one . He wears it every day and the only problem is that it 's kind of hard to put on . It 's not very durable\n",
      "1: i have never encountered such an easy method of assembling my new drill so i will say that it has a very strong feel . It is not the best saw i have in my house . I\n",
      "2: The quality is top notch and the design is very comfortable . Great quality . i am very pleased with the quality of the product . i am very happy with the purchase\n"
     ]
    }
   ],
   "source": [
    "N_WORDS = 30\n",
    "temperature = 0.75\n",
    "PROMPTS = [\"My husband is hard of hearing and would have a difficult time underdstaning\", \n",
    "           \"I have never encountered such an easy method of assembling\", \n",
    "           \"The quality is top\"]\n",
    "\n",
    "preds = [lm_learner.predict(p, N_WORDS, temperature=temperature) for p in PROMPTS]\n",
    "\n",
    "for idx in range(len(PROMPTS)):\n",
    "  print(f'{idx}: {preds[idx]}')"
   ]
  },
  {
   "cell_type": "markdown",
   "id": "719d2e61",
   "metadata": {
    "id": "719d2e61",
    "slideshow": {
     "slide_type": "notes"
    }
   },
   "source": [
    "One could play with a number of parameters to fine-tune the generated text, e.g. *temperature*, to get different results.\n",
    "\n",
    "One could also experiment with hyper-parameters during model building, e.g. number of words to consider for predicting next word, regularization, etc."
   ]
  },
  {
   "cell_type": "markdown",
   "id": "e74Vy23enb1_",
   "metadata": {
    "id": "e74Vy23enb1_",
    "slideshow": {
     "slide_type": "slide"
    }
   },
   "source": [
    "## Conclusion\n",
    "\n",
    "Through the implementation of this project we have explored NLP, NLU, and NLG concepts using Fastai.\n",
    "\n",
    "We have fine-tuned a base LLM model and used it to build a classifier with better performance than a classifier built with the base LLM. The new LLM is also capable of text generation. \n",
    "\n",
    "Happy exploration and development!"
   ]
  },
  {
   "cell_type": "markdown",
   "id": "b2237ae6",
   "metadata": {
    "slideshow": {
     "slide_type": "notes"
    }
   },
   "source": [
    "The ability to build domain specific LLMs using transfer learning, on low-cost cloud infrastructutre, is a game changer that makes ML/NLP innovation available to a vast number of developers.\n",
    "\n",
    "Although outside the scope of this project, it's worth mentioning that serious concerns have been rasied within and outside the AI scientific community about dangers posed by the rapid advancements in LLMs and the proliferation of AI:\n",
    "\n",
    "- should we let machines flood our information channels with propaganda and untruth?\n",
    "\n",
    "- should we automate away all the jobs, including the fulfilling ones?\n",
    "\n",
    "- should we develop nonhuman minds that might eventually outnumber, outsmart, obsolete and replace us?\n",
    "\n",
    "- should we risk loss of control of our civilization?\n",
    "\n",
    "Some have proposed a [6-month pause](https://futureoflife.org/open-letter/pause-giant-ai-experiments) in the developoment\n",
    "\n"
   ]
  }
 ],
 "metadata": {
  "accelerator": "GPU",
  "celltoolbar": "Slideshow",
  "colab": {
   "gpuType": "T4",
   "include_colab_link": true,
   "provenance": []
  },
  "gpuClass": "standard",
  "kernelspec": {
   "display_name": "Python 3 (ipykernel)",
   "language": "python",
   "name": "python3"
  },
  "language_info": {
   "codemirror_mode": {
    "name": "ipython",
    "version": 3
   },
   "file_extension": ".py",
   "mimetype": "text/x-python",
   "name": "python",
   "nbconvert_exporter": "python",
   "pygments_lexer": "ipython3",
   "version": "3.9.16"
  },
  "papermill": {
   "default_parameters": {},
   "duration": 430.528588,
   "end_time": "2023-01-18T21:32:43.425766",
   "environment_variables": {},
   "exception": null,
   "input_path": "__notebook__.ipynb",
   "output_path": "__notebook__.ipynb",
   "parameters": {},
   "start_time": "2023-01-18T21:25:32.897178",
   "version": "2.3.4"
  }
 },
 "nbformat": 4,
 "nbformat_minor": 5
}
