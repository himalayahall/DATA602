{
  "cells": [
    {
      "cell_type": "markdown",
      "metadata": {
        "id": "view-in-github",
        "colab_type": "text"
      },
      "source": [
        "<a href=\"https://colab.research.google.com/github/himalayahall/DATA602/blob/main/Project.ipynb\" target=\"_parent\"><img src=\"https://colab.research.google.com/assets/colab-badge.svg\" alt=\"Open In Colab\"/></a>"
      ]
    },
    {
      "cell_type": "markdown",
      "id": "48abf522",
      "metadata": {
        "_cell_guid": "356b1e8e-5777-4832-a31f-4c14b30f5c55",
        "_uuid": "327abaae-b2d2-42be-86c3-50997d599b34",
        "papermill": {
          "duration": 0.01369,
          "end_time": "2023-01-18T21:25:40.673032",
          "exception": false,
          "start_time": "2023-01-18T21:25:40.659342",
          "status": "completed"
        },
        "tags": [],
        "id": "48abf522"
      },
      "source": [
        "## Introduction\n",
        "\n",
        "NLP (Natural Language Processing), NLU (Natural Language Understanding), and NLG (Natural Language Generation) are important subtopics of Machine \n",
        "Learning. \n",
        "\n",
        "**NLP** it involves programming computers to process massive volumes of language data. It involves numerous tasks that break down natural language into \n",
        "smaller elements in order to understand the relationships between those elements and how they work together. NLP focuses largely on converting text to \n",
        "structured data. It does this through the identification of named entities (a process called named entity recognition) and identification of word \n",
        "patterns, using methods like tokenization, stemming, and lemmatization, which examine the root forms of words.\n",
        "\n",
        "**NLU** (Natural Language Understanding) is a subset of natural language processing, which uses syntactic and semantic analysis of text and speech to determine the meaning of a sentence. One of the primary goals of NLU is to teach machines how to interpret and understand language inputted by humans. \n",
        "It aims to teach computers what a body of text or spoken speech means. NLU leverages AI algorithms to recognize attributes of language such as sentiment, semantics, context, and intent. It enables computers to understand the subtleties and variations of language.\n",
        "\n",
        "**NLG** (Natural Language Generation) is also a subset of NLP and is concerned with enabling machines to not just process and understand text but to generate text. While NLU focuses on computer reading comprehension, NLG enables computers to write. NLG is the process of producing a human language \n",
        "text response based on some data input (prompt).[[1]](#1)\n",
        "\n",
        "## Project Goal\n",
        "\n",
        "Recent advancements in NLP, most notable the NLG capabilities of Large Language Models (LLM) like ChatGPT, have taken the public imagination by storm. In this project we will explore the following:\n",
        "\n",
        "- **NLP**: create a classifier to classify product reviews as either original (presumably human created and authentic) or fake (computer generated fake reviews). The motivation for using this dataset is that fake reviews are a major problem, as highlighted in the NPR article [Why we usually can't tell when a review is fake](https://www.npr.org/sections/money/2023/03/07/1160721021/why-we-usually-cant-tell-when-a-review-is-fake), and it would be great to leverage NLP to address the problem.\n",
        "  - Use [Fastai](https://docs.fast.ai) to build the classifier. This will be accomplished by taking a pretrained language model and fine-tuning it to classify reviews.  What we call a language model is a model that has been trained to guess what the next word in a text is (having read the ones before). This kind of task is called self-supervised learning: we do not need to give labels to our model, just feed it lots and lots of texts. It has a process to automatically get labels from the data, and this task isn't trivial: to properly guess the next word in a sentence, the model will have to develop an understanding of the English (or other) language.[[2]](#2)\n",
        "- **NLU**: the English learned by the pretrained language model (Wikipedia) is slightly different from the English used for product reviews, so instead of jumping directly to the classifier, we will fine-tune our pretrained language model to the product corpus and then use that as the base for our classifier. This should (hopefully) result in better performance.\n",
        "- **NLG**: finally, having created a language model that has been fine-tuned for product reviews, we will use it to auto-generate fake reviews. This will be done by giving the model some starting text (prompt) and then asking the model to generate the rest (up to a maximum number of words).\n",
        "\n",
        "## Data Sources\n",
        "\n",
        "The generated [fake reviews dataset](https://osf.io/3vds7), containing 20k fake reviews and 20k real product reviews. OR = Original reviews (presumably human created and authentic); CG = Computer-generated fake reviews.\n",
        "\n",
        "## Tools and Frameworks\n",
        "\n",
        "- [Google Collab](https://colab.research.google.com)\n",
        "- [Jupyter Notebook](https://jupyter.org/)\n",
        "- [Fastai](https://docs.fast.ai)\n",
        "\n",
        "## References\n",
        "<a id=\"1\">[1]</a>\n",
        "https://www.ibm.com/topics/natural-language-processing\n",
        "\n",
        "<a id=\"2\">[2]</a>\n",
        "https://fastai.github.io/fastbook2e/book10.html\n"
      ]
    },
    {
      "cell_type": "markdown",
      "id": "92429604",
      "metadata": {
        "papermill": {
          "duration": 0.013115,
          "end_time": "2023-01-18T21:25:40.698649",
          "exception": false,
          "start_time": "2023-01-18T21:25:40.685534",
          "status": "completed"
        },
        "tags": [],
        "id": "92429604"
      },
      "source": [
        "# Load data"
      ]
    },
    {
      "cell_type": "code",
      "execution_count": 1,
      "id": "d6af7845",
      "metadata": {
        "_cell_guid": "338d8162-b3d6-450a-a4f9-6a4992ff486e",
        "_uuid": "06bea0f2-713c-4d40-9dcd-66986c19a0d6",
        "execution": {
          "iopub.execute_input": "2023-01-18T21:25:40.724171Z",
          "iopub.status.busy": "2023-01-18T21:25:40.723317Z",
          "iopub.status.idle": "2023-01-18T21:25:41.295136Z",
          "shell.execute_reply": "2023-01-18T21:25:41.294143Z"
        },
        "jupyter": {
          "outputs_hidden": false
        },
        "papermill": {
          "duration": 0.587405,
          "end_time": "2023-01-18T21:25:41.297731",
          "exception": false,
          "start_time": "2023-01-18T21:25:40.710326",
          "status": "completed"
        },
        "tags": [],
        "id": "d6af7845"
      },
      "outputs": [],
      "source": [
        "import pandas as pd\n",
        "import re\n",
        "\n",
        "df = pd.read_csv('https://raw.githubusercontent.com/himalayahall/DATA607/main/Project4/EMAILSpamCollectionFull.csv')"
      ]
    },
    {
      "cell_type": "code",
      "execution_count": 2,
      "id": "c10c43dc",
      "metadata": {
        "_cell_guid": "2df8474f-8da9-401c-bf34-a52d4e3334df",
        "_uuid": "38c38e1e-dcab-457c-b65f-5ff70b4cdc3c",
        "execution": {
          "iopub.execute_input": "2023-01-18T21:25:41.322730Z",
          "iopub.status.busy": "2023-01-18T21:25:41.321902Z",
          "iopub.status.idle": "2023-01-18T21:25:41.341106Z",
          "shell.execute_reply": "2023-01-18T21:25:41.340069Z"
        },
        "jupyter": {
          "outputs_hidden": false
        },
        "papermill": {
          "duration": 0.034861,
          "end_time": "2023-01-18T21:25:41.344129",
          "exception": false,
          "start_time": "2023-01-18T21:25:41.309268",
          "status": "completed"
        },
        "scrolled": true,
        "tags": [],
        "colab": {
          "base_uri": "https://localhost:8080/",
          "height": 332
        },
        "id": "c10c43dc",
        "outputId": "9bfac608-7b4f-446e-d715-9fd561288944"
      },
      "outputs": [
        {
          "output_type": "execute_result",
          "data": {
            "text/plain": [
              "   id                                       from  \\\n",
              "0   1             robert elz <kre@munnari.oz.au>   \n",
              "1   2  steve burt <steve_burt@cursor-system.com>   \n",
              "2   3              \"tim chapman\" <timc@2ubh.com>   \n",
              "3   4           monty solomon <monty@roscom.com>   \n",
              "4   5       tony nugent <tony@linuxworks.com.au>   \n",
              "\n",
              "                                subject category  \\\n",
              "0              re: new sequences window      ham   \n",
              "1             [zzzzteana] re: alexander      ham   \n",
              "2             [zzzzteana] moscow bomber      ham   \n",
              "3  [irr] klez: the virus that won't die      ham   \n",
              "4                  re: insert signature      ham   \n",
              "\n",
              "                                                text  \n",
              "0       Date:        Wed, 21 Aug 2002 10:54:46 -0...  \n",
              "1   Martin A posted:Tassos Papadopoulos, the Gree...  \n",
              "2   Man Threatens Explosion In Moscow Thursday Au...  \n",
              "3   Klez: The Virus That Won't Die Already the mo...  \n",
              "4   On Wed Aug 21 2002 at 15:46, Ulises Ponce wro...  "
            ],
            "text/html": [
              "\n",
              "  <div id=\"df-f047b8be-6ae8-4ce9-866f-8b5898a295da\">\n",
              "    <div class=\"colab-df-container\">\n",
              "      <div>\n",
              "<style scoped>\n",
              "    .dataframe tbody tr th:only-of-type {\n",
              "        vertical-align: middle;\n",
              "    }\n",
              "\n",
              "    .dataframe tbody tr th {\n",
              "        vertical-align: top;\n",
              "    }\n",
              "\n",
              "    .dataframe thead th {\n",
              "        text-align: right;\n",
              "    }\n",
              "</style>\n",
              "<table border=\"1\" class=\"dataframe\">\n",
              "  <thead>\n",
              "    <tr style=\"text-align: right;\">\n",
              "      <th></th>\n",
              "      <th>id</th>\n",
              "      <th>from</th>\n",
              "      <th>subject</th>\n",
              "      <th>category</th>\n",
              "      <th>text</th>\n",
              "    </tr>\n",
              "  </thead>\n",
              "  <tbody>\n",
              "    <tr>\n",
              "      <th>0</th>\n",
              "      <td>1</td>\n",
              "      <td>robert elz &lt;kre@munnari.oz.au&gt;</td>\n",
              "      <td>re: new sequences window</td>\n",
              "      <td>ham</td>\n",
              "      <td>Date:        Wed, 21 Aug 2002 10:54:46 -0...</td>\n",
              "    </tr>\n",
              "    <tr>\n",
              "      <th>1</th>\n",
              "      <td>2</td>\n",
              "      <td>steve burt &lt;steve_burt@cursor-system.com&gt;</td>\n",
              "      <td>[zzzzteana] re: alexander</td>\n",
              "      <td>ham</td>\n",
              "      <td>Martin A posted:Tassos Papadopoulos, the Gree...</td>\n",
              "    </tr>\n",
              "    <tr>\n",
              "      <th>2</th>\n",
              "      <td>3</td>\n",
              "      <td>\"tim chapman\" &lt;timc@2ubh.com&gt;</td>\n",
              "      <td>[zzzzteana] moscow bomber</td>\n",
              "      <td>ham</td>\n",
              "      <td>Man Threatens Explosion In Moscow Thursday Au...</td>\n",
              "    </tr>\n",
              "    <tr>\n",
              "      <th>3</th>\n",
              "      <td>4</td>\n",
              "      <td>monty solomon &lt;monty@roscom.com&gt;</td>\n",
              "      <td>[irr] klez: the virus that won't die</td>\n",
              "      <td>ham</td>\n",
              "      <td>Klez: The Virus That Won't Die Already the mo...</td>\n",
              "    </tr>\n",
              "    <tr>\n",
              "      <th>4</th>\n",
              "      <td>5</td>\n",
              "      <td>tony nugent &lt;tony@linuxworks.com.au&gt;</td>\n",
              "      <td>re: insert signature</td>\n",
              "      <td>ham</td>\n",
              "      <td>On Wed Aug 21 2002 at 15:46, Ulises Ponce wro...</td>\n",
              "    </tr>\n",
              "  </tbody>\n",
              "</table>\n",
              "</div>\n",
              "      <button class=\"colab-df-convert\" onclick=\"convertToInteractive('df-f047b8be-6ae8-4ce9-866f-8b5898a295da')\"\n",
              "              title=\"Convert this dataframe to an interactive table.\"\n",
              "              style=\"display:none;\">\n",
              "        \n",
              "  <svg xmlns=\"http://www.w3.org/2000/svg\" height=\"24px\"viewBox=\"0 0 24 24\"\n",
              "       width=\"24px\">\n",
              "    <path d=\"M0 0h24v24H0V0z\" fill=\"none\"/>\n",
              "    <path d=\"M18.56 5.44l.94 2.06.94-2.06 2.06-.94-2.06-.94-.94-2.06-.94 2.06-2.06.94zm-11 1L8.5 8.5l.94-2.06 2.06-.94-2.06-.94L8.5 2.5l-.94 2.06-2.06.94zm10 10l.94 2.06.94-2.06 2.06-.94-2.06-.94-.94-2.06-.94 2.06-2.06.94z\"/><path d=\"M17.41 7.96l-1.37-1.37c-.4-.4-.92-.59-1.43-.59-.52 0-1.04.2-1.43.59L10.3 9.45l-7.72 7.72c-.78.78-.78 2.05 0 2.83L4 21.41c.39.39.9.59 1.41.59.51 0 1.02-.2 1.41-.59l7.78-7.78 2.81-2.81c.8-.78.8-2.07 0-2.86zM5.41 20L4 18.59l7.72-7.72 1.47 1.35L5.41 20z\"/>\n",
              "  </svg>\n",
              "      </button>\n",
              "      \n",
              "  <style>\n",
              "    .colab-df-container {\n",
              "      display:flex;\n",
              "      flex-wrap:wrap;\n",
              "      gap: 12px;\n",
              "    }\n",
              "\n",
              "    .colab-df-convert {\n",
              "      background-color: #E8F0FE;\n",
              "      border: none;\n",
              "      border-radius: 50%;\n",
              "      cursor: pointer;\n",
              "      display: none;\n",
              "      fill: #1967D2;\n",
              "      height: 32px;\n",
              "      padding: 0 0 0 0;\n",
              "      width: 32px;\n",
              "    }\n",
              "\n",
              "    .colab-df-convert:hover {\n",
              "      background-color: #E2EBFA;\n",
              "      box-shadow: 0px 1px 2px rgba(60, 64, 67, 0.3), 0px 1px 3px 1px rgba(60, 64, 67, 0.15);\n",
              "      fill: #174EA6;\n",
              "    }\n",
              "\n",
              "    [theme=dark] .colab-df-convert {\n",
              "      background-color: #3B4455;\n",
              "      fill: #D2E3FC;\n",
              "    }\n",
              "\n",
              "    [theme=dark] .colab-df-convert:hover {\n",
              "      background-color: #434B5C;\n",
              "      box-shadow: 0px 1px 3px 1px rgba(0, 0, 0, 0.15);\n",
              "      filter: drop-shadow(0px 1px 2px rgba(0, 0, 0, 0.3));\n",
              "      fill: #FFFFFF;\n",
              "    }\n",
              "  </style>\n",
              "\n",
              "      <script>\n",
              "        const buttonEl =\n",
              "          document.querySelector('#df-f047b8be-6ae8-4ce9-866f-8b5898a295da button.colab-df-convert');\n",
              "        buttonEl.style.display =\n",
              "          google.colab.kernel.accessAllowed ? 'block' : 'none';\n",
              "\n",
              "        async function convertToInteractive(key) {\n",
              "          const element = document.querySelector('#df-f047b8be-6ae8-4ce9-866f-8b5898a295da');\n",
              "          const dataTable =\n",
              "            await google.colab.kernel.invokeFunction('convertToInteractive',\n",
              "                                                     [key], {});\n",
              "          if (!dataTable) return;\n",
              "\n",
              "          const docLinkHtml = 'Like what you see? Visit the ' +\n",
              "            '<a target=\"_blank\" href=https://colab.research.google.com/notebooks/data_table.ipynb>data table notebook</a>'\n",
              "            + ' to learn more about interactive tables.';\n",
              "          element.innerHTML = '';\n",
              "          dataTable['output_type'] = 'display_data';\n",
              "          await google.colab.output.renderOutput(dataTable, element);\n",
              "          const docLink = document.createElement('div');\n",
              "          docLink.innerHTML = docLinkHtml;\n",
              "          element.appendChild(docLink);\n",
              "        }\n",
              "      </script>\n",
              "    </div>\n",
              "  </div>\n",
              "  "
            ]
          },
          "metadata": {},
          "execution_count": 2
        }
      ],
      "source": [
        "df.head()"
      ]
    },
    {
      "cell_type": "markdown",
      "source": [
        "Drop all columns except text and category."
      ],
      "metadata": {
        "id": "OVgKH6GtjAbY"
      },
      "id": "OVgKH6GtjAbY"
    },
    {
      "cell_type": "code",
      "source": [
        "df.drop(columns=['from', 'subject'], inplace=True)\n",
        "df"
      ],
      "metadata": {
        "colab": {
          "base_uri": "https://localhost:8080/",
          "height": 433
        },
        "id": "6fd6BE8mi_Sx",
        "outputId": "66fd6082-3d07-4893-f8a7-308e0a4d69b3"
      },
      "id": "6fd6BE8mi_Sx",
      "execution_count": 3,
      "outputs": [
        {
          "output_type": "execute_result",
          "data": {
            "text/plain": [
              "        id category                                               text\n",
              "0        1      ham       Date:        Wed, 21 Aug 2002 10:54:46 -0...\n",
              "1        2      ham   Martin A posted:Tassos Papadopoulos, the Gree...\n",
              "2        3      ham   Man Threatens Explosion In Moscow Thursday Au...\n",
              "3        4      ham   Klez: The Virus That Won't Die Already the mo...\n",
              "4        5      ham   On Wed Aug 21 2002 at 15:46, Ulises Ponce wro...\n",
              "...    ...      ...                                                ...\n",
              "9345  9346     spam                                                NaN\n",
              "9346  9347     spam                                                NaN\n",
              "9347  9348     spam                                                NaN\n",
              "9348  9349     spam                                                NaN\n",
              "9349  9350     spam                                                NaN\n",
              "\n",
              "[9350 rows x 3 columns]"
            ],
            "text/html": [
              "\n",
              "  <div id=\"df-0f3287c4-0cf0-41dd-b40f-dce1e1975b2f\">\n",
              "    <div class=\"colab-df-container\">\n",
              "      <div>\n",
              "<style scoped>\n",
              "    .dataframe tbody tr th:only-of-type {\n",
              "        vertical-align: middle;\n",
              "    }\n",
              "\n",
              "    .dataframe tbody tr th {\n",
              "        vertical-align: top;\n",
              "    }\n",
              "\n",
              "    .dataframe thead th {\n",
              "        text-align: right;\n",
              "    }\n",
              "</style>\n",
              "<table border=\"1\" class=\"dataframe\">\n",
              "  <thead>\n",
              "    <tr style=\"text-align: right;\">\n",
              "      <th></th>\n",
              "      <th>id</th>\n",
              "      <th>category</th>\n",
              "      <th>text</th>\n",
              "    </tr>\n",
              "  </thead>\n",
              "  <tbody>\n",
              "    <tr>\n",
              "      <th>0</th>\n",
              "      <td>1</td>\n",
              "      <td>ham</td>\n",
              "      <td>Date:        Wed, 21 Aug 2002 10:54:46 -0...</td>\n",
              "    </tr>\n",
              "    <tr>\n",
              "      <th>1</th>\n",
              "      <td>2</td>\n",
              "      <td>ham</td>\n",
              "      <td>Martin A posted:Tassos Papadopoulos, the Gree...</td>\n",
              "    </tr>\n",
              "    <tr>\n",
              "      <th>2</th>\n",
              "      <td>3</td>\n",
              "      <td>ham</td>\n",
              "      <td>Man Threatens Explosion In Moscow Thursday Au...</td>\n",
              "    </tr>\n",
              "    <tr>\n",
              "      <th>3</th>\n",
              "      <td>4</td>\n",
              "      <td>ham</td>\n",
              "      <td>Klez: The Virus That Won't Die Already the mo...</td>\n",
              "    </tr>\n",
              "    <tr>\n",
              "      <th>4</th>\n",
              "      <td>5</td>\n",
              "      <td>ham</td>\n",
              "      <td>On Wed Aug 21 2002 at 15:46, Ulises Ponce wro...</td>\n",
              "    </tr>\n",
              "    <tr>\n",
              "      <th>...</th>\n",
              "      <td>...</td>\n",
              "      <td>...</td>\n",
              "      <td>...</td>\n",
              "    </tr>\n",
              "    <tr>\n",
              "      <th>9345</th>\n",
              "      <td>9346</td>\n",
              "      <td>spam</td>\n",
              "      <td>NaN</td>\n",
              "    </tr>\n",
              "    <tr>\n",
              "      <th>9346</th>\n",
              "      <td>9347</td>\n",
              "      <td>spam</td>\n",
              "      <td>NaN</td>\n",
              "    </tr>\n",
              "    <tr>\n",
              "      <th>9347</th>\n",
              "      <td>9348</td>\n",
              "      <td>spam</td>\n",
              "      <td>NaN</td>\n",
              "    </tr>\n",
              "    <tr>\n",
              "      <th>9348</th>\n",
              "      <td>9349</td>\n",
              "      <td>spam</td>\n",
              "      <td>NaN</td>\n",
              "    </tr>\n",
              "    <tr>\n",
              "      <th>9349</th>\n",
              "      <td>9350</td>\n",
              "      <td>spam</td>\n",
              "      <td>NaN</td>\n",
              "    </tr>\n",
              "  </tbody>\n",
              "</table>\n",
              "<p>9350 rows × 3 columns</p>\n",
              "</div>\n",
              "      <button class=\"colab-df-convert\" onclick=\"convertToInteractive('df-0f3287c4-0cf0-41dd-b40f-dce1e1975b2f')\"\n",
              "              title=\"Convert this dataframe to an interactive table.\"\n",
              "              style=\"display:none;\">\n",
              "        \n",
              "  <svg xmlns=\"http://www.w3.org/2000/svg\" height=\"24px\"viewBox=\"0 0 24 24\"\n",
              "       width=\"24px\">\n",
              "    <path d=\"M0 0h24v24H0V0z\" fill=\"none\"/>\n",
              "    <path d=\"M18.56 5.44l.94 2.06.94-2.06 2.06-.94-2.06-.94-.94-2.06-.94 2.06-2.06.94zm-11 1L8.5 8.5l.94-2.06 2.06-.94-2.06-.94L8.5 2.5l-.94 2.06-2.06.94zm10 10l.94 2.06.94-2.06 2.06-.94-2.06-.94-.94-2.06-.94 2.06-2.06.94z\"/><path d=\"M17.41 7.96l-1.37-1.37c-.4-.4-.92-.59-1.43-.59-.52 0-1.04.2-1.43.59L10.3 9.45l-7.72 7.72c-.78.78-.78 2.05 0 2.83L4 21.41c.39.39.9.59 1.41.59.51 0 1.02-.2 1.41-.59l7.78-7.78 2.81-2.81c.8-.78.8-2.07 0-2.86zM5.41 20L4 18.59l7.72-7.72 1.47 1.35L5.41 20z\"/>\n",
              "  </svg>\n",
              "      </button>\n",
              "      \n",
              "  <style>\n",
              "    .colab-df-container {\n",
              "      display:flex;\n",
              "      flex-wrap:wrap;\n",
              "      gap: 12px;\n",
              "    }\n",
              "\n",
              "    .colab-df-convert {\n",
              "      background-color: #E8F0FE;\n",
              "      border: none;\n",
              "      border-radius: 50%;\n",
              "      cursor: pointer;\n",
              "      display: none;\n",
              "      fill: #1967D2;\n",
              "      height: 32px;\n",
              "      padding: 0 0 0 0;\n",
              "      width: 32px;\n",
              "    }\n",
              "\n",
              "    .colab-df-convert:hover {\n",
              "      background-color: #E2EBFA;\n",
              "      box-shadow: 0px 1px 2px rgba(60, 64, 67, 0.3), 0px 1px 3px 1px rgba(60, 64, 67, 0.15);\n",
              "      fill: #174EA6;\n",
              "    }\n",
              "\n",
              "    [theme=dark] .colab-df-convert {\n",
              "      background-color: #3B4455;\n",
              "      fill: #D2E3FC;\n",
              "    }\n",
              "\n",
              "    [theme=dark] .colab-df-convert:hover {\n",
              "      background-color: #434B5C;\n",
              "      box-shadow: 0px 1px 3px 1px rgba(0, 0, 0, 0.15);\n",
              "      filter: drop-shadow(0px 1px 2px rgba(0, 0, 0, 0.3));\n",
              "      fill: #FFFFFF;\n",
              "    }\n",
              "  </style>\n",
              "\n",
              "      <script>\n",
              "        const buttonEl =\n",
              "          document.querySelector('#df-0f3287c4-0cf0-41dd-b40f-dce1e1975b2f button.colab-df-convert');\n",
              "        buttonEl.style.display =\n",
              "          google.colab.kernel.accessAllowed ? 'block' : 'none';\n",
              "\n",
              "        async function convertToInteractive(key) {\n",
              "          const element = document.querySelector('#df-0f3287c4-0cf0-41dd-b40f-dce1e1975b2f');\n",
              "          const dataTable =\n",
              "            await google.colab.kernel.invokeFunction('convertToInteractive',\n",
              "                                                     [key], {});\n",
              "          if (!dataTable) return;\n",
              "\n",
              "          const docLinkHtml = 'Like what you see? Visit the ' +\n",
              "            '<a target=\"_blank\" href=https://colab.research.google.com/notebooks/data_table.ipynb>data table notebook</a>'\n",
              "            + ' to learn more about interactive tables.';\n",
              "          element.innerHTML = '';\n",
              "          dataTable['output_type'] = 'display_data';\n",
              "          await google.colab.output.renderOutput(dataTable, element);\n",
              "          const docLink = document.createElement('div');\n",
              "          docLink.innerHTML = docLinkHtml;\n",
              "          element.appendChild(docLink);\n",
              "        }\n",
              "      </script>\n",
              "    </div>\n",
              "  </div>\n",
              "  "
            ]
          },
          "metadata": {},
          "execution_count": 3
        }
      ]
    },
    {
      "cell_type": "code",
      "execution_count": 4,
      "id": "7322f3ad",
      "metadata": {
        "_cell_guid": "bf03f96e-9039-4496-bcfd-d92923b793cf",
        "_uuid": "8e543211-3391-4f66-84bb-9ca84e000313",
        "execution": {
          "iopub.execute_input": "2023-01-18T21:25:41.368987Z",
          "iopub.status.busy": "2023-01-18T21:25:41.368081Z",
          "iopub.status.idle": "2023-01-18T21:25:41.407427Z",
          "shell.execute_reply": "2023-01-18T21:25:41.406515Z"
        },
        "jupyter": {
          "outputs_hidden": false
        },
        "papermill": {
          "duration": 0.053799,
          "end_time": "2023-01-18T21:25:41.409477",
          "exception": false,
          "start_time": "2023-01-18T21:25:41.355678",
          "status": "completed"
        },
        "scrolled": true,
        "tags": [],
        "colab": {
          "base_uri": "https://localhost:8080/",
          "height": 191
        },
        "id": "7322f3ad",
        "outputId": "5ff28f77-6388-4f46-ac03-8b5fa913336c"
      },
      "outputs": [
        {
          "output_type": "execute_result",
          "data": {
            "text/plain": [
              "       category  text\n",
              "count      9350  7953\n",
              "unique        2  4618\n",
              "top         ham      \n",
              "freq       5553    84"
            ],
            "text/html": [
              "\n",
              "  <div id=\"df-2acdbaa7-b4bb-4d57-a6dd-d1037cd4fc89\">\n",
              "    <div class=\"colab-df-container\">\n",
              "      <div>\n",
              "<style scoped>\n",
              "    .dataframe tbody tr th:only-of-type {\n",
              "        vertical-align: middle;\n",
              "    }\n",
              "\n",
              "    .dataframe tbody tr th {\n",
              "        vertical-align: top;\n",
              "    }\n",
              "\n",
              "    .dataframe thead th {\n",
              "        text-align: right;\n",
              "    }\n",
              "</style>\n",
              "<table border=\"1\" class=\"dataframe\">\n",
              "  <thead>\n",
              "    <tr style=\"text-align: right;\">\n",
              "      <th></th>\n",
              "      <th>category</th>\n",
              "      <th>text</th>\n",
              "    </tr>\n",
              "  </thead>\n",
              "  <tbody>\n",
              "    <tr>\n",
              "      <th>count</th>\n",
              "      <td>9350</td>\n",
              "      <td>7953</td>\n",
              "    </tr>\n",
              "    <tr>\n",
              "      <th>unique</th>\n",
              "      <td>2</td>\n",
              "      <td>4618</td>\n",
              "    </tr>\n",
              "    <tr>\n",
              "      <th>top</th>\n",
              "      <td>ham</td>\n",
              "      <td></td>\n",
              "    </tr>\n",
              "    <tr>\n",
              "      <th>freq</th>\n",
              "      <td>5553</td>\n",
              "      <td>84</td>\n",
              "    </tr>\n",
              "  </tbody>\n",
              "</table>\n",
              "</div>\n",
              "      <button class=\"colab-df-convert\" onclick=\"convertToInteractive('df-2acdbaa7-b4bb-4d57-a6dd-d1037cd4fc89')\"\n",
              "              title=\"Convert this dataframe to an interactive table.\"\n",
              "              style=\"display:none;\">\n",
              "        \n",
              "  <svg xmlns=\"http://www.w3.org/2000/svg\" height=\"24px\"viewBox=\"0 0 24 24\"\n",
              "       width=\"24px\">\n",
              "    <path d=\"M0 0h24v24H0V0z\" fill=\"none\"/>\n",
              "    <path d=\"M18.56 5.44l.94 2.06.94-2.06 2.06-.94-2.06-.94-.94-2.06-.94 2.06-2.06.94zm-11 1L8.5 8.5l.94-2.06 2.06-.94-2.06-.94L8.5 2.5l-.94 2.06-2.06.94zm10 10l.94 2.06.94-2.06 2.06-.94-2.06-.94-.94-2.06-.94 2.06-2.06.94z\"/><path d=\"M17.41 7.96l-1.37-1.37c-.4-.4-.92-.59-1.43-.59-.52 0-1.04.2-1.43.59L10.3 9.45l-7.72 7.72c-.78.78-.78 2.05 0 2.83L4 21.41c.39.39.9.59 1.41.59.51 0 1.02-.2 1.41-.59l7.78-7.78 2.81-2.81c.8-.78.8-2.07 0-2.86zM5.41 20L4 18.59l7.72-7.72 1.47 1.35L5.41 20z\"/>\n",
              "  </svg>\n",
              "      </button>\n",
              "      \n",
              "  <style>\n",
              "    .colab-df-container {\n",
              "      display:flex;\n",
              "      flex-wrap:wrap;\n",
              "      gap: 12px;\n",
              "    }\n",
              "\n",
              "    .colab-df-convert {\n",
              "      background-color: #E8F0FE;\n",
              "      border: none;\n",
              "      border-radius: 50%;\n",
              "      cursor: pointer;\n",
              "      display: none;\n",
              "      fill: #1967D2;\n",
              "      height: 32px;\n",
              "      padding: 0 0 0 0;\n",
              "      width: 32px;\n",
              "    }\n",
              "\n",
              "    .colab-df-convert:hover {\n",
              "      background-color: #E2EBFA;\n",
              "      box-shadow: 0px 1px 2px rgba(60, 64, 67, 0.3), 0px 1px 3px 1px rgba(60, 64, 67, 0.15);\n",
              "      fill: #174EA6;\n",
              "    }\n",
              "\n",
              "    [theme=dark] .colab-df-convert {\n",
              "      background-color: #3B4455;\n",
              "      fill: #D2E3FC;\n",
              "    }\n",
              "\n",
              "    [theme=dark] .colab-df-convert:hover {\n",
              "      background-color: #434B5C;\n",
              "      box-shadow: 0px 1px 3px 1px rgba(0, 0, 0, 0.15);\n",
              "      filter: drop-shadow(0px 1px 2px rgba(0, 0, 0, 0.3));\n",
              "      fill: #FFFFFF;\n",
              "    }\n",
              "  </style>\n",
              "\n",
              "      <script>\n",
              "        const buttonEl =\n",
              "          document.querySelector('#df-2acdbaa7-b4bb-4d57-a6dd-d1037cd4fc89 button.colab-df-convert');\n",
              "        buttonEl.style.display =\n",
              "          google.colab.kernel.accessAllowed ? 'block' : 'none';\n",
              "\n",
              "        async function convertToInteractive(key) {\n",
              "          const element = document.querySelector('#df-2acdbaa7-b4bb-4d57-a6dd-d1037cd4fc89');\n",
              "          const dataTable =\n",
              "            await google.colab.kernel.invokeFunction('convertToInteractive',\n",
              "                                                     [key], {});\n",
              "          if (!dataTable) return;\n",
              "\n",
              "          const docLinkHtml = 'Like what you see? Visit the ' +\n",
              "            '<a target=\"_blank\" href=https://colab.research.google.com/notebooks/data_table.ipynb>data table notebook</a>'\n",
              "            + ' to learn more about interactive tables.';\n",
              "          element.innerHTML = '';\n",
              "          dataTable['output_type'] = 'display_data';\n",
              "          await google.colab.output.renderOutput(dataTable, element);\n",
              "          const docLink = document.createElement('div');\n",
              "          docLink.innerHTML = docLinkHtml;\n",
              "          element.appendChild(docLink);\n",
              "        }\n",
              "      </script>\n",
              "    </div>\n",
              "  </div>\n",
              "  "
            ]
          },
          "metadata": {},
          "execution_count": 4
        }
      ],
      "source": [
        "df.describe(include='object')"
      ]
    },
    {
      "cell_type": "markdown",
      "id": "d30326bf",
      "metadata": {
        "_cell_guid": "bfab9321-aaaa-4e41-b45e-d80c77dea866",
        "_uuid": "03eac38f-1b5b-440b-bb71-804c0cead37b",
        "papermill": {
          "duration": 0.011626,
          "end_time": "2023-01-18T21:25:41.432761",
          "exception": false,
          "start_time": "2023-01-18T21:25:41.421135",
          "status": "completed"
        },
        "tags": [],
        "id": "d30326bf"
      },
      "source": [
        "# Cleanup Data"
      ]
    },
    {
      "cell_type": "markdown",
      "id": "3e78e957",
      "metadata": {
        "papermill": {
          "duration": 0.011727,
          "end_time": "2023-01-18T21:25:41.586749",
          "exception": false,
          "start_time": "2023-01-18T21:25:41.575022",
          "status": "completed"
        },
        "tags": [],
        "id": "3e78e957"
      },
      "source": [
        "Drop NAs and strip HTML tags."
      ]
    },
    {
      "cell_type": "code",
      "execution_count": 5,
      "id": "3d740a52",
      "metadata": {
        "_cell_guid": "09c3248f-82ae-49c6-99f4-9aea6a7c393a",
        "_uuid": "cb5ed568-ad08-42ad-97d0-2f0c4b254d2c",
        "execution": {
          "iopub.execute_input": "2023-01-18T21:25:41.613444Z",
          "iopub.status.busy": "2023-01-18T21:25:41.613155Z",
          "iopub.status.idle": "2023-01-18T21:25:41.791603Z",
          "shell.execute_reply": "2023-01-18T21:25:41.790607Z"
        },
        "jupyter": {
          "outputs_hidden": false
        },
        "papermill": {
          "duration": 0.194918,
          "end_time": "2023-01-18T21:25:41.793674",
          "exception": false,
          "start_time": "2023-01-18T21:25:41.598756",
          "status": "completed"
        },
        "tags": [],
        "colab": {
          "base_uri": "https://localhost:8080/",
          "height": 221
        },
        "id": "3d740a52",
        "outputId": "98c08456-83c6-4c6e-fb40-1deec000cb6e"
      },
      "outputs": [
        {
          "output_type": "execute_result",
          "data": {
            "text/plain": [
              "   id category                                               text\n",
              "0   1      ham       Date:        Wed, 21 Aug 2002 10:54:46 -0...\n",
              "1   2      ham   Martin A posted:Tassos Papadopoulos, the Gree...\n",
              "2   3      ham   Man Threatens Explosion In Moscow Thursday Au...\n",
              "3   4      ham   Klez: The Virus That Won't Die Already the mo...\n",
              "4   5      ham   On Wed Aug 21 2002 at 15:46, Ulises Ponce wro..."
            ],
            "text/html": [
              "\n",
              "  <div id=\"df-d7f43db8-93cf-4814-89f8-c0644a6648d8\">\n",
              "    <div class=\"colab-df-container\">\n",
              "      <div>\n",
              "<style scoped>\n",
              "    .dataframe tbody tr th:only-of-type {\n",
              "        vertical-align: middle;\n",
              "    }\n",
              "\n",
              "    .dataframe tbody tr th {\n",
              "        vertical-align: top;\n",
              "    }\n",
              "\n",
              "    .dataframe thead th {\n",
              "        text-align: right;\n",
              "    }\n",
              "</style>\n",
              "<table border=\"1\" class=\"dataframe\">\n",
              "  <thead>\n",
              "    <tr style=\"text-align: right;\">\n",
              "      <th></th>\n",
              "      <th>id</th>\n",
              "      <th>category</th>\n",
              "      <th>text</th>\n",
              "    </tr>\n",
              "  </thead>\n",
              "  <tbody>\n",
              "    <tr>\n",
              "      <th>0</th>\n",
              "      <td>1</td>\n",
              "      <td>ham</td>\n",
              "      <td>Date:        Wed, 21 Aug 2002 10:54:46 -0...</td>\n",
              "    </tr>\n",
              "    <tr>\n",
              "      <th>1</th>\n",
              "      <td>2</td>\n",
              "      <td>ham</td>\n",
              "      <td>Martin A posted:Tassos Papadopoulos, the Gree...</td>\n",
              "    </tr>\n",
              "    <tr>\n",
              "      <th>2</th>\n",
              "      <td>3</td>\n",
              "      <td>ham</td>\n",
              "      <td>Man Threatens Explosion In Moscow Thursday Au...</td>\n",
              "    </tr>\n",
              "    <tr>\n",
              "      <th>3</th>\n",
              "      <td>4</td>\n",
              "      <td>ham</td>\n",
              "      <td>Klez: The Virus That Won't Die Already the mo...</td>\n",
              "    </tr>\n",
              "    <tr>\n",
              "      <th>4</th>\n",
              "      <td>5</td>\n",
              "      <td>ham</td>\n",
              "      <td>On Wed Aug 21 2002 at 15:46, Ulises Ponce wro...</td>\n",
              "    </tr>\n",
              "  </tbody>\n",
              "</table>\n",
              "</div>\n",
              "      <button class=\"colab-df-convert\" onclick=\"convertToInteractive('df-d7f43db8-93cf-4814-89f8-c0644a6648d8')\"\n",
              "              title=\"Convert this dataframe to an interactive table.\"\n",
              "              style=\"display:none;\">\n",
              "        \n",
              "  <svg xmlns=\"http://www.w3.org/2000/svg\" height=\"24px\"viewBox=\"0 0 24 24\"\n",
              "       width=\"24px\">\n",
              "    <path d=\"M0 0h24v24H0V0z\" fill=\"none\"/>\n",
              "    <path d=\"M18.56 5.44l.94 2.06.94-2.06 2.06-.94-2.06-.94-.94-2.06-.94 2.06-2.06.94zm-11 1L8.5 8.5l.94-2.06 2.06-.94-2.06-.94L8.5 2.5l-.94 2.06-2.06.94zm10 10l.94 2.06.94-2.06 2.06-.94-2.06-.94-.94-2.06-.94 2.06-2.06.94z\"/><path d=\"M17.41 7.96l-1.37-1.37c-.4-.4-.92-.59-1.43-.59-.52 0-1.04.2-1.43.59L10.3 9.45l-7.72 7.72c-.78.78-.78 2.05 0 2.83L4 21.41c.39.39.9.59 1.41.59.51 0 1.02-.2 1.41-.59l7.78-7.78 2.81-2.81c.8-.78.8-2.07 0-2.86zM5.41 20L4 18.59l7.72-7.72 1.47 1.35L5.41 20z\"/>\n",
              "  </svg>\n",
              "      </button>\n",
              "      \n",
              "  <style>\n",
              "    .colab-df-container {\n",
              "      display:flex;\n",
              "      flex-wrap:wrap;\n",
              "      gap: 12px;\n",
              "    }\n",
              "\n",
              "    .colab-df-convert {\n",
              "      background-color: #E8F0FE;\n",
              "      border: none;\n",
              "      border-radius: 50%;\n",
              "      cursor: pointer;\n",
              "      display: none;\n",
              "      fill: #1967D2;\n",
              "      height: 32px;\n",
              "      padding: 0 0 0 0;\n",
              "      width: 32px;\n",
              "    }\n",
              "\n",
              "    .colab-df-convert:hover {\n",
              "      background-color: #E2EBFA;\n",
              "      box-shadow: 0px 1px 2px rgba(60, 64, 67, 0.3), 0px 1px 3px 1px rgba(60, 64, 67, 0.15);\n",
              "      fill: #174EA6;\n",
              "    }\n",
              "\n",
              "    [theme=dark] .colab-df-convert {\n",
              "      background-color: #3B4455;\n",
              "      fill: #D2E3FC;\n",
              "    }\n",
              "\n",
              "    [theme=dark] .colab-df-convert:hover {\n",
              "      background-color: #434B5C;\n",
              "      box-shadow: 0px 1px 3px 1px rgba(0, 0, 0, 0.15);\n",
              "      filter: drop-shadow(0px 1px 2px rgba(0, 0, 0, 0.3));\n",
              "      fill: #FFFFFF;\n",
              "    }\n",
              "  </style>\n",
              "\n",
              "      <script>\n",
              "        const buttonEl =\n",
              "          document.querySelector('#df-d7f43db8-93cf-4814-89f8-c0644a6648d8 button.colab-df-convert');\n",
              "        buttonEl.style.display =\n",
              "          google.colab.kernel.accessAllowed ? 'block' : 'none';\n",
              "\n",
              "        async function convertToInteractive(key) {\n",
              "          const element = document.querySelector('#df-d7f43db8-93cf-4814-89f8-c0644a6648d8');\n",
              "          const dataTable =\n",
              "            await google.colab.kernel.invokeFunction('convertToInteractive',\n",
              "                                                     [key], {});\n",
              "          if (!dataTable) return;\n",
              "\n",
              "          const docLinkHtml = 'Like what you see? Visit the ' +\n",
              "            '<a target=\"_blank\" href=https://colab.research.google.com/notebooks/data_table.ipynb>data table notebook</a>'\n",
              "            + ' to learn more about interactive tables.';\n",
              "          element.innerHTML = '';\n",
              "          dataTable['output_type'] = 'display_data';\n",
              "          await google.colab.output.renderOutput(dataTable, element);\n",
              "          const docLink = document.createElement('div');\n",
              "          docLink.innerHTML = docLinkHtml;\n",
              "          element.appendChild(docLink);\n",
              "        }\n",
              "      </script>\n",
              "    </div>\n",
              "  </div>\n",
              "  "
            ]
          },
          "metadata": {},
          "execution_count": 5
        }
      ],
      "source": [
        "df.dropna(inplace=True)\n",
        "df['text'] = df['text'].str.replace('<[^<>]*>', ' ', regex=True)\n",
        "df.head()"
      ]
    },
    {
      "cell_type": "markdown",
      "id": "555c881d",
      "metadata": {
        "papermill": {
          "duration": 0.012033,
          "end_time": "2023-01-18T21:25:41.818161",
          "exception": false,
          "start_time": "2023-01-18T21:25:41.806128",
          "status": "completed"
        },
        "tags": [],
        "id": "555c881d"
      },
      "source": [
        "Data summary."
      ]
    },
    {
      "cell_type": "code",
      "execution_count": 6,
      "id": "02d66452",
      "metadata": {
        "_cell_guid": "2bbdf522-c480-4400-9ad0-2ba2fcf600d5",
        "_uuid": "a0a2ec4c-658c-4055-b4ec-f1056c2d1acb",
        "execution": {
          "iopub.execute_input": "2023-01-18T21:25:41.844157Z",
          "iopub.status.busy": "2023-01-18T21:25:41.843787Z",
          "iopub.status.idle": "2023-01-18T21:25:41.873551Z",
          "shell.execute_reply": "2023-01-18T21:25:41.872482Z"
        },
        "jupyter": {
          "outputs_hidden": false
        },
        "papermill": {
          "duration": 0.045542,
          "end_time": "2023-01-18T21:25:41.875824",
          "exception": false,
          "start_time": "2023-01-18T21:25:41.830282",
          "status": "completed"
        },
        "tags": [],
        "colab": {
          "base_uri": "https://localhost:8080/",
          "height": 191
        },
        "id": "02d66452",
        "outputId": "0167c85e-9535-4986-fa27-dc97bccca996"
      },
      "outputs": [
        {
          "output_type": "execute_result",
          "data": {
            "text/plain": [
              "       category  text\n",
              "count      7953  7953\n",
              "unique        2  4565\n",
              "top         ham      \n",
              "freq       5553    84"
            ],
            "text/html": [
              "\n",
              "  <div id=\"df-41438479-ac2b-42ed-839e-db3a946d91aa\">\n",
              "    <div class=\"colab-df-container\">\n",
              "      <div>\n",
              "<style scoped>\n",
              "    .dataframe tbody tr th:only-of-type {\n",
              "        vertical-align: middle;\n",
              "    }\n",
              "\n",
              "    .dataframe tbody tr th {\n",
              "        vertical-align: top;\n",
              "    }\n",
              "\n",
              "    .dataframe thead th {\n",
              "        text-align: right;\n",
              "    }\n",
              "</style>\n",
              "<table border=\"1\" class=\"dataframe\">\n",
              "  <thead>\n",
              "    <tr style=\"text-align: right;\">\n",
              "      <th></th>\n",
              "      <th>category</th>\n",
              "      <th>text</th>\n",
              "    </tr>\n",
              "  </thead>\n",
              "  <tbody>\n",
              "    <tr>\n",
              "      <th>count</th>\n",
              "      <td>7953</td>\n",
              "      <td>7953</td>\n",
              "    </tr>\n",
              "    <tr>\n",
              "      <th>unique</th>\n",
              "      <td>2</td>\n",
              "      <td>4565</td>\n",
              "    </tr>\n",
              "    <tr>\n",
              "      <th>top</th>\n",
              "      <td>ham</td>\n",
              "      <td></td>\n",
              "    </tr>\n",
              "    <tr>\n",
              "      <th>freq</th>\n",
              "      <td>5553</td>\n",
              "      <td>84</td>\n",
              "    </tr>\n",
              "  </tbody>\n",
              "</table>\n",
              "</div>\n",
              "      <button class=\"colab-df-convert\" onclick=\"convertToInteractive('df-41438479-ac2b-42ed-839e-db3a946d91aa')\"\n",
              "              title=\"Convert this dataframe to an interactive table.\"\n",
              "              style=\"display:none;\">\n",
              "        \n",
              "  <svg xmlns=\"http://www.w3.org/2000/svg\" height=\"24px\"viewBox=\"0 0 24 24\"\n",
              "       width=\"24px\">\n",
              "    <path d=\"M0 0h24v24H0V0z\" fill=\"none\"/>\n",
              "    <path d=\"M18.56 5.44l.94 2.06.94-2.06 2.06-.94-2.06-.94-.94-2.06-.94 2.06-2.06.94zm-11 1L8.5 8.5l.94-2.06 2.06-.94-2.06-.94L8.5 2.5l-.94 2.06-2.06.94zm10 10l.94 2.06.94-2.06 2.06-.94-2.06-.94-.94-2.06-.94 2.06-2.06.94z\"/><path d=\"M17.41 7.96l-1.37-1.37c-.4-.4-.92-.59-1.43-.59-.52 0-1.04.2-1.43.59L10.3 9.45l-7.72 7.72c-.78.78-.78 2.05 0 2.83L4 21.41c.39.39.9.59 1.41.59.51 0 1.02-.2 1.41-.59l7.78-7.78 2.81-2.81c.8-.78.8-2.07 0-2.86zM5.41 20L4 18.59l7.72-7.72 1.47 1.35L5.41 20z\"/>\n",
              "  </svg>\n",
              "      </button>\n",
              "      \n",
              "  <style>\n",
              "    .colab-df-container {\n",
              "      display:flex;\n",
              "      flex-wrap:wrap;\n",
              "      gap: 12px;\n",
              "    }\n",
              "\n",
              "    .colab-df-convert {\n",
              "      background-color: #E8F0FE;\n",
              "      border: none;\n",
              "      border-radius: 50%;\n",
              "      cursor: pointer;\n",
              "      display: none;\n",
              "      fill: #1967D2;\n",
              "      height: 32px;\n",
              "      padding: 0 0 0 0;\n",
              "      width: 32px;\n",
              "    }\n",
              "\n",
              "    .colab-df-convert:hover {\n",
              "      background-color: #E2EBFA;\n",
              "      box-shadow: 0px 1px 2px rgba(60, 64, 67, 0.3), 0px 1px 3px 1px rgba(60, 64, 67, 0.15);\n",
              "      fill: #174EA6;\n",
              "    }\n",
              "\n",
              "    [theme=dark] .colab-df-convert {\n",
              "      background-color: #3B4455;\n",
              "      fill: #D2E3FC;\n",
              "    }\n",
              "\n",
              "    [theme=dark] .colab-df-convert:hover {\n",
              "      background-color: #434B5C;\n",
              "      box-shadow: 0px 1px 3px 1px rgba(0, 0, 0, 0.15);\n",
              "      filter: drop-shadow(0px 1px 2px rgba(0, 0, 0, 0.3));\n",
              "      fill: #FFFFFF;\n",
              "    }\n",
              "  </style>\n",
              "\n",
              "      <script>\n",
              "        const buttonEl =\n",
              "          document.querySelector('#df-41438479-ac2b-42ed-839e-db3a946d91aa button.colab-df-convert');\n",
              "        buttonEl.style.display =\n",
              "          google.colab.kernel.accessAllowed ? 'block' : 'none';\n",
              "\n",
              "        async function convertToInteractive(key) {\n",
              "          const element = document.querySelector('#df-41438479-ac2b-42ed-839e-db3a946d91aa');\n",
              "          const dataTable =\n",
              "            await google.colab.kernel.invokeFunction('convertToInteractive',\n",
              "                                                     [key], {});\n",
              "          if (!dataTable) return;\n",
              "\n",
              "          const docLinkHtml = 'Like what you see? Visit the ' +\n",
              "            '<a target=\"_blank\" href=https://colab.research.google.com/notebooks/data_table.ipynb>data table notebook</a>'\n",
              "            + ' to learn more about interactive tables.';\n",
              "          element.innerHTML = '';\n",
              "          dataTable['output_type'] = 'display_data';\n",
              "          await google.colab.output.renderOutput(dataTable, element);\n",
              "          const docLink = document.createElement('div');\n",
              "          docLink.innerHTML = docLinkHtml;\n",
              "          element.appendChild(docLink);\n",
              "        }\n",
              "      </script>\n",
              "    </div>\n",
              "  </div>\n",
              "  "
            ]
          },
          "metadata": {},
          "execution_count": 6
        }
      ],
      "source": [
        "df.describe(include='object')"
      ]
    },
    {
      "cell_type": "markdown",
      "id": "f5efa9e1",
      "metadata": {
        "papermill": {
          "duration": 0.01219,
          "end_time": "2023-01-18T21:25:41.900665",
          "exception": false,
          "start_time": "2023-01-18T21:25:41.888475",
          "status": "completed"
        },
        "tags": [],
        "id": "f5efa9e1"
      },
      "source": [
        "## Compute NULL model (baseline) accuracy"
      ]
    },
    {
      "cell_type": "markdown",
      "id": "5a008116",
      "metadata": {
        "_cell_guid": "168d1c33-2f28-4aef-915d-dc5466e224aa",
        "_uuid": "72537732-ff6f-4b5c-bb71-330dc8c56987",
        "papermill": {
          "duration": 0.012109,
          "end_time": "2023-01-18T21:25:41.925162",
          "exception": false,
          "start_time": "2023-01-18T21:25:41.913053",
          "status": "completed"
        },
        "tags": [],
        "id": "5a008116"
      },
      "source": [
        "The data set is unbalanced (more ham instances than spams), and the null model has 70% accuracy. \n",
        "\n",
        "Any model worth considering must have greater accuracy (at a minimum) than null model"
      ]
    },
    {
      "cell_type": "code",
      "execution_count": 7,
      "id": "044bde93",
      "metadata": {
        "_cell_guid": "3eec5891-33fc-4067-8e50-af5a0556c9fa",
        "_uuid": "633b3f11-36ad-4090-8546-bcca2037f7d0",
        "execution": {
          "iopub.execute_input": "2023-01-18T21:25:41.951384Z",
          "iopub.status.busy": "2023-01-18T21:25:41.950984Z",
          "iopub.status.idle": "2023-01-18T21:25:41.960806Z",
          "shell.execute_reply": "2023-01-18T21:25:41.959180Z"
        },
        "jupyter": {
          "outputs_hidden": false
        },
        "papermill": {
          "duration": 0.025617,
          "end_time": "2023-01-18T21:25:41.963039",
          "exception": false,
          "start_time": "2023-01-18T21:25:41.937422",
          "status": "completed"
        },
        "tags": [],
        "colab": {
          "base_uri": "https://localhost:8080/"
        },
        "id": "044bde93",
        "outputId": "dc2475bf-26c7-48b7-c8cb-bc76241e5086"
      },
      "outputs": [
        {
          "output_type": "stream",
          "name": "stdout",
          "text": [
            "category\n",
            "ham     5553\n",
            "spam    2400\n",
            "dtype: int64\n",
            "Baseline (null model) accuracy:  0.6982270841192003\n"
          ]
        }
      ],
      "source": [
        "cat_size = df.groupby('category').size()\n",
        "print(cat_size)\n",
        "\n",
        "ham_prop = cat_size[0] / (cat_size[0] + cat_size[1])\n",
        "print('Baseline (null model) accuracy: ' , ham_prop)"
      ]
    },
    {
      "cell_type": "markdown",
      "id": "693b0ca5",
      "metadata": {
        "papermill": {
          "duration": 0.012336,
          "end_time": "2023-01-18T21:25:41.987810",
          "exception": false,
          "start_time": "2023-01-18T21:25:41.975474",
          "status": "completed"
        },
        "tags": [],
        "id": "693b0ca5"
      },
      "source": [
        "## Fastai"
      ]
    },
    {
      "cell_type": "code",
      "execution_count": 8,
      "id": "4e8b8651",
      "metadata": {
        "_cell_guid": "a7941db3-82c5-4c7a-97e8-c0bcec82add4",
        "_uuid": "7b48a168-7bd4-4627-94c2-597a779c1b0f",
        "execution": {
          "iopub.execute_input": "2023-01-18T21:25:42.014648Z",
          "iopub.status.busy": "2023-01-18T21:25:42.013730Z",
          "iopub.status.idle": "2023-01-18T21:25:44.844140Z",
          "shell.execute_reply": "2023-01-18T21:25:44.843159Z"
        },
        "jupyter": {
          "outputs_hidden": false
        },
        "papermill": {
          "duration": 2.846373,
          "end_time": "2023-01-18T21:25:44.846536",
          "exception": false,
          "start_time": "2023-01-18T21:25:42.000163",
          "status": "completed"
        },
        "tags": [],
        "id": "4e8b8651"
      },
      "outputs": [],
      "source": [
        "from fastai.data.all import *\n",
        "from fastai.text.all import *"
      ]
    },
    {
      "cell_type": "markdown",
      "id": "851c6063",
      "metadata": {
        "_cell_guid": "b1225a72-8b09-43f1-9993-1bd2cdf26ccd",
        "_uuid": "54e06603-17d9-4da6-bc2a-b3d316beb50a",
        "papermill": {
          "duration": 0.012322,
          "end_time": "2023-01-18T21:25:44.871853",
          "exception": false,
          "start_time": "2023-01-18T21:25:44.859531",
          "status": "completed"
        },
        "tags": [],
        "id": "851c6063"
      },
      "source": [
        "Create data loaders for classification, build **DataBlock** using **TextBlock** and **CategoryBlock**. Set aside 20% data using **TrainTestSplitter** for model testing."
      ]
    },
    {
      "cell_type": "code",
      "execution_count": 9,
      "id": "95079834",
      "metadata": {
        "_cell_guid": "7f78bf4c-8eb0-469c-a6a3-094ac0957563",
        "_uuid": "7ce96696-dd98-48df-a5d4-64415ad1004c",
        "execution": {
          "iopub.execute_input": "2023-01-18T21:25:44.899093Z",
          "iopub.status.busy": "2023-01-18T21:25:44.897884Z",
          "iopub.status.idle": "2023-01-18T21:26:47.544925Z",
          "shell.execute_reply": "2023-01-18T21:26:47.543699Z"
        },
        "jupyter": {
          "outputs_hidden": false
        },
        "papermill": {
          "duration": 62.663163,
          "end_time": "2023-01-18T21:26:47.547442",
          "exception": false,
          "start_time": "2023-01-18T21:25:44.884279",
          "status": "completed"
        },
        "tags": [],
        "colab": {
          "base_uri": "https://localhost:8080/",
          "height": 38
        },
        "id": "95079834",
        "outputId": "2e0639b4-6a53-447f-c14d-2e915f145591"
      },
      "outputs": [
        {
          "output_type": "display_data",
          "data": {
            "text/plain": [
              "<IPython.core.display.HTML object>"
            ],
            "text/html": [
              "\n",
              "<style>\n",
              "    /* Turns off some styling */\n",
              "    progress {\n",
              "        /* gets rid of default border in Firefox and Opera. */\n",
              "        border: none;\n",
              "        /* Needs to be in here for Safari polyfill so background images work as expected. */\n",
              "        background-size: auto;\n",
              "    }\n",
              "    progress:not([value]), progress:not([value])::-webkit-progress-bar {\n",
              "        background: repeating-linear-gradient(45deg, #7e7e7e, #7e7e7e 10px, #5c5c5c 10px, #5c5c5c 20px);\n",
              "    }\n",
              "    .progress-bar-interrupted, .progress-bar-interrupted::-webkit-progress-bar {\n",
              "        background: #F44336;\n",
              "    }\n",
              "</style>\n"
            ]
          },
          "metadata": {}
        },
        {
          "output_type": "display_data",
          "data": {
            "text/plain": [
              "<IPython.core.display.HTML object>"
            ],
            "text/html": []
          },
          "metadata": {}
        }
      ],
      "source": [
        "dls_cls = DataBlock(\n",
        "            blocks=(\n",
        "                TextBlock.from_df(text_cols=('text'), \n",
        "                        is_lm=False),\n",
        "                CategoryBlock),\n",
        "            get_x=ColReader('text'), \n",
        "            get_y=ColReader('category'),\n",
        "            splitter=TrainTestSplitter(test_size=0.2,stratify=df.category)\n",
        "        ).dataloaders(df)"
      ]
    },
    {
      "cell_type": "code",
      "execution_count": 10,
      "id": "677aa21b",
      "metadata": {
        "_cell_guid": "978be4fa-a641-492d-a7f3-d67c14ead48a",
        "_uuid": "6fce97a1-fb6a-4d96-ab7f-61399f1d838e",
        "execution": {
          "iopub.execute_input": "2023-01-18T21:26:47.574821Z",
          "iopub.status.busy": "2023-01-18T21:26:47.574469Z",
          "iopub.status.idle": "2023-01-18T21:26:49.680870Z",
          "shell.execute_reply": "2023-01-18T21:26:49.679766Z"
        },
        "jupyter": {
          "outputs_hidden": false
        },
        "papermill": {
          "duration": 2.122551,
          "end_time": "2023-01-18T21:26:49.683062",
          "exception": false,
          "start_time": "2023-01-18T21:26:47.560511",
          "status": "completed"
        },
        "tags": [],
        "colab": {
          "base_uri": "https://localhost:8080/",
          "height": 585
        },
        "id": "677aa21b",
        "outputId": "ab75b6e8-94ab-47b4-ba36-c2e4d3478bc1"
      },
      "outputs": [
        {
          "output_type": "display_data",
          "data": {
            "text/plain": [
              "<IPython.core.display.HTML object>"
            ],
            "text/html": [
              "<table border=\"1\" class=\"dataframe\">\n",
              "  <thead>\n",
              "    <tr style=\"text-align: right;\">\n",
              "      <th></th>\n",
              "      <th>text</th>\n",
              "      <th>category</th>\n",
              "    </tr>\n",
              "  </thead>\n",
              "  <tbody>\n",
              "    <tr>\n",
              "      <th>0</th>\n",
              "      <td>xxbos xxmaj this is a multi - part message in xxup mime format . xxrep 6 - = _ nextpart _ xxrep 3 0 _ xxrep 3 0 2_01c228ca.593b5280content - type : text / plain ; \\t xxunk - xxunk - transfer - encoding : xxunk &lt; xxunk xxrep 3 $ xxunk ! # xxunk ! # xxunk % / % xxunk , xxunk ! $ xxunk % / $ xxunk xxrep 3 $ xxunk , xxunk ! # xxunk : xxunk $ xxunk # ! xxunk xxrep 3 $ xxup xxunk / $ @$5$$ ! # ! xxunk / ! xxunk &gt; xxunk $ / $ * 4j xxrep 5 $ ? $ 7$^$9 ! # xxunk xxrep 38 - + xxunk \\ xxunk # % \" xxunk \\ % xxunk # % xxunk ! e = xxunk xxunk - mail : xxunk : 03 - 3518 - xxunk</td>\n",
              "      <td>ham</td>\n",
              "    </tr>\n",
              "    <tr>\n",
              "      <th>1</th>\n",
              "      <td>xxbos i did more testing with your patch on top of today 's xxup cvs , but the xxunk help at all.the following is the results of the tests : testing xxunk . created a \" / dev / md0 \" with 4 scsi xxunk . created a xxup lvm xxmaj volume group \" vg \" with the \" / dev / xxunk . created a xxup lvm logical volume \" vol1 \" with \" xxunk . created a xxup xfs fs with a command : mkfs.xfs -f -d xxunk / dev / vg / vol1 xxrep 11 - meta - data= / dev / vg / vol1 xxunk xxunk blks xxrep 11 - data = bsize=4096 xxunk xxrep 11 - = sunit=1 xxunk blks , xxunk xxrep 11 - naming = version 2 bsize=4096 xxrep 11 - log = internal log bsize=4096 xxunk xxrep 11 - = sunit=1 blks</td>\n",
              "      <td>ham</td>\n",
              "    </tr>\n",
              "    <tr>\n",
              "      <th>2</th>\n",
              "      <td>xxbos hi , you can make $ 50 , xxrep 3 0 or more in the next 90 days sending xxunk impossible ? xxmaj is there a catch ? xxup no , there is no catch ; justsend your e - mails and be on your way to financial xxunk , i send out as many of these e - mails as i can , xxunk send me xxup cash in the mail for information that i just e - xxunk to them . xxmaj everyday , i make a three minute drive to my xxup p.o . xxmaj xxunk that there are at least a few hundred dollars waiting forme . xxmaj and the best part , xxup it xxup is xxup completely xxunk read the next few paragraphs and see what you think . xxmaj if youlike what you read , great ! xxmaj if you do n't</td>\n",
              "      <td>spam</td>\n",
              "    </tr>\n",
              "    <tr>\n",
              "      <th>3</th>\n",
              "      <td>xxbos xxrep 67 * xxup if xxup you xxup are xxup reading xxup this , xxup you xxup may xxup not xxup have a xxup mime xxup version xxunk xxup mail xxup reader . xxup to xxup convert xxup your xxup subscription xxup to xxup plaintext xxup or xxup to xxup unsubscribe , xxup send xxup an xxup email xxup to xxunk xxup or visithttp : / / xxrep 3 w .fool.com / community / freemail / xxunk xxrep 67 * xxunk - foolish - xxunk - type : text / plain ; charset = us - asciicontent - disposition : inline xxrep 65 = xxup the xxup motley xxup fool xxup online xxup seminar xxup when xxup to xxup sell : xxup the xxup foolish xxup selling xxup strategy xxrep 65 = xxup seminar xxup resources xxrep 65 = xxup start xxunk : / / xxrep 3 w .fool.com</td>\n",
              "      <td>ham</td>\n",
              "    </tr>\n",
              "    <tr>\n",
              "      <th>4</th>\n",
              "      <td>xxbos xxrep 67 * xxup if xxup you xxup are xxup reading xxup this , xxup you xxup may xxup not xxup have a xxup mime xxup version xxunk xxup mail xxup reader . xxup to xxup convert xxup your xxup subscription xxup to xxup plaintext xxup or xxup to xxup unsubscribe , xxup send xxup an xxup email xxup to xxunk xxup or visithttp : / / xxrep 3 w .fool.com / community / freemail / xxunk xxrep 67 * xxunk - foolish - xxunk - type : text / plain ; charset = us - asciicontent - disposition : inline xxrep 65 = xxup the xxup motley xxup fool xxup online xxup seminar xxup when xxup to xxup sell : xxup the xxup foolish xxup selling xxup strategy xxrep 65 = xxup seminar xxup resources xxrep 65 = xxup start xxunk : / / xxrep 3 w .fool.com</td>\n",
              "      <td>ham</td>\n",
              "    </tr>\n",
              "  </tbody>\n",
              "</table>"
            ]
          },
          "metadata": {}
        }
      ],
      "source": [
        "dls_cls.show_batch(max_n = 5)"
      ]
    },
    {
      "cell_type": "markdown",
      "source": [
        "## Text Classifier"
      ],
      "metadata": {
        "id": "Ogfn2BLwmKiZ"
      },
      "id": "Ogfn2BLwmKiZ"
    },
    {
      "cell_type": "markdown",
      "id": "bc75fd36",
      "metadata": {
        "papermill": {
          "duration": 0.012366,
          "end_time": "2023-01-18T21:26:49.708323",
          "exception": false,
          "start_time": "2023-01-18T21:26:49.695957",
          "status": "completed"
        },
        "tags": [],
        "id": "bc75fd36"
      },
      "source": [
        "Create text classifier learner"
      ]
    },
    {
      "cell_type": "code",
      "execution_count": 11,
      "id": "80916ffe",
      "metadata": {
        "_cell_guid": "dd1e421b-54a9-4748-8a78-b87761e1f481",
        "_uuid": "711c0928-89ca-4737-aaed-14b6ab7eaa9e",
        "execution": {
          "iopub.execute_input": "2023-01-18T21:26:49.735642Z",
          "iopub.status.busy": "2023-01-18T21:26:49.734759Z",
          "iopub.status.idle": "2023-01-18T21:26:55.632931Z",
          "shell.execute_reply": "2023-01-18T21:26:55.631766Z"
        },
        "jupyter": {
          "outputs_hidden": false
        },
        "papermill": {
          "duration": 5.914326,
          "end_time": "2023-01-18T21:26:55.635581",
          "exception": false,
          "start_time": "2023-01-18T21:26:49.721255",
          "status": "completed"
        },
        "tags": [],
        "id": "80916ffe"
      },
      "outputs": [],
      "source": [
        "learner = text_classifier_learner(dls_cls, \n",
        "                                    AWD_LSTM, \n",
        "                                    drop_mult=0.5, \n",
        "                                    metrics=[accuracy, Precision(), Recall(), F1Score()])"
      ]
    },
    {
      "cell_type": "markdown",
      "source": [
        "Calculate optimal learning rate (hyper-parameter)"
      ],
      "metadata": {
        "id": "WNEUlcM7l8xN"
      },
      "id": "WNEUlcM7l8xN"
    },
    {
      "cell_type": "code",
      "source": [
        "lr = learner.lr_find()\n",
        "lr"
      ],
      "metadata": {
        "colab": {
          "base_uri": "https://localhost:8080/",
          "height": 492
        },
        "id": "UfWKUp7lKQGJ",
        "outputId": "e9a17403-264d-40e3-90db-f5c44bb7a9f6"
      },
      "id": "UfWKUp7lKQGJ",
      "execution_count": 12,
      "outputs": [
        {
          "output_type": "display_data",
          "data": {
            "text/plain": [
              "<IPython.core.display.HTML object>"
            ],
            "text/html": [
              "\n",
              "<style>\n",
              "    /* Turns off some styling */\n",
              "    progress {\n",
              "        /* gets rid of default border in Firefox and Opera. */\n",
              "        border: none;\n",
              "        /* Needs to be in here for Safari polyfill so background images work as expected. */\n",
              "        background-size: auto;\n",
              "    }\n",
              "    progress:not([value]), progress:not([value])::-webkit-progress-bar {\n",
              "        background: repeating-linear-gradient(45deg, #7e7e7e, #7e7e7e 10px, #5c5c5c 10px, #5c5c5c 20px);\n",
              "    }\n",
              "    .progress-bar-interrupted, .progress-bar-interrupted::-webkit-progress-bar {\n",
              "        background: #F44336;\n",
              "    }\n",
              "</style>\n"
            ]
          },
          "metadata": {}
        },
        {
          "output_type": "display_data",
          "data": {
            "text/plain": [
              "<IPython.core.display.HTML object>"
            ],
            "text/html": []
          },
          "metadata": {}
        },
        {
          "output_type": "execute_result",
          "data": {
            "text/plain": [
              "SuggestedLRs(valley=0.00363078061491251)"
            ]
          },
          "metadata": {},
          "execution_count": 12
        },
        {
          "output_type": "display_data",
          "data": {
            "text/plain": [
              "<Figure size 640x480 with 1 Axes>"
            ],
            "image/png": "[encoded data removed]"
          },
          "metadata": {}
        }
      ]
    },
    {
      "cell_type": "markdown",
      "source": [
        "Fine tune model for 3 epochs"
      ],
      "metadata": {
        "id": "oSDNo9RvmYcm"
      },
      "id": "oSDNo9RvmYcm"
    },
    {
      "cell_type": "code",
      "execution_count": 13,
      "id": "99fa8b11",
      "metadata": {
        "_cell_guid": "a8b2771f-894e-4e18-936a-eab5c1b02065",
        "_uuid": "7576db43-97ab-4a53-9e31-92b2efa07b81",
        "execution": {
          "iopub.execute_input": "2023-01-18T21:26:55.663514Z",
          "iopub.status.busy": "2023-01-18T21:26:55.663154Z",
          "iopub.status.idle": "2023-01-18T21:32:20.306199Z",
          "shell.execute_reply": "2023-01-18T21:32:20.304910Z"
        },
        "jupyter": {
          "outputs_hidden": false
        },
        "papermill": {
          "duration": 324.660025,
          "end_time": "2023-01-18T21:32:20.308965",
          "exception": false,
          "start_time": "2023-01-18T21:26:55.648940",
          "status": "completed"
        },
        "tags": [],
        "colab": {
          "base_uri": "https://localhost:8080/",
          "height": 222
        },
        "id": "99fa8b11",
        "outputId": "286ed036-5408-4179-bf22-7a38fa06dcfe"
      },
      "outputs": [
        {
          "output_type": "display_data",
          "data": {
            "text/plain": [
              "<IPython.core.display.HTML object>"
            ],
            "text/html": [
              "\n",
              "<style>\n",
              "    /* Turns off some styling */\n",
              "    progress {\n",
              "        /* gets rid of default border in Firefox and Opera. */\n",
              "        border: none;\n",
              "        /* Needs to be in here for Safari polyfill so background images work as expected. */\n",
              "        background-size: auto;\n",
              "    }\n",
              "    progress:not([value]), progress:not([value])::-webkit-progress-bar {\n",
              "        background: repeating-linear-gradient(45deg, #7e7e7e, #7e7e7e 10px, #5c5c5c 10px, #5c5c5c 20px);\n",
              "    }\n",
              "    .progress-bar-interrupted, .progress-bar-interrupted::-webkit-progress-bar {\n",
              "        background: #F44336;\n",
              "    }\n",
              "</style>\n"
            ]
          },
          "metadata": {}
        },
        {
          "output_type": "display_data",
          "data": {
            "text/plain": [
              "<IPython.core.display.HTML object>"
            ],
            "text/html": [
              "<table border=\"1\" class=\"dataframe\">\n",
              "  <thead>\n",
              "    <tr style=\"text-align: left;\">\n",
              "      <th>epoch</th>\n",
              "      <th>train_loss</th>\n",
              "      <th>valid_loss</th>\n",
              "      <th>accuracy</th>\n",
              "      <th>precision_score</th>\n",
              "      <th>recall_score</th>\n",
              "      <th>f1_score</th>\n",
              "      <th>time</th>\n",
              "    </tr>\n",
              "  </thead>\n",
              "  <tbody>\n",
              "    <tr>\n",
              "      <td>0</td>\n",
              "      <td>0.301464</td>\n",
              "      <td>0.187704</td>\n",
              "      <td>0.928975</td>\n",
              "      <td>0.917995</td>\n",
              "      <td>0.839583</td>\n",
              "      <td>0.877040</td>\n",
              "      <td>01:03</td>\n",
              "    </tr>\n",
              "  </tbody>\n",
              "</table>"
            ]
          },
          "metadata": {}
        },
        {
          "output_type": "display_data",
          "data": {
            "text/plain": [
              "<IPython.core.display.HTML object>"
            ],
            "text/html": [
              "\n",
              "<style>\n",
              "    /* Turns off some styling */\n",
              "    progress {\n",
              "        /* gets rid of default border in Firefox and Opera. */\n",
              "        border: none;\n",
              "        /* Needs to be in here for Safari polyfill so background images work as expected. */\n",
              "        background-size: auto;\n",
              "    }\n",
              "    progress:not([value]), progress:not([value])::-webkit-progress-bar {\n",
              "        background: repeating-linear-gradient(45deg, #7e7e7e, #7e7e7e 10px, #5c5c5c 10px, #5c5c5c 20px);\n",
              "    }\n",
              "    .progress-bar-interrupted, .progress-bar-interrupted::-webkit-progress-bar {\n",
              "        background: #F44336;\n",
              "    }\n",
              "</style>\n"
            ]
          },
          "metadata": {}
        },
        {
          "output_type": "display_data",
          "data": {
            "text/plain": [
              "<IPython.core.display.HTML object>"
            ],
            "text/html": [
              "<table border=\"1\" class=\"dataframe\">\n",
              "  <thead>\n",
              "    <tr style=\"text-align: left;\">\n",
              "      <th>epoch</th>\n",
              "      <th>train_loss</th>\n",
              "      <th>valid_loss</th>\n",
              "      <th>accuracy</th>\n",
              "      <th>precision_score</th>\n",
              "      <th>recall_score</th>\n",
              "      <th>f1_score</th>\n",
              "      <th>time</th>\n",
              "    </tr>\n",
              "  </thead>\n",
              "  <tbody>\n",
              "    <tr>\n",
              "      <td>0</td>\n",
              "      <td>0.204679</td>\n",
              "      <td>0.145113</td>\n",
              "      <td>0.948460</td>\n",
              "      <td>0.969340</td>\n",
              "      <td>0.856250</td>\n",
              "      <td>0.909292</td>\n",
              "      <td>02:07</td>\n",
              "    </tr>\n",
              "    <tr>\n",
              "      <td>1</td>\n",
              "      <td>0.137127</td>\n",
              "      <td>0.073332</td>\n",
              "      <td>0.980515</td>\n",
              "      <td>0.957230</td>\n",
              "      <td>0.979167</td>\n",
              "      <td>0.968074</td>\n",
              "      <td>02:06</td>\n",
              "    </tr>\n",
              "    <tr>\n",
              "      <td>2</td>\n",
              "      <td>0.100383</td>\n",
              "      <td>0.061127</td>\n",
              "      <td>0.978630</td>\n",
              "      <td>0.956967</td>\n",
              "      <td>0.972917</td>\n",
              "      <td>0.964876</td>\n",
              "      <td>02:06</td>\n",
              "    </tr>\n",
              "  </tbody>\n",
              "</table>"
            ]
          },
          "metadata": {}
        }
      ],
      "source": [
        "learner.fine_tune(3, lr[0])"
      ]
    },
    {
      "cell_type": "markdown",
      "id": "3f7399f4",
      "metadata": {
        "papermill": {
          "duration": 0.013391,
          "end_time": "2023-01-18T21:32:20.336623",
          "exception": false,
          "start_time": "2023-01-18T21:32:20.323232",
          "status": "completed"
        },
        "tags": [],
        "id": "3f7399f4"
      },
      "source": [
        "## Interpret results\n",
        "\n",
        "F1-score (balanced score between Precision/Recall) is good and so are precision/recall. Note - the model was tuned using GPUs, tuning on CPUs will take significantly longer (hours).\n",
        "\n",
        "Show a few predictions on training data."
      ]
    },
    {
      "cell_type": "code",
      "execution_count": 14,
      "id": "6a9c258a",
      "metadata": {
        "_cell_guid": "d1e5c3a7-80bc-46ec-b525-770f14372be8",
        "_uuid": "5d21a719-08b6-427f-a95e-ab5175c264c5",
        "execution": {
          "iopub.execute_input": "2023-01-18T21:32:20.365953Z",
          "iopub.status.busy": "2023-01-18T21:32:20.365559Z",
          "iopub.status.idle": "2023-01-18T21:32:24.510253Z",
          "shell.execute_reply": "2023-01-18T21:32:24.509285Z"
        },
        "jupyter": {
          "outputs_hidden": false
        },
        "papermill": {
          "duration": 4.162025,
          "end_time": "2023-01-18T21:32:24.512467",
          "exception": false,
          "start_time": "2023-01-18T21:32:20.350442",
          "status": "completed"
        },
        "tags": [],
        "colab": {
          "base_uri": "https://localhost:8080/",
          "height": 1000
        },
        "id": "6a9c258a",
        "outputId": "7863a311-d2ae-4184-8d5f-e5bce1b372fb"
      },
      "outputs": [
        {
          "output_type": "display_data",
          "data": {
            "text/plain": [
              "<IPython.core.display.HTML object>"
            ],
            "text/html": [
              "\n",
              "<style>\n",
              "    /* Turns off some styling */\n",
              "    progress {\n",
              "        /* gets rid of default border in Firefox and Opera. */\n",
              "        border: none;\n",
              "        /* Needs to be in here for Safari polyfill so background images work as expected. */\n",
              "        background-size: auto;\n",
              "    }\n",
              "    progress:not([value]), progress:not([value])::-webkit-progress-bar {\n",
              "        background: repeating-linear-gradient(45deg, #7e7e7e, #7e7e7e 10px, #5c5c5c 10px, #5c5c5c 20px);\n",
              "    }\n",
              "    .progress-bar-interrupted, .progress-bar-interrupted::-webkit-progress-bar {\n",
              "        background: #F44336;\n",
              "    }\n",
              "</style>\n"
            ]
          },
          "metadata": {}
        },
        {
          "output_type": "display_data",
          "data": {
            "text/plain": [
              "<IPython.core.display.HTML object>"
            ],
            "text/html": []
          },
          "metadata": {}
        },
        {
          "output_type": "display_data",
          "data": {
            "text/plain": [
              "<IPython.core.display.HTML object>"
            ],
            "text/html": [
              "<table border=\"1\" class=\"dataframe\">\n",
              "  <thead>\n",
              "    <tr style=\"text-align: right;\">\n",
              "      <th></th>\n",
              "      <th>text</th>\n",
              "      <th>category</th>\n",
              "      <th>category_</th>\n",
              "    </tr>\n",
              "  </thead>\n",
              "  <tbody>\n",
              "    <tr>\n",
              "      <th>0</th>\n",
              "      <td>xxbos xxmaj this is a multi - part message in xxup mime format . xxrep 6 - = _ nextpart _ xxrep 3 0 _ xxrep 3 0 2_01c228ca.593b5280content - type : text / plain ; \\t xxunk - xxunk - transfer - encoding : xxunk &lt; xxunk xxrep 3 $ xxunk ! # xxunk ! # xxunk % / % xxunk , xxunk ! $ xxunk % / $ xxunk xxrep 3 $ xxunk , xxunk ! # xxunk : xxunk $ xxunk # ! xxunk xxrep 3 $ xxup xxunk / $ @$5$$ ! # ! xxunk / ! xxunk &gt; xxunk $ / $ * 4j xxrep 5 $ ? $ 7$^$9 ! # xxunk xxrep 38 - + xxunk \\ xxunk # % \" xxunk \\ % xxunk # % xxunk ! e = xxunk xxunk - mail : xxunk : 03 - 3518 - xxunk</td>\n",
              "      <td>ham</td>\n",
              "      <td>spam</td>\n",
              "    </tr>\n",
              "    <tr>\n",
              "      <th>1</th>\n",
              "      <td>xxbos \" free trade and free markets have proven their ability to lift xxunk out of xxunk not a socio - political / history buff - does anybody have some xxunk ? xxrep 5 - xxmaj original xxmaj message xxrep 5 - xxmaj from : \" rohit xxmaj khare \" xxmaj to : xxmaj sent : xxmaj friday , xxmaj september 20 , 2002 xxunk pmsubject : sed / s / xxmaj united xxmaj states / xxmaj roman xxmaj empire / g &gt; &gt; a world where some live in comfort and plenty , while half of the human &gt; &gt; race lives on less than $ 2 a day , is neither just nor stable . &gt; &gt; xxmaj absolutely correct . xxmaj perhaps the most fundamental thing to realize about &gt; life on xxmaj earth today . &gt; &gt; xxmaj the following is a fascinating document of official</td>\n",
              "      <td>ham</td>\n",
              "      <td>ham</td>\n",
              "    </tr>\n",
              "    <tr>\n",
              "      <th>2</th>\n",
              "      <td>xxbos xxmaj this is a multi - part message in xxup mime format -- xxunk - d1b9 - 43d5 - xxunk - type : text / plain ; charset = gb2312content - transfer - encoding : quoted - printabledear xxunk fetch your name by xxunk month , our group had set up one xxup xxunk with xxmaj korean xxmaj xxunk xxmaj motors &amp; = machinery xxunk company produces and distributes various whole motorcycle units =( xxunk ranging from xxunk to xxunk , including two - wheel motorcycle and three - wheel motorcycle , for carrying goods = and taking passengers ) and accessories especially main accessories of motorcycle , such as engine =( including xxunk , xxunk connecting rod , xxunk , engine xxunk head , xxunk body , clutch , = xxunk and xxunk rings ) , frame , fuel tank , shock absorber , disk xxunk , panels</td>\n",
              "      <td>spam</td>\n",
              "      <td>ham</td>\n",
              "    </tr>\n",
              "    <tr>\n",
              "      <th>3</th>\n",
              "      <td>xxbos xxmaj from : xxunk xxrep 5 s xxunk : \\t\\t\\t\\t\\t xxmaj subject : xxmaj earn money sending e - mails . xxmaj it 's easy ! \\t▁ xxup new xxup improved xxunk friend , you can earn a lot of money in the next 90 days sending xxunk impossible ? xxmaj is there a catch ? xxup no , there is no catch ; justsend your e - mails and be on your way to financial freedom . xxmaj basically , i send out as many of these e - mails as i can , xxunk send me cash in the mail for information that i just e - xxunk to them . xxmaj everyday , i make a three minute drive to my xxup p.o . xxmaj xxunk that there are at least a few hundred dollars waiting forme . xxmaj and the best part , xxup it</td>\n",
              "      <td>spam</td>\n",
              "      <td>spam</td>\n",
              "    </tr>\n",
              "    <tr>\n",
              "      <th>4</th>\n",
              "      <td>xxbos xxmaj this is a multi - part message in xxup mime format . xxrep 6 - = _ nextpart_7hzmysbwvsemnjin8kg9ycontent - type : multipart / alternative ; \\t boundary= \" xxrep 4 - = _ nextpart_7hzmysbwvsemnjin8kg9yaa \" xxrep 6 - = _ xxunk - type : text / html ; \\t charset=\"big5\"content - transfer - encoding : xxunk xxrep 6 - = _ nextpart_7hzmysbwvsemnjin8kg9yaa xxrep 8 - = _ nextpart_7hzmysbwvsemnjin8kg9ycontent - type : application / octet - stream ; \\t name= \" . / massmail-1509_files / xxunk - transfer - encoding : base64content - disposition : attachment ; \\t xxunk xxrep 4 a xxunk xxrep 4 a xxunk xxrep 4 a xxmaj xxunk xxrep 4 a xxunk xxrep 4 a xxunk xxrep 3 a xxmaj ox xxrep 3 a xxunk / xxunk / xxunk / xxunk / xxunk / xxunk / xxunk / xxunk / xxunk / xxunk / xxunk</td>\n",
              "      <td>spam</td>\n",
              "      <td>spam</td>\n",
              "    </tr>\n",
              "    <tr>\n",
              "      <th>5</th>\n",
              "      <td>xxbos i did more testing with your patch on top of today 's xxup cvs , but the xxunk help at all.the following is the results of the tests : testing xxunk . created a \" / dev / md0 \" with 4 scsi xxunk . created a xxup lvm xxmaj volume group \" vg \" with the \" / dev / xxunk . created a xxup lvm logical volume \" vol1 \" with \" xxunk . created a xxup xfs fs with a command : mkfs.xfs -f -d xxunk / dev / vg / vol1 xxrep 11 - meta - data= / dev / vg / vol1 xxunk xxunk blks xxrep 11 - data = bsize=4096 xxunk xxrep 11 - = sunit=1 xxunk blks , xxunk xxrep 11 - naming = version 2 bsize=4096 xxrep 11 - log = internal log bsize=4096 xxunk xxrep 11 - = sunit=1 blks</td>\n",
              "      <td>ham</td>\n",
              "      <td>ham</td>\n",
              "    </tr>\n",
              "    <tr>\n",
              "      <th>6</th>\n",
              "      <td>xxbos xxmaj this is a multi - part message in xxup mime format . xxrep 6 - = _ nextpart_7hzmysbwvsemnjin8kg9ycontent - type : multipart / alternative ; \\t boundary= \" xxrep 4 - = _ nextpart_7hzmysbwvsemnjin8kg9yaa \" xxrep 6 - = _ xxunk - type : text / html ; \\t charset=\"big5\"content - transfer - encoding : xxunk xxrep 6 - = _ nextpart_7hzmysbwvsemnjin8kg9yaa xxrep 8 - = _ nextpart_7hzmysbwvsemnjin8kg9ycontent - type : application / octet - stream ; \\t name= \" . / massmail-1509_files / xxunk - transfer - encoding : base64content - disposition : attachment ; \\t xxunk xxrep 4 a xxunk xxrep 4 a xxunk xxrep 4 a xxmaj xxunk xxrep 4 a xxunk xxrep 4 a xxunk xxrep 3 a xxmaj ox xxrep 3 a xxunk / xxunk / xxunk / xxunk / xxunk / xxunk / xxunk / xxunk / xxunk / xxunk / xxunk</td>\n",
              "      <td>spam</td>\n",
              "      <td>spam</td>\n",
              "    </tr>\n",
              "    <tr>\n",
              "      <th>7</th>\n",
              "      <td>xxbos xxmaj this is a multi - part message in xxup mime format . xxrep 6 - = _ nextpart _ xxrep 3 0 _ 01bc2b74.89d1 xxrep 3 c 0content - type : multipart / alternative ; \\t boundary= \" xxrep 4 - = _ nextpart_84815c5abaf209ef376268c8 \" xxrep 6 - = _ nextpart_84815c5abaf209ef376268c8content - type : text / plain ; charset = windows-1252content - transfer - encoding : quoted - printabledear xxmaj sir / xxunk you a wonderful xxunk xxmaj with an offer , to save you money and xxunk xxmaj shopping from the convenience from home or xxunk shopping , a new way to go window xxunk xxmaj our online super xxunk offers over 1500 quality products , with 15 plus xxunk you to , window shop xxunk following are xxmaj e - coupons numbers , which you can use with any order=2e xxmaj y = ou place from</td>\n",
              "      <td>spam</td>\n",
              "      <td>spam</td>\n",
              "    </tr>\n",
              "    <tr>\n",
              "      <th>8</th>\n",
              "      <td>xxbos xxmaj this is a multi - part message in xxup mime format . xxrep 6 - = _ nextpart _ xxrep 3 0 _ xxrep 4 0 _ 01c24a39.4307a140content - type : text / plain ; \\t charset=\"iso-8859 - 1\"content - transfer - encoding : quoted - printable \\t▁\\t▁ = 09 \\t▁\\t = 20 \\t▁\\t▁ = 09=20 \\t▁ = 09 = 09 = xxunk xxmaj player xxmaj please click on the image to play the trailer . = 20 \\t = 20=09 = 09 = 09 \\t▁\\t▁ = 09 = 09 \\t▁ xxmaj go out and see a movie tonight ! \\t▁\\t = 20 = 09 = 09=20 \\t = 20 = 09 = 09 = 09 = 09 \\t▁\\t▁ = 09 = 09 \\t▁ xxup enter xxup for xxup your xxup chance xxup to xxup win ! \\t▁\\t = 20 = 09 = 09 = 09 \\t▁\\t▁ =</td>\n",
              "      <td>ham</td>\n",
              "      <td>ham</td>\n",
              "    </tr>\n",
              "  </tbody>\n",
              "</table>"
            ]
          },
          "metadata": {}
        }
      ],
      "source": [
        "learner.show_results()"
      ]
    },
    {
      "cell_type": "markdown",
      "id": "c527148a",
      "metadata": {
        "papermill": {
          "duration": 0.014064,
          "end_time": "2023-01-18T21:32:24.540782",
          "exception": false,
          "start_time": "2023-01-18T21:32:24.526718",
          "status": "completed"
        },
        "tags": [],
        "id": "c527148a"
      },
      "source": [
        "Plot confusion matrix. Note, the matrix is generated using the test data (20% of data data)."
      ]
    },
    {
      "cell_type": "code",
      "execution_count": 15,
      "id": "46cd4c61",
      "metadata": {
        "_cell_guid": "ff379c59-0493-436d-aa44-51f282994126",
        "_uuid": "d8c4552e-f06c-4a5c-9c39-ddbf95067be7",
        "execution": {
          "iopub.execute_input": "2023-01-18T21:32:24.571214Z",
          "iopub.status.busy": "2023-01-18T21:32:24.570275Z",
          "iopub.status.idle": "2023-01-18T21:32:38.573772Z",
          "shell.execute_reply": "2023-01-18T21:32:38.572074Z"
        },
        "jupyter": {
          "outputs_hidden": false
        },
        "papermill": {
          "duration": 14.02216,
          "end_time": "2023-01-18T21:32:38.577304",
          "exception": false,
          "start_time": "2023-01-18T21:32:24.555144",
          "status": "completed"
        },
        "tags": [],
        "colab": {
          "base_uri": "https://localhost:8080/",
          "height": 526
        },
        "id": "46cd4c61",
        "outputId": "add0525d-ac35-4666-e99c-4434d987ff0e"
      },
      "outputs": [
        {
          "output_type": "display_data",
          "data": {
            "text/plain": [
              "<IPython.core.display.HTML object>"
            ],
            "text/html": [
              "\n",
              "<style>\n",
              "    /* Turns off some styling */\n",
              "    progress {\n",
              "        /* gets rid of default border in Firefox and Opera. */\n",
              "        border: none;\n",
              "        /* Needs to be in here for Safari polyfill so background images work as expected. */\n",
              "        background-size: auto;\n",
              "    }\n",
              "    progress:not([value]), progress:not([value])::-webkit-progress-bar {\n",
              "        background: repeating-linear-gradient(45deg, #7e7e7e, #7e7e7e 10px, #5c5c5c 10px, #5c5c5c 20px);\n",
              "    }\n",
              "    .progress-bar-interrupted, .progress-bar-interrupted::-webkit-progress-bar {\n",
              "        background: #F44336;\n",
              "    }\n",
              "</style>\n"
            ]
          },
          "metadata": {}
        },
        {
          "output_type": "display_data",
          "data": {
            "text/plain": [
              "<IPython.core.display.HTML object>"
            ],
            "text/html": []
          },
          "metadata": {}
        },
        {
          "output_type": "display_data",
          "data": {
            "text/plain": [
              "<IPython.core.display.HTML object>"
            ],
            "text/html": [
              "\n",
              "<style>\n",
              "    /* Turns off some styling */\n",
              "    progress {\n",
              "        /* gets rid of default border in Firefox and Opera. */\n",
              "        border: none;\n",
              "        /* Needs to be in here for Safari polyfill so background images work as expected. */\n",
              "        background-size: auto;\n",
              "    }\n",
              "    progress:not([value]), progress:not([value])::-webkit-progress-bar {\n",
              "        background: repeating-linear-gradient(45deg, #7e7e7e, #7e7e7e 10px, #5c5c5c 10px, #5c5c5c 20px);\n",
              "    }\n",
              "    .progress-bar-interrupted, .progress-bar-interrupted::-webkit-progress-bar {\n",
              "        background: #F44336;\n",
              "    }\n",
              "</style>\n"
            ]
          },
          "metadata": {}
        },
        {
          "output_type": "display_data",
          "data": {
            "text/plain": [
              "<IPython.core.display.HTML object>"
            ],
            "text/html": []
          },
          "metadata": {}
        },
        {
          "output_type": "display_data",
          "data": {
            "text/plain": [
              "<Figure size 640x480 with 1 Axes>"
            ],
            "image/png": "[encoded data removed]"
          },
          "metadata": {}
        }
      ],
      "source": [
        "interp = ClassificationInterpretation.from_learner(learner)\n",
        "interp.plot_confusion_matrix()"
      ]
    },
    {
      "cell_type": "markdown",
      "id": "d490c239",
      "metadata": {
        "papermill": {
          "duration": 0.031204,
          "end_time": "2023-01-18T21:32:38.646583",
          "exception": false,
          "start_time": "2023-01-18T21:32:38.615379",
          "status": "completed"
        },
        "tags": [],
        "id": "d490c239"
      },
      "source": [
        "## Saving and loading model"
      ]
    },
    {
      "cell_type": "code",
      "execution_count": 16,
      "id": "34273f78",
      "metadata": {
        "_cell_guid": "71abf7f6-5eb6-4eb4-b726-a84341b2cf41",
        "_uuid": "a9724113-37f9-4f4e-b703-52092eefc307",
        "execution": {
          "iopub.execute_input": "2023-01-18T21:32:38.677322Z",
          "iopub.status.busy": "2023-01-18T21:32:38.676940Z",
          "iopub.status.idle": "2023-01-18T21:32:38.681702Z",
          "shell.execute_reply": "2023-01-18T21:32:38.680769Z"
        },
        "jupyter": {
          "outputs_hidden": false
        },
        "papermill": {
          "duration": 0.022711,
          "end_time": "2023-01-18T21:32:38.683783",
          "exception": false,
          "start_time": "2023-01-18T21:32:38.661072",
          "status": "completed"
        },
        "tags": [],
        "colab": {
          "base_uri": "https://localhost:8080/"
        },
        "id": "34273f78",
        "outputId": "bc18a9ac-a00d-4243-f3d0-b0d9da6d9862"
      },
      "outputs": [
        {
          "output_type": "execute_result",
          "data": {
            "text/plain": [
              "Path('models/pretrained.pth')"
            ]
          },
          "metadata": {},
          "execution_count": 16
        }
      ],
      "source": [
        "learner.save('pretrained')"
      ]
    },
    {
      "cell_type": "code",
      "execution_count": 17,
      "id": "9752ef42",
      "metadata": {
        "execution": {
          "iopub.execute_input": "2023-01-18T21:32:38.714462Z",
          "iopub.status.busy": "2023-01-18T21:32:38.713616Z",
          "iopub.status.idle": "2023-01-18T21:32:38.718221Z",
          "shell.execute_reply": "2023-01-18T21:32:38.717256Z"
        },
        "papermill": {
          "duration": 0.022034,
          "end_time": "2023-01-18T21:32:38.720184",
          "exception": false,
          "start_time": "2023-01-18T21:32:38.698150",
          "status": "completed"
        },
        "tags": [],
        "colab": {
          "base_uri": "https://localhost:8080/"
        },
        "id": "9752ef42",
        "outputId": "f49bcc18-83a4-4bb2-a2df-a4522f5e037c"
      },
      "outputs": [
        {
          "output_type": "execute_result",
          "data": {
            "text/plain": [
              "<fastai.text.learner.TextLearner at 0x7fb45ee1bc70>"
            ]
          },
          "metadata": {},
          "execution_count": 17
        }
      ],
      "source": [
        "learner.load('pretrained')"
      ]
    },
    {
      "cell_type": "markdown",
      "id": "67d76165",
      "metadata": {
        "_cell_guid": "bd7441ec-65d5-4bc6-b433-a597ad33382a",
        "_uuid": "00a74f0c-421d-46e0-ad4f-74d3fb4365f9",
        "papermill": {
          "duration": 0.014221,
          "end_time": "2023-01-18T21:32:38.748727",
          "exception": false,
          "start_time": "2023-01-18T21:32:38.734506",
          "status": "completed"
        },
        "tags": [],
        "id": "67d76165"
      },
      "source": [
        "# Language Model (ULMFiT approach)\n",
        "\n",
        "The pretrained model in the previous section is called a language model. It was pretrained on Wikipedia on the task of guessing the next word, after reading all the words before. We got great results by directly fine-tuning this language model to a movie review classifier, but with one extra step, we can do even better: the Wikipedia English is slightly different from the English in our email corpus. So instead of jumping directly to the classifier, we could fine-tune our pretrained language model to the email corpus and then use that as the base for our classifier.\n",
        "\n",
        "Create data loader for language modeling. Set aside 10% data using **RandomSplitter** for model validation."
      ]
    },
    {
      "cell_type": "code",
      "execution_count": 19,
      "id": "a7592654",
      "metadata": {
        "_cell_guid": "dfe42466-34b4-465e-b494-72034c9d514a",
        "_uuid": "6b0894ff-c526-42c3-974b-d60c27672f5d",
        "execution": {
          "iopub.execute_input": "2023-01-18T21:32:38.779661Z",
          "iopub.status.busy": "2023-01-18T21:32:38.778746Z",
          "iopub.status.idle": "2023-01-18T21:32:38.783247Z",
          "shell.execute_reply": "2023-01-18T21:32:38.782215Z"
        },
        "jupyter": {
          "outputs_hidden": false
        },
        "papermill": {
          "duration": 0.022023,
          "end_time": "2023-01-18T21:32:38.785255",
          "exception": false,
          "start_time": "2023-01-18T21:32:38.763232",
          "status": "completed"
        },
        "tags": [],
        "colab": {
          "base_uri": "https://localhost:8080/",
          "height": 38
        },
        "id": "a7592654",
        "outputId": "7196483e-d984-43b9-c717-a1c2d9ef33bc"
      },
      "outputs": [
        {
          "output_type": "display_data",
          "data": {
            "text/plain": [
              "<IPython.core.display.HTML object>"
            ],
            "text/html": [
              "\n",
              "<style>\n",
              "    /* Turns off some styling */\n",
              "    progress {\n",
              "        /* gets rid of default border in Firefox and Opera. */\n",
              "        border: none;\n",
              "        /* Needs to be in here for Safari polyfill so background images work as expected. */\n",
              "        background-size: auto;\n",
              "    }\n",
              "    progress:not([value]), progress:not([value])::-webkit-progress-bar {\n",
              "        background: repeating-linear-gradient(45deg, #7e7e7e, #7e7e7e 10px, #5c5c5c 10px, #5c5c5c 20px);\n",
              "    }\n",
              "    .progress-bar-interrupted, .progress-bar-interrupted::-webkit-progress-bar {\n",
              "        background: #F44336;\n",
              "    }\n",
              "</style>\n"
            ]
          },
          "metadata": {}
        },
        {
          "output_type": "display_data",
          "data": {
            "text/plain": [
              "<IPython.core.display.HTML object>"
            ],
            "text/html": []
          },
          "metadata": {}
        }
      ],
      "source": [
        "dls_lm = DataBlock(\n",
        "    blocks=TextBlock.from_df(text_cols=('text'), \n",
        "                             is_lm=True),\n",
        "    get_x=ColReader('text'), \n",
        "    splitter=RandomSplitter(valid_pct=0.1, seed=12345)\n",
        "    ).dataloaders(df, bs=64)"
      ]
    },
    {
      "cell_type": "code",
      "execution_count": 20,
      "id": "fb1b669b",
      "metadata": {
        "_cell_guid": "de56ae16-e2fb-4fcc-a7f2-d34861e96bff",
        "_uuid": "ccdbfcba-063c-425d-8293-ea927978d962",
        "execution": {
          "iopub.execute_input": "2023-01-18T21:32:38.845228Z",
          "iopub.status.busy": "2023-01-18T21:32:38.843625Z",
          "iopub.status.idle": "2023-01-18T21:32:38.848620Z",
          "shell.execute_reply": "2023-01-18T21:32:38.847735Z"
        },
        "jupyter": {
          "outputs_hidden": false
        },
        "papermill": {
          "duration": 0.022488,
          "end_time": "2023-01-18T21:32:38.850668",
          "exception": false,
          "start_time": "2023-01-18T21:32:38.828180",
          "status": "completed"
        },
        "tags": [],
        "colab": {
          "base_uri": "https://localhost:8080/",
          "height": 1000
        },
        "id": "fb1b669b",
        "outputId": "4ddca9b7-d468-475e-86e8-e1c25f237465"
      },
      "outputs": [
        {
          "output_type": "display_data",
          "data": {
            "text/plain": [
              "<IPython.core.display.HTML object>"
            ],
            "text/html": [
              "<table border=\"1\" class=\"dataframe\">\n",
              "  <thead>\n",
              "    <tr style=\"text-align: right;\">\n",
              "      <th></th>\n",
              "      <th>text</th>\n",
              "      <th>text_</th>\n",
              "    </tr>\n",
              "  </thead>\n",
              "  <tbody>\n",
              "    <tr>\n",
              "      <th>0</th>\n",
              "      <td>xxbos [ jeremy ] &gt; xxmaj the total collections are 1100 messages . i trained with 1100 / 5 &gt; xxunk that 's not a lot of training data , i picked random subsets of xxunk and got much better behavior ( this is rates.py output ; f - p rate xxunk in left column , f - n rate in xxunk on xxmaj data / xxmaj ham / xxmaj set1 &amp;</td>\n",
              "      <td>[ jeremy ] &gt; xxmaj the total collections are 1100 messages . i trained with 1100 / 5 &gt; xxunk that 's not a lot of training data , i picked random subsets of xxunk and got much better behavior ( this is rates.py output ; f - p rate xxunk in left column , f - n rate in xxunk on xxmaj data / xxmaj ham / xxmaj set1 &amp; xxmaj</td>\n",
              "    </tr>\n",
              "    <tr>\n",
              "      <th>1</th>\n",
              "      <td>at : http : / / xxrep 3 w .europeaninternet.com / login / xxunk a partial list of current xxup ein subscribers can be found at : http : / / xxrep 3 w .europeaninternet.com / mediakit / xxmaj if you have any questions , comments , or need assistance signing up , please contact us personally by either writing to xxunk or simply replying to this email . xxmaj please feel</td>\n",
              "      <td>: http : / / xxrep 3 w .europeaninternet.com / login / xxunk a partial list of current xxup ein subscribers can be found at : http : / / xxrep 3 w .europeaninternet.com / mediakit / xxmaj if you have any questions , comments , or need assistance signing up , please contact us personally by either writing to xxunk or simply replying to this email . xxmaj please feel free</td>\n",
              "    </tr>\n",
              "    <tr>\n",
              "      <th>2</th>\n",
              "      <td>: xxmaj no such file or directory xxmaj ca n't call method \" log \" on &gt; unblessed reference at &gt; / usr / local / lib / perl5 / site_perl / 5.8.0 / xxmaj razor2 / xxmaj client / xxmaj agent.pm line 212 . &gt; &gt; i have looked through the archived list and the only thing i have seen &gt; about this error is a possible permission problem on the</td>\n",
              "      <td>xxmaj no such file or directory xxmaj ca n't call method \" log \" on &gt; unblessed reference at &gt; / usr / local / lib / perl5 / site_perl / 5.8.0 / xxmaj razor2 / xxmaj client / xxmaj agent.pm line 212 . &gt; &gt; i have looked through the archived list and the only thing i have seen &gt; about this error is a possible permission problem on the log</td>\n",
              "    </tr>\n",
              "    <tr>\n",
              "      <th>3</th>\n",
              "      <td>up for games , classmates xxmaj personal xxmaj technology xxmaj teen handheld maker wants to play xxup rim files second suit against xxmaj good xxmaj gamers invade xxmaj army xxmaj web site &amp; xxmaj the e - mail address for your subscription is &amp; xxrep 10 q -zdnet@example.com xxmaj unsubscribe &amp; | &amp; xxmaj manage xxmaj my xxmaj subscriptions &amp; | &amp; xxup faq &amp; | &amp; xxmaj advertise xxmaj please send</td>\n",
              "      <td>for games , classmates xxmaj personal xxmaj technology xxmaj teen handheld maker wants to play xxup rim files second suit against xxmaj good xxmaj gamers invade xxmaj army xxmaj web site &amp; xxmaj the e - mail address for your subscription is &amp; xxrep 10 q -zdnet@example.com xxmaj unsubscribe &amp; | &amp; xxmaj manage xxmaj my xxmaj subscriptions &amp; | &amp; xxup faq &amp; | &amp; xxmaj advertise xxmaj please send any</td>\n",
              "    </tr>\n",
              "    <tr>\n",
              "      <th>4</th>\n",
              "      <td>over 300 , xxrep 3 0 search engines and directories \\t every month . \\t▁\\t▁\\t▁\\t\\t▁ &amp; \\t\\t▁\\t\\t▁\\t▁\\t▁\\t▁\\t xxmaj you 'll be surprised by the low cost , and by how effective this website promotion \\t method can be . \\t▁\\t xxmaj to find out more about trafficmagnet and the cost for submitting your website \\t to over 300 , xxrep 3 0 search engines and directories , visit xxrep 3 w .trafficmagnet.com</td>\n",
              "      <td>300 , xxrep 3 0 search engines and directories \\t every month . \\t▁\\t▁\\t▁\\t\\t▁ &amp; \\t\\t▁\\t\\t▁\\t▁\\t▁\\t▁\\t xxmaj you 'll be surprised by the low cost , and by how effective this website promotion \\t method can be . \\t▁\\t xxmaj to find out more about trafficmagnet and the cost for submitting your website \\t to over 300 , xxrep 3 0 search engines and directories , visit xxrep 3 w .trafficmagnet.com .</td>\n",
              "    </tr>\n",
              "    <tr>\n",
              "      <th>5</th>\n",
              "      <td>xxup begin xxup pgp xxup signature xxrep 5 - xxmaj version : xxunk / xxunk / xxunk m / xxunk xxrep 5 - xxup end xxup pgp xxup signature xxrep 76 - xxmaj the xxmaj libertarian xxmaj party http : / / xxrep 3 w .lp.org / 2600 xxmaj virginia xxmaj ave . xxup nw , xxmaj suite 100 voice : 202- xxrep 3 3 - xxrep 3 0 xxunk xxup dc</td>\n",
              "      <td>begin xxup pgp xxup signature xxrep 5 - xxmaj version : xxunk / xxunk / xxunk m / xxunk xxrep 5 - xxup end xxup pgp xxup signature xxrep 76 - xxmaj the xxmaj libertarian xxmaj party http : / / xxrep 3 w .lp.org / 2600 xxmaj virginia xxmaj ave . xxup nw , xxmaj suite 100 voice : 202- xxrep 3 3 - xxrep 3 0 xxunk xxup dc xxunk</td>\n",
              "    </tr>\n",
              "    <tr>\n",
              "      <th>6</th>\n",
              "      <td>useful in it … http : / / xxrep 3 w .theregister.co.uk / content / 4 / xxunk xxmaj microsoft stakes xxup ip claims on opengl xxmaj from the xxmaj we xxmaj told xxmaj you xxmaj so dept . http : / / xxrep 3 w .theregister.co.uk / content / 4 / xxunk xxmaj microsoft ' hoovers millions ' from xxup uk schools - xxup mp xxmaj blizzard xxunk on per seat</td>\n",
              "      <td>in it … http : / / xxrep 3 w .theregister.co.uk / content / 4 / xxunk xxmaj microsoft stakes xxup ip claims on opengl xxmaj from the xxmaj we xxmaj told xxmaj you xxmaj so dept . http : / / xxrep 3 w .theregister.co.uk / content / 4 / xxunk xxmaj microsoft ' hoovers millions ' from xxup uk schools - xxup mp xxmaj blizzard xxunk on per seat licensing</td>\n",
              "    </tr>\n",
              "    <tr>\n",
              "      <th>7</th>\n",
              "      <td>emailing xxup right xxup away . xxmaj are you willing to invest $ 29.99 for the opportunityto make a xxup six xxup figure xxup income on the xxmaj internet with no startup cash and very little effort?remember , you will recieve a toll - free phone numberfor 24 hour expert advice and consultation xxup from mepersonally.to order the xxmaj bulkbook right now for only $ 29.99 with a xxmaj visa or xxmaj</td>\n",
              "      <td>xxup right xxup away . xxmaj are you willing to invest $ 29.99 for the opportunityto make a xxup six xxup figure xxup income on the xxmaj internet with no startup cash and very little effort?remember , you will recieve a toll - free phone numberfor 24 hour expert advice and consultation xxup from mepersonally.to order the xxmaj bulkbook right now for only $ 29.99 with a xxmaj visa or xxmaj mastercard</td>\n",
              "    </tr>\n",
              "    <tr>\n",
              "      <th>8</th>\n",
              "      <td>&gt; https : / / lists.sourceforge.net / lists / listinfo / razor - users xxrep 4 &gt; xxrep 55 - &gt; xxmaj this sf.net email is sponsored by : xxup osdn - xxmaj tired of that same old &gt; cell phone ? xxmaj get a new here for xxup free ! &gt; https : / / xxrep 3 w .inphonic.com / r.asp?r=sourceforge1&amp;refcode1=vs3390 &gt; xxrep 47 _ &gt; xxmaj razor - users mailing</td>\n",
              "      <td>https : / / lists.sourceforge.net / lists / listinfo / razor - users xxrep 4 &gt; xxrep 55 - &gt; xxmaj this sf.net email is sponsored by : xxup osdn - xxmaj tired of that same old &gt; cell phone ? xxmaj get a new here for xxup free ! &gt; https : / / xxrep 3 w .inphonic.com / r.asp?r=sourceforge1&amp;refcode1=vs3390 &gt; xxrep 47 _ &gt; xxmaj razor - users mailing list</td>\n",
              "    </tr>\n",
              "    <tr>\n",
              "      <th>9</th>\n",
              "      <td>jordan xxmaj xxunk xxmaj kenya xxmaj kuwait xxmaj laos xxmaj xxunk xxmaj xxunk xxmaj xxunk xxmaj xxunk xxmaj xxunk xxmaj xxunk xxmaj luxembourg xxmaj xxunk xxmaj xxunk xxmaj xxunk xxmaj malawi xxmaj malaysia xxmaj xxunk xxmaj xxunk xxmaj xxunk xxmaj xxunk xxmaj xxunk xxmaj mexico xxmaj xxunk xxmaj xxunk xxmaj xxunk xxmaj morocco xxmaj xxunk xxmaj xxunk xxmaj nepal xxmaj netherlands xxmaj new xxmaj zealand xxmaj xxunk xxmaj niger xxmaj nigeria xxmaj</td>\n",
              "      <td>xxmaj xxunk xxmaj kenya xxmaj kuwait xxmaj laos xxmaj xxunk xxmaj xxunk xxmaj xxunk xxmaj xxunk xxmaj xxunk xxmaj xxunk xxmaj luxembourg xxmaj xxunk xxmaj xxunk xxmaj xxunk xxmaj malawi xxmaj malaysia xxmaj xxunk xxmaj xxunk xxmaj xxunk xxmaj xxunk xxmaj xxunk xxmaj mexico xxmaj xxunk xxmaj xxunk xxmaj xxunk xxmaj morocco xxmaj xxunk xxmaj xxunk xxmaj nepal xxmaj netherlands xxmaj new xxmaj zealand xxmaj xxunk xxmaj niger xxmaj nigeria xxmaj north</td>\n",
              "    </tr>\n",
              "  </tbody>\n",
              "</table>"
            ]
          },
          "metadata": {}
        }
      ],
      "source": [
        "dls_lm.show_batch(max_n = 10)"
      ]
    },
    {
      "cell_type": "markdown",
      "id": "ab3963af",
      "metadata": {
        "_cell_guid": "a8c3fa63-ae51-4903-b6df-4a97fbf5133d",
        "_uuid": "a306e43b-cacf-4ce2-8973-6a499da3652c",
        "papermill": {
          "duration": 0.014225,
          "end_time": "2023-01-18T21:32:38.879352",
          "exception": false,
          "start_time": "2023-01-18T21:32:38.865127",
          "status": "completed"
        },
        "tags": [],
        "id": "ab3963af"
      },
      "source": [
        "Create text classifier learner. Use [AWD_LST]([https://paperswithcode.com/method/awd-lstm) model architecture.\n",
        "\n",
        "For metrics, use Perplexity (lower is better: among how many words model is confused for predicting next word in sentence) for metrics."
      ]
    },
    {
      "cell_type": "code",
      "execution_count": 21,
      "id": "2cd4af95",
      "metadata": {
        "_cell_guid": "ba17bf51-1e2a-4bfb-acc6-b49dfc56c7a1",
        "_uuid": "3d64fdcf-95d2-4d68-8e97-ce84bae5bbc7",
        "execution": {
          "iopub.execute_input": "2023-01-18T21:32:38.910963Z",
          "iopub.status.busy": "2023-01-18T21:32:38.909380Z",
          "iopub.status.idle": "2023-01-18T21:32:38.914186Z",
          "shell.execute_reply": "2023-01-18T21:32:38.913283Z"
        },
        "jupyter": {
          "outputs_hidden": false
        },
        "papermill": {
          "duration": 0.02234,
          "end_time": "2023-01-18T21:32:38.916148",
          "exception": false,
          "start_time": "2023-01-18T21:32:38.893808",
          "status": "completed"
        },
        "tags": [],
        "id": "2cd4af95"
      },
      "outputs": [],
      "source": [
        "lm_learner = language_model_learner(\n",
        "            dls_lm, \n",
        "            AWD_LSTM, \n",
        "            wd=0.1,\n",
        "            metrics=[Perplexity()]).to_fp16()"
      ]
    },
    {
      "cell_type": "markdown",
      "source": [
        "Find the optimal learning rate"
      ],
      "metadata": {
        "id": "5mZ3PGZSoBz4"
      },
      "id": "5mZ3PGZSoBz4"
    },
    {
      "cell_type": "code",
      "source": [
        "lr = lm_learner.lr_find()\n",
        "lr"
      ],
      "metadata": {
        "colab": {
          "base_uri": "https://localhost:8080/",
          "height": 492
        },
        "id": "yE6Vu6JIgElo",
        "outputId": "2ec647f5-a93c-483f-fa41-7b5d60ca2e86"
      },
      "id": "yE6Vu6JIgElo",
      "execution_count": 22,
      "outputs": [
        {
          "output_type": "display_data",
          "data": {
            "text/plain": [
              "<IPython.core.display.HTML object>"
            ],
            "text/html": [
              "\n",
              "<style>\n",
              "    /* Turns off some styling */\n",
              "    progress {\n",
              "        /* gets rid of default border in Firefox and Opera. */\n",
              "        border: none;\n",
              "        /* Needs to be in here for Safari polyfill so background images work as expected. */\n",
              "        background-size: auto;\n",
              "    }\n",
              "    progress:not([value]), progress:not([value])::-webkit-progress-bar {\n",
              "        background: repeating-linear-gradient(45deg, #7e7e7e, #7e7e7e 10px, #5c5c5c 10px, #5c5c5c 20px);\n",
              "    }\n",
              "    .progress-bar-interrupted, .progress-bar-interrupted::-webkit-progress-bar {\n",
              "        background: #F44336;\n",
              "    }\n",
              "</style>\n"
            ]
          },
          "metadata": {}
        },
        {
          "output_type": "display_data",
          "data": {
            "text/plain": [
              "<IPython.core.display.HTML object>"
            ],
            "text/html": []
          },
          "metadata": {}
        },
        {
          "output_type": "execute_result",
          "data": {
            "text/plain": [
              "SuggestedLRs(valley=0.0063095735386013985)"
            ]
          },
          "metadata": {},
          "execution_count": 22
        },
        {
          "output_type": "display_data",
          "data": {
            "text/plain": [
              "<Figure size 640x480 with 1 Axes>"
            ],
            "image/png": "[encoded data removed]"
          },
          "metadata": {}
        }
      ]
    },
    {
      "cell_type": "markdown",
      "id": "c99ba52e",
      "metadata": {
        "_cell_guid": "02b2a416-97d2-4703-97ca-c525ac94c072",
        "_uuid": "1aa0722c-f4e7-4972-9855-8d6ee4dedf65",
        "papermill": {
          "duration": 0.014236,
          "end_time": "2023-01-18T21:32:38.944822",
          "exception": false,
          "start_time": "2023-01-18T21:32:38.930586",
          "status": "completed"
        },
        "tags": [],
        "id": "c99ba52e"
      },
      "source": [
        "Fit one cycle - trains the new linear layer without changing the pre-trained layers, which remain frozen."
      ]
    },
    {
      "cell_type": "code",
      "execution_count": 23,
      "id": "4415d978",
      "metadata": {
        "_cell_guid": "488ff5fe-5e90-4495-88d8-5b171d48b08a",
        "_uuid": "42b35b8e-7e5e-4c5f-a39f-6167f061adb6",
        "execution": {
          "iopub.execute_input": "2023-01-18T21:32:38.975630Z",
          "iopub.status.busy": "2023-01-18T21:32:38.974691Z",
          "iopub.status.idle": "2023-01-18T21:32:38.979214Z",
          "shell.execute_reply": "2023-01-18T21:32:38.978323Z"
        },
        "jupyter": {
          "outputs_hidden": false
        },
        "papermill": {
          "duration": 0.022024,
          "end_time": "2023-01-18T21:32:38.981178",
          "exception": false,
          "start_time": "2023-01-18T21:32:38.959154",
          "status": "completed"
        },
        "tags": [],
        "colab": {
          "base_uri": "https://localhost:8080/",
          "height": 100
        },
        "id": "4415d978",
        "outputId": "b24f8aee-9d45-4eda-a053-64082d95610d"
      },
      "outputs": [
        {
          "output_type": "display_data",
          "data": {
            "text/plain": [
              "<IPython.core.display.HTML object>"
            ],
            "text/html": [
              "\n",
              "<style>\n",
              "    /* Turns off some styling */\n",
              "    progress {\n",
              "        /* gets rid of default border in Firefox and Opera. */\n",
              "        border: none;\n",
              "        /* Needs to be in here for Safari polyfill so background images work as expected. */\n",
              "        background-size: auto;\n",
              "    }\n",
              "    progress:not([value]), progress:not([value])::-webkit-progress-bar {\n",
              "        background: repeating-linear-gradient(45deg, #7e7e7e, #7e7e7e 10px, #5c5c5c 10px, #5c5c5c 20px);\n",
              "    }\n",
              "    .progress-bar-interrupted, .progress-bar-interrupted::-webkit-progress-bar {\n",
              "        background: #F44336;\n",
              "    }\n",
              "</style>\n"
            ]
          },
          "metadata": {}
        },
        {
          "output_type": "display_data",
          "data": {
            "text/plain": [
              "<IPython.core.display.HTML object>"
            ],
            "text/html": [
              "<table border=\"1\" class=\"dataframe\">\n",
              "  <thead>\n",
              "    <tr style=\"text-align: left;\">\n",
              "      <th>epoch</th>\n",
              "      <th>train_loss</th>\n",
              "      <th>valid_loss</th>\n",
              "      <th>accuracy</th>\n",
              "      <th>perplexity</th>\n",
              "      <th>time</th>\n",
              "    </tr>\n",
              "  </thead>\n",
              "  <tbody>\n",
              "    <tr>\n",
              "      <td>0</td>\n",
              "      <td>4.198651</td>\n",
              "      <td>3.790327</td>\n",
              "      <td>0.356320</td>\n",
              "      <td>44.270855</td>\n",
              "      <td>03:17</td>\n",
              "    </tr>\n",
              "  </tbody>\n",
              "</table>"
            ]
          },
          "metadata": {}
        }
      ],
      "source": [
        "lm_learner.fit_one_cycle(1, lr[0])"
      ]
    },
    {
      "cell_type": "markdown",
      "id": "a8bb022f",
      "metadata": {
        "_cell_guid": "c3bfa931-0c71-4f56-a21a-606a6fcd34a9",
        "_uuid": "0041d125-f622-48a5-a3f9-c2d25074ddde",
        "papermill": {
          "duration": 0.014417,
          "end_time": "2023-01-18T21:32:39.009893",
          "exception": false,
          "start_time": "2023-01-18T21:32:38.995476",
          "status": "completed"
        },
        "tags": [],
        "id": "a8bb022f"
      },
      "source": [
        "Save language model state."
      ]
    },
    {
      "cell_type": "code",
      "execution_count": 24,
      "id": "fc517c10",
      "metadata": {
        "_cell_guid": "5de6446d-9b0f-40f7-aea3-b4902da18e68",
        "_uuid": "2de7b3df-4eaa-45e7-aa43-2a9eaa5a7d58",
        "execution": {
          "iopub.execute_input": "2023-01-18T21:32:39.040233Z",
          "iopub.status.busy": "2023-01-18T21:32:39.039889Z",
          "iopub.status.idle": "2023-01-18T21:32:39.044083Z",
          "shell.execute_reply": "2023-01-18T21:32:39.043073Z"
        },
        "jupyter": {
          "outputs_hidden": false
        },
        "papermill": {
          "duration": 0.021865,
          "end_time": "2023-01-18T21:32:39.046069",
          "exception": false,
          "start_time": "2023-01-18T21:32:39.024204",
          "status": "completed"
        },
        "tags": [],
        "colab": {
          "base_uri": "https://localhost:8080/"
        },
        "id": "fc517c10",
        "outputId": "c858ad8f-4a32-478f-ac35-6fe08e459ccd"
      },
      "outputs": [
        {
          "output_type": "execute_result",
          "data": {
            "text/plain": [
              "Path('models/1epoch.pth')"
            ]
          },
          "metadata": {},
          "execution_count": 24
        }
      ],
      "source": [
        "lm_learner.save('1epoch')"
      ]
    },
    {
      "cell_type": "markdown",
      "id": "a9f3f4cb",
      "metadata": {
        "_cell_guid": "72c34cf5-365f-48f1-8277-523d9f65a361",
        "_uuid": "953a3a51-8f43-4b68-8ec3-0d4e1c1196d2",
        "papermill": {
          "duration": 0.014296,
          "end_time": "2023-01-18T21:32:39.074958",
          "exception": false,
          "start_time": "2023-01-18T21:32:39.060662",
          "status": "completed"
        },
        "tags": [],
        "id": "a9f3f4cb"
      },
      "source": [
        "Unfreeze all layers of model for futher tuning."
      ]
    },
    {
      "cell_type": "code",
      "execution_count": 25,
      "id": "4295ef5c",
      "metadata": {
        "_cell_guid": "c50916dc-8edf-47f9-9cfc-6a97cb9a502b",
        "_uuid": "c4250484-ddb4-4493-862a-cb7bfce1ec25",
        "execution": {
          "iopub.execute_input": "2023-01-18T21:32:39.105608Z",
          "iopub.status.busy": "2023-01-18T21:32:39.104796Z",
          "iopub.status.idle": "2023-01-18T21:32:39.109015Z",
          "shell.execute_reply": "2023-01-18T21:32:39.108056Z"
        },
        "jupyter": {
          "outputs_hidden": false
        },
        "papermill": {
          "duration": 0.02169,
          "end_time": "2023-01-18T21:32:39.110981",
          "exception": false,
          "start_time": "2023-01-18T21:32:39.089291",
          "status": "completed"
        },
        "tags": [],
        "id": "4295ef5c"
      },
      "outputs": [],
      "source": [
        "lm_learner.unfreeze()"
      ]
    },
    {
      "cell_type": "code",
      "source": [
        "lr = lm_learner.lr_find()\n",
        "lr"
      ],
      "metadata": {
        "colab": {
          "base_uri": "https://localhost:8080/",
          "height": 492
        },
        "id": "vIpzyl-CgMBM",
        "outputId": "93617d36-3c5d-4beb-c285-332641a3c78f"
      },
      "id": "vIpzyl-CgMBM",
      "execution_count": 26,
      "outputs": [
        {
          "output_type": "display_data",
          "data": {
            "text/plain": [
              "<IPython.core.display.HTML object>"
            ],
            "text/html": [
              "\n",
              "<style>\n",
              "    /* Turns off some styling */\n",
              "    progress {\n",
              "        /* gets rid of default border in Firefox and Opera. */\n",
              "        border: none;\n",
              "        /* Needs to be in here for Safari polyfill so background images work as expected. */\n",
              "        background-size: auto;\n",
              "    }\n",
              "    progress:not([value]), progress:not([value])::-webkit-progress-bar {\n",
              "        background: repeating-linear-gradient(45deg, #7e7e7e, #7e7e7e 10px, #5c5c5c 10px, #5c5c5c 20px);\n",
              "    }\n",
              "    .progress-bar-interrupted, .progress-bar-interrupted::-webkit-progress-bar {\n",
              "        background: #F44336;\n",
              "    }\n",
              "</style>\n"
            ]
          },
          "metadata": {}
        },
        {
          "output_type": "display_data",
          "data": {
            "text/plain": [
              "<IPython.core.display.HTML object>"
            ],
            "text/html": []
          },
          "metadata": {}
        },
        {
          "output_type": "execute_result",
          "data": {
            "text/plain": [
              "SuggestedLRs(valley=0.00013182566908653826)"
            ]
          },
          "metadata": {},
          "execution_count": 26
        },
        {
          "output_type": "display_data",
          "data": {
            "text/plain": [
              "<Figure size 640x480 with 1 Axes>"
            ],
            "image/png": "[encoded data removed]"
          },
          "metadata": {}
        }
      ]
    },
    {
      "cell_type": "markdown",
      "source": [
        "Train model for 5 epochs"
      ],
      "metadata": {
        "id": "rjo7JRtXohJa"
      },
      "id": "rjo7JRtXohJa"
    },
    {
      "cell_type": "code",
      "execution_count": 27,
      "id": "75a5f9de",
      "metadata": {
        "_cell_guid": "f3807a2d-a8b7-4fc4-8f71-57352d020fea",
        "_uuid": "25ca60f9-32c3-4d24-bd3e-1afcfda6210d",
        "execution": {
          "iopub.execute_input": "2023-01-18T21:32:39.142529Z",
          "iopub.status.busy": "2023-01-18T21:32:39.141008Z",
          "iopub.status.idle": "2023-01-18T21:32:39.145711Z",
          "shell.execute_reply": "2023-01-18T21:32:39.144864Z"
        },
        "jupyter": {
          "outputs_hidden": false
        },
        "papermill": {
          "duration": 0.022294,
          "end_time": "2023-01-18T21:32:39.147727",
          "exception": false,
          "start_time": "2023-01-18T21:32:39.125433",
          "status": "completed"
        },
        "tags": [],
        "colab": {
          "base_uri": "https://localhost:8080/",
          "height": 221
        },
        "id": "75a5f9de",
        "outputId": "7dc792fa-d9e2-4451-a1b1-12b837dad01e"
      },
      "outputs": [
        {
          "output_type": "display_data",
          "data": {
            "text/plain": [
              "<IPython.core.display.HTML object>"
            ],
            "text/html": [
              "\n",
              "<style>\n",
              "    /* Turns off some styling */\n",
              "    progress {\n",
              "        /* gets rid of default border in Firefox and Opera. */\n",
              "        border: none;\n",
              "        /* Needs to be in here for Safari polyfill so background images work as expected. */\n",
              "        background-size: auto;\n",
              "    }\n",
              "    progress:not([value]), progress:not([value])::-webkit-progress-bar {\n",
              "        background: repeating-linear-gradient(45deg, #7e7e7e, #7e7e7e 10px, #5c5c5c 10px, #5c5c5c 20px);\n",
              "    }\n",
              "    .progress-bar-interrupted, .progress-bar-interrupted::-webkit-progress-bar {\n",
              "        background: #F44336;\n",
              "    }\n",
              "</style>\n"
            ]
          },
          "metadata": {}
        },
        {
          "output_type": "display_data",
          "data": {
            "text/plain": [
              "<IPython.core.display.HTML object>"
            ],
            "text/html": [
              "<table border=\"1\" class=\"dataframe\">\n",
              "  <thead>\n",
              "    <tr style=\"text-align: left;\">\n",
              "      <th>epoch</th>\n",
              "      <th>train_loss</th>\n",
              "      <th>valid_loss</th>\n",
              "      <th>accuracy</th>\n",
              "      <th>perplexity</th>\n",
              "      <th>time</th>\n",
              "    </tr>\n",
              "  </thead>\n",
              "  <tbody>\n",
              "    <tr>\n",
              "      <td>0</td>\n",
              "      <td>3.885533</td>\n",
              "      <td>3.622367</td>\n",
              "      <td>0.377741</td>\n",
              "      <td>37.426056</td>\n",
              "      <td>03:31</td>\n",
              "    </tr>\n",
              "    <tr>\n",
              "      <td>1</td>\n",
              "      <td>3.702563</td>\n",
              "      <td>3.468136</td>\n",
              "      <td>0.398056</td>\n",
              "      <td>32.076904</td>\n",
              "      <td>03:30</td>\n",
              "    </tr>\n",
              "    <tr>\n",
              "      <td>2</td>\n",
              "      <td>3.586781</td>\n",
              "      <td>3.378886</td>\n",
              "      <td>0.410035</td>\n",
              "      <td>29.338057</td>\n",
              "      <td>03:35</td>\n",
              "    </tr>\n",
              "    <tr>\n",
              "      <td>3</td>\n",
              "      <td>3.565593</td>\n",
              "      <td>3.340399</td>\n",
              "      <td>0.415442</td>\n",
              "      <td>28.230389</td>\n",
              "      <td>03:32</td>\n",
              "    </tr>\n",
              "    <tr>\n",
              "      <td>4</td>\n",
              "      <td>3.604337</td>\n",
              "      <td>3.333366</td>\n",
              "      <td>0.416273</td>\n",
              "      <td>28.032545</td>\n",
              "      <td>03:31</td>\n",
              "    </tr>\n",
              "  </tbody>\n",
              "</table>"
            ]
          },
          "metadata": {}
        }
      ],
      "source": [
        "lm_learner.fit_one_cycle(5, lr[0])"
      ]
    },
    {
      "cell_type": "code",
      "source": [
        "lm_learner.recorder.plot_loss()"
      ],
      "metadata": {
        "colab": {
          "base_uri": "https://localhost:8080/",
          "height": 451
        },
        "id": "UmQo9u5dillI",
        "outputId": "01691ff6-2933-42fd-b6a3-911fbdf08a9e"
      },
      "id": "UmQo9u5dillI",
      "execution_count": 28,
      "outputs": [
        {
          "output_type": "display_data",
          "data": {
            "text/plain": [
              "<Figure size 640x480 with 1 Axes>"
            ],
            "image/png": "[encoded data removed]"
          },
          "metadata": {}
        }
      ]
    },
    {
      "cell_type": "markdown",
      "id": "f6303f07",
      "metadata": {
        "_cell_guid": "f4ecaff9-e2c4-4a10-b005-9fc9aebdd321",
        "_uuid": "2a26cdf4-62a7-48ec-9d11-98e78e7acc76",
        "papermill": {
          "duration": 0.014266,
          "end_time": "2023-01-18T21:32:39.176371",
          "exception": false,
          "start_time": "2023-01-18T21:32:39.162105",
          "status": "completed"
        },
        "tags": [],
        "id": "f6303f07"
      },
      "source": [
        "Save fully tuned model."
      ]
    },
    {
      "cell_type": "code",
      "execution_count": 29,
      "id": "ebd831d0",
      "metadata": {
        "_cell_guid": "b76c9321-a1f3-4673-bb54-ab0ae86d2882",
        "_uuid": "182f2d96-cb9b-4897-bcda-af69e787b481",
        "execution": {
          "iopub.execute_input": "2023-01-18T21:32:39.207986Z",
          "iopub.status.busy": "2023-01-18T21:32:39.206424Z",
          "iopub.status.idle": "2023-01-18T21:32:39.211230Z",
          "shell.execute_reply": "2023-01-18T21:32:39.210270Z"
        },
        "jupyter": {
          "outputs_hidden": false
        },
        "papermill": {
          "duration": 0.022222,
          "end_time": "2023-01-18T21:32:39.213182",
          "exception": false,
          "start_time": "2023-01-18T21:32:39.190960",
          "status": "completed"
        },
        "tags": [],
        "id": "ebd831d0"
      },
      "outputs": [],
      "source": [
        "lm_learner.save_encoder('finetuned')"
      ]
    },
    {
      "cell_type": "markdown",
      "id": "3152829b",
      "metadata": {
        "_cell_guid": "7b9fe08f-89a6-442c-9d93-a1395ef14256",
        "_uuid": "8e50175b-a6d4-4883-adf4-9e5fcd1da993",
        "papermill": {
          "duration": 0.014162,
          "end_time": "2023-01-18T21:32:39.241711",
          "exception": false,
          "start_time": "2023-01-18T21:32:39.227549",
          "status": "completed"
        },
        "tags": [],
        "id": "3152829b"
      },
      "source": [
        "Text generation"
      ]
    },
    {
      "cell_type": "code",
      "execution_count": 30,
      "id": "8b627580",
      "metadata": {
        "_cell_guid": "0f9d818d-5dd4-4088-81ce-fd383b0ef4df",
        "_uuid": "3247b86a-3a52-46ca-874f-20c3b47a98c5",
        "execution": {
          "iopub.execute_input": "2023-01-18T21:32:39.272206Z",
          "iopub.status.busy": "2023-01-18T21:32:39.271881Z",
          "iopub.status.idle": "2023-01-18T21:32:39.276202Z",
          "shell.execute_reply": "2023-01-18T21:32:39.275198Z"
        },
        "jupyter": {
          "outputs_hidden": false
        },
        "papermill": {
          "duration": 0.021602,
          "end_time": "2023-01-18T21:32:39.278164",
          "exception": false,
          "start_time": "2023-01-18T21:32:39.256562",
          "status": "completed"
        },
        "tags": [],
        "colab": {
          "base_uri": "https://localhost:8080/",
          "height": 120
        },
        "id": "8b627580",
        "outputId": "54d9d8db-1330-4713-f264-5ed394363cf1"
      },
      "outputs": [
        {
          "output_type": "display_data",
          "data": {
            "text/plain": [
              "<IPython.core.display.HTML object>"
            ],
            "text/html": [
              "\n",
              "<style>\n",
              "    /* Turns off some styling */\n",
              "    progress {\n",
              "        /* gets rid of default border in Firefox and Opera. */\n",
              "        border: none;\n",
              "        /* Needs to be in here for Safari polyfill so background images work as expected. */\n",
              "        background-size: auto;\n",
              "    }\n",
              "    progress:not([value]), progress:not([value])::-webkit-progress-bar {\n",
              "        background: repeating-linear-gradient(45deg, #7e7e7e, #7e7e7e 10px, #5c5c5c 10px, #5c5c5c 20px);\n",
              "    }\n",
              "    .progress-bar-interrupted, .progress-bar-interrupted::-webkit-progress-bar {\n",
              "        background: #F44336;\n",
              "    }\n",
              "</style>\n"
            ]
          },
          "metadata": {}
        },
        {
          "output_type": "display_data",
          "data": {
            "text/plain": [
              "<IPython.core.display.HTML object>"
            ],
            "text/html": []
          },
          "metadata": {}
        },
        {
          "output_type": "display_data",
          "data": {
            "text/plain": [
              "<IPython.core.display.HTML object>"
            ],
            "text/html": [
              "\n",
              "<style>\n",
              "    /* Turns off some styling */\n",
              "    progress {\n",
              "        /* gets rid of default border in Firefox and Opera. */\n",
              "        border: none;\n",
              "        /* Needs to be in here for Safari polyfill so background images work as expected. */\n",
              "        background-size: auto;\n",
              "    }\n",
              "    progress:not([value]), progress:not([value])::-webkit-progress-bar {\n",
              "        background: repeating-linear-gradient(45deg, #7e7e7e, #7e7e7e 10px, #5c5c5c 10px, #5c5c5c 20px);\n",
              "    }\n",
              "    .progress-bar-interrupted, .progress-bar-interrupted::-webkit-progress-bar {\n",
              "        background: #F44336;\n",
              "    }\n",
              "</style>\n"
            ]
          },
          "metadata": {}
        },
        {
          "output_type": "display_data",
          "data": {
            "text/plain": [
              "<IPython.core.display.HTML object>"
            ],
            "text/html": []
          },
          "metadata": {}
        },
        {
          "output_type": "display_data",
          "data": {
            "text/plain": [
              "<IPython.core.display.HTML object>"
            ],
            "text/html": [
              "\n",
              "<style>\n",
              "    /* Turns off some styling */\n",
              "    progress {\n",
              "        /* gets rid of default border in Firefox and Opera. */\n",
              "        border: none;\n",
              "        /* Needs to be in here for Safari polyfill so background images work as expected. */\n",
              "        background-size: auto;\n",
              "    }\n",
              "    progress:not([value]), progress:not([value])::-webkit-progress-bar {\n",
              "        background: repeating-linear-gradient(45deg, #7e7e7e, #7e7e7e 10px, #5c5c5c 10px, #5c5c5c 20px);\n",
              "    }\n",
              "    .progress-bar-interrupted, .progress-bar-interrupted::-webkit-progress-bar {\n",
              "        background: #F44336;\n",
              "    }\n",
              "</style>\n"
            ]
          },
          "metadata": {}
        },
        {
          "output_type": "display_data",
          "data": {
            "text/plain": [
              "<IPython.core.display.HTML object>"
            ],
            "text/html": []
          },
          "metadata": {}
        },
        {
          "output_type": "display_data",
          "data": {
            "text/plain": [
              "<IPython.core.display.HTML object>"
            ],
            "text/html": [
              "\n",
              "<style>\n",
              "    /* Turns off some styling */\n",
              "    progress {\n",
              "        /* gets rid of default border in Firefox and Opera. */\n",
              "        border: none;\n",
              "        /* Needs to be in here for Safari polyfill so background images work as expected. */\n",
              "        background-size: auto;\n",
              "    }\n",
              "    progress:not([value]), progress:not([value])::-webkit-progress-bar {\n",
              "        background: repeating-linear-gradient(45deg, #7e7e7e, #7e7e7e 10px, #5c5c5c 10px, #5c5c5c 20px);\n",
              "    }\n",
              "    .progress-bar-interrupted, .progress-bar-interrupted::-webkit-progress-bar {\n",
              "        background: #F44336;\n",
              "    }\n",
              "</style>\n"
            ]
          },
          "metadata": {}
        },
        {
          "output_type": "display_data",
          "data": {
            "text/plain": [
              "<IPython.core.display.HTML object>"
            ],
            "text/html": []
          },
          "metadata": {}
        },
        {
          "output_type": "display_data",
          "data": {
            "text/plain": [
              "<IPython.core.display.HTML object>"
            ],
            "text/html": [
              "\n",
              "<style>\n",
              "    /* Turns off some styling */\n",
              "    progress {\n",
              "        /* gets rid of default border in Firefox and Opera. */\n",
              "        border: none;\n",
              "        /* Needs to be in here for Safari polyfill so background images work as expected. */\n",
              "        background-size: auto;\n",
              "    }\n",
              "    progress:not([value]), progress:not([value])::-webkit-progress-bar {\n",
              "        background: repeating-linear-gradient(45deg, #7e7e7e, #7e7e7e 10px, #5c5c5c 10px, #5c5c5c 20px);\n",
              "    }\n",
              "    .progress-bar-interrupted, .progress-bar-interrupted::-webkit-progress-bar {\n",
              "        background: #F44336;\n",
              "    }\n",
              "</style>\n"
            ]
          },
          "metadata": {}
        },
        {
          "output_type": "display_data",
          "data": {
            "text/plain": [
              "<IPython.core.display.HTML object>"
            ],
            "text/html": []
          },
          "metadata": {}
        },
        {
          "output_type": "stream",
          "name": "stdout",
          "text": [
            "Free promotion Free Software Software Software Jukebox Pro Jukebox 5 , The Best of the Downloads Jukebox 1 Asp.net Jukebox 15 Jukebox 4 Jukebox ! The\n",
            "Free promotion to free trial on the Internet Archive List is subject to http : / / docs.yahoo.com / info / terms / On Thursday , October 27 , 2002 at 235 - 557 ,\n",
            "Free promotion and promotion , and you 'll never have to receive further mailing lists . We do n't want anybody to receive our mailing who does n't wish to receive this mailing because they wish to receive further mailings .\n",
            "Free promotion for Free Web Deterring Technologies will be available to you ! If you have not previously entered the web site , you may be wish to request for special offers . If you are\n",
            "Free promotion to free software is available for free . That 's not a mess ! Why do n't worry about this ? Yes ! Thank you . They are within the top 50 in the world\n"
          ]
        }
      ],
      "source": [
        "TEXT = \"Free promotion\"\n",
        "N_WORDS = 40\n",
        "N_SENTENCES = 5\n",
        "preds = [lm_learner.predict(TEXT, N_WORDS, temperature=0.75)\n",
        "for _ in range(N_SENTENCES)]\n",
        "print(\"\\n\".join(preds))"
      ]
    },
    {
      "cell_type": "markdown",
      "id": "3d6c9484",
      "metadata": {
        "_cell_guid": "3a625921-a83f-494a-b87b-852caab01d4f",
        "_uuid": "73f0cb97-d7e3-4f77-8637-309568cd7be3",
        "papermill": {
          "duration": 0.014147,
          "end_time": "2023-01-18T21:32:39.306544",
          "exception": false,
          "start_time": "2023-01-18T21:32:39.292397",
          "status": "completed"
        },
        "tags": [],
        "id": "3d6c9484"
      },
      "source": [
        "Create DataLoaders for classification usng the cutomized language model."
      ]
    },
    {
      "cell_type": "code",
      "execution_count": 31,
      "id": "fab4a91c",
      "metadata": {
        "_cell_guid": "58190c03-2e4a-4d32-bf32-6344696075ce",
        "_uuid": "b264d5a6-afdc-4ec6-b7cb-be8baacade98",
        "execution": {
          "iopub.execute_input": "2023-01-18T21:32:39.337562Z",
          "iopub.status.busy": "2023-01-18T21:32:39.336680Z",
          "iopub.status.idle": "2023-01-18T21:32:39.341532Z",
          "shell.execute_reply": "2023-01-18T21:32:39.340692Z"
        },
        "jupyter": {
          "outputs_hidden": false
        },
        "papermill": {
          "duration": 0.022216,
          "end_time": "2023-01-18T21:32:39.343457",
          "exception": false,
          "start_time": "2023-01-18T21:32:39.321241",
          "status": "completed"
        },
        "tags": [],
        "colab": {
          "base_uri": "https://localhost:8080/",
          "height": 38
        },
        "id": "fab4a91c",
        "outputId": "34674838-7fc3-4e3e-fa00-425ae629f34f"
      },
      "outputs": [
        {
          "output_type": "display_data",
          "data": {
            "text/plain": [
              "<IPython.core.display.HTML object>"
            ],
            "text/html": [
              "\n",
              "<style>\n",
              "    /* Turns off some styling */\n",
              "    progress {\n",
              "        /* gets rid of default border in Firefox and Opera. */\n",
              "        border: none;\n",
              "        /* Needs to be in here for Safari polyfill so background images work as expected. */\n",
              "        background-size: auto;\n",
              "    }\n",
              "    progress:not([value]), progress:not([value])::-webkit-progress-bar {\n",
              "        background: repeating-linear-gradient(45deg, #7e7e7e, #7e7e7e 10px, #5c5c5c 10px, #5c5c5c 20px);\n",
              "    }\n",
              "    .progress-bar-interrupted, .progress-bar-interrupted::-webkit-progress-bar {\n",
              "        background: #F44336;\n",
              "    }\n",
              "</style>\n"
            ]
          },
          "metadata": {}
        },
        {
          "output_type": "display_data",
          "data": {
            "text/plain": [
              "<IPython.core.display.HTML object>"
            ],
            "text/html": []
          },
          "metadata": {}
        }
      ],
      "source": [
        "dls_cls = DataBlock(\n",
        "            blocks=(TextBlock.from_df(text_cols=('text'), \n",
        "                              is_lm=False, \n",
        "                              vocab=dls_lm.vocab), \n",
        "            CategoryBlock),\n",
        "            get_x=ColReader('text'),\n",
        "            get_y=ColReader('category'), \n",
        "            splitter=RandomSplitter(valid_pct=0.2, seed=12345)\n",
        "            ).dataloaders(df, bs=64)"
      ]
    },
    {
      "cell_type": "code",
      "execution_count": 32,
      "id": "e682c1ee",
      "metadata": {
        "_cell_guid": "e62244e9-7c5d-429a-9a63-674d463bd724",
        "_uuid": "40007b73-409e-46e7-aac6-8ff60a9784b8",
        "execution": {
          "iopub.execute_input": "2023-01-18T21:32:39.374715Z",
          "iopub.status.busy": "2023-01-18T21:32:39.373140Z",
          "iopub.status.idle": "2023-01-18T21:32:39.377872Z",
          "shell.execute_reply": "2023-01-18T21:32:39.376999Z"
        },
        "jupyter": {
          "outputs_hidden": false
        },
        "papermill": {
          "duration": 0.02216,
          "end_time": "2023-01-18T21:32:39.379890",
          "exception": false,
          "start_time": "2023-01-18T21:32:39.357730",
          "status": "completed"
        },
        "tags": [],
        "colab": {
          "base_uri": "https://localhost:8080/",
          "height": 392
        },
        "id": "e682c1ee",
        "outputId": "b5fce03d-ad3c-4ea5-b253-4f30516b2613"
      },
      "outputs": [
        {
          "output_type": "display_data",
          "data": {
            "text/plain": [
              "<IPython.core.display.HTML object>"
            ],
            "text/html": [
              "<table border=\"1\" class=\"dataframe\">\n",
              "  <thead>\n",
              "    <tr style=\"text-align: right;\">\n",
              "      <th></th>\n",
              "      <th>text</th>\n",
              "      <th>category</th>\n",
              "    </tr>\n",
              "  </thead>\n",
              "  <tbody>\n",
              "    <tr>\n",
              "      <th>0</th>\n",
              "      <td>xxbos xxmaj this is a multi - part message in xxup mime format . xxrep 6 - = _ nextpart _ xxrep 3 0 _ xxrep 3 0 2_01c228ca.593b5280content - type : text / plain ; \\t xxunk - xxunk - transfer - encoding : xxunk &lt; xxunk xxrep 3 $ xxunk ! # xxunk ! # xxunk % / % xxunk , xxunk ! $ xxunk % / $ xxunk xxrep 3 $ xxunk , xxunk ! # xxunk : xxunk $ xxunk # ! xxunk xxrep 3 $ xxup xxunk / $ @$5$$ ! # ! xxunk / ! xxunk &gt; xxunk $ / $ * 4j xxrep 5 $ ? $ 7$^$9 ! # xxunk xxrep 38 - + xxunk \\ xxunk # % \" xxunk \\ % xxunk # % xxunk ! e = xxunk xxunk - mail : xxunk : 03 - 3518 - xxunk</td>\n",
              "      <td>ham</td>\n",
              "    </tr>\n",
              "    <tr>\n",
              "      <th>1</th>\n",
              "      <td>xxbos \" free trade and free markets have proven their ability to lift xxunk out of xxunk not a socio - political / history buff - does anybody have some xxunk ? xxrep 5 - xxmaj original xxmaj message xxrep 5 - xxmaj from : \" rohit xxmaj khare \" xxmaj to : xxmaj sent : xxmaj friday , xxmaj september 20 , 2002 xxunk pmsubject : sed / s / xxmaj united xxmaj states / xxmaj roman xxmaj empire / g &gt; &gt; a world where some live in comfort and plenty , while half of the human &gt; &gt; race lives on less than $ 2 a day , is neither just nor stable . &gt; &gt; xxmaj absolutely correct . xxmaj perhaps the most fundamental thing to realize about &gt; life on xxmaj earth today . &gt; &gt; xxmaj the following is a fascinating document of official</td>\n",
              "      <td>ham</td>\n",
              "    </tr>\n",
              "    <tr>\n",
              "      <th>2</th>\n",
              "      <td>xxbos \" free trade and free markets have proven their ability to lift xxunk out of xxunk not a socio - political / history buff - does anybody have some xxunk ? xxrep 5 - xxmaj original xxmaj message xxrep 5 - xxmaj from : \" rohit xxmaj khare \" xxmaj to : xxmaj sent : xxmaj friday , xxmaj september 20 , 2002 xxunk pmsubject : sed / s / xxmaj united xxmaj states / xxmaj roman xxmaj empire / g &gt; &gt; a world where some live in comfort and plenty , while half of the human &gt; &gt; race lives on less than $ 2 a day , is neither just nor stable . &gt; &gt; xxmaj absolutely correct . xxmaj perhaps the most fundamental thing to realize about &gt; life on xxmaj earth today . &gt; &gt; xxmaj the following is a fascinating document of official</td>\n",
              "      <td>ham</td>\n",
              "    </tr>\n",
              "  </tbody>\n",
              "</table>"
            ]
          },
          "metadata": {}
        }
      ],
      "source": [
        "dls_cls.show_batch(max_n=3)"
      ]
    },
    {
      "cell_type": "markdown",
      "id": "cabf1480",
      "metadata": {
        "_cell_guid": "dbe88362-490a-4529-ae8e-2fc32811a26b",
        "_uuid": "2e7cd64b-f227-4662-8c90-41cad2a09c94",
        "papermill": {
          "duration": 0.014226,
          "end_time": "2023-01-18T21:32:39.408441",
          "exception": false,
          "start_time": "2023-01-18T21:32:39.394215",
          "status": "completed"
        },
        "tags": [],
        "id": "cabf1480"
      },
      "source": [
        "Create text classification learner."
      ]
    },
    {
      "cell_type": "code",
      "execution_count": 33,
      "id": "704e7575",
      "metadata": {
        "_cell_guid": "865faf8b-914f-411d-9582-4a6b6e3cf920",
        "_uuid": "b90bc0a4-ff99-4018-b04a-44bc1fc55611",
        "execution": {
          "iopub.execute_input": "2023-01-18T21:32:39.440157Z",
          "iopub.status.busy": "2023-01-18T21:32:39.439306Z",
          "iopub.status.idle": "2023-01-18T21:32:39.444484Z",
          "shell.execute_reply": "2023-01-18T21:32:39.443546Z"
        },
        "jupyter": {
          "outputs_hidden": false
        },
        "papermill": {
          "duration": 0.023466,
          "end_time": "2023-01-18T21:32:39.446712",
          "exception": false,
          "start_time": "2023-01-18T21:32:39.423246",
          "status": "completed"
        },
        "tags": [],
        "id": "704e7575"
      },
      "outputs": [],
      "source": [
        "learn = text_classifier_learner(dls_cls, \n",
        "                                AWD_LSTM, \n",
        "                                drop_mult=0.5, \n",
        "                                metrics=[accuracy, Precision(), Recall(), F1Score()])"
      ]
    },
    {
      "cell_type": "code",
      "execution_count": 34,
      "id": "b8fd8f31",
      "metadata": {
        "_cell_guid": "d7f3110d-f845-4087-be74-866515112713",
        "_uuid": "ccd781e4-6ef5-473f-8779-e53179508043",
        "execution": {
          "iopub.execute_input": "2023-01-18T21:32:39.478395Z",
          "iopub.status.busy": "2023-01-18T21:32:39.477629Z",
          "iopub.status.idle": "2023-01-18T21:32:39.482465Z",
          "shell.execute_reply": "2023-01-18T21:32:39.481613Z"
        },
        "jupyter": {
          "outputs_hidden": false
        },
        "papermill": {
          "duration": 0.022723,
          "end_time": "2023-01-18T21:32:39.484470",
          "exception": false,
          "start_time": "2023-01-18T21:32:39.461747",
          "status": "completed"
        },
        "tags": [],
        "id": "b8fd8f31"
      },
      "outputs": [],
      "source": [
        "learn = learn.load_encoder('finetuned')"
      ]
    },
    {
      "cell_type": "code",
      "source": [
        "lr = learn.lr_find()"
      ],
      "metadata": {
        "colab": {
          "base_uri": "https://localhost:8080/",
          "height": 475
        },
        "id": "d7blfeK41mIP",
        "outputId": "7dc2c32e-45c6-4026-bdd8-17fdd0eea9a3"
      },
      "id": "d7blfeK41mIP",
      "execution_count": 35,
      "outputs": [
        {
          "output_type": "display_data",
          "data": {
            "text/plain": [
              "<IPython.core.display.HTML object>"
            ],
            "text/html": [
              "\n",
              "<style>\n",
              "    /* Turns off some styling */\n",
              "    progress {\n",
              "        /* gets rid of default border in Firefox and Opera. */\n",
              "        border: none;\n",
              "        /* Needs to be in here for Safari polyfill so background images work as expected. */\n",
              "        background-size: auto;\n",
              "    }\n",
              "    progress:not([value]), progress:not([value])::-webkit-progress-bar {\n",
              "        background: repeating-linear-gradient(45deg, #7e7e7e, #7e7e7e 10px, #5c5c5c 10px, #5c5c5c 20px);\n",
              "    }\n",
              "    .progress-bar-interrupted, .progress-bar-interrupted::-webkit-progress-bar {\n",
              "        background: #F44336;\n",
              "    }\n",
              "</style>\n"
            ]
          },
          "metadata": {}
        },
        {
          "output_type": "display_data",
          "data": {
            "text/plain": [
              "<IPython.core.display.HTML object>"
            ],
            "text/html": []
          },
          "metadata": {}
        },
        {
          "output_type": "display_data",
          "data": {
            "text/plain": [
              "<Figure size 640x480 with 1 Axes>"
            ],
            "image/png": "[encoded data removed]"
          },
          "metadata": {}
        }
      ]
    },
    {
      "cell_type": "code",
      "execution_count": 36,
      "id": "9c196c31",
      "metadata": {
        "_cell_guid": "46e92bf6-f9bd-4f3d-9c55-a625987060f4",
        "_uuid": "4d585937-1805-490e-8668-f95efa18121d",
        "execution": {
          "iopub.execute_input": "2023-01-18T21:32:39.515286Z",
          "iopub.status.busy": "2023-01-18T21:32:39.514430Z",
          "iopub.status.idle": "2023-01-18T21:32:39.519053Z",
          "shell.execute_reply": "2023-01-18T21:32:39.518205Z"
        },
        "jupyter": {
          "outputs_hidden": false
        },
        "papermill": {
          "duration": 0.021788,
          "end_time": "2023-01-18T21:32:39.520790",
          "exception": false,
          "start_time": "2023-01-18T21:32:39.499002",
          "status": "completed"
        },
        "tags": [],
        "colab": {
          "base_uri": "https://localhost:8080/",
          "height": 222
        },
        "id": "9c196c31",
        "outputId": "34ba836c-0ba0-43ff-d4a1-ac3c2577577d"
      },
      "outputs": [
        {
          "output_type": "display_data",
          "data": {
            "text/plain": [
              "<IPython.core.display.HTML object>"
            ],
            "text/html": [
              "\n",
              "<style>\n",
              "    /* Turns off some styling */\n",
              "    progress {\n",
              "        /* gets rid of default border in Firefox and Opera. */\n",
              "        border: none;\n",
              "        /* Needs to be in here for Safari polyfill so background images work as expected. */\n",
              "        background-size: auto;\n",
              "    }\n",
              "    progress:not([value]), progress:not([value])::-webkit-progress-bar {\n",
              "        background: repeating-linear-gradient(45deg, #7e7e7e, #7e7e7e 10px, #5c5c5c 10px, #5c5c5c 20px);\n",
              "    }\n",
              "    .progress-bar-interrupted, .progress-bar-interrupted::-webkit-progress-bar {\n",
              "        background: #F44336;\n",
              "    }\n",
              "</style>\n"
            ]
          },
          "metadata": {}
        },
        {
          "output_type": "display_data",
          "data": {
            "text/plain": [
              "<IPython.core.display.HTML object>"
            ],
            "text/html": [
              "<table border=\"1\" class=\"dataframe\">\n",
              "  <thead>\n",
              "    <tr style=\"text-align: left;\">\n",
              "      <th>epoch</th>\n",
              "      <th>train_loss</th>\n",
              "      <th>valid_loss</th>\n",
              "      <th>accuracy</th>\n",
              "      <th>precision_score</th>\n",
              "      <th>recall_score</th>\n",
              "      <th>f1_score</th>\n",
              "      <th>time</th>\n",
              "    </tr>\n",
              "  </thead>\n",
              "  <tbody>\n",
              "    <tr>\n",
              "      <td>0</td>\n",
              "      <td>0.251876</td>\n",
              "      <td>0.110951</td>\n",
              "      <td>0.968553</td>\n",
              "      <td>0.936293</td>\n",
              "      <td>0.966135</td>\n",
              "      <td>0.950980</td>\n",
              "      <td>01:06</td>\n",
              "    </tr>\n",
              "  </tbody>\n",
              "</table>"
            ]
          },
          "metadata": {}
        },
        {
          "output_type": "display_data",
          "data": {
            "text/plain": [
              "<IPython.core.display.HTML object>"
            ],
            "text/html": [
              "\n",
              "<style>\n",
              "    /* Turns off some styling */\n",
              "    progress {\n",
              "        /* gets rid of default border in Firefox and Opera. */\n",
              "        border: none;\n",
              "        /* Needs to be in here for Safari polyfill so background images work as expected. */\n",
              "        background-size: auto;\n",
              "    }\n",
              "    progress:not([value]), progress:not([value])::-webkit-progress-bar {\n",
              "        background: repeating-linear-gradient(45deg, #7e7e7e, #7e7e7e 10px, #5c5c5c 10px, #5c5c5c 20px);\n",
              "    }\n",
              "    .progress-bar-interrupted, .progress-bar-interrupted::-webkit-progress-bar {\n",
              "        background: #F44336;\n",
              "    }\n",
              "</style>\n"
            ]
          },
          "metadata": {}
        },
        {
          "output_type": "display_data",
          "data": {
            "text/plain": [
              "<IPython.core.display.HTML object>"
            ],
            "text/html": [
              "<table border=\"1\" class=\"dataframe\">\n",
              "  <thead>\n",
              "    <tr style=\"text-align: left;\">\n",
              "      <th>epoch</th>\n",
              "      <th>train_loss</th>\n",
              "      <th>valid_loss</th>\n",
              "      <th>accuracy</th>\n",
              "      <th>precision_score</th>\n",
              "      <th>recall_score</th>\n",
              "      <th>f1_score</th>\n",
              "      <th>time</th>\n",
              "    </tr>\n",
              "  </thead>\n",
              "  <tbody>\n",
              "    <tr>\n",
              "      <td>0</td>\n",
              "      <td>0.131474</td>\n",
              "      <td>0.067605</td>\n",
              "      <td>0.976730</td>\n",
              "      <td>0.965932</td>\n",
              "      <td>0.960159</td>\n",
              "      <td>0.963037</td>\n",
              "      <td>02:06</td>\n",
              "    </tr>\n",
              "    <tr>\n",
              "      <td>1</td>\n",
              "      <td>0.114329</td>\n",
              "      <td>0.055122</td>\n",
              "      <td>0.979874</td>\n",
              "      <td>0.966270</td>\n",
              "      <td>0.970120</td>\n",
              "      <td>0.968191</td>\n",
              "      <td>02:07</td>\n",
              "    </tr>\n",
              "    <tr>\n",
              "      <td>2</td>\n",
              "      <td>0.069277</td>\n",
              "      <td>0.051013</td>\n",
              "      <td>0.983019</td>\n",
              "      <td>0.968442</td>\n",
              "      <td>0.978088</td>\n",
              "      <td>0.973241</td>\n",
              "      <td>02:05</td>\n",
              "    </tr>\n",
              "  </tbody>\n",
              "</table>"
            ]
          },
          "metadata": {}
        }
      ],
      "source": [
        "learn.fine_tune(3, lr[0])"
      ]
    },
    {
      "cell_type": "markdown",
      "id": "b3782b41",
      "metadata": {
        "_cell_guid": "91c3f5ce-1fe8-4802-8f9a-a04317f96952",
        "_uuid": "807234a5-be52-43fc-aa26-19d0de77e38c",
        "papermill": {
          "duration": 0.014142,
          "end_time": "2023-01-18T21:32:39.697683",
          "exception": false,
          "start_time": "2023-01-18T21:32:39.683541",
          "status": "completed"
        },
        "tags": [],
        "id": "b3782b41"
      },
      "source": [
        "Plot confusion matrix. This ULMFit model has performed better (as expected) than the off-the-shelf pre-trained model."
      ]
    },
    {
      "cell_type": "code",
      "execution_count": 37,
      "id": "46483003",
      "metadata": {
        "_cell_guid": "c5535484-e6e9-4e75-811a-d17c5de56b8d",
        "_uuid": "c00bd6c0-87e6-4116-9122-103ea2dbfbc4",
        "execution": {
          "iopub.execute_input": "2023-01-18T21:32:39.728466Z",
          "iopub.status.busy": "2023-01-18T21:32:39.727532Z",
          "iopub.status.idle": "2023-01-18T21:32:39.731995Z",
          "shell.execute_reply": "2023-01-18T21:32:39.731062Z"
        },
        "jupyter": {
          "outputs_hidden": false
        },
        "papermill": {
          "duration": 0.021922,
          "end_time": "2023-01-18T21:32:39.733993",
          "exception": false,
          "start_time": "2023-01-18T21:32:39.712071",
          "status": "completed"
        },
        "tags": [],
        "colab": {
          "base_uri": "https://localhost:8080/",
          "height": 526
        },
        "id": "46483003",
        "outputId": "47f60699-d0d3-445c-d36f-45108eac0a28"
      },
      "outputs": [
        {
          "output_type": "display_data",
          "data": {
            "text/plain": [
              "<IPython.core.display.HTML object>"
            ],
            "text/html": [
              "\n",
              "<style>\n",
              "    /* Turns off some styling */\n",
              "    progress {\n",
              "        /* gets rid of default border in Firefox and Opera. */\n",
              "        border: none;\n",
              "        /* Needs to be in here for Safari polyfill so background images work as expected. */\n",
              "        background-size: auto;\n",
              "    }\n",
              "    progress:not([value]), progress:not([value])::-webkit-progress-bar {\n",
              "        background: repeating-linear-gradient(45deg, #7e7e7e, #7e7e7e 10px, #5c5c5c 10px, #5c5c5c 20px);\n",
              "    }\n",
              "    .progress-bar-interrupted, .progress-bar-interrupted::-webkit-progress-bar {\n",
              "        background: #F44336;\n",
              "    }\n",
              "</style>\n"
            ]
          },
          "metadata": {}
        },
        {
          "output_type": "display_data",
          "data": {
            "text/plain": [
              "<IPython.core.display.HTML object>"
            ],
            "text/html": []
          },
          "metadata": {}
        },
        {
          "output_type": "display_data",
          "data": {
            "text/plain": [
              "<IPython.core.display.HTML object>"
            ],
            "text/html": [
              "\n",
              "<style>\n",
              "    /* Turns off some styling */\n",
              "    progress {\n",
              "        /* gets rid of default border in Firefox and Opera. */\n",
              "        border: none;\n",
              "        /* Needs to be in here for Safari polyfill so background images work as expected. */\n",
              "        background-size: auto;\n",
              "    }\n",
              "    progress:not([value]), progress:not([value])::-webkit-progress-bar {\n",
              "        background: repeating-linear-gradient(45deg, #7e7e7e, #7e7e7e 10px, #5c5c5c 10px, #5c5c5c 20px);\n",
              "    }\n",
              "    .progress-bar-interrupted, .progress-bar-interrupted::-webkit-progress-bar {\n",
              "        background: #F44336;\n",
              "    }\n",
              "</style>\n"
            ]
          },
          "metadata": {}
        },
        {
          "output_type": "display_data",
          "data": {
            "text/plain": [
              "<IPython.core.display.HTML object>"
            ],
            "text/html": []
          },
          "metadata": {}
        },
        {
          "output_type": "display_data",
          "data": {
            "text/plain": [
              "<Figure size 640x480 with 1 Axes>"
            ],
            "image/png": "[encoded data removed]"
          },
          "metadata": {}
        }
      ],
      "source": [
        "interp = ClassificationInterpretation.from_learner(learn)\n",
        "interp.plot_confusion_matrix()"
      ]
    }
  ],
  "metadata": {
    "kernelspec": {
      "display_name": "Python 3",
      "language": "python",
      "name": "python3"
    },
    "language_info": {
      "codemirror_mode": {
        "name": "ipython",
        "version": 3
      },
      "file_extension": ".py",
      "mimetype": "text/x-python",
      "name": "python",
      "nbconvert_exporter": "python",
      "pygments_lexer": "ipython3",
      "version": "3.7.12"
    },
    "papermill": {
      "default_parameters": {},
      "duration": 430.528588,
      "end_time": "2023-01-18T21:32:43.425766",
      "environment_variables": {},
      "exception": null,
      "input_path": "__notebook__.ipynb",
      "output_path": "__notebook__.ipynb",
      "parameters": {},
      "start_time": "2023-01-18T21:25:32.897178",
      "version": "2.3.4"
    },
    "colab": {
      "provenance": [],
      "include_colab_link": true
    },
    "accelerator": "GPU",
    "gpuClass": "standard"
  },
  "nbformat": 4,
  "nbformat_minor": 5
}