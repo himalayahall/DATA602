{
  "cells": [
    {
      "cell_type": "markdown",
      "metadata": {
        "id": "view-in-github",
        "colab_type": "text"
      },
      "source": [
        "<a href=\"https://colab.research.google.com/github/himalayahall/DATA602/blob/main/Project.ipynb\" target=\"_parent\"><img src=\"https://colab.research.google.com/assets/colab-badge.svg\" alt=\"Open In Colab\"/></a>"
      ]
    },
    {
      "cell_type": "markdown",
      "id": "48abf522",
      "metadata": {
        "_cell_guid": "356b1e8e-5777-4832-a31f-4c14b30f5c55",
        "_uuid": "327abaae-b2d2-42be-86c3-50997d599b34",
        "papermill": {
          "duration": 0.01369,
          "end_time": "2023-01-18T21:25:40.673032",
          "exception": false,
          "start_time": "2023-01-18T21:25:40.659342",
          "status": "completed"
        },
        "tags": [],
        "id": "48abf522"
      },
      "source": [
        "## Introduction\n",
        "\n",
        "NLP (Natural Language Processing), NLU (Natural Language Understanding), and NLG (Natural Language Generation) are important subtopics of Machine \n",
        "Learning. \n",
        "\n",
        "**NLP** it involves programming computers to process massive volumes of language data. It involves numerous tasks that break down natural language into \n",
        "smaller elements in order to understand the relationships between those elements and how they work together. NLP focuses largely on converting text to \n",
        "structured data. It does this through the identification of named entities (a process called named entity recognition) and identification of word \n",
        "patterns, using methods like tokenization, stemming, and lemmatization, which examine the root forms of words.\n",
        "\n",
        "**NLU** (Natural Language Understanding) is a subset of natural language processing, which uses syntactic and semantic analysis of text and speech to determine the meaning of a sentence. One of the primary goals of NLU is to teach machines how to interpret and understand language inputted by humans. \n",
        "It aims to teach computers what a body of text or spoken speech means. NLU leverages AI algorithms to recognize attributes of language such as sentiment, semantics, context, and intent. It enables computers to understand the subtleties and variations of language.\n",
        "\n",
        "**NLG** (Natural Language Generation) is also a subset of NLP and is concerned with enabling machines to not just process and understand text but to generate text. While NLU focuses on computer reading comprehension, NLG enables computers to write. NLG is the process of producing a human language \n",
        "text response based on some data input (prompt).[[1]](#1)\n",
        "\n",
        "## Project Goal\n",
        "\n",
        "Recent advancements in NLP, most notable the NLG capabilities of Large Language Models (LLM) like ChatGPT, have taken the public imagination by storm. In this project we will explore the following:\n",
        "\n",
        "- **NLP**: create a classifier to classify product reviews as either original (presumably human created and authentic) or fake (computer generated fake reviews). The motivation for using this dataset is that fake reviews are a major problem, as highlighted in the NPR article [Why we usually can't tell when a review is fake](https://www.npr.org/sections/money/2023/03/07/1160721021/why-we-usually-cant-tell-when-a-review-is-fake), and it would be great to leverage NLP to address the problem.\n",
        "  - Use [Fastai](https://docs.fast.ai) to build the classifier. This will be accomplished by taking a pretrained language model and fine-tuning it to classify reviews.  What we call a language model is a model that has been trained to guess what the next word in a text is (having read the ones before). This kind of task is called self-supervised learning: we do not need to give labels to our model, just feed it lots and lots of texts. It has a process to automatically get labels from the data, and this task isn't trivial: to properly guess the next word in a sentence, the model will have to develop an understanding of the English (or other) language.[[2]](#2)\n",
        "- **NLU**: the English learned by the pretrained language model (Wikipedia) is slightly different from the English used for product reviews, so instead of jumping directly to the classifier, we will fine-tune our pretrained language model to the product corpus and then use that as the base for our classifier. This should (hopefully) result in better performance.\n",
        "- **NLG**: finally, having created a language model that has been fine-tuned for product reviews, we will use it to auto-generate fake reviews. This will be done by giving the model some starting text (prompt) and then asking the model to generate the rest (up to a maximum number of words).\n",
        "\n",
        "## Data Sources\n",
        "\n",
        "The generated [fake reviews dataset](https://osf.io/3vds7), containing 20k fake reviews and 20k real product reviews. OR = Original reviews (presumably human created and authentic); CG = Computer-generated fake reviews.\n",
        "\n",
        "## Tools and Frameworks\n",
        "\n",
        "- [Google Collab](https://colab.research.google.com)\n",
        "- [Jupyter Notebook](https://jupyter.org/)\n",
        "- [Fastai](https://docs.fast.ai)\n",
        "\n",
        "## References\n",
        "<a id=\"1\">[1]</a>\n",
        "https://www.ibm.com/topics/natural-language-processing\n",
        "\n",
        "<a id=\"2\">[2]</a>\n",
        "https://fastai.github.io/fastbook2e/book10.html\n"
      ]
    },
    {
      "cell_type": "markdown",
      "id": "92429604",
      "metadata": {
        "papermill": {
          "duration": 0.013115,
          "end_time": "2023-01-18T21:25:40.698649",
          "exception": false,
          "start_time": "2023-01-18T21:25:40.685534",
          "status": "completed"
        },
        "tags": [],
        "id": "92429604"
      },
      "source": [
        "# Load data"
      ]
    },
    {
      "cell_type": "code",
      "execution_count": 42,
      "id": "d6af7845",
      "metadata": {
        "_cell_guid": "338d8162-b3d6-450a-a4f9-6a4992ff486e",
        "_uuid": "06bea0f2-713c-4d40-9dcd-66986c19a0d6",
        "execution": {
          "iopub.execute_input": "2023-01-18T21:25:40.724171Z",
          "iopub.status.busy": "2023-01-18T21:25:40.723317Z",
          "iopub.status.idle": "2023-01-18T21:25:41.295136Z",
          "shell.execute_reply": "2023-01-18T21:25:41.294143Z"
        },
        "jupyter": {
          "outputs_hidden": false
        },
        "papermill": {
          "duration": 0.587405,
          "end_time": "2023-01-18T21:25:41.297731",
          "exception": false,
          "start_time": "2023-01-18T21:25:40.710326",
          "status": "completed"
        },
        "tags": [],
        "id": "d6af7845"
      },
      "outputs": [],
      "source": [
        "import pandas as pd\n",
        "import re\n",
        "\n",
        "df = pd.read_csv('https://raw.githubusercontent.com/himalayahall/DATA607/main/Project4/EMAILSpamCollectionFull.csv')"
      ]
    },
    {
      "cell_type": "code",
      "execution_count": 43,
      "id": "c10c43dc",
      "metadata": {
        "_cell_guid": "2df8474f-8da9-401c-bf34-a52d4e3334df",
        "_uuid": "38c38e1e-dcab-457c-b65f-5ff70b4cdc3c",
        "execution": {
          "iopub.execute_input": "2023-01-18T21:25:41.322730Z",
          "iopub.status.busy": "2023-01-18T21:25:41.321902Z",
          "iopub.status.idle": "2023-01-18T21:25:41.341106Z",
          "shell.execute_reply": "2023-01-18T21:25:41.340069Z"
        },
        "jupyter": {
          "outputs_hidden": false
        },
        "papermill": {
          "duration": 0.034861,
          "end_time": "2023-01-18T21:25:41.344129",
          "exception": false,
          "start_time": "2023-01-18T21:25:41.309268",
          "status": "completed"
        },
        "scrolled": true,
        "tags": [],
        "colab": {
          "base_uri": "https://localhost:8080/",
          "height": 1000
        },
        "id": "c10c43dc",
        "outputId": "062e2f6b-19b7-4f10-c265-eb9e156da68f"
      },
      "outputs": [
        {
          "output_type": "execute_result",
          "data": {
            "text/plain": [
              "   id                                       from  \\\n",
              "0   1             robert elz <kre@munnari.oz.au>   \n",
              "1   2  steve burt <steve_burt@cursor-system.com>   \n",
              "2   3              \"tim chapman\" <timc@2ubh.com>   \n",
              "3   4           monty solomon <monty@roscom.com>   \n",
              "4   5       tony nugent <tony@linuxworks.com.au>   \n",
              "\n",
              "                                subject category  \\\n",
              "0              re: new sequences window      ham   \n",
              "1             [zzzzteana] re: alexander      ham   \n",
              "2             [zzzzteana] moscow bomber      ham   \n",
              "3  [irr] klez: the virus that won't die      ham   \n",
              "4                  re: insert signature      ham   \n",
              "\n",
              "                                                                                                                                                                                                                                                                                                                                                                                                                                                                                                                                                                                                                      text  \n",
              "0       Date:        Wed, 21 Aug 2002 10:54:46 -0500    From:        Chris Garrigues <cwg-dated-1030377287.06fa6d@DeepEddy.Com>    Message-ID:  <1029945287.4797.TMDA@deepeddy.vircio.com>  | I can't reproduce this error.For me it is very repeatable... (like every time, without fail).This is the debug log of the pick happening ...18:19:03 Pick_It {exec pick +inbox -list -lbrace -lbrace -subject ftp -rbrace -rbrace} {4852-4852 -sequence mercury}18:19:03 exec pick +inbox -list -lbrace -lbrace -subject ftp -rbrace -rbrace 4852-4852 -sequence mercury18:19:04 Ftoc_PickMsgs {{1 hit}}18:19:04 Marking ...  \n",
              "1   Martin A posted:Tassos Papadopoulos, the Greek sculptor behind the plan, judged that the limestone of Mount Kerdylio, 70 miles east of Salonika and not far from the Mount Athos monastic community, was ideal for the patriotic sculpture.   As well as Alexander's granite features, 240 ft high and 170 ft wide, a museum, a restored amphitheatre and car park for admiring crowds areplanned---------------------So is this mountain limestone or granite?If it's limestone, it'll weather pretty fast.------------------------ Yahoo! Groups Sponsor ---------------------~-->4 DVDs Free +s&p Join Nowhttp:/...  \n",
              "2   Man Threatens Explosion In Moscow Thursday August 22, 2002 1:40 PMMOSCOW (AP) - Security officers on Thursday seized an unidentified man whosaid he was armed with explosives and threatened to blow up his truck infront of Russia's Federal Security Services headquarters in Moscow, NTVtelevision reported.The officers seized an automatic rifle the man was carrying, then the mangot out of the truck and was taken into custody, NTV said. No other detailswere immediately available.The man had demanded talks with high government officials, the Interfax andITAR-Tass news agencies said. Ekho Moskvy ...  \n",
              "3   Klez: The Virus That Won't Die Already the most prolific virus ever, Klez continues to wreak havoc.Andrew Brandt>>From the September 2002 issue of PC World magazinePosted Thursday, August 01, 2002The Klez worm is approaching its seventh month of wriggling across the Web, making it one of the most persistent viruses ever. And experts warn that it may be a harbinger of new viruses that use a combination of pernicious approaches to go from PC to PC.Antivirus software makers Symantec and McAfee both report more than 2000 new infections daily, with no sign of letup at press time. The British s...  \n",
              "4   On Wed Aug 21 2002 at 15:46, Ulises Ponce wrote:> Hi!> > Is there a command to insert the signature using a combination of keys and not> to have sent the mail to insert it then?I simply put it (them) into my (nmh) component files (components,replcomps, forwcomps and so on).  That way you get them when you areediting your message.  Also, by using comps files for specificfolders you can alter your .sig per folder (and other tricks).  Seethe docs for (n)mh for all the details.There might (must?) also be a way to get sedit to do it, but I'vebeen using gvim as my exmh message editor for a long...  "
            ],
            "text/html": [
              "\n",
              "  <div id=\"df-e9d5ba8b-6b36-4e73-9ffd-1db0a0463c62\">\n",
              "    <div class=\"colab-df-container\">\n",
              "      <div>\n",
              "<style scoped>\n",
              "    .dataframe tbody tr th:only-of-type {\n",
              "        vertical-align: middle;\n",
              "    }\n",
              "\n",
              "    .dataframe tbody tr th {\n",
              "        vertical-align: top;\n",
              "    }\n",
              "\n",
              "    .dataframe thead th {\n",
              "        text-align: right;\n",
              "    }\n",
              "</style>\n",
              "<table border=\"1\" class=\"dataframe\">\n",
              "  <thead>\n",
              "    <tr style=\"text-align: right;\">\n",
              "      <th></th>\n",
              "      <th>id</th>\n",
              "      <th>from</th>\n",
              "      <th>subject</th>\n",
              "      <th>category</th>\n",
              "      <th>text</th>\n",
              "    </tr>\n",
              "  </thead>\n",
              "  <tbody>\n",
              "    <tr>\n",
              "      <th>0</th>\n",
              "      <td>1</td>\n",
              "      <td>robert elz &lt;kre@munnari.oz.au&gt;</td>\n",
              "      <td>re: new sequences window</td>\n",
              "      <td>ham</td>\n",
              "      <td>Date:        Wed, 21 Aug 2002 10:54:46 -0500    From:        Chris Garrigues &lt;cwg-dated-1030377287.06fa6d@DeepEddy.Com&gt;    Message-ID:  &lt;1029945287.4797.TMDA@deepeddy.vircio.com&gt;  | I can't reproduce this error.For me it is very repeatable... (like every time, without fail).This is the debug log of the pick happening ...18:19:03 Pick_It {exec pick +inbox -list -lbrace -lbrace -subject ftp -rbrace -rbrace} {4852-4852 -sequence mercury}18:19:03 exec pick +inbox -list -lbrace -lbrace -subject ftp -rbrace -rbrace 4852-4852 -sequence mercury18:19:04 Ftoc_PickMsgs {{1 hit}}18:19:04 Marking ...</td>\n",
              "    </tr>\n",
              "    <tr>\n",
              "      <th>1</th>\n",
              "      <td>2</td>\n",
              "      <td>steve burt &lt;steve_burt@cursor-system.com&gt;</td>\n",
              "      <td>[zzzzteana] re: alexander</td>\n",
              "      <td>ham</td>\n",
              "      <td>Martin A posted:Tassos Papadopoulos, the Greek sculptor behind the plan, judged that the limestone of Mount Kerdylio, 70 miles east of Salonika and not far from the Mount Athos monastic community, was ideal for the patriotic sculpture.   As well as Alexander's granite features, 240 ft high and 170 ft wide, a museum, a restored amphitheatre and car park for admiring crowds areplanned---------------------So is this mountain limestone or granite?If it's limestone, it'll weather pretty fast.------------------------ Yahoo! Groups Sponsor ---------------------~--&gt;4 DVDs Free +s&amp;p Join Nowhttp:/...</td>\n",
              "    </tr>\n",
              "    <tr>\n",
              "      <th>2</th>\n",
              "      <td>3</td>\n",
              "      <td>\"tim chapman\" &lt;timc@2ubh.com&gt;</td>\n",
              "      <td>[zzzzteana] moscow bomber</td>\n",
              "      <td>ham</td>\n",
              "      <td>Man Threatens Explosion In Moscow Thursday August 22, 2002 1:40 PMMOSCOW (AP) - Security officers on Thursday seized an unidentified man whosaid he was armed with explosives and threatened to blow up his truck infront of Russia's Federal Security Services headquarters in Moscow, NTVtelevision reported.The officers seized an automatic rifle the man was carrying, then the mangot out of the truck and was taken into custody, NTV said. No other detailswere immediately available.The man had demanded talks with high government officials, the Interfax andITAR-Tass news agencies said. Ekho Moskvy ...</td>\n",
              "    </tr>\n",
              "    <tr>\n",
              "      <th>3</th>\n",
              "      <td>4</td>\n",
              "      <td>monty solomon &lt;monty@roscom.com&gt;</td>\n",
              "      <td>[irr] klez: the virus that won't die</td>\n",
              "      <td>ham</td>\n",
              "      <td>Klez: The Virus That Won't Die Already the most prolific virus ever, Klez continues to wreak havoc.Andrew Brandt&gt;&gt;From the September 2002 issue of PC World magazinePosted Thursday, August 01, 2002The Klez worm is approaching its seventh month of wriggling across the Web, making it one of the most persistent viruses ever. And experts warn that it may be a harbinger of new viruses that use a combination of pernicious approaches to go from PC to PC.Antivirus software makers Symantec and McAfee both report more than 2000 new infections daily, with no sign of letup at press time. The British s...</td>\n",
              "    </tr>\n",
              "    <tr>\n",
              "      <th>4</th>\n",
              "      <td>5</td>\n",
              "      <td>tony nugent &lt;tony@linuxworks.com.au&gt;</td>\n",
              "      <td>re: insert signature</td>\n",
              "      <td>ham</td>\n",
              "      <td>On Wed Aug 21 2002 at 15:46, Ulises Ponce wrote:&gt; Hi!&gt; &gt; Is there a command to insert the signature using a combination of keys and not&gt; to have sent the mail to insert it then?I simply put it (them) into my (nmh) component files (components,replcomps, forwcomps and so on).  That way you get them when you areediting your message.  Also, by using comps files for specificfolders you can alter your .sig per folder (and other tricks).  Seethe docs for (n)mh for all the details.There might (must?) also be a way to get sedit to do it, but I'vebeen using gvim as my exmh message editor for a long...</td>\n",
              "    </tr>\n",
              "  </tbody>\n",
              "</table>\n",
              "</div>\n",
              "      <button class=\"colab-df-convert\" onclick=\"convertToInteractive('df-e9d5ba8b-6b36-4e73-9ffd-1db0a0463c62')\"\n",
              "              title=\"Convert this dataframe to an interactive table.\"\n",
              "              style=\"display:none;\">\n",
              "        \n",
              "  <svg xmlns=\"http://www.w3.org/2000/svg\" height=\"24px\"viewBox=\"0 0 24 24\"\n",
              "       width=\"24px\">\n",
              "    <path d=\"M0 0h24v24H0V0z\" fill=\"none\"/>\n",
              "    <path d=\"M18.56 5.44l.94 2.06.94-2.06 2.06-.94-2.06-.94-.94-2.06-.94 2.06-2.06.94zm-11 1L8.5 8.5l.94-2.06 2.06-.94-2.06-.94L8.5 2.5l-.94 2.06-2.06.94zm10 10l.94 2.06.94-2.06 2.06-.94-2.06-.94-.94-2.06-.94 2.06-2.06.94z\"/><path d=\"M17.41 7.96l-1.37-1.37c-.4-.4-.92-.59-1.43-.59-.52 0-1.04.2-1.43.59L10.3 9.45l-7.72 7.72c-.78.78-.78 2.05 0 2.83L4 21.41c.39.39.9.59 1.41.59.51 0 1.02-.2 1.41-.59l7.78-7.78 2.81-2.81c.8-.78.8-2.07 0-2.86zM5.41 20L4 18.59l7.72-7.72 1.47 1.35L5.41 20z\"/>\n",
              "  </svg>\n",
              "      </button>\n",
              "      \n",
              "  <style>\n",
              "    .colab-df-container {\n",
              "      display:flex;\n",
              "      flex-wrap:wrap;\n",
              "      gap: 12px;\n",
              "    }\n",
              "\n",
              "    .colab-df-convert {\n",
              "      background-color: #E8F0FE;\n",
              "      border: none;\n",
              "      border-radius: 50%;\n",
              "      cursor: pointer;\n",
              "      display: none;\n",
              "      fill: #1967D2;\n",
              "      height: 32px;\n",
              "      padding: 0 0 0 0;\n",
              "      width: 32px;\n",
              "    }\n",
              "\n",
              "    .colab-df-convert:hover {\n",
              "      background-color: #E2EBFA;\n",
              "      box-shadow: 0px 1px 2px rgba(60, 64, 67, 0.3), 0px 1px 3px 1px rgba(60, 64, 67, 0.15);\n",
              "      fill: #174EA6;\n",
              "    }\n",
              "\n",
              "    [theme=dark] .colab-df-convert {\n",
              "      background-color: #3B4455;\n",
              "      fill: #D2E3FC;\n",
              "    }\n",
              "\n",
              "    [theme=dark] .colab-df-convert:hover {\n",
              "      background-color: #434B5C;\n",
              "      box-shadow: 0px 1px 3px 1px rgba(0, 0, 0, 0.15);\n",
              "      filter: drop-shadow(0px 1px 2px rgba(0, 0, 0, 0.3));\n",
              "      fill: #FFFFFF;\n",
              "    }\n",
              "  </style>\n",
              "\n",
              "      <script>\n",
              "        const buttonEl =\n",
              "          document.querySelector('#df-e9d5ba8b-6b36-4e73-9ffd-1db0a0463c62 button.colab-df-convert');\n",
              "        buttonEl.style.display =\n",
              "          google.colab.kernel.accessAllowed ? 'block' : 'none';\n",
              "\n",
              "        async function convertToInteractive(key) {\n",
              "          const element = document.querySelector('#df-e9d5ba8b-6b36-4e73-9ffd-1db0a0463c62');\n",
              "          const dataTable =\n",
              "            await google.colab.kernel.invokeFunction('convertToInteractive',\n",
              "                                                     [key], {});\n",
              "          if (!dataTable) return;\n",
              "\n",
              "          const docLinkHtml = 'Like what you see? Visit the ' +\n",
              "            '<a target=\"_blank\" href=https://colab.research.google.com/notebooks/data_table.ipynb>data table notebook</a>'\n",
              "            + ' to learn more about interactive tables.';\n",
              "          element.innerHTML = '';\n",
              "          dataTable['output_type'] = 'display_data';\n",
              "          await google.colab.output.renderOutput(dataTable, element);\n",
              "          const docLink = document.createElement('div');\n",
              "          docLink.innerHTML = docLinkHtml;\n",
              "          element.appendChild(docLink);\n",
              "        }\n",
              "      </script>\n",
              "    </div>\n",
              "  </div>\n",
              "  "
            ]
          },
          "metadata": {},
          "execution_count": 43
        }
      ],
      "source": [
        "df.head()"
      ]
    },
    {
      "cell_type": "markdown",
      "source": [
        "Drop all columns except text and category."
      ],
      "metadata": {
        "id": "OVgKH6GtjAbY"
      },
      "id": "OVgKH6GtjAbY"
    },
    {
      "cell_type": "code",
      "source": [
        "df.drop(columns=['from', 'subject'], inplace=True)\n",
        "df"
      ],
      "metadata": {
        "colab": {
          "base_uri": "https://localhost:8080/",
          "height": 1000
        },
        "id": "6fd6BE8mi_Sx",
        "outputId": "45bee913-deef-4604-824a-362be892f82a"
      },
      "id": "6fd6BE8mi_Sx",
      "execution_count": 44,
      "outputs": [
        {
          "output_type": "execute_result",
          "data": {
            "text/plain": [
              "        id                               subject category  \\\n",
              "0        1              re: new sequences window      ham   \n",
              "1        2             [zzzzteana] re: alexander      ham   \n",
              "2        3             [zzzzteana] moscow bomber      ham   \n",
              "3        4  [irr] klez: the virus that won't die      ham   \n",
              "4        5                  re: insert signature      ham   \n",
              "...    ...                                   ...      ...   \n",
              "9345  9346                                   NaN     spam   \n",
              "9346  9347                                   NaN     spam   \n",
              "9347  9348                                   NaN     spam   \n",
              "9348  9349                                   NaN     spam   \n",
              "9349  9350                                   NaN     spam   \n",
              "\n",
              "                                                                                                                                                                                                                                                                                                                                                                                                                                                                                                                                                                                                                         text  \n",
              "0          Date:        Wed, 21 Aug 2002 10:54:46 -0500    From:        Chris Garrigues <cwg-dated-1030377287.06fa6d@DeepEddy.Com>    Message-ID:  <1029945287.4797.TMDA@deepeddy.vircio.com>  | I can't reproduce this error.For me it is very repeatable... (like every time, without fail).This is the debug log of the pick happening ...18:19:03 Pick_It {exec pick +inbox -list -lbrace -lbrace -subject ftp -rbrace -rbrace} {4852-4852 -sequence mercury}18:19:03 exec pick +inbox -list -lbrace -lbrace -subject ftp -rbrace -rbrace 4852-4852 -sequence mercury18:19:04 Ftoc_PickMsgs {{1 hit}}18:19:04 Marking ...  \n",
              "1      Martin A posted:Tassos Papadopoulos, the Greek sculptor behind the plan, judged that the limestone of Mount Kerdylio, 70 miles east of Salonika and not far from the Mount Athos monastic community, was ideal for the patriotic sculpture.   As well as Alexander's granite features, 240 ft high and 170 ft wide, a museum, a restored amphitheatre and car park for admiring crowds areplanned---------------------So is this mountain limestone or granite?If it's limestone, it'll weather pretty fast.------------------------ Yahoo! Groups Sponsor ---------------------~-->4 DVDs Free +s&p Join Nowhttp:/...  \n",
              "2      Man Threatens Explosion In Moscow Thursday August 22, 2002 1:40 PMMOSCOW (AP) - Security officers on Thursday seized an unidentified man whosaid he was armed with explosives and threatened to blow up his truck infront of Russia's Federal Security Services headquarters in Moscow, NTVtelevision reported.The officers seized an automatic rifle the man was carrying, then the mangot out of the truck and was taken into custody, NTV said. No other detailswere immediately available.The man had demanded talks with high government officials, the Interfax andITAR-Tass news agencies said. Ekho Moskvy ...  \n",
              "3      Klez: The Virus That Won't Die Already the most prolific virus ever, Klez continues to wreak havoc.Andrew Brandt>>From the September 2002 issue of PC World magazinePosted Thursday, August 01, 2002The Klez worm is approaching its seventh month of wriggling across the Web, making it one of the most persistent viruses ever. And experts warn that it may be a harbinger of new viruses that use a combination of pernicious approaches to go from PC to PC.Antivirus software makers Symantec and McAfee both report more than 2000 new infections daily, with no sign of letup at press time. The British s...  \n",
              "4      On Wed Aug 21 2002 at 15:46, Ulises Ponce wrote:> Hi!> > Is there a command to insert the signature using a combination of keys and not> to have sent the mail to insert it then?I simply put it (them) into my (nmh) component files (components,replcomps, forwcomps and so on).  That way you get them when you areediting your message.  Also, by using comps files for specificfolders you can alter your .sig per folder (and other tricks).  Seethe docs for (n)mh for all the details.There might (must?) also be a way to get sedit to do it, but I'vebeen using gvim as my exmh message editor for a long...  \n",
              "...                                                                                                                                                                                                                                                                                                                                                                                                                                                                                                                                                                                                                       ...  \n",
              "9345                                                                                                                                                                                                                                                                                                                                                                                                                                                                                                                                                                                                                      NaN  \n",
              "9346                                                                                                                                                                                                                                                                                                                                                                                                                                                                                                                                                                                                                      NaN  \n",
              "9347                                                                                                                                                                                                                                                                                                                                                                                                                                                                                                                                                                                                                      NaN  \n",
              "9348                                                                                                                                                                                                                                                                                                                                                                                                                                                                                                                                                                                                                      NaN  \n",
              "9349                                                                                                                                                                                                                                                                                                                                                                                                                                                                                                                                                                                                                      NaN  \n",
              "\n",
              "[9350 rows x 4 columns]"
            ],
            "text/html": [
              "\n",
              "  <div id=\"df-a99075c8-aa06-4e78-bb78-679b4bfbe4d1\">\n",
              "    <div class=\"colab-df-container\">\n",
              "      <div>\n",
              "<style scoped>\n",
              "    .dataframe tbody tr th:only-of-type {\n",
              "        vertical-align: middle;\n",
              "    }\n",
              "\n",
              "    .dataframe tbody tr th {\n",
              "        vertical-align: top;\n",
              "    }\n",
              "\n",
              "    .dataframe thead th {\n",
              "        text-align: right;\n",
              "    }\n",
              "</style>\n",
              "<table border=\"1\" class=\"dataframe\">\n",
              "  <thead>\n",
              "    <tr style=\"text-align: right;\">\n",
              "      <th></th>\n",
              "      <th>id</th>\n",
              "      <th>subject</th>\n",
              "      <th>category</th>\n",
              "      <th>text</th>\n",
              "    </tr>\n",
              "  </thead>\n",
              "  <tbody>\n",
              "    <tr>\n",
              "      <th>0</th>\n",
              "      <td>1</td>\n",
              "      <td>re: new sequences window</td>\n",
              "      <td>ham</td>\n",
              "      <td>Date:        Wed, 21 Aug 2002 10:54:46 -0500    From:        Chris Garrigues &lt;cwg-dated-1030377287.06fa6d@DeepEddy.Com&gt;    Message-ID:  &lt;1029945287.4797.TMDA@deepeddy.vircio.com&gt;  | I can't reproduce this error.For me it is very repeatable... (like every time, without fail).This is the debug log of the pick happening ...18:19:03 Pick_It {exec pick +inbox -list -lbrace -lbrace -subject ftp -rbrace -rbrace} {4852-4852 -sequence mercury}18:19:03 exec pick +inbox -list -lbrace -lbrace -subject ftp -rbrace -rbrace 4852-4852 -sequence mercury18:19:04 Ftoc_PickMsgs {{1 hit}}18:19:04 Marking ...</td>\n",
              "    </tr>\n",
              "    <tr>\n",
              "      <th>1</th>\n",
              "      <td>2</td>\n",
              "      <td>[zzzzteana] re: alexander</td>\n",
              "      <td>ham</td>\n",
              "      <td>Martin A posted:Tassos Papadopoulos, the Greek sculptor behind the plan, judged that the limestone of Mount Kerdylio, 70 miles east of Salonika and not far from the Mount Athos monastic community, was ideal for the patriotic sculpture.   As well as Alexander's granite features, 240 ft high and 170 ft wide, a museum, a restored amphitheatre and car park for admiring crowds areplanned---------------------So is this mountain limestone or granite?If it's limestone, it'll weather pretty fast.------------------------ Yahoo! Groups Sponsor ---------------------~--&gt;4 DVDs Free +s&amp;p Join Nowhttp:/...</td>\n",
              "    </tr>\n",
              "    <tr>\n",
              "      <th>2</th>\n",
              "      <td>3</td>\n",
              "      <td>[zzzzteana] moscow bomber</td>\n",
              "      <td>ham</td>\n",
              "      <td>Man Threatens Explosion In Moscow Thursday August 22, 2002 1:40 PMMOSCOW (AP) - Security officers on Thursday seized an unidentified man whosaid he was armed with explosives and threatened to blow up his truck infront of Russia's Federal Security Services headquarters in Moscow, NTVtelevision reported.The officers seized an automatic rifle the man was carrying, then the mangot out of the truck and was taken into custody, NTV said. No other detailswere immediately available.The man had demanded talks with high government officials, the Interfax andITAR-Tass news agencies said. Ekho Moskvy ...</td>\n",
              "    </tr>\n",
              "    <tr>\n",
              "      <th>3</th>\n",
              "      <td>4</td>\n",
              "      <td>[irr] klez: the virus that won't die</td>\n",
              "      <td>ham</td>\n",
              "      <td>Klez: The Virus That Won't Die Already the most prolific virus ever, Klez continues to wreak havoc.Andrew Brandt&gt;&gt;From the September 2002 issue of PC World magazinePosted Thursday, August 01, 2002The Klez worm is approaching its seventh month of wriggling across the Web, making it one of the most persistent viruses ever. And experts warn that it may be a harbinger of new viruses that use a combination of pernicious approaches to go from PC to PC.Antivirus software makers Symantec and McAfee both report more than 2000 new infections daily, with no sign of letup at press time. The British s...</td>\n",
              "    </tr>\n",
              "    <tr>\n",
              "      <th>4</th>\n",
              "      <td>5</td>\n",
              "      <td>re: insert signature</td>\n",
              "      <td>ham</td>\n",
              "      <td>On Wed Aug 21 2002 at 15:46, Ulises Ponce wrote:&gt; Hi!&gt; &gt; Is there a command to insert the signature using a combination of keys and not&gt; to have sent the mail to insert it then?I simply put it (them) into my (nmh) component files (components,replcomps, forwcomps and so on).  That way you get them when you areediting your message.  Also, by using comps files for specificfolders you can alter your .sig per folder (and other tricks).  Seethe docs for (n)mh for all the details.There might (must?) also be a way to get sedit to do it, but I'vebeen using gvim as my exmh message editor for a long...</td>\n",
              "    </tr>\n",
              "    <tr>\n",
              "      <th>...</th>\n",
              "      <td>...</td>\n",
              "      <td>...</td>\n",
              "      <td>...</td>\n",
              "      <td>...</td>\n",
              "    </tr>\n",
              "    <tr>\n",
              "      <th>9345</th>\n",
              "      <td>9346</td>\n",
              "      <td>NaN</td>\n",
              "      <td>spam</td>\n",
              "      <td>NaN</td>\n",
              "    </tr>\n",
              "    <tr>\n",
              "      <th>9346</th>\n",
              "      <td>9347</td>\n",
              "      <td>NaN</td>\n",
              "      <td>spam</td>\n",
              "      <td>NaN</td>\n",
              "    </tr>\n",
              "    <tr>\n",
              "      <th>9347</th>\n",
              "      <td>9348</td>\n",
              "      <td>NaN</td>\n",
              "      <td>spam</td>\n",
              "      <td>NaN</td>\n",
              "    </tr>\n",
              "    <tr>\n",
              "      <th>9348</th>\n",
              "      <td>9349</td>\n",
              "      <td>NaN</td>\n",
              "      <td>spam</td>\n",
              "      <td>NaN</td>\n",
              "    </tr>\n",
              "    <tr>\n",
              "      <th>9349</th>\n",
              "      <td>9350</td>\n",
              "      <td>NaN</td>\n",
              "      <td>spam</td>\n",
              "      <td>NaN</td>\n",
              "    </tr>\n",
              "  </tbody>\n",
              "</table>\n",
              "<p>9350 rows × 4 columns</p>\n",
              "</div>\n",
              "      <button class=\"colab-df-convert\" onclick=\"convertToInteractive('df-a99075c8-aa06-4e78-bb78-679b4bfbe4d1')\"\n",
              "              title=\"Convert this dataframe to an interactive table.\"\n",
              "              style=\"display:none;\">\n",
              "        \n",
              "  <svg xmlns=\"http://www.w3.org/2000/svg\" height=\"24px\"viewBox=\"0 0 24 24\"\n",
              "       width=\"24px\">\n",
              "    <path d=\"M0 0h24v24H0V0z\" fill=\"none\"/>\n",
              "    <path d=\"M18.56 5.44l.94 2.06.94-2.06 2.06-.94-2.06-.94-.94-2.06-.94 2.06-2.06.94zm-11 1L8.5 8.5l.94-2.06 2.06-.94-2.06-.94L8.5 2.5l-.94 2.06-2.06.94zm10 10l.94 2.06.94-2.06 2.06-.94-2.06-.94-.94-2.06-.94 2.06-2.06.94z\"/><path d=\"M17.41 7.96l-1.37-1.37c-.4-.4-.92-.59-1.43-.59-.52 0-1.04.2-1.43.59L10.3 9.45l-7.72 7.72c-.78.78-.78 2.05 0 2.83L4 21.41c.39.39.9.59 1.41.59.51 0 1.02-.2 1.41-.59l7.78-7.78 2.81-2.81c.8-.78.8-2.07 0-2.86zM5.41 20L4 18.59l7.72-7.72 1.47 1.35L5.41 20z\"/>\n",
              "  </svg>\n",
              "      </button>\n",
              "      \n",
              "  <style>\n",
              "    .colab-df-container {\n",
              "      display:flex;\n",
              "      flex-wrap:wrap;\n",
              "      gap: 12px;\n",
              "    }\n",
              "\n",
              "    .colab-df-convert {\n",
              "      background-color: #E8F0FE;\n",
              "      border: none;\n",
              "      border-radius: 50%;\n",
              "      cursor: pointer;\n",
              "      display: none;\n",
              "      fill: #1967D2;\n",
              "      height: 32px;\n",
              "      padding: 0 0 0 0;\n",
              "      width: 32px;\n",
              "    }\n",
              "\n",
              "    .colab-df-convert:hover {\n",
              "      background-color: #E2EBFA;\n",
              "      box-shadow: 0px 1px 2px rgba(60, 64, 67, 0.3), 0px 1px 3px 1px rgba(60, 64, 67, 0.15);\n",
              "      fill: #174EA6;\n",
              "    }\n",
              "\n",
              "    [theme=dark] .colab-df-convert {\n",
              "      background-color: #3B4455;\n",
              "      fill: #D2E3FC;\n",
              "    }\n",
              "\n",
              "    [theme=dark] .colab-df-convert:hover {\n",
              "      background-color: #434B5C;\n",
              "      box-shadow: 0px 1px 3px 1px rgba(0, 0, 0, 0.15);\n",
              "      filter: drop-shadow(0px 1px 2px rgba(0, 0, 0, 0.3));\n",
              "      fill: #FFFFFF;\n",
              "    }\n",
              "  </style>\n",
              "\n",
              "      <script>\n",
              "        const buttonEl =\n",
              "          document.querySelector('#df-a99075c8-aa06-4e78-bb78-679b4bfbe4d1 button.colab-df-convert');\n",
              "        buttonEl.style.display =\n",
              "          google.colab.kernel.accessAllowed ? 'block' : 'none';\n",
              "\n",
              "        async function convertToInteractive(key) {\n",
              "          const element = document.querySelector('#df-a99075c8-aa06-4e78-bb78-679b4bfbe4d1');\n",
              "          const dataTable =\n",
              "            await google.colab.kernel.invokeFunction('convertToInteractive',\n",
              "                                                     [key], {});\n",
              "          if (!dataTable) return;\n",
              "\n",
              "          const docLinkHtml = 'Like what you see? Visit the ' +\n",
              "            '<a target=\"_blank\" href=https://colab.research.google.com/notebooks/data_table.ipynb>data table notebook</a>'\n",
              "            + ' to learn more about interactive tables.';\n",
              "          element.innerHTML = '';\n",
              "          dataTable['output_type'] = 'display_data';\n",
              "          await google.colab.output.renderOutput(dataTable, element);\n",
              "          const docLink = document.createElement('div');\n",
              "          docLink.innerHTML = docLinkHtml;\n",
              "          element.appendChild(docLink);\n",
              "        }\n",
              "      </script>\n",
              "    </div>\n",
              "  </div>\n",
              "  "
            ]
          },
          "metadata": {},
          "execution_count": 44
        }
      ]
    },
    {
      "cell_type": "code",
      "execution_count": 45,
      "id": "7322f3ad",
      "metadata": {
        "_cell_guid": "bf03f96e-9039-4496-bcfd-d92923b793cf",
        "_uuid": "8e543211-3391-4f66-84bb-9ca84e000313",
        "execution": {
          "iopub.execute_input": "2023-01-18T21:25:41.368987Z",
          "iopub.status.busy": "2023-01-18T21:25:41.368081Z",
          "iopub.status.idle": "2023-01-18T21:25:41.407427Z",
          "shell.execute_reply": "2023-01-18T21:25:41.406515Z"
        },
        "jupyter": {
          "outputs_hidden": false
        },
        "papermill": {
          "duration": 0.053799,
          "end_time": "2023-01-18T21:25:41.409477",
          "exception": false,
          "start_time": "2023-01-18T21:25:41.355678",
          "status": "completed"
        },
        "scrolled": true,
        "tags": [],
        "colab": {
          "base_uri": "https://localhost:8080/",
          "height": 171
        },
        "id": "7322f3ad",
        "outputId": "28107de7-cfc0-4ac4-cc7b-30349d78ea0d"
      },
      "outputs": [
        {
          "output_type": "execute_result",
          "data": {
            "text/plain": [
              "                       subject category  text\n",
              "count                     7903     9350  7953\n",
              "unique                    3491        2  4618\n",
              "top     [spambayes] test sets?      ham      \n",
              "freq                        58     5553    84"
            ],
            "text/html": [
              "\n",
              "  <div id=\"df-c01c0cef-03cc-4e46-b918-6ff775752888\">\n",
              "    <div class=\"colab-df-container\">\n",
              "      <div>\n",
              "<style scoped>\n",
              "    .dataframe tbody tr th:only-of-type {\n",
              "        vertical-align: middle;\n",
              "    }\n",
              "\n",
              "    .dataframe tbody tr th {\n",
              "        vertical-align: top;\n",
              "    }\n",
              "\n",
              "    .dataframe thead th {\n",
              "        text-align: right;\n",
              "    }\n",
              "</style>\n",
              "<table border=\"1\" class=\"dataframe\">\n",
              "  <thead>\n",
              "    <tr style=\"text-align: right;\">\n",
              "      <th></th>\n",
              "      <th>subject</th>\n",
              "      <th>category</th>\n",
              "      <th>text</th>\n",
              "    </tr>\n",
              "  </thead>\n",
              "  <tbody>\n",
              "    <tr>\n",
              "      <th>count</th>\n",
              "      <td>7903</td>\n",
              "      <td>9350</td>\n",
              "      <td>7953</td>\n",
              "    </tr>\n",
              "    <tr>\n",
              "      <th>unique</th>\n",
              "      <td>3491</td>\n",
              "      <td>2</td>\n",
              "      <td>4618</td>\n",
              "    </tr>\n",
              "    <tr>\n",
              "      <th>top</th>\n",
              "      <td>[spambayes] test sets?</td>\n",
              "      <td>ham</td>\n",
              "      <td></td>\n",
              "    </tr>\n",
              "    <tr>\n",
              "      <th>freq</th>\n",
              "      <td>58</td>\n",
              "      <td>5553</td>\n",
              "      <td>84</td>\n",
              "    </tr>\n",
              "  </tbody>\n",
              "</table>\n",
              "</div>\n",
              "      <button class=\"colab-df-convert\" onclick=\"convertToInteractive('df-c01c0cef-03cc-4e46-b918-6ff775752888')\"\n",
              "              title=\"Convert this dataframe to an interactive table.\"\n",
              "              style=\"display:none;\">\n",
              "        \n",
              "  <svg xmlns=\"http://www.w3.org/2000/svg\" height=\"24px\"viewBox=\"0 0 24 24\"\n",
              "       width=\"24px\">\n",
              "    <path d=\"M0 0h24v24H0V0z\" fill=\"none\"/>\n",
              "    <path d=\"M18.56 5.44l.94 2.06.94-2.06 2.06-.94-2.06-.94-.94-2.06-.94 2.06-2.06.94zm-11 1L8.5 8.5l.94-2.06 2.06-.94-2.06-.94L8.5 2.5l-.94 2.06-2.06.94zm10 10l.94 2.06.94-2.06 2.06-.94-2.06-.94-.94-2.06-.94 2.06-2.06.94z\"/><path d=\"M17.41 7.96l-1.37-1.37c-.4-.4-.92-.59-1.43-.59-.52 0-1.04.2-1.43.59L10.3 9.45l-7.72 7.72c-.78.78-.78 2.05 0 2.83L4 21.41c.39.39.9.59 1.41.59.51 0 1.02-.2 1.41-.59l7.78-7.78 2.81-2.81c.8-.78.8-2.07 0-2.86zM5.41 20L4 18.59l7.72-7.72 1.47 1.35L5.41 20z\"/>\n",
              "  </svg>\n",
              "      </button>\n",
              "      \n",
              "  <style>\n",
              "    .colab-df-container {\n",
              "      display:flex;\n",
              "      flex-wrap:wrap;\n",
              "      gap: 12px;\n",
              "    }\n",
              "\n",
              "    .colab-df-convert {\n",
              "      background-color: #E8F0FE;\n",
              "      border: none;\n",
              "      border-radius: 50%;\n",
              "      cursor: pointer;\n",
              "      display: none;\n",
              "      fill: #1967D2;\n",
              "      height: 32px;\n",
              "      padding: 0 0 0 0;\n",
              "      width: 32px;\n",
              "    }\n",
              "\n",
              "    .colab-df-convert:hover {\n",
              "      background-color: #E2EBFA;\n",
              "      box-shadow: 0px 1px 2px rgba(60, 64, 67, 0.3), 0px 1px 3px 1px rgba(60, 64, 67, 0.15);\n",
              "      fill: #174EA6;\n",
              "    }\n",
              "\n",
              "    [theme=dark] .colab-df-convert {\n",
              "      background-color: #3B4455;\n",
              "      fill: #D2E3FC;\n",
              "    }\n",
              "\n",
              "    [theme=dark] .colab-df-convert:hover {\n",
              "      background-color: #434B5C;\n",
              "      box-shadow: 0px 1px 3px 1px rgba(0, 0, 0, 0.15);\n",
              "      filter: drop-shadow(0px 1px 2px rgba(0, 0, 0, 0.3));\n",
              "      fill: #FFFFFF;\n",
              "    }\n",
              "  </style>\n",
              "\n",
              "      <script>\n",
              "        const buttonEl =\n",
              "          document.querySelector('#df-c01c0cef-03cc-4e46-b918-6ff775752888 button.colab-df-convert');\n",
              "        buttonEl.style.display =\n",
              "          google.colab.kernel.accessAllowed ? 'block' : 'none';\n",
              "\n",
              "        async function convertToInteractive(key) {\n",
              "          const element = document.querySelector('#df-c01c0cef-03cc-4e46-b918-6ff775752888');\n",
              "          const dataTable =\n",
              "            await google.colab.kernel.invokeFunction('convertToInteractive',\n",
              "                                                     [key], {});\n",
              "          if (!dataTable) return;\n",
              "\n",
              "          const docLinkHtml = 'Like what you see? Visit the ' +\n",
              "            '<a target=\"_blank\" href=https://colab.research.google.com/notebooks/data_table.ipynb>data table notebook</a>'\n",
              "            + ' to learn more about interactive tables.';\n",
              "          element.innerHTML = '';\n",
              "          dataTable['output_type'] = 'display_data';\n",
              "          await google.colab.output.renderOutput(dataTable, element);\n",
              "          const docLink = document.createElement('div');\n",
              "          docLink.innerHTML = docLinkHtml;\n",
              "          element.appendChild(docLink);\n",
              "        }\n",
              "      </script>\n",
              "    </div>\n",
              "  </div>\n",
              "  "
            ]
          },
          "metadata": {},
          "execution_count": 45
        }
      ],
      "source": [
        "df.describe(include='object')"
      ]
    },
    {
      "cell_type": "markdown",
      "id": "d30326bf",
      "metadata": {
        "_cell_guid": "bfab9321-aaaa-4e41-b45e-d80c77dea866",
        "_uuid": "03eac38f-1b5b-440b-bb71-804c0cead37b",
        "papermill": {
          "duration": 0.011626,
          "end_time": "2023-01-18T21:25:41.432761",
          "exception": false,
          "start_time": "2023-01-18T21:25:41.421135",
          "status": "completed"
        },
        "tags": [],
        "id": "d30326bf"
      },
      "source": [
        "# Cleanup Data"
      ]
    },
    {
      "cell_type": "markdown",
      "id": "3e78e957",
      "metadata": {
        "papermill": {
          "duration": 0.011727,
          "end_time": "2023-01-18T21:25:41.586749",
          "exception": false,
          "start_time": "2023-01-18T21:25:41.575022",
          "status": "completed"
        },
        "tags": [],
        "id": "3e78e957"
      },
      "source": [
        "Drop NAs and strip HTML tags."
      ]
    },
    {
      "cell_type": "code",
      "execution_count": 46,
      "id": "3d740a52",
      "metadata": {
        "_cell_guid": "09c3248f-82ae-49c6-99f4-9aea6a7c393a",
        "_uuid": "cb5ed568-ad08-42ad-97d0-2f0c4b254d2c",
        "execution": {
          "iopub.execute_input": "2023-01-18T21:25:41.613444Z",
          "iopub.status.busy": "2023-01-18T21:25:41.613155Z",
          "iopub.status.idle": "2023-01-18T21:25:41.791603Z",
          "shell.execute_reply": "2023-01-18T21:25:41.790607Z"
        },
        "jupyter": {
          "outputs_hidden": false
        },
        "papermill": {
          "duration": 0.194918,
          "end_time": "2023-01-18T21:25:41.793674",
          "exception": false,
          "start_time": "2023-01-18T21:25:41.598756",
          "status": "completed"
        },
        "tags": [],
        "colab": {
          "base_uri": "https://localhost:8080/",
          "height": 406
        },
        "id": "3d740a52",
        "outputId": "ae570fd3-3592-48c7-d45d-e01d5beb916b"
      },
      "outputs": [
        {
          "output_type": "stream",
          "name": "stdout",
          "text": [
            "   id                               subject category  \\\n",
            "0   1              re: new sequences window      ham   \n",
            "1   2             [zzzzteana] re: alexander      ham   \n",
            "2   3             [zzzzteana] moscow bomber      ham   \n",
            "3   4  [irr] klez: the virus that won't die      ham   \n",
            "4   5                  re: insert signature      ham   \n",
            "\n",
            "                                                                                                                                                                                                                                                                                                                                                                                                                                                                                                                                                                                                                      text  \n",
            "0       Date:        Wed, 21 Aug 2002 10:54:46 -0500    From:        Chris Garrigues      Message-ID:     | I can't reproduce this error.For me it is very repeatable... (like every time, without fail).This is the debug log of the pick happening ...18:19:03 Pick_It {exec pick +inbox -list -lbrace -lbrace -subject ftp -rbrace -rbrace} {4852-4852 -sequence mercury}18:19:03 exec pick +inbox -list -lbrace -lbrace -subject ftp -rbrace -rbrace 4852-4852 -sequence mercury18:19:04 Ftoc_PickMsgs {{1 hit}}18:19:04 Marking 1 hits18:19:04 tkerror: syntax error in expression \"int ...Note, if I run the pick...  \n",
            "1   Martin A posted:Tassos Papadopoulos, the Greek sculptor behind the plan, judged that the limestone of Mount Kerdylio, 70 miles east of Salonika and not far from the Mount Athos monastic community, was ideal for the patriotic sculpture.   As well as Alexander's granite features, 240 ft high and 170 ft wide, a museum, a restored amphitheatre and car park for admiring crowds areplanned---------------------So is this mountain limestone or granite?If it's limestone, it'll weather pretty fast.------------------------ Yahoo! Groups Sponsor ---------------------~-->4 DVDs Free +s&p Join Nowhttp:/...  \n",
            "2   Man Threatens Explosion In Moscow Thursday August 22, 2002 1:40 PMMOSCOW (AP) - Security officers on Thursday seized an unidentified man whosaid he was armed with explosives and threatened to blow up his truck infront of Russia's Federal Security Services headquarters in Moscow, NTVtelevision reported.The officers seized an automatic rifle the man was carrying, then the mangot out of the truck and was taken into custody, NTV said. No other detailswere immediately available.The man had demanded talks with high government officials, the Interfax andITAR-Tass news agencies said. Ekho Moskvy ...  \n",
            "3   Klez: The Virus That Won't Die Already the most prolific virus ever, Klez continues to wreak havoc.Andrew Brandt>>From the September 2002 issue of PC World magazinePosted Thursday, August 01, 2002The Klez worm is approaching its seventh month of wriggling across the Web, making it one of the most persistent viruses ever. And experts warn that it may be a harbinger of new viruses that use a combination of pernicious approaches to go from PC to PC.Antivirus software makers Symantec and McAfee both report more than 2000 new infections daily, with no sign of letup at press time. The British s...  \n",
            "4   On Wed Aug 21 2002 at 15:46, Ulises Ponce wrote:> Hi!> > Is there a command to insert the signature using a combination of keys and not> to have sent the mail to insert it then?I simply put it (them) into my (nmh) component files (components,replcomps, forwcomps and so on).  That way you get them when you areediting your message.  Also, by using comps files for specificfolders you can alter your .sig per folder (and other tricks).  Seethe docs for (n)mh for all the details.There might (must?) also be a way to get sedit to do it, but I'vebeen using gvim as my exmh message editor for a long...  \n"
          ]
        },
        {
          "output_type": "execute_result",
          "data": {
            "text/plain": [
              "                       subject category  text\n",
              "count                     7903     7903  7903\n",
              "unique                    3491        2  4553\n",
              "top     [spambayes] test sets?      ham      \n",
              "freq                        58     5549    48"
            ],
            "text/html": [
              "\n",
              "  <div id=\"df-ff6a9079-94c1-4aef-bf78-633a0cadb7c4\">\n",
              "    <div class=\"colab-df-container\">\n",
              "      <div>\n",
              "<style scoped>\n",
              "    .dataframe tbody tr th:only-of-type {\n",
              "        vertical-align: middle;\n",
              "    }\n",
              "\n",
              "    .dataframe tbody tr th {\n",
              "        vertical-align: top;\n",
              "    }\n",
              "\n",
              "    .dataframe thead th {\n",
              "        text-align: right;\n",
              "    }\n",
              "</style>\n",
              "<table border=\"1\" class=\"dataframe\">\n",
              "  <thead>\n",
              "    <tr style=\"text-align: right;\">\n",
              "      <th></th>\n",
              "      <th>subject</th>\n",
              "      <th>category</th>\n",
              "      <th>text</th>\n",
              "    </tr>\n",
              "  </thead>\n",
              "  <tbody>\n",
              "    <tr>\n",
              "      <th>count</th>\n",
              "      <td>7903</td>\n",
              "      <td>7903</td>\n",
              "      <td>7903</td>\n",
              "    </tr>\n",
              "    <tr>\n",
              "      <th>unique</th>\n",
              "      <td>3491</td>\n",
              "      <td>2</td>\n",
              "      <td>4553</td>\n",
              "    </tr>\n",
              "    <tr>\n",
              "      <th>top</th>\n",
              "      <td>[spambayes] test sets?</td>\n",
              "      <td>ham</td>\n",
              "      <td></td>\n",
              "    </tr>\n",
              "    <tr>\n",
              "      <th>freq</th>\n",
              "      <td>58</td>\n",
              "      <td>5549</td>\n",
              "      <td>48</td>\n",
              "    </tr>\n",
              "  </tbody>\n",
              "</table>\n",
              "</div>\n",
              "      <button class=\"colab-df-convert\" onclick=\"convertToInteractive('df-ff6a9079-94c1-4aef-bf78-633a0cadb7c4')\"\n",
              "              title=\"Convert this dataframe to an interactive table.\"\n",
              "              style=\"display:none;\">\n",
              "        \n",
              "  <svg xmlns=\"http://www.w3.org/2000/svg\" height=\"24px\"viewBox=\"0 0 24 24\"\n",
              "       width=\"24px\">\n",
              "    <path d=\"M0 0h24v24H0V0z\" fill=\"none\"/>\n",
              "    <path d=\"M18.56 5.44l.94 2.06.94-2.06 2.06-.94-2.06-.94-.94-2.06-.94 2.06-2.06.94zm-11 1L8.5 8.5l.94-2.06 2.06-.94-2.06-.94L8.5 2.5l-.94 2.06-2.06.94zm10 10l.94 2.06.94-2.06 2.06-.94-2.06-.94-.94-2.06-.94 2.06-2.06.94z\"/><path d=\"M17.41 7.96l-1.37-1.37c-.4-.4-.92-.59-1.43-.59-.52 0-1.04.2-1.43.59L10.3 9.45l-7.72 7.72c-.78.78-.78 2.05 0 2.83L4 21.41c.39.39.9.59 1.41.59.51 0 1.02-.2 1.41-.59l7.78-7.78 2.81-2.81c.8-.78.8-2.07 0-2.86zM5.41 20L4 18.59l7.72-7.72 1.47 1.35L5.41 20z\"/>\n",
              "  </svg>\n",
              "      </button>\n",
              "      \n",
              "  <style>\n",
              "    .colab-df-container {\n",
              "      display:flex;\n",
              "      flex-wrap:wrap;\n",
              "      gap: 12px;\n",
              "    }\n",
              "\n",
              "    .colab-df-convert {\n",
              "      background-color: #E8F0FE;\n",
              "      border: none;\n",
              "      border-radius: 50%;\n",
              "      cursor: pointer;\n",
              "      display: none;\n",
              "      fill: #1967D2;\n",
              "      height: 32px;\n",
              "      padding: 0 0 0 0;\n",
              "      width: 32px;\n",
              "    }\n",
              "\n",
              "    .colab-df-convert:hover {\n",
              "      background-color: #E2EBFA;\n",
              "      box-shadow: 0px 1px 2px rgba(60, 64, 67, 0.3), 0px 1px 3px 1px rgba(60, 64, 67, 0.15);\n",
              "      fill: #174EA6;\n",
              "    }\n",
              "\n",
              "    [theme=dark] .colab-df-convert {\n",
              "      background-color: #3B4455;\n",
              "      fill: #D2E3FC;\n",
              "    }\n",
              "\n",
              "    [theme=dark] .colab-df-convert:hover {\n",
              "      background-color: #434B5C;\n",
              "      box-shadow: 0px 1px 3px 1px rgba(0, 0, 0, 0.15);\n",
              "      filter: drop-shadow(0px 1px 2px rgba(0, 0, 0, 0.3));\n",
              "      fill: #FFFFFF;\n",
              "    }\n",
              "  </style>\n",
              "\n",
              "      <script>\n",
              "        const buttonEl =\n",
              "          document.querySelector('#df-ff6a9079-94c1-4aef-bf78-633a0cadb7c4 button.colab-df-convert');\n",
              "        buttonEl.style.display =\n",
              "          google.colab.kernel.accessAllowed ? 'block' : 'none';\n",
              "\n",
              "        async function convertToInteractive(key) {\n",
              "          const element = document.querySelector('#df-ff6a9079-94c1-4aef-bf78-633a0cadb7c4');\n",
              "          const dataTable =\n",
              "            await google.colab.kernel.invokeFunction('convertToInteractive',\n",
              "                                                     [key], {});\n",
              "          if (!dataTable) return;\n",
              "\n",
              "          const docLinkHtml = 'Like what you see? Visit the ' +\n",
              "            '<a target=\"_blank\" href=https://colab.research.google.com/notebooks/data_table.ipynb>data table notebook</a>'\n",
              "            + ' to learn more about interactive tables.';\n",
              "          element.innerHTML = '';\n",
              "          dataTable['output_type'] = 'display_data';\n",
              "          await google.colab.output.renderOutput(dataTable, element);\n",
              "          const docLink = document.createElement('div');\n",
              "          docLink.innerHTML = docLinkHtml;\n",
              "          element.appendChild(docLink);\n",
              "        }\n",
              "      </script>\n",
              "    </div>\n",
              "  </div>\n",
              "  "
            ]
          },
          "metadata": {},
          "execution_count": 46
        }
      ],
      "source": [
        "df.dropna(inplace=True)\n",
        "df['text'] = df['text'].str.replace('<[^<>]*>', ' ', regex=True)\n",
        "print(df.head())\n",
        "df.describe(include='object')"
      ]
    },
    {
      "cell_type": "markdown",
      "id": "f5efa9e1",
      "metadata": {
        "papermill": {
          "duration": 0.01219,
          "end_time": "2023-01-18T21:25:41.900665",
          "exception": false,
          "start_time": "2023-01-18T21:25:41.888475",
          "status": "completed"
        },
        "tags": [],
        "id": "f5efa9e1"
      },
      "source": [
        "## Compute NULL model (baseline) accuracy"
      ]
    },
    {
      "cell_type": "markdown",
      "id": "5a008116",
      "metadata": {
        "_cell_guid": "168d1c33-2f28-4aef-915d-dc5466e224aa",
        "_uuid": "72537732-ff6f-4b5c-bb71-330dc8c56987",
        "papermill": {
          "duration": 0.012109,
          "end_time": "2023-01-18T21:25:41.925162",
          "exception": false,
          "start_time": "2023-01-18T21:25:41.913053",
          "status": "completed"
        },
        "tags": [],
        "id": "5a008116"
      },
      "source": [
        "As expected, this dataset is unbalanced (more $ham$ than $spam$ observations) and the $null$ model has 70% accuracy. The $null$ model always predicts the majority class ($ham$) and is useless for detecting $spam$ emails.\n",
        "\n",
        "As a result, we know that a model worth considering must have accuracy significantly greater than 70%."
      ]
    },
    {
      "cell_type": "code",
      "execution_count": 47,
      "id": "044bde93",
      "metadata": {
        "_cell_guid": "3eec5891-33fc-4067-8e50-af5a0556c9fa",
        "_uuid": "633b3f11-36ad-4090-8546-bcca2037f7d0",
        "execution": {
          "iopub.execute_input": "2023-01-18T21:25:41.951384Z",
          "iopub.status.busy": "2023-01-18T21:25:41.950984Z",
          "iopub.status.idle": "2023-01-18T21:25:41.960806Z",
          "shell.execute_reply": "2023-01-18T21:25:41.959180Z"
        },
        "jupyter": {
          "outputs_hidden": false
        },
        "papermill": {
          "duration": 0.025617,
          "end_time": "2023-01-18T21:25:41.963039",
          "exception": false,
          "start_time": "2023-01-18T21:25:41.937422",
          "status": "completed"
        },
        "tags": [],
        "colab": {
          "base_uri": "https://localhost:8080/"
        },
        "id": "044bde93",
        "outputId": "94f5d642-265c-4b71-972c-6d468eea6584"
      },
      "outputs": [
        {
          "output_type": "stream",
          "name": "stdout",
          "text": [
            "category\n",
            "ham     5549\n",
            "spam    2354\n",
            "dtype: int64\n",
            "Baseline (null model) accuracy:  0.7021384284448944\n"
          ]
        }
      ],
      "source": [
        "cat_size = df.groupby('category').size()\n",
        "print(cat_size)\n",
        "\n",
        "ham_prop = cat_size[0] / (cat_size[0] + cat_size[1])\n",
        "print('Baseline (null model) accuracy: ' , ham_prop)"
      ]
    },
    {
      "cell_type": "markdown",
      "id": "693b0ca5",
      "metadata": {
        "papermill": {
          "duration": 0.012336,
          "end_time": "2023-01-18T21:25:41.987810",
          "exception": false,
          "start_time": "2023-01-18T21:25:41.975474",
          "status": "completed"
        },
        "tags": [],
        "id": "693b0ca5"
      },
      "source": [
        "## Fastai\n",
        "\n",
        "We will use the fastai framework to build a large language model (LLM). Fastai is a great framework that enables rapid creating of predictive models without the need to code lower level artifacts as in Tensorflow or PyTorch."
      ]
    },
    {
      "cell_type": "code",
      "execution_count": 48,
      "id": "4e8b8651",
      "metadata": {
        "_cell_guid": "a7941db3-82c5-4c7a-97e8-c0bcec82add4",
        "_uuid": "7b48a168-7bd4-4627-94c2-597a779c1b0f",
        "execution": {
          "iopub.execute_input": "2023-01-18T21:25:42.014648Z",
          "iopub.status.busy": "2023-01-18T21:25:42.013730Z",
          "iopub.status.idle": "2023-01-18T21:25:44.844140Z",
          "shell.execute_reply": "2023-01-18T21:25:44.843159Z"
        },
        "jupyter": {
          "outputs_hidden": false
        },
        "papermill": {
          "duration": 2.846373,
          "end_time": "2023-01-18T21:25:44.846536",
          "exception": false,
          "start_time": "2023-01-18T21:25:42.000163",
          "status": "completed"
        },
        "tags": [],
        "id": "4e8b8651"
      },
      "outputs": [],
      "source": [
        "from fastai.data.all import *\n",
        "from fastai.text.all import *"
      ]
    },
    {
      "cell_type": "markdown",
      "id": "851c6063",
      "metadata": {
        "_cell_guid": "b1225a72-8b09-43f1-9993-1bd2cdf26ccd",
        "_uuid": "54e06603-17d9-4da6-bc2a-b3d316beb50a",
        "papermill": {
          "duration": 0.012322,
          "end_time": "2023-01-18T21:25:44.871853",
          "exception": false,
          "start_time": "2023-01-18T21:25:44.859531",
          "status": "completed"
        },
        "tags": [],
        "id": "851c6063"
      },
      "source": [
        "Create data loaders for classification, build **DataBlock** using **TextBlock** and **CategoryBlock**.\n",
        "\n",
        "Set aside 20% data using **TrainTestSplitter** for model testing."
      ]
    },
    {
      "cell_type": "code",
      "execution_count": 50,
      "id": "95079834",
      "metadata": {
        "_cell_guid": "7f78bf4c-8eb0-469c-a6a3-094ac0957563",
        "_uuid": "7ce96696-dd98-48df-a5d4-64415ad1004c",
        "execution": {
          "iopub.execute_input": "2023-01-18T21:25:44.899093Z",
          "iopub.status.busy": "2023-01-18T21:25:44.897884Z",
          "iopub.status.idle": "2023-01-18T21:26:47.544925Z",
          "shell.execute_reply": "2023-01-18T21:26:47.543699Z"
        },
        "jupyter": {
          "outputs_hidden": false
        },
        "papermill": {
          "duration": 62.663163,
          "end_time": "2023-01-18T21:26:47.547442",
          "exception": false,
          "start_time": "2023-01-18T21:25:44.884279",
          "status": "completed"
        },
        "tags": [],
        "colab": {
          "base_uri": "https://localhost:8080/",
          "height": 18
        },
        "id": "95079834",
        "outputId": "055b5026-68ef-4e13-9dd8-6b6e653b5e32"
      },
      "outputs": [
        {
          "output_type": "display_data",
          "data": {
            "text/plain": [
              "<IPython.core.display.HTML object>"
            ],
            "text/html": [
              "\n",
              "<style>\n",
              "    /* Turns off some styling */\n",
              "    progress {\n",
              "        /* gets rid of default border in Firefox and Opera. */\n",
              "        border: none;\n",
              "        /* Needs to be in here for Safari polyfill so background images work as expected. */\n",
              "        background-size: auto;\n",
              "    }\n",
              "    progress:not([value]), progress:not([value])::-webkit-progress-bar {\n",
              "        background: repeating-linear-gradient(45deg, #7e7e7e, #7e7e7e 10px, #5c5c5c 10px, #5c5c5c 20px);\n",
              "    }\n",
              "    .progress-bar-interrupted, .progress-bar-interrupted::-webkit-progress-bar {\n",
              "        background: #F44336;\n",
              "    }\n",
              "</style>\n"
            ]
          },
          "metadata": {}
        },
        {
          "output_type": "display_data",
          "data": {
            "text/plain": [
              "<IPython.core.display.HTML object>"
            ],
            "text/html": []
          },
          "metadata": {}
        }
      ],
      "source": [
        "dls_cls = DataBlock(\n",
        "            blocks=(\n",
        "                TextBlock.from_df(text_cols=('text'), \n",
        "                        is_lm=False),\n",
        "                CategoryBlock),\n",
        "            get_x=ColReader('text'), \n",
        "            get_y=ColReader('category'),\n",
        "            splitter=TrainTestSplitter(test_size=0.2,stratify=df.category)\n",
        "        ).dataloaders(df)"
      ]
    },
    {
      "cell_type": "code",
      "execution_count": 51,
      "id": "677aa21b",
      "metadata": {
        "_cell_guid": "978be4fa-a641-492d-a7f3-d67c14ead48a",
        "_uuid": "6fce97a1-fb6a-4d96-ab7f-61399f1d838e",
        "execution": {
          "iopub.execute_input": "2023-01-18T21:26:47.574821Z",
          "iopub.status.busy": "2023-01-18T21:26:47.574469Z",
          "iopub.status.idle": "2023-01-18T21:26:49.680870Z",
          "shell.execute_reply": "2023-01-18T21:26:49.679766Z"
        },
        "jupyter": {
          "outputs_hidden": false
        },
        "papermill": {
          "duration": 2.122551,
          "end_time": "2023-01-18T21:26:49.683062",
          "exception": false,
          "start_time": "2023-01-18T21:26:47.560511",
          "status": "completed"
        },
        "tags": [],
        "colab": {
          "base_uri": "https://localhost:8080/",
          "height": 813
        },
        "id": "677aa21b",
        "outputId": "fdf5c507-1d2b-4278-a1c6-39c876f98dfa"
      },
      "outputs": [
        {
          "output_type": "display_data",
          "data": {
            "text/plain": [
              "<IPython.core.display.HTML object>"
            ],
            "text/html": [
              "<table border=\"1\" class=\"dataframe\">\n",
              "  <thead>\n",
              "    <tr style=\"text-align: right;\">\n",
              "      <th></th>\n",
              "      <th>text</th>\n",
              "      <th>category</th>\n",
              "    </tr>\n",
              "  </thead>\n",
              "  <tbody>\n",
              "    <tr>\n",
              "      <th>0</th>\n",
              "      <td>xxbos xxmaj this is a multi - part message in xxup mime format . xxrep 6 - = _ nextpart _ xxrep 3 0 _ xxrep 3 0 2_01c228ca.593b5280content - type : text / plain ; \\t xxunk - xxunk - transfer - encoding : xxunk &lt; xxunk xxrep 3 $ xxunk ! # xxunk ! # xxunk % / % xxunk , xxunk ! $ xxunk % / $ xxunk xxrep 3 $ xxunk , xxunk ! # xxunk : xxunk $ xxunk # ! xxunk xxrep 3 $ xxup xxunk / $ @$5$$ ! # ! xxunk / ! xxunk &gt; xxunk $ / $ * 4j xxrep 5 $ ? $ 7$^$9 ! # xxunk xxrep 38 - + xxunk \\ xxunk # % \" xxunk \\ % xxunk # % xxunk ! e = xxunk xxunk - mail : xxunk : 03 - 3518 - xxunk</td>\n",
              "      <td>ham</td>\n",
              "    </tr>\n",
              "    <tr>\n",
              "      <th>1</th>\n",
              "      <td>xxbos xxmaj this is a multi - part message in xxup mime format . xxrep 6 - = _ nextpart _ xxrep 3 0 _ xxrep 3 0 2_01c228ca.593b5280content - type : text / plain ; \\t xxunk - xxunk - transfer - encoding : xxunk &lt; xxunk xxrep 3 $ xxunk ! # xxunk ! # xxunk % / % xxunk , xxunk ! $ xxunk % / $ xxunk xxrep 3 $ xxunk , xxunk ! # xxunk : xxunk $ xxunk # ! xxunk xxrep 3 $ xxup xxunk / $ @$5$$ ! # ! xxunk / ! xxunk &gt; xxunk $ / $ * 4j xxrep 5 $ ? $ 7$^$9 ! # xxunk xxrep 38 - + xxunk \\ xxunk # % \" xxunk \\ % xxunk # % xxunk ! e = xxunk xxunk - mail : xxunk : 03 - 3518 - xxunk</td>\n",
              "      <td>ham</td>\n",
              "    </tr>\n",
              "    <tr>\n",
              "      <th>2</th>\n",
              "      <td>xxbos xxmaj this is a multi - part message in xxup mime format -- xxunk - d1b9 - 43d5 - xxunk - type : text / plain ; charset = gb2312content - transfer - encoding : quoted - printabledear xxunk fetch your name by xxunk month , our group had set up one xxup xxunk with xxmaj korean xxmaj xxunk xxmaj motors &amp; = machinery xxunk company produces and distributes various whole motorcycle units =( xxunk ranging from xxunk to xxunk , including two - wheel motorcycle and three - wheel motorcycle , for carrying goods = and taking passengers ) and accessories especially main accessories of motorcycle , such as engine =( including xxunk , xxunk connecting rod , xxunk , engine xxunk head , xxunk body , clutch , = xxunk and xxunk rings ) , frame , fuel tank , shock absorber , disk xxunk , panels</td>\n",
              "      <td>spam</td>\n",
              "    </tr>\n",
              "    <tr>\n",
              "      <th>3</th>\n",
              "      <td>xxbos xxmaj this is a multi - part message in xxup mime format . xxrep 6 - = _ nextpart_7hzmysbwvsemnjin8kg9ycontent - type : multipart / alternative ; \\t boundary= \" xxrep 4 - = _ nextpart_7hzmysbwvsemnjin8kg9yaa \" xxrep 6 - = _ xxunk - type : text / html ; \\t charset=\"big5\"content - transfer - encoding : xxunk xxrep 6 - = _ nextpart_7hzmysbwvsemnjin8kg9yaa xxrep 8 - = _ nextpart_7hzmysbwvsemnjin8kg9ycontent - type : application / octet - stream ; \\t name= \" . / massmail-1509_files / xxunk - transfer - encoding : base64content - disposition : attachment ; \\t xxunk xxrep 4 a xxunk xxrep 4 a xxunk xxrep 4 a xxmaj xxunk xxrep 4 a xxunk xxrep 4 a xxunk xxrep 3 a xxmaj ox xxrep 3 a xxunk / xxunk / xxunk / xxunk / xxunk / xxunk / xxunk / xxunk / xxunk / xxunk / xxunk</td>\n",
              "      <td>spam</td>\n",
              "    </tr>\n",
              "    <tr>\n",
              "      <th>4</th>\n",
              "      <td>xxbos i did more testing with your patch on top of today 's xxup cvs , but the xxunk help at all.the following is the results of the tests : testing xxunk . created a \" / dev / md0 \" with 4 scsi xxunk . created a xxup lvm xxmaj volume group \" vg \" with the \" / dev / xxunk . created a xxup lvm logical volume \" vol1 \" with \" xxunk . created a xxup xfs fs with a command : mkfs.xfs -f -d xxunk / dev / vg / vol1 xxrep 11 - meta - data= / dev / vg / vol1 xxunk xxunk blks xxrep 11 - data = bsize=4096 xxunk xxrep 11 - = sunit=1 xxunk blks , xxunk xxrep 11 - naming = version 2 bsize=4096 xxrep 11 - log = internal log bsize=4096 xxunk xxrep 11 - = sunit=1 blks</td>\n",
              "      <td>ham</td>\n",
              "    </tr>\n",
              "  </tbody>\n",
              "</table>"
            ]
          },
          "metadata": {}
        }
      ],
      "source": [
        "dls_cls.show_batch(max_n = 5)"
      ]
    },
    {
      "cell_type": "markdown",
      "source": [
        "## Text Classifier"
      ],
      "metadata": {
        "id": "Ogfn2BLwmKiZ"
      },
      "id": "Ogfn2BLwmKiZ"
    },
    {
      "cell_type": "markdown",
      "id": "bc75fd36",
      "metadata": {
        "papermill": {
          "duration": 0.012366,
          "end_time": "2023-01-18T21:26:49.708323",
          "exception": false,
          "start_time": "2023-01-18T21:26:49.695957",
          "status": "completed"
        },
        "tags": [],
        "id": "bc75fd36"
      },
      "source": [
        "Create classifier. Notice,  there is no need to  pre-process text data for the classifier, e.g. create word embeddings, the framework does that automatically."
      ]
    },
    {
      "cell_type": "code",
      "execution_count": 12,
      "id": "80916ffe",
      "metadata": {
        "_cell_guid": "dd1e421b-54a9-4748-8a78-b87761e1f481",
        "_uuid": "711c0928-89ca-4737-aaed-14b6ab7eaa9e",
        "execution": {
          "iopub.execute_input": "2023-01-18T21:26:49.735642Z",
          "iopub.status.busy": "2023-01-18T21:26:49.734759Z",
          "iopub.status.idle": "2023-01-18T21:26:55.632931Z",
          "shell.execute_reply": "2023-01-18T21:26:55.631766Z"
        },
        "jupyter": {
          "outputs_hidden": false
        },
        "papermill": {
          "duration": 5.914326,
          "end_time": "2023-01-18T21:26:55.635581",
          "exception": false,
          "start_time": "2023-01-18T21:26:49.721255",
          "status": "completed"
        },
        "tags": [],
        "id": "80916ffe",
        "colab": {
          "base_uri": "https://localhost:8080/",
          "height": 38
        },
        "outputId": "64f30bbe-068c-4045-d16a-ce7d7ee7dcc0"
      },
      "outputs": [
        {
          "output_type": "display_data",
          "data": {
            "text/plain": [
              "<IPython.core.display.HTML object>"
            ],
            "text/html": [
              "\n",
              "<style>\n",
              "    /* Turns off some styling */\n",
              "    progress {\n",
              "        /* gets rid of default border in Firefox and Opera. */\n",
              "        border: none;\n",
              "        /* Needs to be in here for Safari polyfill so background images work as expected. */\n",
              "        background-size: auto;\n",
              "    }\n",
              "    progress:not([value]), progress:not([value])::-webkit-progress-bar {\n",
              "        background: repeating-linear-gradient(45deg, #7e7e7e, #7e7e7e 10px, #5c5c5c 10px, #5c5c5c 20px);\n",
              "    }\n",
              "    .progress-bar-interrupted, .progress-bar-interrupted::-webkit-progress-bar {\n",
              "        background: #F44336;\n",
              "    }\n",
              "</style>\n"
            ]
          },
          "metadata": {}
        },
        {
          "output_type": "display_data",
          "data": {
            "text/plain": [
              "<IPython.core.display.HTML object>"
            ],
            "text/html": [
              "\n",
              "    <div>\n",
              "      <progress value='105070592' class='' max='105067061' style='width:300px; height:20px; vertical-align: middle;'></progress>\n",
              "      100.00% [105070592/105067061 00:09&lt;00:00]\n",
              "    </div>\n",
              "    "
            ]
          },
          "metadata": {}
        }
      ],
      "source": [
        "learner = text_classifier_learner(dls_cls, \n",
        "                                    AWD_LSTM, \n",
        "                                    drop_mult=0.5, \n",
        "                                    metrics=[accuracy, Precision(), Recall(), F1Score()])"
      ]
    },
    {
      "cell_type": "markdown",
      "source": [
        "Calculate the optimal learning rate hyper-parameter. This will greatly influence how quickly the model converges."
      ],
      "metadata": {
        "id": "WNEUlcM7l8xN"
      },
      "id": "WNEUlcM7l8xN"
    },
    {
      "cell_type": "code",
      "source": [
        "lr = learner.lr_find()\n",
        "lr"
      ],
      "metadata": {
        "colab": {
          "base_uri": "https://localhost:8080/",
          "height": 472
        },
        "id": "UfWKUp7lKQGJ",
        "outputId": "3a01a6b6-94a7-4b9e-9963-ff33bf9798f9"
      },
      "id": "UfWKUp7lKQGJ",
      "execution_count": 13,
      "outputs": [
        {
          "output_type": "display_data",
          "data": {
            "text/plain": [
              "<IPython.core.display.HTML object>"
            ],
            "text/html": [
              "\n",
              "<style>\n",
              "    /* Turns off some styling */\n",
              "    progress {\n",
              "        /* gets rid of default border in Firefox and Opera. */\n",
              "        border: none;\n",
              "        /* Needs to be in here for Safari polyfill so background images work as expected. */\n",
              "        background-size: auto;\n",
              "    }\n",
              "    progress:not([value]), progress:not([value])::-webkit-progress-bar {\n",
              "        background: repeating-linear-gradient(45deg, #7e7e7e, #7e7e7e 10px, #5c5c5c 10px, #5c5c5c 20px);\n",
              "    }\n",
              "    .progress-bar-interrupted, .progress-bar-interrupted::-webkit-progress-bar {\n",
              "        background: #F44336;\n",
              "    }\n",
              "</style>\n"
            ]
          },
          "metadata": {}
        },
        {
          "output_type": "display_data",
          "data": {
            "text/plain": [
              "<IPython.core.display.HTML object>"
            ],
            "text/html": []
          },
          "metadata": {}
        },
        {
          "output_type": "execute_result",
          "data": {
            "text/plain": [
              "SuggestedLRs(valley=0.0030199517495930195)"
            ]
          },
          "metadata": {},
          "execution_count": 13
        },
        {
          "output_type": "display_data",
          "data": {
            "text/plain": [
              "<Figure size 640x480 with 1 Axes>"
            ],
            "image/png": "[encoded data removed]"
          },
          "metadata": {}
        }
      ]
    },
    {
      "cell_type": "markdown",
      "source": [
        "Fine tune model for 3 epochs using above learning rate."
      ],
      "metadata": {
        "id": "oSDNo9RvmYcm"
      },
      "id": "oSDNo9RvmYcm"
    },
    {
      "cell_type": "code",
      "execution_count": 14,
      "id": "99fa8b11",
      "metadata": {
        "_cell_guid": "a8b2771f-894e-4e18-936a-eab5c1b02065",
        "_uuid": "7576db43-97ab-4a53-9e31-92b2efa07b81",
        "execution": {
          "iopub.execute_input": "2023-01-18T21:26:55.663514Z",
          "iopub.status.busy": "2023-01-18T21:26:55.663154Z",
          "iopub.status.idle": "2023-01-18T21:32:20.306199Z",
          "shell.execute_reply": "2023-01-18T21:32:20.304910Z"
        },
        "jupyter": {
          "outputs_hidden": false
        },
        "papermill": {
          "duration": 324.660025,
          "end_time": "2023-01-18T21:32:20.308965",
          "exception": false,
          "start_time": "2023-01-18T21:26:55.648940",
          "status": "completed"
        },
        "tags": [],
        "colab": {
          "base_uri": "https://localhost:8080/",
          "height": 222
        },
        "id": "99fa8b11",
        "outputId": "0cdb1ab1-767d-4787-9686-9a16abbe18d9"
      },
      "outputs": [
        {
          "output_type": "display_data",
          "data": {
            "text/plain": [
              "<IPython.core.display.HTML object>"
            ],
            "text/html": [
              "\n",
              "<style>\n",
              "    /* Turns off some styling */\n",
              "    progress {\n",
              "        /* gets rid of default border in Firefox and Opera. */\n",
              "        border: none;\n",
              "        /* Needs to be in here for Safari polyfill so background images work as expected. */\n",
              "        background-size: auto;\n",
              "    }\n",
              "    progress:not([value]), progress:not([value])::-webkit-progress-bar {\n",
              "        background: repeating-linear-gradient(45deg, #7e7e7e, #7e7e7e 10px, #5c5c5c 10px, #5c5c5c 20px);\n",
              "    }\n",
              "    .progress-bar-interrupted, .progress-bar-interrupted::-webkit-progress-bar {\n",
              "        background: #F44336;\n",
              "    }\n",
              "</style>\n"
            ]
          },
          "metadata": {}
        },
        {
          "output_type": "display_data",
          "data": {
            "text/plain": [
              "<IPython.core.display.HTML object>"
            ],
            "text/html": [
              "<table border=\"1\" class=\"dataframe\">\n",
              "  <thead>\n",
              "    <tr style=\"text-align: left;\">\n",
              "      <th>epoch</th>\n",
              "      <th>train_loss</th>\n",
              "      <th>valid_loss</th>\n",
              "      <th>accuracy</th>\n",
              "      <th>precision_score</th>\n",
              "      <th>recall_score</th>\n",
              "      <th>f1_score</th>\n",
              "      <th>time</th>\n",
              "    </tr>\n",
              "  </thead>\n",
              "  <tbody>\n",
              "    <tr>\n",
              "      <td>0</td>\n",
              "      <td>0.300826</td>\n",
              "      <td>0.190151</td>\n",
              "      <td>0.935261</td>\n",
              "      <td>0.896842</td>\n",
              "      <td>0.887500</td>\n",
              "      <td>0.892147</td>\n",
              "      <td>00:59</td>\n",
              "    </tr>\n",
              "  </tbody>\n",
              "</table>"
            ]
          },
          "metadata": {}
        },
        {
          "output_type": "display_data",
          "data": {
            "text/plain": [
              "<IPython.core.display.HTML object>"
            ],
            "text/html": [
              "\n",
              "<style>\n",
              "    /* Turns off some styling */\n",
              "    progress {\n",
              "        /* gets rid of default border in Firefox and Opera. */\n",
              "        border: none;\n",
              "        /* Needs to be in here for Safari polyfill so background images work as expected. */\n",
              "        background-size: auto;\n",
              "    }\n",
              "    progress:not([value]), progress:not([value])::-webkit-progress-bar {\n",
              "        background: repeating-linear-gradient(45deg, #7e7e7e, #7e7e7e 10px, #5c5c5c 10px, #5c5c5c 20px);\n",
              "    }\n",
              "    .progress-bar-interrupted, .progress-bar-interrupted::-webkit-progress-bar {\n",
              "        background: #F44336;\n",
              "    }\n",
              "</style>\n"
            ]
          },
          "metadata": {}
        },
        {
          "output_type": "display_data",
          "data": {
            "text/plain": [
              "<IPython.core.display.HTML object>"
            ],
            "text/html": [
              "<table border=\"1\" class=\"dataframe\">\n",
              "  <thead>\n",
              "    <tr style=\"text-align: left;\">\n",
              "      <th>epoch</th>\n",
              "      <th>train_loss</th>\n",
              "      <th>valid_loss</th>\n",
              "      <th>accuracy</th>\n",
              "      <th>precision_score</th>\n",
              "      <th>recall_score</th>\n",
              "      <th>f1_score</th>\n",
              "      <th>time</th>\n",
              "    </tr>\n",
              "  </thead>\n",
              "  <tbody>\n",
              "    <tr>\n",
              "      <td>0</td>\n",
              "      <td>0.195772</td>\n",
              "      <td>0.093931</td>\n",
              "      <td>0.977373</td>\n",
              "      <td>0.944000</td>\n",
              "      <td>0.983333</td>\n",
              "      <td>0.963265</td>\n",
              "      <td>01:54</td>\n",
              "    </tr>\n",
              "    <tr>\n",
              "      <td>1</td>\n",
              "      <td>0.138644</td>\n",
              "      <td>0.075552</td>\n",
              "      <td>0.978630</td>\n",
              "      <td>0.974468</td>\n",
              "      <td>0.954167</td>\n",
              "      <td>0.964211</td>\n",
              "      <td>01:57</td>\n",
              "    </tr>\n",
              "    <tr>\n",
              "      <td>2</td>\n",
              "      <td>0.099946</td>\n",
              "      <td>0.052381</td>\n",
              "      <td>0.988686</td>\n",
              "      <td>0.983264</td>\n",
              "      <td>0.979167</td>\n",
              "      <td>0.981211</td>\n",
              "      <td>01:54</td>\n",
              "    </tr>\n",
              "  </tbody>\n",
              "</table>"
            ]
          },
          "metadata": {}
        }
      ],
      "source": [
        "learner.fine_tune(3, lr[0])"
      ]
    },
    {
      "cell_type": "markdown",
      "id": "3f7399f4",
      "metadata": {
        "papermill": {
          "duration": 0.013391,
          "end_time": "2023-01-18T21:32:20.336623",
          "exception": false,
          "start_time": "2023-01-18T21:32:20.323232",
          "status": "completed"
        },
        "tags": [],
        "id": "3f7399f4"
      },
      "source": [
        "## Interpret results\n",
        "\n",
        "F1-score (balanced score between Precision/Recall) is great and so are Precision/Recall. Most importantly, this model significantly outperforms the $null$ model.\n",
        "\n",
        "Note - the model was tuned using GPUs, tuning on CPUs will take significantly longer (hours).\n",
        "\n",
        "Show a few predictions on training data, the predictions are in the new _$category$ column."
      ]
    },
    {
      "cell_type": "code",
      "execution_count": 15,
      "id": "6a9c258a",
      "metadata": {
        "_cell_guid": "d1e5c3a7-80bc-46ec-b525-770f14372be8",
        "_uuid": "5d21a719-08b6-427f-a95e-ab5175c264c5",
        "execution": {
          "iopub.execute_input": "2023-01-18T21:32:20.365953Z",
          "iopub.status.busy": "2023-01-18T21:32:20.365559Z",
          "iopub.status.idle": "2023-01-18T21:32:24.510253Z",
          "shell.execute_reply": "2023-01-18T21:32:24.509285Z"
        },
        "jupyter": {
          "outputs_hidden": false
        },
        "papermill": {
          "duration": 4.162025,
          "end_time": "2023-01-18T21:32:24.512467",
          "exception": false,
          "start_time": "2023-01-18T21:32:20.350442",
          "status": "completed"
        },
        "tags": [],
        "colab": {
          "base_uri": "https://localhost:8080/",
          "height": 1000
        },
        "id": "6a9c258a",
        "outputId": "00da0b87-f986-4e39-c3ca-9ff20993e325"
      },
      "outputs": [
        {
          "output_type": "display_data",
          "data": {
            "text/plain": [
              "<IPython.core.display.HTML object>"
            ],
            "text/html": [
              "\n",
              "<style>\n",
              "    /* Turns off some styling */\n",
              "    progress {\n",
              "        /* gets rid of default border in Firefox and Opera. */\n",
              "        border: none;\n",
              "        /* Needs to be in here for Safari polyfill so background images work as expected. */\n",
              "        background-size: auto;\n",
              "    }\n",
              "    progress:not([value]), progress:not([value])::-webkit-progress-bar {\n",
              "        background: repeating-linear-gradient(45deg, #7e7e7e, #7e7e7e 10px, #5c5c5c 10px, #5c5c5c 20px);\n",
              "    }\n",
              "    .progress-bar-interrupted, .progress-bar-interrupted::-webkit-progress-bar {\n",
              "        background: #F44336;\n",
              "    }\n",
              "</style>\n"
            ]
          },
          "metadata": {}
        },
        {
          "output_type": "display_data",
          "data": {
            "text/plain": [
              "<IPython.core.display.HTML object>"
            ],
            "text/html": []
          },
          "metadata": {}
        },
        {
          "output_type": "display_data",
          "data": {
            "text/plain": [
              "<IPython.core.display.HTML object>"
            ],
            "text/html": [
              "<table border=\"1\" class=\"dataframe\">\n",
              "  <thead>\n",
              "    <tr style=\"text-align: right;\">\n",
              "      <th></th>\n",
              "      <th>text</th>\n",
              "      <th>category</th>\n",
              "      <th>category_</th>\n",
              "    </tr>\n",
              "  </thead>\n",
              "  <tbody>\n",
              "    <tr>\n",
              "      <th>0</th>\n",
              "      <td>xxbos xxmaj this is a multi - part message in xxup mime format -- xxunk - xxunk - b6fa-0050ba415022content - type : text / plain ; charset = gb2312content - transfer - encoding : quoted - printable = cb = c4 = b4 = f3 = cb = d8 = d6 = ca = c5 = e0 = d1 = f8 = b4 = f2 = d4 = xxunk xxup mba = bd = cc = d3 = fd = b5 = c4 = cc = d8 = b5 = e3 = a3 = ac = d4 = da = cb = d8 = d6 = ca = c5 = e0 = d1 = f8 = xxunk = d7 = dc = ca = c7 = d2 = d4 = d3 = c5 = d0 = e3 = b9 = dc = c0 = ed = c8 = cb =</td>\n",
              "      <td>spam</td>\n",
              "      <td>spam</td>\n",
              "    </tr>\n",
              "    <tr>\n",
              "      <th>1</th>\n",
              "      <td>xxbos xxmaj reply xxmaj from xxunk following message was recieved xxmaj saturday , 13 xxmaj july xxunk has been xxunk or changed . i hold no xxunk for xxunk of this xxunk : enenkio truth ( xxunk : xxmaj sat , 13 xxmaj jul 2002 xxunk xxunk : enenkio@webtv.net ( robert xxunk : xxunk truth ( xxunk xxmaj news xxmaj archives xxunk xxup news xxup releases xxup and xxunk 28 , 1 xxrep 3 9 : xxmaj replies to xxmaj asia xxunk 22 , 1 xxrep 3 9 : xxmaj news xxmaj release - xxmaj gold xxunk 4 , 1 xxrep 3 9 : xxmaj replies to xxmaj published articlesjune 3 , 1 xxrep 3 9 : xxmaj replies to xxmaj published articlesjune 2 , 1 xxrep 3 9 : xxmaj replies to xxmaj published articlesjune 1 , 1 xxrep 3 9 : xxmaj news xxmaj release , xxmaj reply</td>\n",
              "      <td>spam</td>\n",
              "      <td>spam</td>\n",
              "    </tr>\n",
              "    <tr>\n",
              "      <th>2</th>\n",
              "      <td>xxbos xxmaj this is a multi - part message in xxup mime format . xxrep 6 - = _ nextpart_7hzmysbwvsemnjin8kg9ycontent - type : multipart / alternative ; \\t boundary= \" xxrep 4 - = _ nextpart_7hzmysbwvsemnjin8kg9yaa \" xxrep 6 - = _ xxunk - type : text / html ; \\t charset=\"big5\"content - transfer - encoding : xxunk xxrep 6 - = _ nextpart_7hzmysbwvsemnjin8kg9yaa xxrep 8 - = _ nextpart_7hzmysbwvsemnjin8kg9ycontent - type : application / octet - stream ; \\t name= \" . / massmail-1509_files / xxunk - transfer - encoding : base64content - disposition : attachment ; \\t xxunk xxrep 4 a xxunk xxrep 4 a xxunk xxrep 4 a xxmaj xxunk xxrep 4 a xxunk xxrep 4 a xxunk xxrep 3 a xxmaj ox xxrep 3 a xxunk / xxunk / xxunk / xxunk / xxunk / xxunk / xxunk / xxunk / xxunk / xxunk / xxunk</td>\n",
              "      <td>spam</td>\n",
              "      <td>spam</td>\n",
              "    </tr>\n",
              "    <tr>\n",
              "      <th>3</th>\n",
              "      <td>xxbos xxmaj this is a multi - part message in xxup mime format . xxrep 6 - = _ nextpart _ xxrep 3 0 _ 01bc2b74.89d1 xxrep 3 c 0content - type : multipart / alternative ; \\t boundary= \" xxrep 4 - = _ nextpart_84815c5abaf209ef376268c8 \" xxrep 6 - = _ nextpart_84815c5abaf209ef376268c8content - type : text / plain ; charset = windows-1252content - transfer - encoding : quoted - printabledear xxmaj sir / xxunk you a wonderful xxunk xxmaj with an offer , to save you money and xxunk xxmaj shopping from the convenience from home or xxunk shopping , a new way to go window xxunk xxmaj our online super xxunk offers over 1500 quality products , with 15 plus xxunk you to , window shop xxunk following are xxmaj e - coupons numbers , which you can use with any order=2e xxmaj y = ou place from</td>\n",
              "      <td>spam</td>\n",
              "      <td>spam</td>\n",
              "    </tr>\n",
              "    <tr>\n",
              "      <th>4</th>\n",
              "      <td>xxbos xxmaj this is a multi - part message in xxup mime format . xxrep 6 - = _ nextpart _ xxrep 3 0 _ xxrep 4 0 _ 01c24a39.4307a140content - type : text / plain ; \\t charset=\"iso-8859 - 1\"content - transfer - encoding : quoted - printable \\t▁\\t▁ = 09 \\t▁\\t = 20 \\t▁\\t▁ = 09=20 \\t▁ = 09 = 09 = xxunk xxmaj player xxmaj please click on the image to play the trailer . = 20 \\t = 20=09 = 09 = 09 \\t▁\\t▁ = 09 = 09 \\t▁ xxmaj go out and see a movie tonight ! \\t▁\\t = 20 = 09 = 09=20 \\t = 20 = 09 = 09 = 09 = 09 \\t▁\\t▁ = 09 = 09 \\t▁ xxup enter xxup for xxup your xxup chance xxup to xxup win ! \\t▁\\t = 20 = 09 = 09 = 09 \\t▁\\t▁ =</td>\n",
              "      <td>ham</td>\n",
              "      <td>ham</td>\n",
              "    </tr>\n",
              "    <tr>\n",
              "      <th>5</th>\n",
              "      <td>xxbos xxmaj core xxmaj java xxmaj technologies xxmaj technical xxmaj tips xxup code { color : # xxrep 6 3 ; font - family : xxmaj verdana , xxmaj courier , xxmaj monospace ; font - size : 10pt}pre { color : # xxrep 6 3 ; font - family : xxmaj verdana , xxmaj courier , xxmaj monospace ; font - size : 10pt}body , div , span { color : # xxrep 6 3 ; font - family : xxmaj arial , xxmaj helvetica , sans - serif ; font - size : 10pt}td , th { color : # xxrep 6 3 ; font - family : xxmaj arial , xxmaj helvetica , sans - serif ; font - size : 10pt}tr { color : # xxrep 6 3 ; font - family : xxmaj arial , xxmaj helvetica , sans - serif ; font - size</td>\n",
              "      <td>ham</td>\n",
              "      <td>ham</td>\n",
              "    </tr>\n",
              "    <tr>\n",
              "      <th>6</th>\n",
              "      <td>xxbos xxmaj this is a multi - part message in xxup mime format … xxrep 12 - = _ 1033046883 - 23957 - 4content - type : text / plain ; charset=\"iso-8859 - 1\"content - disposition : inlinecontent - transfer - encoding : 7bitto view this newsletter in full - color , visit : http : / / newsletter.mediaunspun.com / index xxrep 4 0 20868.cfmmedia unspunwhat the xxmaj press is xxmaj reporting and xxmaj why ( xxrep 3 w .mediaunspun.com ) xxrep 65 - xxmaj september 26 , 2002 xxrep 65 - xxup in xxup this xxup issue xxrep 65 - * xxup aol xxup keyword : xxup fraud xxup probe * xxup vivendi xxup meets xxup the xxup new xxup boss * xxup other xxup stories xxrep 65 - xxup editor 's xxup note xxrep 65 - xxmaj is xxmaj media xxmaj unspun useful to you ? xxmaj then</td>\n",
              "      <td>ham</td>\n",
              "      <td>ham</td>\n",
              "    </tr>\n",
              "    <tr>\n",
              "      <th>7</th>\n",
              "      <td>xxbos xxup the xxup ultimate xxup way xxup to xxup work xxup from xxup home xxup the xxup best xxup money xxup making xxup system xxup of xxup all ! ! xxup as xxup seen xxup on xxup national xxup tv xxmaj as seen on 20 / 20 and many other credible references . xxmaj this is xxup not a scam . i hope this is ok that i send you this . xxmaj if you are n't interested , just simply delete it . xxup read xxup this xxup message if you are like me and want more than your lousy weekly paycheck . xxmaj make more in a few months than last year at work . xxmaj believe it , work it . xxmaj this really works , do n't make the same mistake i made . i deleted this 4 - 5 times before finally giving it</td>\n",
              "      <td>spam</td>\n",
              "      <td>spam</td>\n",
              "    </tr>\n",
              "    <tr>\n",
              "      <th>8</th>\n",
              "      <td>xxbos winxpnews ™ a : link { color : # xxunk ; font - weight : bold;}a : visited { color : # xxunk ; font - weight : bold;}a : active { color : # ff xxrep 4 0 ; font - weight : bold;}a : hover { color : # ff xxrep 4 0 ; font - weight : bold ; } winxpnews ™ e - zine xxmaj tue , xxmaj jul 9 , 2002 ( vol . 2 , 27 - xxmaj issue 33 ) xxmaj feel free to forward this newsletter to other winxp enthusiasts . xxmaj read this newsletter online here : http : / / xxrep 3 w .winxpnews.com / ? xxunk xxmaj for a quick unsubscribe ( gasp ! ) click here : http : / / xxrep 3 w .winxpnews.com / unsubscribe.cfm?email=cncnvc@fsg.com xxmaj time xxmaj to xxmaj patch xxmaj your xxmaj windows</td>\n",
              "      <td>ham</td>\n",
              "      <td>ham</td>\n",
              "    </tr>\n",
              "  </tbody>\n",
              "</table>"
            ]
          },
          "metadata": {}
        }
      ],
      "source": [
        "learner.show_results()"
      ]
    },
    {
      "cell_type": "markdown",
      "id": "c527148a",
      "metadata": {
        "papermill": {
          "duration": 0.014064,
          "end_time": "2023-01-18T21:32:24.540782",
          "exception": false,
          "start_time": "2023-01-18T21:32:24.526718",
          "status": "completed"
        },
        "tags": [],
        "id": "c527148a"
      },
      "source": [
        "Plot confusion matrix to see detailed model performance. Note, the confusion matrix is generated using the test data (20% of training data)."
      ]
    },
    {
      "cell_type": "code",
      "execution_count": 16,
      "id": "46cd4c61",
      "metadata": {
        "_cell_guid": "ff379c59-0493-436d-aa44-51f282994126",
        "_uuid": "d8c4552e-f06c-4a5c-9c39-ddbf95067be7",
        "execution": {
          "iopub.execute_input": "2023-01-18T21:32:24.571214Z",
          "iopub.status.busy": "2023-01-18T21:32:24.570275Z",
          "iopub.status.idle": "2023-01-18T21:32:38.573772Z",
          "shell.execute_reply": "2023-01-18T21:32:38.572074Z"
        },
        "jupyter": {
          "outputs_hidden": false
        },
        "papermill": {
          "duration": 14.02216,
          "end_time": "2023-01-18T21:32:38.577304",
          "exception": false,
          "start_time": "2023-01-18T21:32:24.555144",
          "status": "completed"
        },
        "tags": [],
        "colab": {
          "base_uri": "https://localhost:8080/",
          "height": 506
        },
        "id": "46cd4c61",
        "outputId": "c9f782df-2993-4766-f7a6-b22aefc55066"
      },
      "outputs": [
        {
          "output_type": "display_data",
          "data": {
            "text/plain": [
              "<IPython.core.display.HTML object>"
            ],
            "text/html": [
              "\n",
              "<style>\n",
              "    /* Turns off some styling */\n",
              "    progress {\n",
              "        /* gets rid of default border in Firefox and Opera. */\n",
              "        border: none;\n",
              "        /* Needs to be in here for Safari polyfill so background images work as expected. */\n",
              "        background-size: auto;\n",
              "    }\n",
              "    progress:not([value]), progress:not([value])::-webkit-progress-bar {\n",
              "        background: repeating-linear-gradient(45deg, #7e7e7e, #7e7e7e 10px, #5c5c5c 10px, #5c5c5c 20px);\n",
              "    }\n",
              "    .progress-bar-interrupted, .progress-bar-interrupted::-webkit-progress-bar {\n",
              "        background: #F44336;\n",
              "    }\n",
              "</style>\n"
            ]
          },
          "metadata": {}
        },
        {
          "output_type": "display_data",
          "data": {
            "text/plain": [
              "<IPython.core.display.HTML object>"
            ],
            "text/html": []
          },
          "metadata": {}
        },
        {
          "output_type": "display_data",
          "data": {
            "text/plain": [
              "<IPython.core.display.HTML object>"
            ],
            "text/html": [
              "\n",
              "<style>\n",
              "    /* Turns off some styling */\n",
              "    progress {\n",
              "        /* gets rid of default border in Firefox and Opera. */\n",
              "        border: none;\n",
              "        /* Needs to be in here for Safari polyfill so background images work as expected. */\n",
              "        background-size: auto;\n",
              "    }\n",
              "    progress:not([value]), progress:not([value])::-webkit-progress-bar {\n",
              "        background: repeating-linear-gradient(45deg, #7e7e7e, #7e7e7e 10px, #5c5c5c 10px, #5c5c5c 20px);\n",
              "    }\n",
              "    .progress-bar-interrupted, .progress-bar-interrupted::-webkit-progress-bar {\n",
              "        background: #F44336;\n",
              "    }\n",
              "</style>\n"
            ]
          },
          "metadata": {}
        },
        {
          "output_type": "display_data",
          "data": {
            "text/plain": [
              "<IPython.core.display.HTML object>"
            ],
            "text/html": []
          },
          "metadata": {}
        },
        {
          "output_type": "display_data",
          "data": {
            "text/plain": [
              "<Figure size 640x480 with 1 Axes>"
            ],
            "image/png": "[encoded data removed]"
          },
          "metadata": {}
        }
      ],
      "source": [
        "interp = ClassificationInterpretation.from_learner(learner)\n",
        "interp.plot_confusion_matrix()"
      ]
    },
    {
      "cell_type": "markdown",
      "id": "d490c239",
      "metadata": {
        "papermill": {
          "duration": 0.031204,
          "end_time": "2023-01-18T21:32:38.646583",
          "exception": false,
          "start_time": "2023-01-18T21:32:38.615379",
          "status": "completed"
        },
        "tags": [],
        "id": "d490c239"
      },
      "source": [
        "## Saving and loading model\n",
        "\n",
        "At this point, if we wanted, we could save the model and it's trained weights. Later, the saved model could be loaded for making predictions."
      ]
    },
    {
      "cell_type": "code",
      "execution_count": 17,
      "id": "34273f78",
      "metadata": {
        "_cell_guid": "71abf7f6-5eb6-4eb4-b726-a84341b2cf41",
        "_uuid": "a9724113-37f9-4f4e-b703-52092eefc307",
        "execution": {
          "iopub.execute_input": "2023-01-18T21:32:38.677322Z",
          "iopub.status.busy": "2023-01-18T21:32:38.676940Z",
          "iopub.status.idle": "2023-01-18T21:32:38.681702Z",
          "shell.execute_reply": "2023-01-18T21:32:38.680769Z"
        },
        "jupyter": {
          "outputs_hidden": false
        },
        "papermill": {
          "duration": 0.022711,
          "end_time": "2023-01-18T21:32:38.683783",
          "exception": false,
          "start_time": "2023-01-18T21:32:38.661072",
          "status": "completed"
        },
        "tags": [],
        "colab": {
          "base_uri": "https://localhost:8080/"
        },
        "id": "34273f78",
        "outputId": "0b23b4c3-3bff-4631-f6c9-520fd19c9be6"
      },
      "outputs": [
        {
          "output_type": "execute_result",
          "data": {
            "text/plain": [
              "Path('models/pretrained.pth')"
            ]
          },
          "metadata": {},
          "execution_count": 17
        }
      ],
      "source": [
        "learner.save('pretrained')"
      ]
    },
    {
      "cell_type": "code",
      "execution_count": 18,
      "id": "9752ef42",
      "metadata": {
        "execution": {
          "iopub.execute_input": "2023-01-18T21:32:38.714462Z",
          "iopub.status.busy": "2023-01-18T21:32:38.713616Z",
          "iopub.status.idle": "2023-01-18T21:32:38.718221Z",
          "shell.execute_reply": "2023-01-18T21:32:38.717256Z"
        },
        "papermill": {
          "duration": 0.022034,
          "end_time": "2023-01-18T21:32:38.720184",
          "exception": false,
          "start_time": "2023-01-18T21:32:38.698150",
          "status": "completed"
        },
        "tags": [],
        "colab": {
          "base_uri": "https://localhost:8080/"
        },
        "id": "9752ef42",
        "outputId": "0fea8c10-6471-4c92-e44c-50eb0674c883"
      },
      "outputs": [
        {
          "output_type": "execute_result",
          "data": {
            "text/plain": [
              "<fastai.text.learner.TextLearner at 0x7f581c1daad0>"
            ]
          },
          "metadata": {},
          "execution_count": 18
        }
      ],
      "source": [
        "learner.load('pretrained')"
      ]
    },
    {
      "cell_type": "markdown",
      "id": "67d76165",
      "metadata": {
        "_cell_guid": "bd7441ec-65d5-4bc6-b433-a597ad33382a",
        "_uuid": "00a74f0c-421d-46e0-ad4f-74d3fb4365f9",
        "papermill": {
          "duration": 0.014221,
          "end_time": "2023-01-18T21:32:38.748727",
          "exception": false,
          "start_time": "2023-01-18T21:32:38.734506",
          "status": "completed"
        },
        "tags": [],
        "id": "67d76165"
      },
      "source": [
        "# Language Model (ULMFiT approach)\n",
        "\n",
        "The pretrained model in the previous section is called a language model. It was pretrained on Wikipedia on the task of guessing the next word, after reading all the words before. \n",
        "\n",
        "Notice, we are glossing over the details of exactly how many words are considered in making the prediction, what is the $loss function$, which $optimizer$ to use to fit the model, etc. Fastai selects intelligent defaults for all these paramaters are more.\n",
        "\n",
        "We got great results by directly fine-tuning this language model to a movie review classifier, but can we do even better?\n",
        "\n",
        "In general, with one extra step, we might do better: the Wikipedia English is slightly different from the English in our email corpus. So instead of jumping directly to the classifier, we could fine-tune our pretrained language model to the email corpus and use that as the base for our classifier. Again, in our case, the initial model performance is great so improvements, if any, will be marginal.\n",
        "\n",
        "Create data loader for language modeling by setting $is\\_lm=True$ . Set aside 10% data using **RandomSplitter** for model validation."
      ]
    },
    {
      "cell_type": "code",
      "execution_count": 19,
      "id": "a7592654",
      "metadata": {
        "_cell_guid": "dfe42466-34b4-465e-b494-72034c9d514a",
        "_uuid": "6b0894ff-c526-42c3-974b-d60c27672f5d",
        "execution": {
          "iopub.execute_input": "2023-01-18T21:32:38.779661Z",
          "iopub.status.busy": "2023-01-18T21:32:38.778746Z",
          "iopub.status.idle": "2023-01-18T21:32:38.783247Z",
          "shell.execute_reply": "2023-01-18T21:32:38.782215Z"
        },
        "jupyter": {
          "outputs_hidden": false
        },
        "papermill": {
          "duration": 0.022023,
          "end_time": "2023-01-18T21:32:38.785255",
          "exception": false,
          "start_time": "2023-01-18T21:32:38.763232",
          "status": "completed"
        },
        "tags": [],
        "colab": {
          "base_uri": "https://localhost:8080/",
          "height": 18
        },
        "id": "a7592654",
        "outputId": "73f5b53c-5591-45bd-b55c-e7d635763906"
      },
      "outputs": [
        {
          "output_type": "display_data",
          "data": {
            "text/plain": [
              "<IPython.core.display.HTML object>"
            ],
            "text/html": [
              "\n",
              "<style>\n",
              "    /* Turns off some styling */\n",
              "    progress {\n",
              "        /* gets rid of default border in Firefox and Opera. */\n",
              "        border: none;\n",
              "        /* Needs to be in here for Safari polyfill so background images work as expected. */\n",
              "        background-size: auto;\n",
              "    }\n",
              "    progress:not([value]), progress:not([value])::-webkit-progress-bar {\n",
              "        background: repeating-linear-gradient(45deg, #7e7e7e, #7e7e7e 10px, #5c5c5c 10px, #5c5c5c 20px);\n",
              "    }\n",
              "    .progress-bar-interrupted, .progress-bar-interrupted::-webkit-progress-bar {\n",
              "        background: #F44336;\n",
              "    }\n",
              "</style>\n"
            ]
          },
          "metadata": {}
        },
        {
          "output_type": "display_data",
          "data": {
            "text/plain": [
              "<IPython.core.display.HTML object>"
            ],
            "text/html": []
          },
          "metadata": {}
        }
      ],
      "source": [
        "dls_lm = DataBlock(\n",
        "    blocks=TextBlock.from_df(text_cols=('text'), \n",
        "                             is_lm=True),\n",
        "    get_x=ColReader('text'), \n",
        "    splitter=RandomSplitter(valid_pct=0.1, seed=12345)\n",
        "    ).dataloaders(df, bs=64)"
      ]
    },
    {
      "cell_type": "code",
      "execution_count": 20,
      "id": "fb1b669b",
      "metadata": {
        "_cell_guid": "de56ae16-e2fb-4fcc-a7f2-d34861e96bff",
        "_uuid": "ccdbfcba-063c-425d-8293-ea927978d962",
        "execution": {
          "iopub.execute_input": "2023-01-18T21:32:38.845228Z",
          "iopub.status.busy": "2023-01-18T21:32:38.843625Z",
          "iopub.status.idle": "2023-01-18T21:32:38.848620Z",
          "shell.execute_reply": "2023-01-18T21:32:38.847735Z"
        },
        "jupyter": {
          "outputs_hidden": false
        },
        "papermill": {
          "duration": 0.022488,
          "end_time": "2023-01-18T21:32:38.850668",
          "exception": false,
          "start_time": "2023-01-18T21:32:38.828180",
          "status": "completed"
        },
        "tags": [],
        "colab": {
          "base_uri": "https://localhost:8080/",
          "height": 1000
        },
        "id": "fb1b669b",
        "outputId": "b099064d-7731-4eaa-f068-57569af6d68b"
      },
      "outputs": [
        {
          "output_type": "display_data",
          "data": {
            "text/plain": [
              "<IPython.core.display.HTML object>"
            ],
            "text/html": [
              "<table border=\"1\" class=\"dataframe\">\n",
              "  <thead>\n",
              "    <tr style=\"text-align: right;\">\n",
              "      <th></th>\n",
              "      <th>text</th>\n",
              "      <th>text_</th>\n",
              "    </tr>\n",
              "  </thead>\n",
              "  <tbody>\n",
              "    <tr>\n",
              "      <th>0</th>\n",
              "      <td>xxbos xxup url : http : / / jeremy.zawodny.com / blog / archives / xxrep 3 0 xxunk : 2002 - 09 - xxunk - xxunk article titled xxmaj mac poses as much of challenge to xxmaj linux as to xxmaj windows is both xxunk and missing the point . xxmaj the general thrust of the article , is dead - on . xxmaj it 's just the sort of stuff xxmaj</td>\n",
              "      <td>xxup url : http : / / jeremy.zawodny.com / blog / archives / xxrep 3 0 xxunk : 2002 - 09 - xxunk - xxunk article titled xxmaj mac poses as much of challenge to xxmaj linux as to xxmaj windows is both xxunk and missing the point . xxmaj the general thrust of the article , is dead - on . xxmaj it 's just the sort of stuff xxmaj i</td>\n",
              "    </tr>\n",
              "    <tr>\n",
              "      <th>1</th>\n",
              "      <td>xxmaj ig nobelby xxmaj jay xxmaj lindsay bostonoctober 05 2002url : http : / / xxrep 3 w .theage.com.au / articles / 2002 / 10 / 04 / 1033538774048.html xxbos xxmaj these results are from timtest.py . xxmaj i 've got three sets of spam and xxunk about 500 messages in each set . xxmaj here 's what happens when i xxunk latest \" received \" header code : false positive percentages</td>\n",
              "      <td>ig nobelby xxmaj jay xxmaj lindsay bostonoctober 05 2002url : http : / / xxrep 3 w .theage.com.au / articles / 2002 / 10 / 04 / 1033538774048.html xxbos xxmaj these results are from timtest.py . xxmaj i 've got three sets of spam and xxunk about 500 messages in each set . xxmaj here 's what happens when i xxunk latest \" received \" header code : false positive percentages 0.187</td>\n",
              "    </tr>\n",
              "    <tr>\n",
              "      <th>2</th>\n",
              "      <td>/ mailman / listinfo / rpm - list xxbos xxup url : http : / / xxrep 3 w .newsisfree.com / click / xxunk / xxmaj date : 2002 - 10 - xxunk + xxunk of low - cost drugs being intercepted and sold at vast profits . xxbos xxup url : http : / / boingboing.net / # xxunk : xxmaj not xxunk xxup uk # 400 , xxrep 3 0</td>\n",
              "      <td>mailman / listinfo / rpm - list xxbos xxup url : http : / / xxrep 3 w .newsisfree.com / click / xxunk / xxmaj date : 2002 - 10 - xxunk + xxunk of low - cost drugs being intercepted and sold at vast profits . xxbos xxup url : http : / / boingboing.net / # xxunk : xxmaj not xxunk xxup uk # 400 , xxrep 3 0 ,</td>\n",
              "    </tr>\n",
              "    <tr>\n",
              "      <th>3</th>\n",
              "      <td>, addresses , teams , projects , tasks , bugs , mailboxes , documents and your time xxunk these xxunk xxunk : / / sourceforge.net / projects / jboss / xxmaj the jboss / xxmaj server is the leading xxmaj open xxmaj source , standards - compliant , j2ee based application server implemented in 100 % xxmaj pure xxmaj xxunk xxmaj firewall xxmaj xxunk : / / sourceforge.net / projects / xxunk</td>\n",
              "      <td>addresses , teams , projects , tasks , bugs , mailboxes , documents and your time xxunk these xxunk xxunk : / / sourceforge.net / projects / jboss / xxmaj the jboss / xxmaj server is the leading xxmaj open xxmaj source , standards - compliant , j2ee based application server implemented in 100 % xxmaj pure xxmaj xxunk xxmaj firewall xxmaj xxunk : / / sourceforge.net / projects / xxunk /</td>\n",
              "    </tr>\n",
              "    <tr>\n",
              "      <th>4</th>\n",
              "      <td>. xxbos xxmaj it will function as a router if that is what you xxunk even looks like the modem 's embedded xxup os is some kind of linux , being thatit has interesting interfaces like xxunk do n't use it as a router though … . i just have it do the absolute xxunk stuff and do all the really fun stuff like xxrep 3 p oe on my linux box</td>\n",
              "      <td>xxbos xxmaj it will function as a router if that is what you xxunk even looks like the modem 's embedded xxup os is some kind of linux , being thatit has interesting interfaces like xxunk do n't use it as a router though … . i just have it do the absolute xxunk stuff and do all the really fun stuff like xxrep 3 p oe on my linux box …</td>\n",
              "    </tr>\n",
              "    <tr>\n",
              "      <th>5</th>\n",
              "      <td>more information.call -- xxmaj please have a representative call.indicate the best time to telephone and any necessary addresses and telephone / fax numbers in the text of your reply.if you prefer you can always telephone us during normal business hours at ( 212 ) 213 - 3 xxrep 3 0 xxmaj ext 1425.thank you.p.s . -- xxmaj if you are not in need of our services at this time , please retain</td>\n",
              "      <td>information.call -- xxmaj please have a representative call.indicate the best time to telephone and any necessary addresses and telephone / fax numbers in the text of your reply.if you prefer you can always telephone us during normal business hours at ( 212 ) 213 - 3 xxrep 3 0 xxmaj ext 1425.thank you.p.s . -- xxmaj if you are not in need of our services at this time , please retain this</td>\n",
              "    </tr>\n",
              "    <tr>\n",
              "      <th>6</th>\n",
              "      <td>checked &gt; out using my xxup sf username , but xxmaj i 'm unable to write to the repository . xxup cvs &gt; complains :&gt; &gt; % cvs add unheader.py &gt; cvs [ server aborted ] : \" add \" requires write access to the repository &gt; &gt; xxmaj any xxunk really . xxmaj try again ? xxmaj about half the developers on the spambayes xxunk missing some permission or other ,</td>\n",
              "      <td>&gt; out using my xxup sf username , but xxmaj i 'm unable to write to the repository . xxup cvs &gt; complains :&gt; &gt; % cvs add unheader.py &gt; cvs [ server aborted ] : \" add \" requires write access to the repository &gt; &gt; xxmaj any xxunk really . xxmaj try again ? xxmaj about half the developers on the spambayes xxunk missing some permission or other , so</td>\n",
              "    </tr>\n",
              "    <tr>\n",
              "      <th>7</th>\n",
              "      <td>the people doing the shouting have their tactic used xxunk -every single time they open their mouth- . xxmaj the tactic is stupid andnon - productive and if generally used , will only result in chaos . xxmaj the xxunk just stupid ego - bation at best , unless the goal is to generate xxunk humans whose goals and actions in life are to create chaos in xxunk be locked up (</td>\n",
              "      <td>people doing the shouting have their tactic used xxunk -every single time they open their mouth- . xxmaj the tactic is stupid andnon - productive and if generally used , will only result in chaos . xxmaj the xxunk just stupid ego - bation at best , unless the goal is to generate xxunk humans whose goals and actions in life are to create chaos in xxunk be locked up ( provided</td>\n",
              "    </tr>\n",
              "    <tr>\n",
              "      <th>8</th>\n",
              "      <td>65 - xxup hp xxmaj boosts xxmaj layoffs xxmaj by 1,800http : / / xxrep 3 w .siliconvalley.com / mld / siliconvalley / 4151819.htmformer worldcom xxmaj controller xxmaj to xxmaj plead xxmaj guilty xxmaj to xxmaj two counts ( wallstreet xxmaj journal)http : / / xxrep 3 w .msnbc.com / news / 813048.asptyco xxmaj rewarded an xxmaj executive xxmaj during a xxmaj grand xxmaj jury xxmaj inquiryhttp : / / xxrep 3</td>\n",
              "      <td>- xxup hp xxmaj boosts xxmaj layoffs xxmaj by 1,800http : / / xxrep 3 w .siliconvalley.com / mld / siliconvalley / 4151819.htmformer worldcom xxmaj controller xxmaj to xxmaj plead xxmaj guilty xxmaj to xxmaj two counts ( wallstreet xxmaj journal)http : / / xxrep 3 w .msnbc.com / news / 813048.asptyco xxmaj rewarded an xxmaj executive xxmaj during a xxmaj grand xxmaj jury xxmaj inquiryhttp : / / xxrep 3 w</td>\n",
              "    </tr>\n",
              "    <tr>\n",
              "      <th>9</th>\n",
              "      <td>men ( and women ! ) that old adage\"the xxmaj bigger xxmaj the xxmaj better \" holds true ! xxmaj and you 'll find xxup plenty to hold on to here - xxmaj our stable of stackedexclusive xxup ample xxup amateurs will make your mouth water and your hands tired just looking at them ! http : / / tour2.ampleamateurs.com / ? 1087 http : / / tour2.ampleamateurs.com / ? 1087 xxmaj</td>\n",
              "      <td>( and women ! ) that old adage\"the xxmaj bigger xxmaj the xxmaj better \" holds true ! xxmaj and you 'll find xxup plenty to hold on to here - xxmaj our stable of stackedexclusive xxup ample xxup amateurs will make your mouth water and your hands tired just looking at them ! http : / / tour2.ampleamateurs.com / ? 1087 http : / / tour2.ampleamateurs.com / ? 1087 xxmaj amateur</td>\n",
              "    </tr>\n",
              "  </tbody>\n",
              "</table>"
            ]
          },
          "metadata": {}
        }
      ],
      "source": [
        "dls_lm.show_batch(max_n = 10)"
      ]
    },
    {
      "cell_type": "markdown",
      "id": "ab3963af",
      "metadata": {
        "_cell_guid": "a8c3fa63-ae51-4903-b6df-4a97fbf5133d",
        "_uuid": "a306e43b-cacf-4ce2-8973-6a499da3652c",
        "papermill": {
          "duration": 0.014225,
          "end_time": "2023-01-18T21:32:38.879352",
          "exception": false,
          "start_time": "2023-01-18T21:32:38.865127",
          "status": "completed"
        },
        "tags": [],
        "id": "ab3963af"
      },
      "source": [
        "Create text classifier learner. Use [AWD_LST]([https://arxiv.org/pdf/1708.02182.pdf]) (averaged weght-dropped long-short term memory) model architecture.\n",
        "\n",
        "For metrics, use Perplexity (lower is better: among how many words the model is confused for predicting next word)."
      ]
    },
    {
      "cell_type": "code",
      "execution_count": 21,
      "id": "2cd4af95",
      "metadata": {
        "_cell_guid": "ba17bf51-1e2a-4bfb-acc6-b49dfc56c7a1",
        "_uuid": "3d64fdcf-95d2-4d68-8e97-ce84bae5bbc7",
        "execution": {
          "iopub.execute_input": "2023-01-18T21:32:38.910963Z",
          "iopub.status.busy": "2023-01-18T21:32:38.909380Z",
          "iopub.status.idle": "2023-01-18T21:32:38.914186Z",
          "shell.execute_reply": "2023-01-18T21:32:38.913283Z"
        },
        "jupyter": {
          "outputs_hidden": false
        },
        "papermill": {
          "duration": 0.02234,
          "end_time": "2023-01-18T21:32:38.916148",
          "exception": false,
          "start_time": "2023-01-18T21:32:38.893808",
          "status": "completed"
        },
        "tags": [],
        "id": "2cd4af95"
      },
      "outputs": [],
      "source": [
        "lm_learner = language_model_learner(\n",
        "            dls_lm, \n",
        "            AWD_LSTM, \n",
        "            wd=0.1,\n",
        "            metrics=[Perplexity()]).to_fp16()"
      ]
    },
    {
      "cell_type": "markdown",
      "source": [
        "Once more, let's find the optimal learning rate"
      ],
      "metadata": {
        "id": "5mZ3PGZSoBz4"
      },
      "id": "5mZ3PGZSoBz4"
    },
    {
      "cell_type": "code",
      "source": [
        "lr = lm_learner.lr_find()\n",
        "lr"
      ],
      "metadata": {
        "colab": {
          "base_uri": "https://localhost:8080/",
          "height": 472
        },
        "id": "yE6Vu6JIgElo",
        "outputId": "7ff64936-e4b7-4f2f-c4da-02d6b2db7ec7"
      },
      "id": "yE6Vu6JIgElo",
      "execution_count": 22,
      "outputs": [
        {
          "output_type": "display_data",
          "data": {
            "text/plain": [
              "<IPython.core.display.HTML object>"
            ],
            "text/html": [
              "\n",
              "<style>\n",
              "    /* Turns off some styling */\n",
              "    progress {\n",
              "        /* gets rid of default border in Firefox and Opera. */\n",
              "        border: none;\n",
              "        /* Needs to be in here for Safari polyfill so background images work as expected. */\n",
              "        background-size: auto;\n",
              "    }\n",
              "    progress:not([value]), progress:not([value])::-webkit-progress-bar {\n",
              "        background: repeating-linear-gradient(45deg, #7e7e7e, #7e7e7e 10px, #5c5c5c 10px, #5c5c5c 20px);\n",
              "    }\n",
              "    .progress-bar-interrupted, .progress-bar-interrupted::-webkit-progress-bar {\n",
              "        background: #F44336;\n",
              "    }\n",
              "</style>\n"
            ]
          },
          "metadata": {}
        },
        {
          "output_type": "display_data",
          "data": {
            "text/plain": [
              "<IPython.core.display.HTML object>"
            ],
            "text/html": []
          },
          "metadata": {}
        },
        {
          "output_type": "execute_result",
          "data": {
            "text/plain": [
              "SuggestedLRs(valley=0.007585775572806597)"
            ]
          },
          "metadata": {},
          "execution_count": 22
        },
        {
          "output_type": "display_data",
          "data": {
            "text/plain": [
              "<Figure size 640x480 with 1 Axes>"
            ],
            "image/png": "[encoded data removed]"
          },
          "metadata": {}
        }
      ]
    },
    {
      "cell_type": "markdown",
      "id": "c99ba52e",
      "metadata": {
        "_cell_guid": "02b2a416-97d2-4703-97ca-c525ac94c072",
        "_uuid": "1aa0722c-f4e7-4972-9855-8d6ee4dedf65",
        "papermill": {
          "duration": 0.014236,
          "end_time": "2023-01-18T21:32:38.944822",
          "exception": false,
          "start_time": "2023-01-18T21:32:38.930586",
          "status": "completed"
        },
        "tags": [],
        "id": "c99ba52e"
      },
      "source": [
        "Fit one cycle. By default, aside from the final layers, other inner layers of the model are $frozen$. In other words, the pre-trained language model is kept intact, in essence this is **transfer learning**."
      ]
    },
    {
      "cell_type": "code",
      "source": [],
      "metadata": {
        "id": "lEF__-MBWuig"
      },
      "id": "lEF__-MBWuig",
      "execution_count": 22,
      "outputs": []
    },
    {
      "cell_type": "code",
      "execution_count": 23,
      "id": "4415d978",
      "metadata": {
        "_cell_guid": "488ff5fe-5e90-4495-88d8-5b171d48b08a",
        "_uuid": "42b35b8e-7e5e-4c5f-a39f-6167f061adb6",
        "execution": {
          "iopub.execute_input": "2023-01-18T21:32:38.975630Z",
          "iopub.status.busy": "2023-01-18T21:32:38.974691Z",
          "iopub.status.idle": "2023-01-18T21:32:38.979214Z",
          "shell.execute_reply": "2023-01-18T21:32:38.978323Z"
        },
        "jupyter": {
          "outputs_hidden": false
        },
        "papermill": {
          "duration": 0.022024,
          "end_time": "2023-01-18T21:32:38.981178",
          "exception": false,
          "start_time": "2023-01-18T21:32:38.959154",
          "status": "completed"
        },
        "tags": [],
        "colab": {
          "base_uri": "https://localhost:8080/",
          "height": 80
        },
        "id": "4415d978",
        "outputId": "08d123a9-a2ed-48bc-96ab-c49e9ad4c38d"
      },
      "outputs": [
        {
          "output_type": "display_data",
          "data": {
            "text/plain": [
              "<IPython.core.display.HTML object>"
            ],
            "text/html": [
              "\n",
              "<style>\n",
              "    /* Turns off some styling */\n",
              "    progress {\n",
              "        /* gets rid of default border in Firefox and Opera. */\n",
              "        border: none;\n",
              "        /* Needs to be in here for Safari polyfill so background images work as expected. */\n",
              "        background-size: auto;\n",
              "    }\n",
              "    progress:not([value]), progress:not([value])::-webkit-progress-bar {\n",
              "        background: repeating-linear-gradient(45deg, #7e7e7e, #7e7e7e 10px, #5c5c5c 10px, #5c5c5c 20px);\n",
              "    }\n",
              "    .progress-bar-interrupted, .progress-bar-interrupted::-webkit-progress-bar {\n",
              "        background: #F44336;\n",
              "    }\n",
              "</style>\n"
            ]
          },
          "metadata": {}
        },
        {
          "output_type": "display_data",
          "data": {
            "text/plain": [
              "<IPython.core.display.HTML object>"
            ],
            "text/html": [
              "<table border=\"1\" class=\"dataframe\">\n",
              "  <thead>\n",
              "    <tr style=\"text-align: left;\">\n",
              "      <th>epoch</th>\n",
              "      <th>train_loss</th>\n",
              "      <th>valid_loss</th>\n",
              "      <th>perplexity</th>\n",
              "      <th>time</th>\n",
              "    </tr>\n",
              "  </thead>\n",
              "  <tbody>\n",
              "    <tr>\n",
              "      <td>0</td>\n",
              "      <td>4.183046</td>\n",
              "      <td>3.732076</td>\n",
              "      <td>41.765720</td>\n",
              "      <td>03:28</td>\n",
              "    </tr>\n",
              "  </tbody>\n",
              "</table>"
            ]
          },
          "metadata": {}
        }
      ],
      "source": [
        "lm_learner.fit_one_cycle(1, lr[0])"
      ]
    },
    {
      "cell_type": "markdown",
      "id": "a8bb022f",
      "metadata": {
        "_cell_guid": "c3bfa931-0c71-4f56-a21a-606a6fcd34a9",
        "_uuid": "0041d125-f622-48a5-a3f9-c2d25074ddde",
        "papermill": {
          "duration": 0.014417,
          "end_time": "2023-01-18T21:32:39.009893",
          "exception": false,
          "start_time": "2023-01-18T21:32:38.995476",
          "status": "completed"
        },
        "tags": [],
        "id": "a8bb022f"
      },
      "source": [
        "Save language model state after 1 epoch."
      ]
    },
    {
      "cell_type": "code",
      "execution_count": 24,
      "id": "fc517c10",
      "metadata": {
        "_cell_guid": "5de6446d-9b0f-40f7-aea3-b4902da18e68",
        "_uuid": "2de7b3df-4eaa-45e7-aa43-2a9eaa5a7d58",
        "execution": {
          "iopub.execute_input": "2023-01-18T21:32:39.040233Z",
          "iopub.status.busy": "2023-01-18T21:32:39.039889Z",
          "iopub.status.idle": "2023-01-18T21:32:39.044083Z",
          "shell.execute_reply": "2023-01-18T21:32:39.043073Z"
        },
        "jupyter": {
          "outputs_hidden": false
        },
        "papermill": {
          "duration": 0.021865,
          "end_time": "2023-01-18T21:32:39.046069",
          "exception": false,
          "start_time": "2023-01-18T21:32:39.024204",
          "status": "completed"
        },
        "tags": [],
        "colab": {
          "base_uri": "https://localhost:8080/"
        },
        "id": "fc517c10",
        "outputId": "ecbd127a-85fd-4a14-ab07-bfbf500183d0"
      },
      "outputs": [
        {
          "output_type": "execute_result",
          "data": {
            "text/plain": [
              "Path('models/1epoch.pth')"
            ]
          },
          "metadata": {},
          "execution_count": 24
        }
      ],
      "source": [
        "lm_learner.save('1epoch')"
      ]
    },
    {
      "cell_type": "markdown",
      "id": "a9f3f4cb",
      "metadata": {
        "_cell_guid": "72c34cf5-365f-48f1-8277-523d9f65a361",
        "_uuid": "953a3a51-8f43-4b68-8ec3-0d4e1c1196d2",
        "papermill": {
          "duration": 0.014296,
          "end_time": "2023-01-18T21:32:39.074958",
          "exception": false,
          "start_time": "2023-01-18T21:32:39.060662",
          "status": "completed"
        },
        "tags": [],
        "id": "a9f3f4cb"
      },
      "source": [
        "Now we unfreeze all layers of model for futher tuning."
      ]
    },
    {
      "cell_type": "code",
      "execution_count": 25,
      "id": "4295ef5c",
      "metadata": {
        "_cell_guid": "c50916dc-8edf-47f9-9cfc-6a97cb9a502b",
        "_uuid": "c4250484-ddb4-4493-862a-cb7bfce1ec25",
        "execution": {
          "iopub.execute_input": "2023-01-18T21:32:39.105608Z",
          "iopub.status.busy": "2023-01-18T21:32:39.104796Z",
          "iopub.status.idle": "2023-01-18T21:32:39.109015Z",
          "shell.execute_reply": "2023-01-18T21:32:39.108056Z"
        },
        "jupyter": {
          "outputs_hidden": false
        },
        "papermill": {
          "duration": 0.02169,
          "end_time": "2023-01-18T21:32:39.110981",
          "exception": false,
          "start_time": "2023-01-18T21:32:39.089291",
          "status": "completed"
        },
        "tags": [],
        "id": "4295ef5c"
      },
      "outputs": [],
      "source": [
        "lm_learner.unfreeze()"
      ]
    },
    {
      "cell_type": "markdown",
      "source": [
        "As before, find the optimal learning rate."
      ],
      "metadata": {
        "id": "YstfLnBfXNPk"
      },
      "id": "YstfLnBfXNPk"
    },
    {
      "cell_type": "code",
      "source": [
        "lr = lm_learner.lr_find()\n",
        "lr"
      ],
      "metadata": {
        "colab": {
          "base_uri": "https://localhost:8080/",
          "height": 472
        },
        "id": "vIpzyl-CgMBM",
        "outputId": "b83e344a-7184-42cd-aed6-20c2f77cc3ad"
      },
      "id": "vIpzyl-CgMBM",
      "execution_count": 26,
      "outputs": [
        {
          "output_type": "display_data",
          "data": {
            "text/plain": [
              "<IPython.core.display.HTML object>"
            ],
            "text/html": [
              "\n",
              "<style>\n",
              "    /* Turns off some styling */\n",
              "    progress {\n",
              "        /* gets rid of default border in Firefox and Opera. */\n",
              "        border: none;\n",
              "        /* Needs to be in here for Safari polyfill so background images work as expected. */\n",
              "        background-size: auto;\n",
              "    }\n",
              "    progress:not([value]), progress:not([value])::-webkit-progress-bar {\n",
              "        background: repeating-linear-gradient(45deg, #7e7e7e, #7e7e7e 10px, #5c5c5c 10px, #5c5c5c 20px);\n",
              "    }\n",
              "    .progress-bar-interrupted, .progress-bar-interrupted::-webkit-progress-bar {\n",
              "        background: #F44336;\n",
              "    }\n",
              "</style>\n"
            ]
          },
          "metadata": {}
        },
        {
          "output_type": "display_data",
          "data": {
            "text/plain": [
              "<IPython.core.display.HTML object>"
            ],
            "text/html": []
          },
          "metadata": {}
        },
        {
          "output_type": "execute_result",
          "data": {
            "text/plain": [
              "SuggestedLRs(valley=0.0003311311302240938)"
            ]
          },
          "metadata": {},
          "execution_count": 26
        },
        {
          "output_type": "display_data",
          "data": {
            "text/plain": [
              "<Figure size 640x480 with 1 Axes>"
            ],
            "image/png": "[encoded data removed]"
          },
          "metadata": {}
        }
      ]
    },
    {
      "cell_type": "markdown",
      "source": [
        "Train model for 5 epochs."
      ],
      "metadata": {
        "id": "rjo7JRtXohJa"
      },
      "id": "rjo7JRtXohJa"
    },
    {
      "cell_type": "code",
      "execution_count": 27,
      "id": "75a5f9de",
      "metadata": {
        "_cell_guid": "f3807a2d-a8b7-4fc4-8f71-57352d020fea",
        "_uuid": "25ca60f9-32c3-4d24-bd3e-1afcfda6210d",
        "execution": {
          "iopub.execute_input": "2023-01-18T21:32:39.142529Z",
          "iopub.status.busy": "2023-01-18T21:32:39.141008Z",
          "iopub.status.idle": "2023-01-18T21:32:39.145711Z",
          "shell.execute_reply": "2023-01-18T21:32:39.144864Z"
        },
        "jupyter": {
          "outputs_hidden": false
        },
        "papermill": {
          "duration": 0.022294,
          "end_time": "2023-01-18T21:32:39.147727",
          "exception": false,
          "start_time": "2023-01-18T21:32:39.125433",
          "status": "completed"
        },
        "tags": [],
        "colab": {
          "base_uri": "https://localhost:8080/",
          "height": 201
        },
        "id": "75a5f9de",
        "outputId": "cdf31ebe-8ef6-48dd-957a-6420199e3bdc"
      },
      "outputs": [
        {
          "output_type": "display_data",
          "data": {
            "text/plain": [
              "<IPython.core.display.HTML object>"
            ],
            "text/html": [
              "\n",
              "<style>\n",
              "    /* Turns off some styling */\n",
              "    progress {\n",
              "        /* gets rid of default border in Firefox and Opera. */\n",
              "        border: none;\n",
              "        /* Needs to be in here for Safari polyfill so background images work as expected. */\n",
              "        background-size: auto;\n",
              "    }\n",
              "    progress:not([value]), progress:not([value])::-webkit-progress-bar {\n",
              "        background: repeating-linear-gradient(45deg, #7e7e7e, #7e7e7e 10px, #5c5c5c 10px, #5c5c5c 20px);\n",
              "    }\n",
              "    .progress-bar-interrupted, .progress-bar-interrupted::-webkit-progress-bar {\n",
              "        background: #F44336;\n",
              "    }\n",
              "</style>\n"
            ]
          },
          "metadata": {}
        },
        {
          "output_type": "display_data",
          "data": {
            "text/plain": [
              "<IPython.core.display.HTML object>"
            ],
            "text/html": [
              "<table border=\"1\" class=\"dataframe\">\n",
              "  <thead>\n",
              "    <tr style=\"text-align: left;\">\n",
              "      <th>epoch</th>\n",
              "      <th>train_loss</th>\n",
              "      <th>valid_loss</th>\n",
              "      <th>perplexity</th>\n",
              "      <th>time</th>\n",
              "    </tr>\n",
              "  </thead>\n",
              "  <tbody>\n",
              "    <tr>\n",
              "      <td>0</td>\n",
              "      <td>3.737834</td>\n",
              "      <td>3.486760</td>\n",
              "      <td>32.679905</td>\n",
              "      <td>03:41</td>\n",
              "    </tr>\n",
              "    <tr>\n",
              "      <td>1</td>\n",
              "      <td>3.492736</td>\n",
              "      <td>3.250761</td>\n",
              "      <td>25.809980</td>\n",
              "      <td>03:37</td>\n",
              "    </tr>\n",
              "    <tr>\n",
              "      <td>2</td>\n",
              "      <td>3.328437</td>\n",
              "      <td>3.102983</td>\n",
              "      <td>22.264256</td>\n",
              "      <td>03:44</td>\n",
              "    </tr>\n",
              "    <tr>\n",
              "      <td>3</td>\n",
              "      <td>3.287548</td>\n",
              "      <td>3.038815</td>\n",
              "      <td>20.880476</td>\n",
              "      <td>03:37</td>\n",
              "    </tr>\n",
              "    <tr>\n",
              "      <td>4</td>\n",
              "      <td>3.237857</td>\n",
              "      <td>3.025131</td>\n",
              "      <td>20.596712</td>\n",
              "      <td>03:38</td>\n",
              "    </tr>\n",
              "  </tbody>\n",
              "</table>"
            ]
          },
          "metadata": {}
        }
      ],
      "source": [
        "lm_learner.fit_one_cycle(5, lr[0])"
      ]
    },
    {
      "cell_type": "code",
      "source": [
        "lm_learner.recorder.plot_loss()"
      ],
      "metadata": {
        "colab": {
          "base_uri": "https://localhost:8080/",
          "height": 431
        },
        "id": "UmQo9u5dillI",
        "outputId": "ed9bfc12-a3d9-4158-95ce-9b5d4ff909eb"
      },
      "id": "UmQo9u5dillI",
      "execution_count": 28,
      "outputs": [
        {
          "output_type": "display_data",
          "data": {
            "text/plain": [
              "<Figure size 640x480 with 1 Axes>"
            ],
            "image/png": "[encoded data removed]"
          },
          "metadata": {}
        }
      ]
    },
    {
      "cell_type": "markdown",
      "id": "f6303f07",
      "metadata": {
        "_cell_guid": "f4ecaff9-e2c4-4a10-b005-9fc9aebdd321",
        "_uuid": "2a26cdf4-62a7-48ec-9d11-98e78e7acc76",
        "papermill": {
          "duration": 0.014266,
          "end_time": "2023-01-18T21:32:39.176371",
          "exception": false,
          "start_time": "2023-01-18T21:32:39.162105",
          "status": "completed"
        },
        "tags": [],
        "id": "f6303f07"
      },
      "source": [
        "Save fully tuned model."
      ]
    },
    {
      "cell_type": "code",
      "execution_count": 29,
      "id": "ebd831d0",
      "metadata": {
        "_cell_guid": "b76c9321-a1f3-4673-bb54-ab0ae86d2882",
        "_uuid": "182f2d96-cb9b-4897-bcda-af69e787b481",
        "execution": {
          "iopub.execute_input": "2023-01-18T21:32:39.207986Z",
          "iopub.status.busy": "2023-01-18T21:32:39.206424Z",
          "iopub.status.idle": "2023-01-18T21:32:39.211230Z",
          "shell.execute_reply": "2023-01-18T21:32:39.210270Z"
        },
        "jupyter": {
          "outputs_hidden": false
        },
        "papermill": {
          "duration": 0.022222,
          "end_time": "2023-01-18T21:32:39.213182",
          "exception": false,
          "start_time": "2023-01-18T21:32:39.190960",
          "status": "completed"
        },
        "tags": [],
        "id": "ebd831d0"
      },
      "outputs": [],
      "source": [
        "lm_learner.save_encoder('finetuned')"
      ]
    },
    {
      "cell_type": "markdown",
      "id": "3d6c9484",
      "metadata": {
        "_cell_guid": "3a625921-a83f-494a-b87b-852caab01d4f",
        "_uuid": "73f0cb97-d7e3-4f77-8637-309568cd7be3",
        "papermill": {
          "duration": 0.014147,
          "end_time": "2023-01-18T21:32:39.306544",
          "exception": false,
          "start_time": "2023-01-18T21:32:39.292397",
          "status": "completed"
        },
        "tags": [],
        "id": "3d6c9484"
      },
      "source": [
        "Now we use our LLM to build a new email classifier. \n",
        "\n",
        "Create DataLoaders for classification using the cutomized language model. Notice, we set $is\\_lm=False$ and use the vocabulary list from the LLM by setting $vocab=dls\\_lm.vocab$."
      ]
    },
    {
      "cell_type": "code",
      "execution_count": 30,
      "id": "fab4a91c",
      "metadata": {
        "_cell_guid": "58190c03-2e4a-4d32-bf32-6344696075ce",
        "_uuid": "b264d5a6-afdc-4ec6-b7cb-be8baacade98",
        "execution": {
          "iopub.execute_input": "2023-01-18T21:32:39.337562Z",
          "iopub.status.busy": "2023-01-18T21:32:39.336680Z",
          "iopub.status.idle": "2023-01-18T21:32:39.341532Z",
          "shell.execute_reply": "2023-01-18T21:32:39.340692Z"
        },
        "jupyter": {
          "outputs_hidden": false
        },
        "papermill": {
          "duration": 0.022216,
          "end_time": "2023-01-18T21:32:39.343457",
          "exception": false,
          "start_time": "2023-01-18T21:32:39.321241",
          "status": "completed"
        },
        "tags": [],
        "colab": {
          "base_uri": "https://localhost:8080/",
          "height": 18
        },
        "id": "fab4a91c",
        "outputId": "e0e2323b-66ad-426f-96b4-027a984c3d29"
      },
      "outputs": [
        {
          "output_type": "display_data",
          "data": {
            "text/plain": [
              "<IPython.core.display.HTML object>"
            ],
            "text/html": [
              "\n",
              "<style>\n",
              "    /* Turns off some styling */\n",
              "    progress {\n",
              "        /* gets rid of default border in Firefox and Opera. */\n",
              "        border: none;\n",
              "        /* Needs to be in here for Safari polyfill so background images work as expected. */\n",
              "        background-size: auto;\n",
              "    }\n",
              "    progress:not([value]), progress:not([value])::-webkit-progress-bar {\n",
              "        background: repeating-linear-gradient(45deg, #7e7e7e, #7e7e7e 10px, #5c5c5c 10px, #5c5c5c 20px);\n",
              "    }\n",
              "    .progress-bar-interrupted, .progress-bar-interrupted::-webkit-progress-bar {\n",
              "        background: #F44336;\n",
              "    }\n",
              "</style>\n"
            ]
          },
          "metadata": {}
        },
        {
          "output_type": "display_data",
          "data": {
            "text/plain": [
              "<IPython.core.display.HTML object>"
            ],
            "text/html": []
          },
          "metadata": {}
        }
      ],
      "source": [
        "dls_cls = DataBlock(\n",
        "            blocks=(TextBlock.from_df(text_cols=('text'), \n",
        "                              is_lm=False, \n",
        "                              vocab=dls_lm.vocab), \n",
        "            CategoryBlock),\n",
        "            get_x=ColReader('text'),\n",
        "            get_y=ColReader('category'), \n",
        "            splitter=RandomSplitter(valid_pct=0.2, seed=12345)\n",
        "            ).dataloaders(df, bs=64)"
      ]
    },
    {
      "cell_type": "code",
      "execution_count": 31,
      "id": "e682c1ee",
      "metadata": {
        "_cell_guid": "e62244e9-7c5d-429a-9a63-674d463bd724",
        "_uuid": "40007b73-409e-46e7-aac6-8ff60a9784b8",
        "execution": {
          "iopub.execute_input": "2023-01-18T21:32:39.374715Z",
          "iopub.status.busy": "2023-01-18T21:32:39.373140Z",
          "iopub.status.idle": "2023-01-18T21:32:39.377872Z",
          "shell.execute_reply": "2023-01-18T21:32:39.376999Z"
        },
        "jupyter": {
          "outputs_hidden": false
        },
        "papermill": {
          "duration": 0.02216,
          "end_time": "2023-01-18T21:32:39.379890",
          "exception": false,
          "start_time": "2023-01-18T21:32:39.357730",
          "status": "completed"
        },
        "tags": [],
        "colab": {
          "base_uri": "https://localhost:8080/",
          "height": 487
        },
        "id": "e682c1ee",
        "outputId": "fca3b590-9ebf-4bec-949f-dd594ade8203"
      },
      "outputs": [
        {
          "output_type": "display_data",
          "data": {
            "text/plain": [
              "<IPython.core.display.HTML object>"
            ],
            "text/html": [
              "<table border=\"1\" class=\"dataframe\">\n",
              "  <thead>\n",
              "    <tr style=\"text-align: right;\">\n",
              "      <th></th>\n",
              "      <th>text</th>\n",
              "      <th>category</th>\n",
              "    </tr>\n",
              "  </thead>\n",
              "  <tbody>\n",
              "    <tr>\n",
              "      <th>0</th>\n",
              "      <td>xxbos xxmaj this is a multi - part message in xxup mime format . xxrep 6 - = _ nextpart _ xxrep 3 0 _ xxrep 3 0 2_01c228ca.593b5280content - type : text / plain ; \\t xxunk - xxunk - transfer - encoding : xxunk &lt; xxunk xxrep 3 $ xxunk ! # xxunk ! # xxunk % / % xxunk , xxunk ! $ xxunk % / $ xxunk xxrep 3 $ xxunk , xxunk ! # xxunk : xxunk $ xxunk # ! xxunk xxrep 3 $ xxup xxunk / $ @$5$$ ! # ! xxunk / ! xxunk &gt; xxunk $ / $ * 4j xxrep 5 $ ? $ 7$^$9 ! # xxunk xxrep 38 - + xxunk \\ xxunk # % \" xxunk \\ % xxunk # % xxunk ! e = xxunk xxunk - mail : xxunk : 03 - 3518 - xxunk</td>\n",
              "      <td>ham</td>\n",
              "    </tr>\n",
              "    <tr>\n",
              "      <th>1</th>\n",
              "      <td>xxbos \" free trade and free markets have proven their ability to lift xxunk out of xxunk not a socio - political / history buff - does anybody have some xxunk ? xxrep 5 - xxmaj original xxmaj message xxrep 5 - xxmaj from : \" rohit xxmaj khare \" xxmaj to : xxmaj sent : xxmaj friday , xxmaj september 20 , 2002 xxunk pmsubject : sed / s / xxmaj united xxmaj states / xxmaj roman xxmaj empire / g &gt; &gt; a world where some live in comfort and plenty , while half of the human &gt; &gt; race lives on less than $ 2 a day , is neither just nor stable . &gt; &gt; xxmaj absolutely correct . xxmaj perhaps the most fundamental thing to realize about &gt; life on xxmaj earth today . &gt; &gt; xxmaj the following is a fascinating document of official</td>\n",
              "      <td>ham</td>\n",
              "    </tr>\n",
              "    <tr>\n",
              "      <th>2</th>\n",
              "      <td>xxbos &gt; a world where some live in comfort and plenty , while half of the human &gt; race lives on less than $ 2 a day , is neither just nor xxunk correct . xxmaj perhaps the most fundamental thing to realize about life on xxmaj earth xxunk following is a fascinating document of official xxmaj government policy that bears close reading . xxmaj it is the aspirations of a wonderful nation in an imperfect world . &gt; xxmaj the war on terrorism is not a clash of civilizations . xxmaj it does , &gt; however , reveal the clash inside a civilization , a battle for the &gt; future of the xxmaj muslim world . xxmaj this is a struggle of ideas and this is an &gt; area where xxmaj america must xxunk was recently at a lecture about the surprising success of xxmaj radio xxmaj sawa ,</td>\n",
              "      <td>ham</td>\n",
              "    </tr>\n",
              "  </tbody>\n",
              "</table>"
            ]
          },
          "metadata": {}
        }
      ],
      "source": [
        "dls_cls.show_batch(max_n=3)"
      ]
    },
    {
      "cell_type": "markdown",
      "id": "cabf1480",
      "metadata": {
        "_cell_guid": "dbe88362-490a-4529-ae8e-2fc32811a26b",
        "_uuid": "2e7cd64b-f227-4662-8c90-41cad2a09c94",
        "papermill": {
          "duration": 0.014226,
          "end_time": "2023-01-18T21:32:39.408441",
          "exception": false,
          "start_time": "2023-01-18T21:32:39.394215",
          "status": "completed"
        },
        "tags": [],
        "id": "cabf1480"
      },
      "source": [
        "Create text classification learner."
      ]
    },
    {
      "cell_type": "code",
      "execution_count": 32,
      "id": "704e7575",
      "metadata": {
        "_cell_guid": "865faf8b-914f-411d-9582-4a6b6e3cf920",
        "_uuid": "b90bc0a4-ff99-4018-b04a-44bc1fc55611",
        "execution": {
          "iopub.execute_input": "2023-01-18T21:32:39.440157Z",
          "iopub.status.busy": "2023-01-18T21:32:39.439306Z",
          "iopub.status.idle": "2023-01-18T21:32:39.444484Z",
          "shell.execute_reply": "2023-01-18T21:32:39.443546Z"
        },
        "jupyter": {
          "outputs_hidden": false
        },
        "papermill": {
          "duration": 0.023466,
          "end_time": "2023-01-18T21:32:39.446712",
          "exception": false,
          "start_time": "2023-01-18T21:32:39.423246",
          "status": "completed"
        },
        "tags": [],
        "id": "704e7575"
      },
      "outputs": [],
      "source": [
        "learn = text_classifier_learner(dls_cls, \n",
        "                                AWD_LSTM, \n",
        "                                drop_mult=0.5, \n",
        "                                metrics=[accuracy, Precision(), Recall(), F1Score()])"
      ]
    },
    {
      "cell_type": "code",
      "execution_count": 33,
      "id": "b8fd8f31",
      "metadata": {
        "_cell_guid": "d7f3110d-f845-4087-be74-866515112713",
        "_uuid": "ccd781e4-6ef5-473f-8779-e53179508043",
        "execution": {
          "iopub.execute_input": "2023-01-18T21:32:39.478395Z",
          "iopub.status.busy": "2023-01-18T21:32:39.477629Z",
          "iopub.status.idle": "2023-01-18T21:32:39.482465Z",
          "shell.execute_reply": "2023-01-18T21:32:39.481613Z"
        },
        "jupyter": {
          "outputs_hidden": false
        },
        "papermill": {
          "duration": 0.022723,
          "end_time": "2023-01-18T21:32:39.484470",
          "exception": false,
          "start_time": "2023-01-18T21:32:39.461747",
          "status": "completed"
        },
        "tags": [],
        "id": "b8fd8f31"
      },
      "outputs": [],
      "source": [
        "learn = learn.load_encoder('finetuned')"
      ]
    },
    {
      "cell_type": "code",
      "source": [
        "lr = learn.lr_find()"
      ],
      "metadata": {
        "colab": {
          "base_uri": "https://localhost:8080/",
          "height": 455
        },
        "id": "d7blfeK41mIP",
        "outputId": "07385c79-107a-4ef5-a4ad-60da03b975ae"
      },
      "id": "d7blfeK41mIP",
      "execution_count": 34,
      "outputs": [
        {
          "output_type": "display_data",
          "data": {
            "text/plain": [
              "<IPython.core.display.HTML object>"
            ],
            "text/html": [
              "\n",
              "<style>\n",
              "    /* Turns off some styling */\n",
              "    progress {\n",
              "        /* gets rid of default border in Firefox and Opera. */\n",
              "        border: none;\n",
              "        /* Needs to be in here for Safari polyfill so background images work as expected. */\n",
              "        background-size: auto;\n",
              "    }\n",
              "    progress:not([value]), progress:not([value])::-webkit-progress-bar {\n",
              "        background: repeating-linear-gradient(45deg, #7e7e7e, #7e7e7e 10px, #5c5c5c 10px, #5c5c5c 20px);\n",
              "    }\n",
              "    .progress-bar-interrupted, .progress-bar-interrupted::-webkit-progress-bar {\n",
              "        background: #F44336;\n",
              "    }\n",
              "</style>\n"
            ]
          },
          "metadata": {}
        },
        {
          "output_type": "display_data",
          "data": {
            "text/plain": [
              "<IPython.core.display.HTML object>"
            ],
            "text/html": []
          },
          "metadata": {}
        },
        {
          "output_type": "display_data",
          "data": {
            "text/plain": [
              "<Figure size 640x480 with 1 Axes>"
            ],
            "image/png": "[encoded data removed]"
          },
          "metadata": {}
        }
      ]
    },
    {
      "cell_type": "code",
      "execution_count": 35,
      "id": "9c196c31",
      "metadata": {
        "_cell_guid": "46e92bf6-f9bd-4f3d-9c55-a625987060f4",
        "_uuid": "4d585937-1805-490e-8668-f95efa18121d",
        "execution": {
          "iopub.execute_input": "2023-01-18T21:32:39.515286Z",
          "iopub.status.busy": "2023-01-18T21:32:39.514430Z",
          "iopub.status.idle": "2023-01-18T21:32:39.519053Z",
          "shell.execute_reply": "2023-01-18T21:32:39.518205Z"
        },
        "jupyter": {
          "outputs_hidden": false
        },
        "papermill": {
          "duration": 0.021788,
          "end_time": "2023-01-18T21:32:39.520790",
          "exception": false,
          "start_time": "2023-01-18T21:32:39.499002",
          "status": "completed"
        },
        "tags": [],
        "colab": {
          "base_uri": "https://localhost:8080/",
          "height": 222
        },
        "id": "9c196c31",
        "outputId": "c4a55816-8ff5-44dc-944b-dc3a46d90155"
      },
      "outputs": [
        {
          "output_type": "display_data",
          "data": {
            "text/plain": [
              "<IPython.core.display.HTML object>"
            ],
            "text/html": [
              "\n",
              "<style>\n",
              "    /* Turns off some styling */\n",
              "    progress {\n",
              "        /* gets rid of default border in Firefox and Opera. */\n",
              "        border: none;\n",
              "        /* Needs to be in here for Safari polyfill so background images work as expected. */\n",
              "        background-size: auto;\n",
              "    }\n",
              "    progress:not([value]), progress:not([value])::-webkit-progress-bar {\n",
              "        background: repeating-linear-gradient(45deg, #7e7e7e, #7e7e7e 10px, #5c5c5c 10px, #5c5c5c 20px);\n",
              "    }\n",
              "    .progress-bar-interrupted, .progress-bar-interrupted::-webkit-progress-bar {\n",
              "        background: #F44336;\n",
              "    }\n",
              "</style>\n"
            ]
          },
          "metadata": {}
        },
        {
          "output_type": "display_data",
          "data": {
            "text/plain": [
              "<IPython.core.display.HTML object>"
            ],
            "text/html": [
              "<table border=\"1\" class=\"dataframe\">\n",
              "  <thead>\n",
              "    <tr style=\"text-align: left;\">\n",
              "      <th>epoch</th>\n",
              "      <th>train_loss</th>\n",
              "      <th>valid_loss</th>\n",
              "      <th>accuracy</th>\n",
              "      <th>precision_score</th>\n",
              "      <th>recall_score</th>\n",
              "      <th>f1_score</th>\n",
              "      <th>time</th>\n",
              "    </tr>\n",
              "  </thead>\n",
              "  <tbody>\n",
              "    <tr>\n",
              "      <td>0</td>\n",
              "      <td>0.216830</td>\n",
              "      <td>0.089146</td>\n",
              "      <td>0.971698</td>\n",
              "      <td>0.936902</td>\n",
              "      <td>0.976096</td>\n",
              "      <td>0.956098</td>\n",
              "      <td>01:00</td>\n",
              "    </tr>\n",
              "  </tbody>\n",
              "</table>"
            ]
          },
          "metadata": {}
        },
        {
          "output_type": "display_data",
          "data": {
            "text/plain": [
              "<IPython.core.display.HTML object>"
            ],
            "text/html": [
              "\n",
              "<style>\n",
              "    /* Turns off some styling */\n",
              "    progress {\n",
              "        /* gets rid of default border in Firefox and Opera. */\n",
              "        border: none;\n",
              "        /* Needs to be in here for Safari polyfill so background images work as expected. */\n",
              "        background-size: auto;\n",
              "    }\n",
              "    progress:not([value]), progress:not([value])::-webkit-progress-bar {\n",
              "        background: repeating-linear-gradient(45deg, #7e7e7e, #7e7e7e 10px, #5c5c5c 10px, #5c5c5c 20px);\n",
              "    }\n",
              "    .progress-bar-interrupted, .progress-bar-interrupted::-webkit-progress-bar {\n",
              "        background: #F44336;\n",
              "    }\n",
              "</style>\n"
            ]
          },
          "metadata": {}
        },
        {
          "output_type": "display_data",
          "data": {
            "text/plain": [
              "<IPython.core.display.HTML object>"
            ],
            "text/html": [
              "<table border=\"1\" class=\"dataframe\">\n",
              "  <thead>\n",
              "    <tr style=\"text-align: left;\">\n",
              "      <th>epoch</th>\n",
              "      <th>train_loss</th>\n",
              "      <th>valid_loss</th>\n",
              "      <th>accuracy</th>\n",
              "      <th>precision_score</th>\n",
              "      <th>recall_score</th>\n",
              "      <th>f1_score</th>\n",
              "      <th>time</th>\n",
              "    </tr>\n",
              "  </thead>\n",
              "  <tbody>\n",
              "    <tr>\n",
              "      <td>0</td>\n",
              "      <td>0.119059</td>\n",
              "      <td>0.121743</td>\n",
              "      <td>0.960377</td>\n",
              "      <td>0.960168</td>\n",
              "      <td>0.912351</td>\n",
              "      <td>0.935649</td>\n",
              "      <td>01:57</td>\n",
              "    </tr>\n",
              "    <tr>\n",
              "      <td>1</td>\n",
              "      <td>0.077133</td>\n",
              "      <td>0.064694</td>\n",
              "      <td>0.980503</td>\n",
              "      <td>0.970060</td>\n",
              "      <td>0.968127</td>\n",
              "      <td>0.969093</td>\n",
              "      <td>01:57</td>\n",
              "    </tr>\n",
              "    <tr>\n",
              "      <td>2</td>\n",
              "      <td>0.054557</td>\n",
              "      <td>0.050227</td>\n",
              "      <td>0.980503</td>\n",
              "      <td>0.966337</td>\n",
              "      <td>0.972112</td>\n",
              "      <td>0.969215</td>\n",
              "      <td>01:58</td>\n",
              "    </tr>\n",
              "  </tbody>\n",
              "</table>"
            ]
          },
          "metadata": {}
        }
      ],
      "source": [
        "learn.fine_tune(3, lr[0])"
      ]
    },
    {
      "cell_type": "markdown",
      "id": "b3782b41",
      "metadata": {
        "_cell_guid": "91c3f5ce-1fe8-4802-8f9a-a04317f96952",
        "_uuid": "807234a5-be52-43fc-aa26-19d0de77e38c",
        "papermill": {
          "duration": 0.014142,
          "end_time": "2023-01-18T21:32:39.697683",
          "exception": false,
          "start_time": "2023-01-18T21:32:39.683541",
          "status": "completed"
        },
        "tags": [],
        "id": "b3782b41"
      },
      "source": [
        "Plot confusion matrix. Actually, this ULMFit model has performed slighly worse than the off-the-shelf pre-trained model."
      ]
    },
    {
      "cell_type": "code",
      "source": [
        "interp = ClassificationInterpretation.from_learner(learn)\n",
        "interp.plot_confusion_matrix()"
      ],
      "metadata": {
        "id": "46483003",
        "colab": {
          "base_uri": "https://localhost:8080/",
          "height": 506
        },
        "outputId": "4756212b-0fd7-49ef-e6ff-d7cd5eb16b75"
      },
      "id": "46483003",
      "execution_count": 36,
      "outputs": [
        {
          "output_type": "display_data",
          "data": {
            "text/plain": [
              "<IPython.core.display.HTML object>"
            ],
            "text/html": [
              "\n",
              "<style>\n",
              "    /* Turns off some styling */\n",
              "    progress {\n",
              "        /* gets rid of default border in Firefox and Opera. */\n",
              "        border: none;\n",
              "        /* Needs to be in here for Safari polyfill so background images work as expected. */\n",
              "        background-size: auto;\n",
              "    }\n",
              "    progress:not([value]), progress:not([value])::-webkit-progress-bar {\n",
              "        background: repeating-linear-gradient(45deg, #7e7e7e, #7e7e7e 10px, #5c5c5c 10px, #5c5c5c 20px);\n",
              "    }\n",
              "    .progress-bar-interrupted, .progress-bar-interrupted::-webkit-progress-bar {\n",
              "        background: #F44336;\n",
              "    }\n",
              "</style>\n"
            ]
          },
          "metadata": {}
        },
        {
          "output_type": "display_data",
          "data": {
            "text/plain": [
              "<IPython.core.display.HTML object>"
            ],
            "text/html": []
          },
          "metadata": {}
        },
        {
          "output_type": "display_data",
          "data": {
            "text/plain": [
              "<IPython.core.display.HTML object>"
            ],
            "text/html": [
              "\n",
              "<style>\n",
              "    /* Turns off some styling */\n",
              "    progress {\n",
              "        /* gets rid of default border in Firefox and Opera. */\n",
              "        border: none;\n",
              "        /* Needs to be in here for Safari polyfill so background images work as expected. */\n",
              "        background-size: auto;\n",
              "    }\n",
              "    progress:not([value]), progress:not([value])::-webkit-progress-bar {\n",
              "        background: repeating-linear-gradient(45deg, #7e7e7e, #7e7e7e 10px, #5c5c5c 10px, #5c5c5c 20px);\n",
              "    }\n",
              "    .progress-bar-interrupted, .progress-bar-interrupted::-webkit-progress-bar {\n",
              "        background: #F44336;\n",
              "    }\n",
              "</style>\n"
            ]
          },
          "metadata": {}
        },
        {
          "output_type": "display_data",
          "data": {
            "text/plain": [
              "<IPython.core.display.HTML object>"
            ],
            "text/html": []
          },
          "metadata": {}
        },
        {
          "output_type": "display_data",
          "data": {
            "text/plain": [
              "<Figure size 640x480 with 1 Axes>"
            ],
            "image/png": "[encoded data removed]"
          },
          "metadata": {}
        }
      ]
    },
    {
      "cell_type": "markdown",
      "source": [
        "Finally, let's use the LLM to generate text. Text generation involves prompting with some text and asking the model to generate additional text."
      ],
      "metadata": {
        "id": "NaPsZR5uaclT"
      },
      "id": "NaPsZR5uaclT"
    },
    {
      "cell_type": "code",
      "source": [
        "# TEXT = \"Free promotion\"\n",
        "# N_WORDS = 40\n",
        "# N_SENTENCES = 5\n",
        "# preds = [lm_learner.predict(TEXT, N_WORDS, temperature=0.75)\n",
        "# for _ in range(N_SENTENCES)]\n",
        "# print(\"\\n\".join(preds))\n",
        "N_WORDS = 40\n",
        "\n",
        "PROMPTS = [\"We produce and distribute various motorcycles\", \"BIG discount this weekend sale\", \"I did some test on\"]\n",
        "\n",
        "preds = [lm_learner.predict(p, N_WORDS, temperature=0.75) for p in PROMPTS]\n",
        "\n",
        "for idx in range(len(PROMPTS)):\n",
        "  print(PROMPTS[idx], ': ', preds[idx])"
      ],
      "metadata": {
        "colab": {
          "base_uri": "https://localhost:8080/",
          "height": 87
        },
        "id": "MjdpRcWkattj",
        "outputId": "979f6837-3fef-45b0-822e-ac8a3ca766d2"
      },
      "id": "MjdpRcWkattj",
      "execution_count": 53,
      "outputs": [
        {
          "output_type": "display_data",
          "data": {
            "text/plain": [
              "<IPython.core.display.HTML object>"
            ],
            "text/html": [
              "\n",
              "<style>\n",
              "    /* Turns off some styling */\n",
              "    progress {\n",
              "        /* gets rid of default border in Firefox and Opera. */\n",
              "        border: none;\n",
              "        /* Needs to be in here for Safari polyfill so background images work as expected. */\n",
              "        background-size: auto;\n",
              "    }\n",
              "    progress:not([value]), progress:not([value])::-webkit-progress-bar {\n",
              "        background: repeating-linear-gradient(45deg, #7e7e7e, #7e7e7e 10px, #5c5c5c 10px, #5c5c5c 20px);\n",
              "    }\n",
              "    .progress-bar-interrupted, .progress-bar-interrupted::-webkit-progress-bar {\n",
              "        background: #F44336;\n",
              "    }\n",
              "</style>\n"
            ]
          },
          "metadata": {}
        },
        {
          "output_type": "display_data",
          "data": {
            "text/plain": [
              "<IPython.core.display.HTML object>"
            ],
            "text/html": []
          },
          "metadata": {}
        },
        {
          "output_type": "display_data",
          "data": {
            "text/plain": [
              "<IPython.core.display.HTML object>"
            ],
            "text/html": [
              "\n",
              "<style>\n",
              "    /* Turns off some styling */\n",
              "    progress {\n",
              "        /* gets rid of default border in Firefox and Opera. */\n",
              "        border: none;\n",
              "        /* Needs to be in here for Safari polyfill so background images work as expected. */\n",
              "        background-size: auto;\n",
              "    }\n",
              "    progress:not([value]), progress:not([value])::-webkit-progress-bar {\n",
              "        background: repeating-linear-gradient(45deg, #7e7e7e, #7e7e7e 10px, #5c5c5c 10px, #5c5c5c 20px);\n",
              "    }\n",
              "    .progress-bar-interrupted, .progress-bar-interrupted::-webkit-progress-bar {\n",
              "        background: #F44336;\n",
              "    }\n",
              "</style>\n"
            ]
          },
          "metadata": {}
        },
        {
          "output_type": "display_data",
          "data": {
            "text/plain": [
              "<IPython.core.display.HTML object>"
            ],
            "text/html": []
          },
          "metadata": {}
        },
        {
          "output_type": "display_data",
          "data": {
            "text/plain": [
              "<IPython.core.display.HTML object>"
            ],
            "text/html": [
              "\n",
              "<style>\n",
              "    /* Turns off some styling */\n",
              "    progress {\n",
              "        /* gets rid of default border in Firefox and Opera. */\n",
              "        border: none;\n",
              "        /* Needs to be in here for Safari polyfill so background images work as expected. */\n",
              "        background-size: auto;\n",
              "    }\n",
              "    progress:not([value]), progress:not([value])::-webkit-progress-bar {\n",
              "        background: repeating-linear-gradient(45deg, #7e7e7e, #7e7e7e 10px, #5c5c5c 10px, #5c5c5c 20px);\n",
              "    }\n",
              "    .progress-bar-interrupted, .progress-bar-interrupted::-webkit-progress-bar {\n",
              "        background: #F44336;\n",
              "    }\n",
              "</style>\n"
            ]
          },
          "metadata": {}
        },
        {
          "output_type": "display_data",
          "data": {
            "text/plain": [
              "<IPython.core.display.HTML object>"
            ],
            "text/html": []
          },
          "metadata": {}
        },
        {
          "output_type": "stream",
          "name": "stdout",
          "text": [
            "We produce and distribute various motorcycles :  We produce and distribute various motorcycles and businesses on SALE , as well as personal phones , fax , and MP3 players to email their customers and stores . Our website is also hosted by our Spy Internet Marketing\n",
            "BIG discount this weekend sale :  BIG discount this weekend sale for $ 14.95 . Get Your Free Bonus ! ! How i can get $ 10 , 000 ... Get your FREE Bonus ! Get $ 5 ,\n",
            "I did some test on :  i did some test on the \" test \" setup for \" x \" in the SMTP directory at the time , but i can not take this test . Thanks michael Chris Garrigues http : / / www\n"
          ]
        }
      ]
    },
    {
      "cell_type": "markdown",
      "source": [
        "We see the LLM is capable of text generation. Although not very sophisticated, keep in mind that the model was trained with a very small domain specific dataset.\n",
        "\n",
        "Generative LLMs are transforming the technology and business landscape. And the transformer architecture is democratizing machine learning by enabling innovation at a fraction of the cost of building LLMs from scratch."
      ],
      "metadata": {
        "id": "e74Vy23enb1_"
      },
      "id": "e74Vy23enb1_"
    }
  ],
  "metadata": {
    "kernelspec": {
      "display_name": "Python 3",
      "language": "python",
      "name": "python3"
    },
    "language_info": {
      "codemirror_mode": {
        "name": "ipython",
        "version": 3
      },
      "file_extension": ".py",
      "mimetype": "text/x-python",
      "name": "python",
      "nbconvert_exporter": "python",
      "pygments_lexer": "ipython3",
      "version": "3.7.12"
    },
    "papermill": {
      "default_parameters": {},
      "duration": 430.528588,
      "end_time": "2023-01-18T21:32:43.425766",
      "environment_variables": {},
      "exception": null,
      "input_path": "__notebook__.ipynb",
      "output_path": "__notebook__.ipynb",
      "parameters": {},
      "start_time": "2023-01-18T21:25:32.897178",
      "version": "2.3.4"
    },
    "colab": {
      "provenance": [],
      "gpuType": "T4",
      "include_colab_link": true
    },
    "accelerator": "GPU",
    "gpuClass": "standard"
  },
  "nbformat": 4,
  "nbformat_minor": 5
}