{
  "cells": [
    {
      "cell_type": "markdown",
      "metadata": {
        "id": "view-in-github",
        "colab_type": "text"
      },
      "source": [
        "<a href=\"https://colab.research.google.com/github/himalayahall/DATA602/blob/main/Project.ipynb\" target=\"_parent\"><img src=\"https://colab.research.google.com/assets/colab-badge.svg\" alt=\"Open In Colab\"/></a>"
      ]
    },
    {
      "cell_type": "markdown",
      "id": "48abf522",
      "metadata": {
        "_cell_guid": "356b1e8e-5777-4832-a31f-4c14b30f5c55",
        "_uuid": "327abaae-b2d2-42be-86c3-50997d599b34",
        "papermill": {
          "duration": 0.01369,
          "end_time": "2023-01-18T21:25:40.673032",
          "exception": false,
          "start_time": "2023-01-18T21:25:40.659342",
          "status": "completed"
        },
        "tags": [],
        "id": "48abf522"
      },
      "source": [
        "## Introduction\n",
        "\n",
        "Recent advancements in NLP, most notable the NLG capabilities of Large Language Models (LLM) like ChatGPT, have taken the public imagination by storm. \n",
        "\n",
        "NLP (Natural Language Processing), NLU (Natural Language Understanding), and NLG (Natural Language Generation) are important subtopics of Machine \n",
        "Learning. \n",
        "\n",
        ">**NLP:** it involves numerous tasks that break down natural language into \n",
        "smaller elements in order to understand the relationships between those elements and how they work together. NLP focuses largely on converting text to \n",
        "structured data. It does this through the identification of named entities (a process called named entity recognition) and identification of word \n",
        "patterns, using methods like tokenization, stemming, and lemmatization, which examine the root forms of words.\n",
        "\n",
        ">**NLU:** uses syntactic and semantic analysis of text and speech to determine the meaning of text. One of the primary goals of NLU is to teach machines how to interpret and understand language inputted by humans. It leverages algorithms to recognize attributes of language such as sentiment, semantics, context, and intent.\n",
        "\n",
        ">**NLG:** is concerned with enabling machines to not just process and understand text but to generate text. NLG is the process of producing a human language \n",
        "text response based on some data input (prompt).\n"
      ]
    },
    {
      "cell_type": "markdown",
      "source": [
        "## Motivation\n",
        "\n",
        "Natural Lanaguage Generation has made major breakthroughs and caught the public imagination. It is the driving motivation for this project and it's goal to use NLP techniques for text classification and text generation.\n",
        "\n",
        "## Dataset\n",
        "\n",
        ">Fake reviews are a major problem in e-commerce because they misinform consumers and erode confidence in the marketplace. This [fake reviews dataset](https://osf.io/3vds7) contains 20K fake reviews and 20k real product reviews. Review labeles:\n",
        "- OR = Original reviews (presumably human created and authentic)\n",
        "- CG = Computer-generated fake reviews.\n",
        "\n",
        "\n",
        "## Project goals\n",
        ">**NLP**: \n",
        "build a classification model to classify product reviews as either original (presumably human created and authentic) or fake (presumably computer generated fake reviews).\n",
        "\n",
        ">**NLU**:\n",
        "the English learned by the pretrained language model (Wikipedia) is slightly different from the English used for product reviews. So, instead of jumping directly to the classifier, fine-tune the pretrained language model to the product corpus and use the new language model as the base for our classifier. This should (if all goes as well) result in better classifier performance.\n",
        "\n",
        ">**NLG**:\n",
        "having created a language model that was fine-tuned for product reviews, use it to auto-generate reviews. This will be done by giving the model some starting text (prompt) and asking the model to generate the rest (up to a maximum number of words).\n",
        "\n",
        "#### Tools and Frameworks\n",
        "\n",
        ">[Fastai](https://fastai.github.io/fastbook2e/book10.html)\n",
        "\n",
        ">`Google Collab`\n",
        "\n",
        ">`Jupyter Notebook`\n",
        "\n"
      ],
      "metadata": {
        "id": "Zm7JnhBRWcI-"
      },
      "id": "Zm7JnhBRWcI-"
    },
    {
      "cell_type": "markdown",
      "id": "92429604",
      "metadata": {
        "papermill": {
          "duration": 0.013115,
          "end_time": "2023-01-18T21:25:40.698649",
          "exception": false,
          "start_time": "2023-01-18T21:25:40.685534",
          "status": "completed"
        },
        "tags": [],
        "id": "92429604"
      },
      "source": [
        "# Load data"
      ]
    },
    {
      "cell_type": "code",
      "execution_count": 1,
      "id": "d6af7845",
      "metadata": {
        "_cell_guid": "338d8162-b3d6-450a-a4f9-6a4992ff486e",
        "_uuid": "06bea0f2-713c-4d40-9dcd-66986c19a0d6",
        "execution": {
          "iopub.execute_input": "2023-01-18T21:25:40.724171Z",
          "iopub.status.busy": "2023-01-18T21:25:40.723317Z",
          "iopub.status.idle": "2023-01-18T21:25:41.295136Z",
          "shell.execute_reply": "2023-01-18T21:25:41.294143Z"
        },
        "jupyter": {
          "outputs_hidden": false
        },
        "papermill": {
          "duration": 0.587405,
          "end_time": "2023-01-18T21:25:41.297731",
          "exception": false,
          "start_time": "2023-01-18T21:25:40.710326",
          "status": "completed"
        },
        "tags": [],
        "id": "d6af7845"
      },
      "outputs": [],
      "source": [
        "import pandas as pd\n",
        "import re\n",
        "\n",
        "df = pd.read_csv('https://raw.githubusercontent.com/himalayahall/DATA602/main/fake%20reviews%20dataset.csv')"
      ]
    },
    {
      "cell_type": "code",
      "execution_count": 2,
      "id": "c10c43dc",
      "metadata": {
        "_cell_guid": "2df8474f-8da9-401c-bf34-a52d4e3334df",
        "_uuid": "38c38e1e-dcab-457c-b65f-5ff70b4cdc3c",
        "execution": {
          "iopub.execute_input": "2023-01-18T21:25:41.322730Z",
          "iopub.status.busy": "2023-01-18T21:25:41.321902Z",
          "iopub.status.idle": "2023-01-18T21:25:41.341106Z",
          "shell.execute_reply": "2023-01-18T21:25:41.340069Z"
        },
        "jupyter": {
          "outputs_hidden": false
        },
        "papermill": {
          "duration": 0.034861,
          "end_time": "2023-01-18T21:25:41.344129",
          "exception": false,
          "start_time": "2023-01-18T21:25:41.309268",
          "status": "completed"
        },
        "scrolled": true,
        "tags": [],
        "colab": {
          "base_uri": "https://localhost:8080/",
          "height": 420
        },
        "id": "c10c43dc",
        "outputId": "b76bb45b-8beb-4e47-970c-39ba1e9c8cbf"
      },
      "outputs": [
        {
          "output_type": "stream",
          "name": "stdout",
          "text": [
            "<class 'pandas.core.frame.DataFrame'>\n",
            "RangeIndex: 40432 entries, 0 to 40431\n",
            "Data columns (total 4 columns):\n",
            " #   Column    Non-Null Count  Dtype  \n",
            "---  ------    --------------  -----  \n",
            " 0   category  40432 non-null  object \n",
            " 1   rating    40432 non-null  float64\n",
            " 2   label     40432 non-null  object \n",
            " 3   text_     40432 non-null  object \n",
            "dtypes: float64(1), object(3)\n",
            "memory usage: 1.2+ MB\n",
            "None\n"
          ]
        },
        {
          "output_type": "execute_result",
          "data": {
            "text/plain": [
              "             category  rating label  \\\n",
              "0  Home_and_Kitchen_5     5.0    CG   \n",
              "1  Home_and_Kitchen_5     5.0    CG   \n",
              "2  Home_and_Kitchen_5     5.0    CG   \n",
              "3  Home_and_Kitchen_5     1.0    CG   \n",
              "4  Home_and_Kitchen_5     5.0    CG   \n",
              "\n",
              "                                               text_  \n",
              "0  Love this!  Well made, sturdy, and very comfor...  \n",
              "1  love it, a great upgrade from the original.  I...  \n",
              "2  This pillow saved my back. I love the look and...  \n",
              "3  Missing information on how to use it, but it i...  \n",
              "4  Very nice set. Good quality. We have had the s...  "
            ],
            "text/html": [
              "\n",
              "  <div id=\"df-a650a2a1-78ae-4f4d-9a13-f5a15536c982\">\n",
              "    <div class=\"colab-df-container\">\n",
              "      <div>\n",
              "<style scoped>\n",
              "    .dataframe tbody tr th:only-of-type {\n",
              "        vertical-align: middle;\n",
              "    }\n",
              "\n",
              "    .dataframe tbody tr th {\n",
              "        vertical-align: top;\n",
              "    }\n",
              "\n",
              "    .dataframe thead th {\n",
              "        text-align: right;\n",
              "    }\n",
              "</style>\n",
              "<table border=\"1\" class=\"dataframe\">\n",
              "  <thead>\n",
              "    <tr style=\"text-align: right;\">\n",
              "      <th></th>\n",
              "      <th>category</th>\n",
              "      <th>rating</th>\n",
              "      <th>label</th>\n",
              "      <th>text_</th>\n",
              "    </tr>\n",
              "  </thead>\n",
              "  <tbody>\n",
              "    <tr>\n",
              "      <th>0</th>\n",
              "      <td>Home_and_Kitchen_5</td>\n",
              "      <td>5.0</td>\n",
              "      <td>CG</td>\n",
              "      <td>Love this!  Well made, sturdy, and very comfor...</td>\n",
              "    </tr>\n",
              "    <tr>\n",
              "      <th>1</th>\n",
              "      <td>Home_and_Kitchen_5</td>\n",
              "      <td>5.0</td>\n",
              "      <td>CG</td>\n",
              "      <td>love it, a great upgrade from the original.  I...</td>\n",
              "    </tr>\n",
              "    <tr>\n",
              "      <th>2</th>\n",
              "      <td>Home_and_Kitchen_5</td>\n",
              "      <td>5.0</td>\n",
              "      <td>CG</td>\n",
              "      <td>This pillow saved my back. I love the look and...</td>\n",
              "    </tr>\n",
              "    <tr>\n",
              "      <th>3</th>\n",
              "      <td>Home_and_Kitchen_5</td>\n",
              "      <td>1.0</td>\n",
              "      <td>CG</td>\n",
              "      <td>Missing information on how to use it, but it i...</td>\n",
              "    </tr>\n",
              "    <tr>\n",
              "      <th>4</th>\n",
              "      <td>Home_and_Kitchen_5</td>\n",
              "      <td>5.0</td>\n",
              "      <td>CG</td>\n",
              "      <td>Very nice set. Good quality. We have had the s...</td>\n",
              "    </tr>\n",
              "  </tbody>\n",
              "</table>\n",
              "</div>\n",
              "      <button class=\"colab-df-convert\" onclick=\"convertToInteractive('df-a650a2a1-78ae-4f4d-9a13-f5a15536c982')\"\n",
              "              title=\"Convert this dataframe to an interactive table.\"\n",
              "              style=\"display:none;\">\n",
              "        \n",
              "  <svg xmlns=\"http://www.w3.org/2000/svg\" height=\"24px\"viewBox=\"0 0 24 24\"\n",
              "       width=\"24px\">\n",
              "    <path d=\"M0 0h24v24H0V0z\" fill=\"none\"/>\n",
              "    <path d=\"M18.56 5.44l.94 2.06.94-2.06 2.06-.94-2.06-.94-.94-2.06-.94 2.06-2.06.94zm-11 1L8.5 8.5l.94-2.06 2.06-.94-2.06-.94L8.5 2.5l-.94 2.06-2.06.94zm10 10l.94 2.06.94-2.06 2.06-.94-2.06-.94-.94-2.06-.94 2.06-2.06.94z\"/><path d=\"M17.41 7.96l-1.37-1.37c-.4-.4-.92-.59-1.43-.59-.52 0-1.04.2-1.43.59L10.3 9.45l-7.72 7.72c-.78.78-.78 2.05 0 2.83L4 21.41c.39.39.9.59 1.41.59.51 0 1.02-.2 1.41-.59l7.78-7.78 2.81-2.81c.8-.78.8-2.07 0-2.86zM5.41 20L4 18.59l7.72-7.72 1.47 1.35L5.41 20z\"/>\n",
              "  </svg>\n",
              "      </button>\n",
              "      \n",
              "  <style>\n",
              "    .colab-df-container {\n",
              "      display:flex;\n",
              "      flex-wrap:wrap;\n",
              "      gap: 12px;\n",
              "    }\n",
              "\n",
              "    .colab-df-convert {\n",
              "      background-color: #E8F0FE;\n",
              "      border: none;\n",
              "      border-radius: 50%;\n",
              "      cursor: pointer;\n",
              "      display: none;\n",
              "      fill: #1967D2;\n",
              "      height: 32px;\n",
              "      padding: 0 0 0 0;\n",
              "      width: 32px;\n",
              "    }\n",
              "\n",
              "    .colab-df-convert:hover {\n",
              "      background-color: #E2EBFA;\n",
              "      box-shadow: 0px 1px 2px rgba(60, 64, 67, 0.3), 0px 1px 3px 1px rgba(60, 64, 67, 0.15);\n",
              "      fill: #174EA6;\n",
              "    }\n",
              "\n",
              "    [theme=dark] .colab-df-convert {\n",
              "      background-color: #3B4455;\n",
              "      fill: #D2E3FC;\n",
              "    }\n",
              "\n",
              "    [theme=dark] .colab-df-convert:hover {\n",
              "      background-color: #434B5C;\n",
              "      box-shadow: 0px 1px 3px 1px rgba(0, 0, 0, 0.15);\n",
              "      filter: drop-shadow(0px 1px 2px rgba(0, 0, 0, 0.3));\n",
              "      fill: #FFFFFF;\n",
              "    }\n",
              "  </style>\n",
              "\n",
              "      <script>\n",
              "        const buttonEl =\n",
              "          document.querySelector('#df-a650a2a1-78ae-4f4d-9a13-f5a15536c982 button.colab-df-convert');\n",
              "        buttonEl.style.display =\n",
              "          google.colab.kernel.accessAllowed ? 'block' : 'none';\n",
              "\n",
              "        async function convertToInteractive(key) {\n",
              "          const element = document.querySelector('#df-a650a2a1-78ae-4f4d-9a13-f5a15536c982');\n",
              "          const dataTable =\n",
              "            await google.colab.kernel.invokeFunction('convertToInteractive',\n",
              "                                                     [key], {});\n",
              "          if (!dataTable) return;\n",
              "\n",
              "          const docLinkHtml = 'Like what you see? Visit the ' +\n",
              "            '<a target=\"_blank\" href=https://colab.research.google.com/notebooks/data_table.ipynb>data table notebook</a>'\n",
              "            + ' to learn more about interactive tables.';\n",
              "          element.innerHTML = '';\n",
              "          dataTable['output_type'] = 'display_data';\n",
              "          await google.colab.output.renderOutput(dataTable, element);\n",
              "          const docLink = document.createElement('div');\n",
              "          docLink.innerHTML = docLinkHtml;\n",
              "          element.appendChild(docLink);\n",
              "        }\n",
              "      </script>\n",
              "    </div>\n",
              "  </div>\n",
              "  "
            ]
          },
          "metadata": {},
          "execution_count": 2
        }
      ],
      "source": [
        "print(df.info())\n",
        "df.head()"
      ]
    },
    {
      "cell_type": "markdown",
      "source": [
        "Drop *category* and *rating* columns, rename *text_* to *text*."
      ],
      "metadata": {
        "id": "OVgKH6GtjAbY"
      },
      "id": "OVgKH6GtjAbY"
    },
    {
      "cell_type": "code",
      "source": [
        "df['text'] = df['text_']\n",
        "df.drop(columns=['category', 'rating', 'text_'], inplace=True)\n",
        "df.info()"
      ],
      "metadata": {
        "colab": {
          "base_uri": "https://localhost:8080/"
        },
        "id": "6fd6BE8mi_Sx",
        "outputId": "2a72f6df-b3ab-4fb1-f3a6-f03d8b1b29bf"
      },
      "id": "6fd6BE8mi_Sx",
      "execution_count": 3,
      "outputs": [
        {
          "output_type": "stream",
          "name": "stdout",
          "text": [
            "<class 'pandas.core.frame.DataFrame'>\n",
            "RangeIndex: 40432 entries, 0 to 40431\n",
            "Data columns (total 2 columns):\n",
            " #   Column  Non-Null Count  Dtype \n",
            "---  ------  --------------  ----- \n",
            " 0   label   40432 non-null  object\n",
            " 1   text    40432 non-null  object\n",
            "dtypes: object(2)\n",
            "memory usage: 631.9+ KB\n"
          ]
        }
      ]
    },
    {
      "cell_type": "code",
      "source": [
        "df.head()"
      ],
      "metadata": {
        "colab": {
          "base_uri": "https://localhost:8080/",
          "height": 221
        },
        "id": "Git2OYI6V_L1",
        "outputId": "2e5eface-83e8-4017-9bb4-bfa1a2ddbe1d"
      },
      "id": "Git2OYI6V_L1",
      "execution_count": 4,
      "outputs": [
        {
          "output_type": "execute_result",
          "data": {
            "text/plain": [
              "  label                                               text\n",
              "0    CG  Love this!  Well made, sturdy, and very comfor...\n",
              "1    CG  love it, a great upgrade from the original.  I...\n",
              "2    CG  This pillow saved my back. I love the look and...\n",
              "3    CG  Missing information on how to use it, but it i...\n",
              "4    CG  Very nice set. Good quality. We have had the s..."
            ],
            "text/html": [
              "\n",
              "  <div id=\"df-cc61bc3e-63a3-404f-802c-095bf7e6be85\">\n",
              "    <div class=\"colab-df-container\">\n",
              "      <div>\n",
              "<style scoped>\n",
              "    .dataframe tbody tr th:only-of-type {\n",
              "        vertical-align: middle;\n",
              "    }\n",
              "\n",
              "    .dataframe tbody tr th {\n",
              "        vertical-align: top;\n",
              "    }\n",
              "\n",
              "    .dataframe thead th {\n",
              "        text-align: right;\n",
              "    }\n",
              "</style>\n",
              "<table border=\"1\" class=\"dataframe\">\n",
              "  <thead>\n",
              "    <tr style=\"text-align: right;\">\n",
              "      <th></th>\n",
              "      <th>label</th>\n",
              "      <th>text</th>\n",
              "    </tr>\n",
              "  </thead>\n",
              "  <tbody>\n",
              "    <tr>\n",
              "      <th>0</th>\n",
              "      <td>CG</td>\n",
              "      <td>Love this!  Well made, sturdy, and very comfor...</td>\n",
              "    </tr>\n",
              "    <tr>\n",
              "      <th>1</th>\n",
              "      <td>CG</td>\n",
              "      <td>love it, a great upgrade from the original.  I...</td>\n",
              "    </tr>\n",
              "    <tr>\n",
              "      <th>2</th>\n",
              "      <td>CG</td>\n",
              "      <td>This pillow saved my back. I love the look and...</td>\n",
              "    </tr>\n",
              "    <tr>\n",
              "      <th>3</th>\n",
              "      <td>CG</td>\n",
              "      <td>Missing information on how to use it, but it i...</td>\n",
              "    </tr>\n",
              "    <tr>\n",
              "      <th>4</th>\n",
              "      <td>CG</td>\n",
              "      <td>Very nice set. Good quality. We have had the s...</td>\n",
              "    </tr>\n",
              "  </tbody>\n",
              "</table>\n",
              "</div>\n",
              "      <button class=\"colab-df-convert\" onclick=\"convertToInteractive('df-cc61bc3e-63a3-404f-802c-095bf7e6be85')\"\n",
              "              title=\"Convert this dataframe to an interactive table.\"\n",
              "              style=\"display:none;\">\n",
              "        \n",
              "  <svg xmlns=\"http://www.w3.org/2000/svg\" height=\"24px\"viewBox=\"0 0 24 24\"\n",
              "       width=\"24px\">\n",
              "    <path d=\"M0 0h24v24H0V0z\" fill=\"none\"/>\n",
              "    <path d=\"M18.56 5.44l.94 2.06.94-2.06 2.06-.94-2.06-.94-.94-2.06-.94 2.06-2.06.94zm-11 1L8.5 8.5l.94-2.06 2.06-.94-2.06-.94L8.5 2.5l-.94 2.06-2.06.94zm10 10l.94 2.06.94-2.06 2.06-.94-2.06-.94-.94-2.06-.94 2.06-2.06.94z\"/><path d=\"M17.41 7.96l-1.37-1.37c-.4-.4-.92-.59-1.43-.59-.52 0-1.04.2-1.43.59L10.3 9.45l-7.72 7.72c-.78.78-.78 2.05 0 2.83L4 21.41c.39.39.9.59 1.41.59.51 0 1.02-.2 1.41-.59l7.78-7.78 2.81-2.81c.8-.78.8-2.07 0-2.86zM5.41 20L4 18.59l7.72-7.72 1.47 1.35L5.41 20z\"/>\n",
              "  </svg>\n",
              "      </button>\n",
              "      \n",
              "  <style>\n",
              "    .colab-df-container {\n",
              "      display:flex;\n",
              "      flex-wrap:wrap;\n",
              "      gap: 12px;\n",
              "    }\n",
              "\n",
              "    .colab-df-convert {\n",
              "      background-color: #E8F0FE;\n",
              "      border: none;\n",
              "      border-radius: 50%;\n",
              "      cursor: pointer;\n",
              "      display: none;\n",
              "      fill: #1967D2;\n",
              "      height: 32px;\n",
              "      padding: 0 0 0 0;\n",
              "      width: 32px;\n",
              "    }\n",
              "\n",
              "    .colab-df-convert:hover {\n",
              "      background-color: #E2EBFA;\n",
              "      box-shadow: 0px 1px 2px rgba(60, 64, 67, 0.3), 0px 1px 3px 1px rgba(60, 64, 67, 0.15);\n",
              "      fill: #174EA6;\n",
              "    }\n",
              "\n",
              "    [theme=dark] .colab-df-convert {\n",
              "      background-color: #3B4455;\n",
              "      fill: #D2E3FC;\n",
              "    }\n",
              "\n",
              "    [theme=dark] .colab-df-convert:hover {\n",
              "      background-color: #434B5C;\n",
              "      box-shadow: 0px 1px 3px 1px rgba(0, 0, 0, 0.15);\n",
              "      filter: drop-shadow(0px 1px 2px rgba(0, 0, 0, 0.3));\n",
              "      fill: #FFFFFF;\n",
              "    }\n",
              "  </style>\n",
              "\n",
              "      <script>\n",
              "        const buttonEl =\n",
              "          document.querySelector('#df-cc61bc3e-63a3-404f-802c-095bf7e6be85 button.colab-df-convert');\n",
              "        buttonEl.style.display =\n",
              "          google.colab.kernel.accessAllowed ? 'block' : 'none';\n",
              "\n",
              "        async function convertToInteractive(key) {\n",
              "          const element = document.querySelector('#df-cc61bc3e-63a3-404f-802c-095bf7e6be85');\n",
              "          const dataTable =\n",
              "            await google.colab.kernel.invokeFunction('convertToInteractive',\n",
              "                                                     [key], {});\n",
              "          if (!dataTable) return;\n",
              "\n",
              "          const docLinkHtml = 'Like what you see? Visit the ' +\n",
              "            '<a target=\"_blank\" href=https://colab.research.google.com/notebooks/data_table.ipynb>data table notebook</a>'\n",
              "            + ' to learn more about interactive tables.';\n",
              "          element.innerHTML = '';\n",
              "          dataTable['output_type'] = 'display_data';\n",
              "          await google.colab.output.renderOutput(dataTable, element);\n",
              "          const docLink = document.createElement('div');\n",
              "          docLink.innerHTML = docLinkHtml;\n",
              "          element.appendChild(docLink);\n",
              "        }\n",
              "      </script>\n",
              "    </div>\n",
              "  </div>\n",
              "  "
            ]
          },
          "metadata": {},
          "execution_count": 4
        }
      ]
    },
    {
      "cell_type": "markdown",
      "id": "f5efa9e1",
      "metadata": {
        "papermill": {
          "duration": 0.01219,
          "end_time": "2023-01-18T21:25:41.900665",
          "exception": false,
          "start_time": "2023-01-18T21:25:41.888475",
          "status": "completed"
        },
        "tags": [],
        "id": "f5efa9e1"
      },
      "source": [
        "## Baseline (Null) model"
      ]
    },
    {
      "cell_type": "markdown",
      "id": "5a008116",
      "metadata": {
        "_cell_guid": "168d1c33-2f28-4aef-915d-dc5466e224aa",
        "_uuid": "72537732-ff6f-4b5c-bb71-330dc8c56987",
        "papermill": {
          "duration": 0.012109,
          "end_time": "2023-01-18T21:25:41.925162",
          "exception": false,
          "start_time": "2023-01-18T21:25:41.913053",
          "status": "completed"
        },
        "tags": [],
        "id": "5a008116"
      },
      "source": [
        "This dataset is balanced, i.e. number of *CG* labels = number of *OR* labels.\n",
        "\n",
        "By definition, the *Null* model always predicts the majority class. As such, it provides an obvious baseline - i.e. any model worth considering **must** have accuracy greater than the *Null* model."
      ]
    },
    {
      "cell_type": "markdown",
      "source": [
        "## Accuracy\n",
        "\n",
        "Accuracy is perhaps the simplest and most intuitive metric of model performance.\n",
        "\n",
        "$Accuracy = \\frac{Number\\ of\\ Correct\\ Predictions}{Number \\ of\\ Observations}$ \n",
        "\n",
        "\n",
        "For a balanced dataset like ours, the *accuracy* of the *Null* model is $50\\%$. Consequently, our goal shall be to create model(s) that have $Accuracy > 50\\%$."
      ],
      "metadata": {
        "id": "9andnUNvVb1u"
      },
      "id": "9andnUNvVb1u"
    },
    {
      "cell_type": "code",
      "execution_count": 5,
      "id": "044bde93",
      "metadata": {
        "_cell_guid": "3eec5891-33fc-4067-8e50-af5a0556c9fa",
        "_uuid": "633b3f11-36ad-4090-8546-bcca2037f7d0",
        "execution": {
          "iopub.execute_input": "2023-01-18T21:25:41.951384Z",
          "iopub.status.busy": "2023-01-18T21:25:41.950984Z",
          "iopub.status.idle": "2023-01-18T21:25:41.960806Z",
          "shell.execute_reply": "2023-01-18T21:25:41.959180Z"
        },
        "jupyter": {
          "outputs_hidden": false
        },
        "papermill": {
          "duration": 0.025617,
          "end_time": "2023-01-18T21:25:41.963039",
          "exception": false,
          "start_time": "2023-01-18T21:25:41.937422",
          "status": "completed"
        },
        "tags": [],
        "colab": {
          "base_uri": "https://localhost:8080/"
        },
        "id": "044bde93",
        "outputId": "3e377d71-8b7c-475f-9872-efc6a0e7d02d"
      },
      "outputs": [
        {
          "output_type": "stream",
          "name": "stdout",
          "text": [
            "label\n",
            "CG    20216\n",
            "OR    20216\n",
            "dtype: int64\n",
            "Baseline (null model) accuracy:  0.5\n"
          ]
        }
      ],
      "source": [
        "cat_size = df.groupby('label').size()\n",
        "print(cat_size)\n",
        "\n",
        "prop = cat_size[0] / (cat_size[0] + cat_size[1])\n",
        "print('Baseline (null model) accuracy: ' , prop)"
      ]
    },
    {
      "cell_type": "markdown",
      "source": [
        "## Other Important Metrics ###\n",
        "\n",
        "Often, specially when dealing with unbalanced datasets, *accuracy* is not the best metric for evaluating model performance. \n",
        "\n",
        "For example, the prevalence of cancer in the general population for USA is roughly 5.5%. Accuracy of the *Null* model for such a dataset would be 94.5%. However, for such cancer datasets the *Null* model would be completely useless at detecting cancer!\n",
        "\n",
        "Some commonly used metrics for all types of datasets:\n",
        "\n",
        ">**Precision** ($P$) is defined as the number of true positives ($T_p$) over the number of true positives plus the number of false positives ($F_p$). \n",
        "\n",
        "$P = \\frac{T_p}{T_p+F_p}$\n",
        "\n",
        ">**Recall** ($R$) is defined as the number of true positives ($T_p$) over the number of true positives plus the number of false negatives ($F_n$).\n",
        "\n",
        "$R = \\frac{T_p}{T_p+F_n}$ \n",
        "\n",
        ">**F1 Measure**, is defined as the harmonic mean of precision and recall. It is a number in the range [0.0, 1.0], the closer it is to 1.0 the better the model.  \n",
        "\n",
        "$F1 = 2 \\frac{P \\times R}{P+R}$"
      ],
      "metadata": {
        "id": "0j_jdoxNDr2G"
      },
      "id": "0j_jdoxNDr2G"
    },
    {
      "cell_type": "markdown",
      "id": "693b0ca5",
      "metadata": {
        "papermill": {
          "duration": 0.012336,
          "end_time": "2023-01-18T21:25:41.987810",
          "exception": false,
          "start_time": "2023-01-18T21:25:41.975474",
          "status": "completed"
        },
        "tags": [],
        "id": "693b0ca5"
      },
      "source": [
        "## ML Framework\n",
        "\n",
        "We will use the [Fastai](https://fastai.github.io/fastbook2e/book10.html) framework to build a Large Language Model (LLM). \n",
        "\n",
        "Fastai is a great framework that enables rapid creation of predictive models without the need to write low level code in in frameworks like Tensorflow or PyTorch."
      ]
    },
    {
      "cell_type": "code",
      "execution_count": 6,
      "id": "4e8b8651",
      "metadata": {
        "_cell_guid": "a7941db3-82c5-4c7a-97e8-c0bcec82add4",
        "_uuid": "7b48a168-7bd4-4627-94c2-597a779c1b0f",
        "execution": {
          "iopub.execute_input": "2023-01-18T21:25:42.014648Z",
          "iopub.status.busy": "2023-01-18T21:25:42.013730Z",
          "iopub.status.idle": "2023-01-18T21:25:44.844140Z",
          "shell.execute_reply": "2023-01-18T21:25:44.843159Z"
        },
        "jupyter": {
          "outputs_hidden": false
        },
        "papermill": {
          "duration": 2.846373,
          "end_time": "2023-01-18T21:25:44.846536",
          "exception": false,
          "start_time": "2023-01-18T21:25:42.000163",
          "status": "completed"
        },
        "tags": [],
        "id": "4e8b8651"
      },
      "outputs": [],
      "source": [
        "from fastai.data.all import *\n",
        "from fastai.text.all import *"
      ]
    },
    {
      "cell_type": "markdown",
      "id": "851c6063",
      "metadata": {
        "_cell_guid": "b1225a72-8b09-43f1-9993-1bd2cdf26ccd",
        "_uuid": "54e06603-17d9-4da6-bc2a-b3d316beb50a",
        "papermill": {
          "duration": 0.012322,
          "end_time": "2023-01-18T21:25:44.871853",
          "exception": false,
          "start_time": "2023-01-18T21:25:44.859531",
          "status": "completed"
        },
        "tags": [],
        "id": "851c6063"
      },
      "source": [
        "Create data loaders for classification, build **DataBlock** using **TextBlock** and **CategoryBlock**.\n",
        "\n",
        "Set aside 20% data using **TrainTestSplitter** for model testing. Since this dataset is perfectly balanced there is no need use stratification."
      ]
    },
    {
      "cell_type": "code",
      "execution_count": 7,
      "id": "95079834",
      "metadata": {
        "_cell_guid": "7f78bf4c-8eb0-469c-a6a3-094ac0957563",
        "_uuid": "7ce96696-dd98-48df-a5d4-64415ad1004c",
        "execution": {
          "iopub.execute_input": "2023-01-18T21:25:44.899093Z",
          "iopub.status.busy": "2023-01-18T21:25:44.897884Z",
          "iopub.status.idle": "2023-01-18T21:26:47.544925Z",
          "shell.execute_reply": "2023-01-18T21:26:47.543699Z"
        },
        "jupyter": {
          "outputs_hidden": false
        },
        "papermill": {
          "duration": 62.663163,
          "end_time": "2023-01-18T21:26:47.547442",
          "exception": false,
          "start_time": "2023-01-18T21:25:44.884279",
          "status": "completed"
        },
        "tags": [],
        "colab": {
          "base_uri": "https://localhost:8080/",
          "height": 38
        },
        "id": "95079834",
        "outputId": "ecca09f4-bb8e-4b82-bb16-438f1d66394d"
      },
      "outputs": [
        {
          "output_type": "display_data",
          "data": {
            "text/plain": [
              "<IPython.core.display.HTML object>"
            ],
            "text/html": [
              "\n",
              "<style>\n",
              "    /* Turns off some styling */\n",
              "    progress {\n",
              "        /* gets rid of default border in Firefox and Opera. */\n",
              "        border: none;\n",
              "        /* Needs to be in here for Safari polyfill so background images work as expected. */\n",
              "        background-size: auto;\n",
              "    }\n",
              "    progress:not([value]), progress:not([value])::-webkit-progress-bar {\n",
              "        background: repeating-linear-gradient(45deg, #7e7e7e, #7e7e7e 10px, #5c5c5c 10px, #5c5c5c 20px);\n",
              "    }\n",
              "    .progress-bar-interrupted, .progress-bar-interrupted::-webkit-progress-bar {\n",
              "        background: #F44336;\n",
              "    }\n",
              "</style>\n"
            ]
          },
          "metadata": {}
        },
        {
          "output_type": "display_data",
          "data": {
            "text/plain": [
              "<IPython.core.display.HTML object>"
            ],
            "text/html": []
          },
          "metadata": {}
        }
      ],
      "source": [
        "dls_cls = DataBlock(\n",
        "            blocks=(\n",
        "                TextBlock.from_df(text_cols=('text'), \n",
        "                        is_lm=False),\n",
        "                CategoryBlock),\n",
        "            get_x=ColReader('text'), \n",
        "            get_y=ColReader('label'),\n",
        "            splitter=TrainTestSplitter(test_size=0.2, \n",
        "                                       random_state=42\n",
        "                                       #,stratify=df.label\n",
        "                                       )\n",
        "        ).dataloaders(df)"
      ]
    },
    {
      "cell_type": "markdown",
      "source": [
        "Note - DataBlock automatically re-labels the *label* column as *category*."
      ],
      "metadata": {
        "id": "0Vit0iOcdN8T"
      },
      "id": "0Vit0iOcdN8T"
    },
    {
      "cell_type": "code",
      "execution_count": 8,
      "id": "677aa21b",
      "metadata": {
        "_cell_guid": "978be4fa-a641-492d-a7f3-d67c14ead48a",
        "_uuid": "6fce97a1-fb6a-4d96-ab7f-61399f1d838e",
        "execution": {
          "iopub.execute_input": "2023-01-18T21:26:47.574821Z",
          "iopub.status.busy": "2023-01-18T21:26:47.574469Z",
          "iopub.status.idle": "2023-01-18T21:26:49.680870Z",
          "shell.execute_reply": "2023-01-18T21:26:49.679766Z"
        },
        "jupyter": {
          "outputs_hidden": false
        },
        "papermill": {
          "duration": 2.122551,
          "end_time": "2023-01-18T21:26:49.683062",
          "exception": false,
          "start_time": "2023-01-18T21:26:47.560511",
          "status": "completed"
        },
        "tags": [],
        "colab": {
          "base_uri": "https://localhost:8080/",
          "height": 618
        },
        "id": "677aa21b",
        "outputId": "74df176b-cb3e-4f4b-cd72-c54529fb6ace"
      },
      "outputs": [
        {
          "output_type": "display_data",
          "data": {
            "text/plain": [
              "<IPython.core.display.HTML object>"
            ],
            "text/html": [
              "<table border=\"1\" class=\"dataframe\">\n",
              "  <thead>\n",
              "    <tr style=\"text-align: right;\">\n",
              "      <th></th>\n",
              "      <th>text</th>\n",
              "      <th>category</th>\n",
              "    </tr>\n",
              "  </thead>\n",
              "  <tbody>\n",
              "    <tr>\n",
              "      <th>0</th>\n",
              "      <td>xxbos i compared this rawhide to &amp; &lt; a data - hook=\"product - link - linked \" class=\"a - link - normal \" href= \" / good - buddy - usa - rawhide - braided - sticks - for - dogs-7 - to-8 - inch-2 - count - pack - of-1 / dp / xxup b005gwvwja / ref = cm_cr_arp_d_rvw_txt?ie = utf8\"&gt;good xxmaj buddy xxup usa xxmaj rawhide xxmaj braided xxmaj sticks for xxmaj dogs , 7 to 8 - inch , 2 xxmaj count ( pack of 1 ) &lt; / a &gt; &amp; for my 3 year old labradoodle . \\n\\n xxup where xxup it xxup is xxup made : xxmaj this is made in xxup china . xxmaj the &amp; &lt; a data - hook=\"product - link - linked \" class=\"a - link - normal \" href= \" / good - buddy - usa - rawhide -</td>\n",
              "      <td>OR</td>\n",
              "    </tr>\n",
              "    <tr>\n",
              "      <th>1</th>\n",
              "      <td>xxbos xxmaj first off , let me just say we spoil our dog . xxmaj i 'm sure most people do . xxmaj for our little xxmaj maltese , we 've tried a variety of dental chews . xxmaj his favorite treats are xxmaj greenies . \\n\\n xxmaj after one visit to the vet , we were told that xxmaj greenies are made xxunk of wheat and that could lead to problems in the later years . xxmaj we were giving him at least two a day . xxmaj she recommended giving him one maybe every other day or on special occasions . xxmaj so the hunt began … \\n\\n xxmaj we 've tried all kinds . xxmaj the &amp; &lt; a data - hook=\"product - link - linked \" class=\"a - link - normal \" href= \" / xxunk - s - z - ridge - mini - fresh</td>\n",
              "      <td>OR</td>\n",
              "    </tr>\n",
              "    <tr>\n",
              "      <th>2</th>\n",
              "      <td>xxbos xxmaj i 'd consider myself an advanced non - professional photographer … which means i have a xxup dslr with two lenses ( a &amp; &lt; a data - hook=\"product - link - linked \" class=\"a - link - normal \" href= \" / canon - eos - rebel - t3 / dp / xxup xxunk / ref = cm_cr_arp_d_rvw_txt?ie = xxunk xxup eos xxmaj rebel xxup t3 &lt; / a &gt; ) , an external flash , and a random assortment of other camera items ( an old xxmaj canon point - and - shoot , a waterproof point - and - shoot , an xxup hd video camera , the assorted xxup sd cards , lens covers , etc . ) . i currently have the el cheapo xxmaj canon bag that came with my xxmaj rebel and i barely use it , so hoped that by</td>\n",
              "      <td>OR</td>\n",
              "    </tr>\n",
              "    <tr>\n",
              "      <th>3</th>\n",
              "      <td>xxbos xxmaj i 've had my xxunk for just over a month now ( bought from xxmaj amazon ) and it 's really improved my photography . xxmaj others have even commented that xxmaj i 've \" shifted to a new gear \" . xxmaj features are a nice improvement from the dslr - wannabe i had before ( panasonic xxup xxunk ) but it 's the image quality that 's really the big step up . xxmaj get the best - quality lenses for this ( * not * the kit lens ) and you 'll be very happy . \\n\\n xxmaj pros : \\n\\n * xxmaj image xxmaj quality \\n * xxmaj ergonomics ( most common settings are easy to change , good displays ) \\n * xxmaj battery life ( 200 shots with 50 % flash and battery still said 100 % ) \\n * xxmaj the</td>\n",
              "      <td>OR</td>\n",
              "    </tr>\n",
              "    <tr>\n",
              "      <th>4</th>\n",
              "      <td>xxbos &lt; div id=\"video - block - xxunk \" class=\"a - section a - spacing - small a - spacing - top - mini video - block \" &gt; &lt; / div&gt;&lt;input type=\"hidden \" name= \" \" value=\"https : / / images-na.ssl-images-amazon.com / images / i / xxunk \" class=\"video - url\"&gt;&lt;input type=\"hidden \" name= \" \" value=\"https : / / images-na.ssl-images-amazon.com / images / i / xxunk \" class=\"video - slate - img - xxunk wish i had gotten this years ago ! \\n\\n i picked this up for my 9 year old who loves playing baseball . xxmaj is he the best player on his team ? xxmaj no . xxmaj he wants so badly to play xxunk , but is n't the best xxunk . xxmaj he was getting discouraged about always playing in the xxunk . xxmaj he has improved with team practices , but really</td>\n",
              "      <td>OR</td>\n",
              "    </tr>\n",
              "  </tbody>\n",
              "</table>"
            ]
          },
          "metadata": {}
        }
      ],
      "source": [
        "dls_cls.show_batch(max_n = 5)"
      ]
    },
    {
      "cell_type": "markdown",
      "source": [
        "## Text Classifier"
      ],
      "metadata": {
        "id": "Ogfn2BLwmKiZ"
      },
      "id": "Ogfn2BLwmKiZ"
    },
    {
      "cell_type": "markdown",
      "id": "bc75fd36",
      "metadata": {
        "papermill": {
          "duration": 0.012366,
          "end_time": "2023-01-18T21:26:49.708323",
          "exception": false,
          "start_time": "2023-01-18T21:26:49.695957",
          "status": "completed"
        },
        "tags": [],
        "id": "bc75fd36"
      },
      "source": [
        "Create classifier. Notice,  there is no need to  pre-process text data for the classifier, e.g. create word embeddings, the framework does that automatically.\n",
        "\n",
        "Here we are using [AWD_LST]([https://arxiv.org/pdf/1708.02182.pdf]) (averaged weght-dropped long-short term memory) model architecture."
      ]
    },
    {
      "cell_type": "code",
      "execution_count": 9,
      "id": "80916ffe",
      "metadata": {
        "_cell_guid": "dd1e421b-54a9-4748-8a78-b87761e1f481",
        "_uuid": "711c0928-89ca-4737-aaed-14b6ab7eaa9e",
        "execution": {
          "iopub.execute_input": "2023-01-18T21:26:49.735642Z",
          "iopub.status.busy": "2023-01-18T21:26:49.734759Z",
          "iopub.status.idle": "2023-01-18T21:26:55.632931Z",
          "shell.execute_reply": "2023-01-18T21:26:55.631766Z"
        },
        "jupyter": {
          "outputs_hidden": false
        },
        "papermill": {
          "duration": 5.914326,
          "end_time": "2023-01-18T21:26:55.635581",
          "exception": false,
          "start_time": "2023-01-18T21:26:49.721255",
          "status": "completed"
        },
        "tags": [],
        "id": "80916ffe"
      },
      "outputs": [],
      "source": [
        "learner = text_classifier_learner(dls_cls, \n",
        "                                    AWD_LSTM, \n",
        "                                    drop_mult=0.5, \n",
        "                                    metrics=[accuracy, Precision(), Recall(), F1Score()])"
      ]
    },
    {
      "cell_type": "markdown",
      "source": [
        "Calculate the optimal learning rate hyper-parameter. This will greatly influence how quickly the model converges."
      ],
      "metadata": {
        "id": "WNEUlcM7l8xN"
      },
      "id": "WNEUlcM7l8xN"
    },
    {
      "cell_type": "code",
      "source": [
        "lr = learner.lr_find()\n",
        "lr"
      ],
      "metadata": {
        "colab": {
          "base_uri": "https://localhost:8080/",
          "height": 492
        },
        "id": "UfWKUp7lKQGJ",
        "outputId": "ce17ef06-1cdb-455d-f715-4b4fa2d01066"
      },
      "id": "UfWKUp7lKQGJ",
      "execution_count": 10,
      "outputs": [
        {
          "output_type": "display_data",
          "data": {
            "text/plain": [
              "<IPython.core.display.HTML object>"
            ],
            "text/html": [
              "\n",
              "<style>\n",
              "    /* Turns off some styling */\n",
              "    progress {\n",
              "        /* gets rid of default border in Firefox and Opera. */\n",
              "        border: none;\n",
              "        /* Needs to be in here for Safari polyfill so background images work as expected. */\n",
              "        background-size: auto;\n",
              "    }\n",
              "    progress:not([value]), progress:not([value])::-webkit-progress-bar {\n",
              "        background: repeating-linear-gradient(45deg, #7e7e7e, #7e7e7e 10px, #5c5c5c 10px, #5c5c5c 20px);\n",
              "    }\n",
              "    .progress-bar-interrupted, .progress-bar-interrupted::-webkit-progress-bar {\n",
              "        background: #F44336;\n",
              "    }\n",
              "</style>\n"
            ]
          },
          "metadata": {}
        },
        {
          "output_type": "display_data",
          "data": {
            "text/plain": [
              "<IPython.core.display.HTML object>"
            ],
            "text/html": []
          },
          "metadata": {}
        },
        {
          "output_type": "execute_result",
          "data": {
            "text/plain": [
              "SuggestedLRs(valley=0.0020892962347716093)"
            ]
          },
          "metadata": {},
          "execution_count": 10
        },
        {
          "output_type": "display_data",
          "data": {
            "text/plain": [
              "<Figure size 640x480 with 1 Axes>"
            ],
            "image/png": "[encoded data removed]"
          },
          "metadata": {}
        }
      ]
    },
    {
      "cell_type": "markdown",
      "source": [
        "Fine tune model for 3 epochs using the optimal learning rate."
      ],
      "metadata": {
        "id": "oSDNo9RvmYcm"
      },
      "id": "oSDNo9RvmYcm"
    },
    {
      "cell_type": "code",
      "execution_count": 11,
      "id": "99fa8b11",
      "metadata": {
        "_cell_guid": "a8b2771f-894e-4e18-936a-eab5c1b02065",
        "_uuid": "7576db43-97ab-4a53-9e31-92b2efa07b81",
        "execution": {
          "iopub.execute_input": "2023-01-18T21:26:55.663514Z",
          "iopub.status.busy": "2023-01-18T21:26:55.663154Z",
          "iopub.status.idle": "2023-01-18T21:32:20.306199Z",
          "shell.execute_reply": "2023-01-18T21:32:20.304910Z"
        },
        "jupyter": {
          "outputs_hidden": false
        },
        "papermill": {
          "duration": 324.660025,
          "end_time": "2023-01-18T21:32:20.308965",
          "exception": false,
          "start_time": "2023-01-18T21:26:55.648940",
          "status": "completed"
        },
        "tags": [],
        "colab": {
          "base_uri": "https://localhost:8080/",
          "height": 222
        },
        "id": "99fa8b11",
        "outputId": "076f75d5-665f-4874-bc8d-9f48c08fbf88"
      },
      "outputs": [
        {
          "output_type": "display_data",
          "data": {
            "text/plain": [
              "<IPython.core.display.HTML object>"
            ],
            "text/html": [
              "\n",
              "<style>\n",
              "    /* Turns off some styling */\n",
              "    progress {\n",
              "        /* gets rid of default border in Firefox and Opera. */\n",
              "        border: none;\n",
              "        /* Needs to be in here for Safari polyfill so background images work as expected. */\n",
              "        background-size: auto;\n",
              "    }\n",
              "    progress:not([value]), progress:not([value])::-webkit-progress-bar {\n",
              "        background: repeating-linear-gradient(45deg, #7e7e7e, #7e7e7e 10px, #5c5c5c 10px, #5c5c5c 20px);\n",
              "    }\n",
              "    .progress-bar-interrupted, .progress-bar-interrupted::-webkit-progress-bar {\n",
              "        background: #F44336;\n",
              "    }\n",
              "</style>\n"
            ]
          },
          "metadata": {}
        },
        {
          "output_type": "display_data",
          "data": {
            "text/plain": [
              "<IPython.core.display.HTML object>"
            ],
            "text/html": [
              "<table border=\"1\" class=\"dataframe\">\n",
              "  <thead>\n",
              "    <tr style=\"text-align: left;\">\n",
              "      <th>epoch</th>\n",
              "      <th>train_loss</th>\n",
              "      <th>valid_loss</th>\n",
              "      <th>accuracy</th>\n",
              "      <th>precision_score</th>\n",
              "      <th>recall_score</th>\n",
              "      <th>f1_score</th>\n",
              "      <th>time</th>\n",
              "    </tr>\n",
              "  </thead>\n",
              "  <tbody>\n",
              "    <tr>\n",
              "      <td>0</td>\n",
              "      <td>0.435377</td>\n",
              "      <td>0.404571</td>\n",
              "      <td>0.828737</td>\n",
              "      <td>0.929623</td>\n",
              "      <td>0.713830</td>\n",
              "      <td>0.807559</td>\n",
              "      <td>01:08</td>\n",
              "    </tr>\n",
              "  </tbody>\n",
              "</table>"
            ]
          },
          "metadata": {}
        },
        {
          "output_type": "display_data",
          "data": {
            "text/plain": [
              "<IPython.core.display.HTML object>"
            ],
            "text/html": [
              "\n",
              "<style>\n",
              "    /* Turns off some styling */\n",
              "    progress {\n",
              "        /* gets rid of default border in Firefox and Opera. */\n",
              "        border: none;\n",
              "        /* Needs to be in here for Safari polyfill so background images work as expected. */\n",
              "        background-size: auto;\n",
              "    }\n",
              "    progress:not([value]), progress:not([value])::-webkit-progress-bar {\n",
              "        background: repeating-linear-gradient(45deg, #7e7e7e, #7e7e7e 10px, #5c5c5c 10px, #5c5c5c 20px);\n",
              "    }\n",
              "    .progress-bar-interrupted, .progress-bar-interrupted::-webkit-progress-bar {\n",
              "        background: #F44336;\n",
              "    }\n",
              "</style>\n"
            ]
          },
          "metadata": {}
        },
        {
          "output_type": "display_data",
          "data": {
            "text/plain": [
              "<IPython.core.display.HTML object>"
            ],
            "text/html": [
              "<table border=\"1\" class=\"dataframe\">\n",
              "  <thead>\n",
              "    <tr style=\"text-align: left;\">\n",
              "      <th>epoch</th>\n",
              "      <th>train_loss</th>\n",
              "      <th>valid_loss</th>\n",
              "      <th>accuracy</th>\n",
              "      <th>precision_score</th>\n",
              "      <th>recall_score</th>\n",
              "      <th>f1_score</th>\n",
              "      <th>time</th>\n",
              "    </tr>\n",
              "  </thead>\n",
              "  <tbody>\n",
              "    <tr>\n",
              "      <td>0</td>\n",
              "      <td>0.206831</td>\n",
              "      <td>0.362666</td>\n",
              "      <td>0.870533</td>\n",
              "      <td>0.989955</td>\n",
              "      <td>0.750430</td>\n",
              "      <td>0.853710</td>\n",
              "      <td>02:18</td>\n",
              "    </tr>\n",
              "    <tr>\n",
              "      <td>1</td>\n",
              "      <td>0.185003</td>\n",
              "      <td>0.354818</td>\n",
              "      <td>0.876097</td>\n",
              "      <td>0.994203</td>\n",
              "      <td>0.758290</td>\n",
              "      <td>0.860368</td>\n",
              "      <td>02:19</td>\n",
              "    </tr>\n",
              "    <tr>\n",
              "      <td>2</td>\n",
              "      <td>0.163300</td>\n",
              "      <td>0.212776</td>\n",
              "      <td>0.921974</td>\n",
              "      <td>0.985876</td>\n",
              "      <td>0.857283</td>\n",
              "      <td>0.917094</td>\n",
              "      <td>02:16</td>\n",
              "    </tr>\n",
              "  </tbody>\n",
              "</table>"
            ]
          },
          "metadata": {}
        }
      ],
      "source": [
        "learner.fine_tune(3, lr[0])"
      ]
    },
    {
      "cell_type": "markdown",
      "source": [
        "\n",
        "Show a few predictions on training data. Note - model predictions are in a new *category*_ column."
      ],
      "metadata": {
        "id": "GfgIIoDZcxn_"
      },
      "id": "GfgIIoDZcxn_"
    },
    {
      "cell_type": "code",
      "execution_count": 12,
      "id": "6a9c258a",
      "metadata": {
        "_cell_guid": "d1e5c3a7-80bc-46ec-b525-770f14372be8",
        "_uuid": "5d21a719-08b6-427f-a95e-ab5175c264c5",
        "execution": {
          "iopub.execute_input": "2023-01-18T21:32:20.365953Z",
          "iopub.status.busy": "2023-01-18T21:32:20.365559Z",
          "iopub.status.idle": "2023-01-18T21:32:24.510253Z",
          "shell.execute_reply": "2023-01-18T21:32:24.509285Z"
        },
        "jupyter": {
          "outputs_hidden": false
        },
        "papermill": {
          "duration": 4.162025,
          "end_time": "2023-01-18T21:32:24.512467",
          "exception": false,
          "start_time": "2023-01-18T21:32:20.350442",
          "status": "completed"
        },
        "tags": [],
        "id": "6a9c258a",
        "colab": {
          "base_uri": "https://localhost:8080/",
          "height": 1000
        },
        "outputId": "3ef95ba1-13aa-4cd1-80ec-0a0596d91b88"
      },
      "outputs": [
        {
          "output_type": "display_data",
          "data": {
            "text/plain": [
              "<IPython.core.display.HTML object>"
            ],
            "text/html": [
              "\n",
              "<style>\n",
              "    /* Turns off some styling */\n",
              "    progress {\n",
              "        /* gets rid of default border in Firefox and Opera. */\n",
              "        border: none;\n",
              "        /* Needs to be in here for Safari polyfill so background images work as expected. */\n",
              "        background-size: auto;\n",
              "    }\n",
              "    progress:not([value]), progress:not([value])::-webkit-progress-bar {\n",
              "        background: repeating-linear-gradient(45deg, #7e7e7e, #7e7e7e 10px, #5c5c5c 10px, #5c5c5c 20px);\n",
              "    }\n",
              "    .progress-bar-interrupted, .progress-bar-interrupted::-webkit-progress-bar {\n",
              "        background: #F44336;\n",
              "    }\n",
              "</style>\n"
            ]
          },
          "metadata": {}
        },
        {
          "output_type": "display_data",
          "data": {
            "text/plain": [
              "<IPython.core.display.HTML object>"
            ],
            "text/html": []
          },
          "metadata": {}
        },
        {
          "output_type": "display_data",
          "data": {
            "text/plain": [
              "<IPython.core.display.HTML object>"
            ],
            "text/html": [
              "<table border=\"1\" class=\"dataframe\">\n",
              "  <thead>\n",
              "    <tr style=\"text-align: right;\">\n",
              "      <th></th>\n",
              "      <th>text</th>\n",
              "      <th>category</th>\n",
              "      <th>category_</th>\n",
              "    </tr>\n",
              "  </thead>\n",
              "  <tbody>\n",
              "    <tr>\n",
              "      <th>0</th>\n",
              "      <td>xxbos xxup weak xxup on xxup current xxup science . \\n xxmaj after seeing it twice , i agree with much ( but not all ) of the positive five star reviews . xxmaj out of respect for those who xxup read reviews , xxmaj i 'll not repeat everything that i like about the presentation . i found the goofy oversize earrings , xxunk , and facial hair arrangement of xxmaj daniel xxmaj xxunk , ( described as a \" wild xxmaj food xxmaj expert \" ) distracting . xxup ugh . xxmaj ditto for xxmaj david xxmaj wolfe , who had an extremely goofy wild xxunk . xxmaj on the other hand , xxmaj jon xxmaj gabriel , described as an \" author and weight loss expert \" was nicely xxunk and a good xxunk . xxmaj his story of personal transformation of a fellow of over 400</td>\n",
              "      <td>OR</td>\n",
              "      <td>OR</td>\n",
              "    </tr>\n",
              "    <tr>\n",
              "      <th>1</th>\n",
              "      <td>xxbos i bought the xxmaj griddler in xxmaj february of 2005 and have taken care to ensure it lasts . xxmaj the xxmaj griddler is heavy and sturdily constructed . xxmaj it heats up quickly , and cleans up even faster . xxmaj we have used it for panini , grilling meat , and toasting xxunk xxunk . xxmaj the unit can be used either as a panini / grill press with the floating top or opened up to use as a griddle . \\n\\n xxmaj the base of the unit heats up and maintains temperature better than the top . xxmaj this creates uneven toasting of the xxmaj panini or other items . xxmaj it 's not so much of a problem using as a griddle , since one side will simply cook faster than the other . \\n\\n xxmaj after a year the nonstick surface has started xxunk</td>\n",
              "      <td>OR</td>\n",
              "      <td>OR</td>\n",
              "    </tr>\n",
              "    <tr>\n",
              "      <th>2</th>\n",
              "      <td>xxbos xxmaj we adopted xxmaj beast , a 60 lb mutt in early xxmaj october . xxmaj he seemed to be great , until he started eating my boyfriends things when we were gone at work . xxmaj my boyfriend decided to buy a camera so we can see what he 's doing when we 're gone . xxmaj lo and behold the poor guy is so anxious he is xxunk the whole time we are gone ! xxmaj we had no idea ! xxmaj it would n't really bother us , but we live in a small apartment and if too many people complain , we will be forced to get rid of him . xxmaj we started to try everything , classical music , leaving the tv on , closing the windows , opening the windows , xxunk him , giving him a frozen bone or kong to</td>\n",
              "      <td>OR</td>\n",
              "      <td>OR</td>\n",
              "    </tr>\n",
              "    <tr>\n",
              "      <th>3</th>\n",
              "      <td>xxbos i just received my feeders . i bought the 2 pack on xxmaj amazon . i just set it up so xxmaj i 'll update my review later once xxmaj i 've had it a while . \\n\\n xxmaj but for now , here are my observations . i have 5 cats . i find it hard to leave them for extended periods because it 's too much for someone to scoop the litter and feed them etc . i xxunk them once last summer . xxmaj but it 's not cheap and they are so xxunk . i wanted to be able to go away for least a couple days . xxmaj so i researched automatic feeders . i read all the reviews and some are very good some had issues . xxmaj for this price for two , i decided to give it a shot … \\n\\n</td>\n",
              "      <td>OR</td>\n",
              "      <td>OR</td>\n",
              "    </tr>\n",
              "    <tr>\n",
              "      <th>4</th>\n",
              "      <td>xxbos xxmaj the xxup sog xxmaj fatcat that i received , arrived in a dirty , worn looking presentation box , and the knife had multiple scratches on the bolsters and xxunk xxunk ( despite the protective plastic films ) . xxmaj at $ xxunk . 19 delivered , this is fairly outrageous . i sent it back the very next day . xxmaj if the xxmaj fatcat i received is a xxup xxunk ( new xxmaj in xxmaj box ) knife , then it was xxunk assembled at the factory , without regard to scratching up the bolsters and xxunk xxunk . xxmaj honestly , this thing looked like it had spent time in someone else 's pocket , amidst loose change and keys . xxmaj if the knife did indeed leave the factory that way , it is a major xxunk of consumer trust to put those protective</td>\n",
              "      <td>OR</td>\n",
              "      <td>OR</td>\n",
              "    </tr>\n",
              "    <tr>\n",
              "      <th>5</th>\n",
              "      <td>xxbos xxmaj to everyone who surrounds xxmaj margo xxmaj roth xxmaj spiegelman , she is an adventurous , unconventional , and intelligent person and a highly xxunk someone that everyone puts on a pedestal . xxmaj so when xxmaj margo sneaks into xxmaj quentin xxmaj xxunk 's room one glorious night and involves him in her crazy exploits , he ca n't help but feel as if a new page has been turned , and just maybe he can be a part of the marvelous xxmaj margo 's life . \\n\\n xxmaj but the next morning all of xxmaj quentin 's hopes are dashed with xxmaj margo 's disappearance . xxmaj her parents and the police think this is just another one of her stunts , but xxmaj q 's not so sure . xxmaj because xxmaj margo has left him a string of clues , one right after another</td>\n",
              "      <td>OR</td>\n",
              "      <td>OR</td>\n",
              "    </tr>\n",
              "    <tr>\n",
              "      <th>6</th>\n",
              "      <td>xxbos xxup story : xxmaj glenn xxmaj ford stars as the rancher xxmaj smith , who is driving his family to frustration with his gentle xxunk ways that have kept the farm from doing well . xxmaj the hay needs to be cut , and he is distracted with his ongoing friendships with a local xxmaj xxunk xxmaj xxunk xxmaj native xxmaj american tribe . xxmaj when a xxunk member is wrongly accused of murder , xxmaj smith comes to his defense . xxmaj as a sign of the tribe 's gratitude , they help train a horse from the ranch , and they help get the hay crop in on time . \\n\\n xxup behind xxup the xxup scenes : xxmaj live action xxmaj disney classic . xxmaj xxunk xxmaj xxunk , xxmaj nancy xxmaj xxunk , and xxmaj chief xxmaj dan xxmaj george also star in this movie</td>\n",
              "      <td>OR</td>\n",
              "      <td>OR</td>\n",
              "    </tr>\n",
              "    <tr>\n",
              "      <th>7</th>\n",
              "      <td>xxbos &lt; div id=\"video - block - xxunk \" class=\"a - section a - spacing - small a - spacing - top - mini video - block \" &gt; &lt; / div&gt;&lt;input type=\"hidden \" name= \" \" value=\"https : / / images-na.ssl-images-amazon.com / images / i / xxunk \" class=\"video - url\"&gt;&lt;input type=\"hidden \" name= \" \" value=\"https : / / images-na.ssl-images-amazon.com / images / i / xxunk \" class=\"video - slate - img - url \" &gt; &amp; xxmaj this is a review for the xxmaj bosch xxmaj xxunk 7 - gallon ( xxunk ) xxmaj electric xxmaj point of xxmaj use xxmaj water xxmaj heater . \\n\\n xxmaj this particular unit has a 7 gallon capacity , a glass - lined tank , and a recovery rate of almost 7 gallons per hour . \\n\\n xxmaj in my review video i cover the main features and issues with</td>\n",
              "      <td>OR</td>\n",
              "      <td>OR</td>\n",
              "    </tr>\n",
              "    <tr>\n",
              "      <th>8</th>\n",
              "      <td>xxbos xxmaj in the age of digital revolution that xxunk photography for ever there is little reason to buy an analog product . a product with a large size and cumbersome function . rather than take hundreds of photos before you think of changing your memory card you are limited to 10 small expensive prints . \\n xxmaj so why did i buy it . xxmaj and how come did i give it five stars . xxmaj will here are the reasons ; \\n 1 . i had realistic expectations for what i was getting into . \\n 2 . i love photography in all it 's shapes and forms . \\n 3 . xxmaj again i had realistic expectation . \\n 4 . xxmaj i 'm into fun stuff \\n 5 . xxmaj i 'm sentimental for the old days . \\n look at reasons 1 and 3 again</td>\n",
              "      <td>OR</td>\n",
              "      <td>OR</td>\n",
              "    </tr>\n",
              "  </tbody>\n",
              "</table>"
            ]
          },
          "metadata": {}
        }
      ],
      "source": [
        "learner.show_results()"
      ]
    },
    {
      "cell_type": "markdown",
      "id": "3f7399f4",
      "metadata": {
        "papermill": {
          "duration": 0.013391,
          "end_time": "2023-01-18T21:32:20.336623",
          "exception": false,
          "start_time": "2023-01-18T21:32:20.323232",
          "status": "completed"
        },
        "tags": [],
        "id": "3f7399f4"
      },
      "source": [
        "## Model performance\n",
        "\n",
        "Our classification model has $accuracy = 92\\%$, significantly higher than the *Null* model ($50\\%$)! \n",
        "\n",
        "*Precision* is outstanding ($98\\%$), *Recall* is lower ($85\\%$).\n",
        "\n",
        "These are great performance numbers and will be hard to beat, but, highly motivated by LLMs, we shall try!"
      ]
    },
    {
      "cell_type": "markdown",
      "id": "c527148a",
      "metadata": {
        "papermill": {
          "duration": 0.014064,
          "end_time": "2023-01-18T21:32:24.540782",
          "exception": false,
          "start_time": "2023-01-18T21:32:24.526718",
          "status": "completed"
        },
        "tags": [],
        "id": "c527148a"
      },
      "source": [
        "The confusion matrix shows the model is misclassifying a much larger number of ORs (original reviews) compared to CGs (computer generated)."
      ]
    },
    {
      "cell_type": "code",
      "execution_count": 13,
      "id": "46cd4c61",
      "metadata": {
        "_cell_guid": "ff379c59-0493-436d-aa44-51f282994126",
        "_uuid": "d8c4552e-f06c-4a5c-9c39-ddbf95067be7",
        "execution": {
          "iopub.execute_input": "2023-01-18T21:32:24.571214Z",
          "iopub.status.busy": "2023-01-18T21:32:24.570275Z",
          "iopub.status.idle": "2023-01-18T21:32:38.573772Z",
          "shell.execute_reply": "2023-01-18T21:32:38.572074Z"
        },
        "jupyter": {
          "outputs_hidden": false
        },
        "papermill": {
          "duration": 14.02216,
          "end_time": "2023-01-18T21:32:38.577304",
          "exception": false,
          "start_time": "2023-01-18T21:32:24.555144",
          "status": "completed"
        },
        "tags": [],
        "colab": {
          "base_uri": "https://localhost:8080/",
          "height": 526
        },
        "id": "46cd4c61",
        "outputId": "0d6b3d56-7129-4048-a4d5-ed1b0a7bc2a1"
      },
      "outputs": [
        {
          "output_type": "display_data",
          "data": {
            "text/plain": [
              "<IPython.core.display.HTML object>"
            ],
            "text/html": [
              "\n",
              "<style>\n",
              "    /* Turns off some styling */\n",
              "    progress {\n",
              "        /* gets rid of default border in Firefox and Opera. */\n",
              "        border: none;\n",
              "        /* Needs to be in here for Safari polyfill so background images work as expected. */\n",
              "        background-size: auto;\n",
              "    }\n",
              "    progress:not([value]), progress:not([value])::-webkit-progress-bar {\n",
              "        background: repeating-linear-gradient(45deg, #7e7e7e, #7e7e7e 10px, #5c5c5c 10px, #5c5c5c 20px);\n",
              "    }\n",
              "    .progress-bar-interrupted, .progress-bar-interrupted::-webkit-progress-bar {\n",
              "        background: #F44336;\n",
              "    }\n",
              "</style>\n"
            ]
          },
          "metadata": {}
        },
        {
          "output_type": "display_data",
          "data": {
            "text/plain": [
              "<IPython.core.display.HTML object>"
            ],
            "text/html": []
          },
          "metadata": {}
        },
        {
          "output_type": "display_data",
          "data": {
            "text/plain": [
              "<IPython.core.display.HTML object>"
            ],
            "text/html": [
              "\n",
              "<style>\n",
              "    /* Turns off some styling */\n",
              "    progress {\n",
              "        /* gets rid of default border in Firefox and Opera. */\n",
              "        border: none;\n",
              "        /* Needs to be in here for Safari polyfill so background images work as expected. */\n",
              "        background-size: auto;\n",
              "    }\n",
              "    progress:not([value]), progress:not([value])::-webkit-progress-bar {\n",
              "        background: repeating-linear-gradient(45deg, #7e7e7e, #7e7e7e 10px, #5c5c5c 10px, #5c5c5c 20px);\n",
              "    }\n",
              "    .progress-bar-interrupted, .progress-bar-interrupted::-webkit-progress-bar {\n",
              "        background: #F44336;\n",
              "    }\n",
              "</style>\n"
            ]
          },
          "metadata": {}
        },
        {
          "output_type": "display_data",
          "data": {
            "text/plain": [
              "<IPython.core.display.HTML object>"
            ],
            "text/html": []
          },
          "metadata": {}
        },
        {
          "output_type": "display_data",
          "data": {
            "text/plain": [
              "<Figure size 640x480 with 1 Axes>"
            ],
            "image/png": "[encoded data removed]"
          },
          "metadata": {}
        }
      ],
      "source": [
        "interp = ClassificationInterpretation.from_learner(learner)\n",
        "interp.plot_confusion_matrix()"
      ]
    },
    {
      "cell_type": "markdown",
      "id": "d490c239",
      "metadata": {
        "papermill": {
          "duration": 0.031204,
          "end_time": "2023-01-18T21:32:38.646583",
          "exception": false,
          "start_time": "2023-01-18T21:32:38.615379",
          "status": "completed"
        },
        "tags": [],
        "id": "d490c239"
      },
      "source": [
        "## Saving and loading model\n",
        "\n",
        "At this point, if we wanted, we could save the model and it's trained weights. Later, the saved model could be loaded for making predictions."
      ]
    },
    {
      "cell_type": "code",
      "execution_count": 14,
      "id": "34273f78",
      "metadata": {
        "_cell_guid": "71abf7f6-5eb6-4eb4-b726-a84341b2cf41",
        "_uuid": "a9724113-37f9-4f4e-b703-52092eefc307",
        "execution": {
          "iopub.execute_input": "2023-01-18T21:32:38.677322Z",
          "iopub.status.busy": "2023-01-18T21:32:38.676940Z",
          "iopub.status.idle": "2023-01-18T21:32:38.681702Z",
          "shell.execute_reply": "2023-01-18T21:32:38.680769Z"
        },
        "jupyter": {
          "outputs_hidden": false
        },
        "papermill": {
          "duration": 0.022711,
          "end_time": "2023-01-18T21:32:38.683783",
          "exception": false,
          "start_time": "2023-01-18T21:32:38.661072",
          "status": "completed"
        },
        "tags": [],
        "colab": {
          "base_uri": "https://localhost:8080/"
        },
        "id": "34273f78",
        "outputId": "50eabcb7-e255-4d39-e32e-238b40eff54e"
      },
      "outputs": [
        {
          "output_type": "execute_result",
          "data": {
            "text/plain": [
              "Path('models/pretrained.pth')"
            ]
          },
          "metadata": {},
          "execution_count": 14
        }
      ],
      "source": [
        "learner.save('pretrained')"
      ]
    },
    {
      "cell_type": "code",
      "execution_count": 15,
      "id": "9752ef42",
      "metadata": {
        "execution": {
          "iopub.execute_input": "2023-01-18T21:32:38.714462Z",
          "iopub.status.busy": "2023-01-18T21:32:38.713616Z",
          "iopub.status.idle": "2023-01-18T21:32:38.718221Z",
          "shell.execute_reply": "2023-01-18T21:32:38.717256Z"
        },
        "papermill": {
          "duration": 0.022034,
          "end_time": "2023-01-18T21:32:38.720184",
          "exception": false,
          "start_time": "2023-01-18T21:32:38.698150",
          "status": "completed"
        },
        "tags": [],
        "colab": {
          "base_uri": "https://localhost:8080/"
        },
        "id": "9752ef42",
        "outputId": "f829e599-136f-4f2f-8e4f-f487f8d10c8b"
      },
      "outputs": [
        {
          "output_type": "execute_result",
          "data": {
            "text/plain": [
              "<fastai.text.learner.TextLearner at 0x7fb3c7daeec0>"
            ]
          },
          "metadata": {},
          "execution_count": 15
        }
      ],
      "source": [
        "learner.load('pretrained')"
      ]
    },
    {
      "cell_type": "markdown",
      "id": "67d76165",
      "metadata": {
        "_cell_guid": "bd7441ec-65d5-4bc6-b433-a597ad33382a",
        "_uuid": "00a74f0c-421d-46e0-ad4f-74d3fb4365f9",
        "papermill": {
          "duration": 0.014221,
          "end_time": "2023-01-18T21:32:38.748727",
          "exception": false,
          "start_time": "2023-01-18T21:32:38.734506",
          "status": "completed"
        },
        "tags": [],
        "id": "67d76165"
      },
      "source": [
        "# Language Model (ULMFiT approach)\n",
        "\n",
        "The pretrained model in the previous section is called a language model. It was pretrained on Wikipedia on the task of guessing the next word, after reading all the words before. \n",
        "\n",
        "Notice, we are glossing over the details of exactly how many words are considered in making the prediction, what is the $loss function$, which $optimizer$ to use to fit the model, etc. Fastai selects intelligent defaults for all these paramaters are more.\n",
        "\n",
        "We got great results by directly fine-tuning this language model to product review classifier, but can we do even better?\n",
        "\n",
        "In general, with one extra step, we might do better: the Wikipedia English is slightly different from the English in our email corpus. So instead of jumping directly to the classifier, we could fine-tune our pretrained language model to the review corpus and use that as the base for our classifier."
      ]
    },
    {
      "cell_type": "markdown",
      "source": [
        "Create the data loader for language modeling by setting $is\\_lm=True$ . We set aside 10% data using **RandomSplitter** for model validation."
      ],
      "metadata": {
        "id": "4HqTdU10v50_"
      },
      "id": "4HqTdU10v50_"
    },
    {
      "cell_type": "code",
      "execution_count": 16,
      "id": "a7592654",
      "metadata": {
        "_cell_guid": "dfe42466-34b4-465e-b494-72034c9d514a",
        "_uuid": "6b0894ff-c526-42c3-974b-d60c27672f5d",
        "execution": {
          "iopub.execute_input": "2023-01-18T21:32:38.779661Z",
          "iopub.status.busy": "2023-01-18T21:32:38.778746Z",
          "iopub.status.idle": "2023-01-18T21:32:38.783247Z",
          "shell.execute_reply": "2023-01-18T21:32:38.782215Z"
        },
        "jupyter": {
          "outputs_hidden": false
        },
        "papermill": {
          "duration": 0.022023,
          "end_time": "2023-01-18T21:32:38.785255",
          "exception": false,
          "start_time": "2023-01-18T21:32:38.763232",
          "status": "completed"
        },
        "tags": [],
        "colab": {
          "base_uri": "https://localhost:8080/",
          "height": 38
        },
        "id": "a7592654",
        "outputId": "153ce589-d7fc-4f50-aa37-9610893bce52"
      },
      "outputs": [
        {
          "output_type": "display_data",
          "data": {
            "text/plain": [
              "<IPython.core.display.HTML object>"
            ],
            "text/html": [
              "\n",
              "<style>\n",
              "    /* Turns off some styling */\n",
              "    progress {\n",
              "        /* gets rid of default border in Firefox and Opera. */\n",
              "        border: none;\n",
              "        /* Needs to be in here for Safari polyfill so background images work as expected. */\n",
              "        background-size: auto;\n",
              "    }\n",
              "    progress:not([value]), progress:not([value])::-webkit-progress-bar {\n",
              "        background: repeating-linear-gradient(45deg, #7e7e7e, #7e7e7e 10px, #5c5c5c 10px, #5c5c5c 20px);\n",
              "    }\n",
              "    .progress-bar-interrupted, .progress-bar-interrupted::-webkit-progress-bar {\n",
              "        background: #F44336;\n",
              "    }\n",
              "</style>\n"
            ]
          },
          "metadata": {}
        },
        {
          "output_type": "display_data",
          "data": {
            "text/plain": [
              "<IPython.core.display.HTML object>"
            ],
            "text/html": []
          },
          "metadata": {}
        }
      ],
      "source": [
        "dls_lm = DataBlock(\n",
        "    blocks=TextBlock.from_df(text_cols=('text'), \n",
        "                             is_lm=True),\n",
        "    get_x=ColReader('text'), \n",
        "    splitter=RandomSplitter(valid_pct=0.1, seed=12345)\n",
        "    ).dataloaders(df, bs=64)"
      ]
    },
    {
      "cell_type": "code",
      "execution_count": 17,
      "id": "fb1b669b",
      "metadata": {
        "_cell_guid": "de56ae16-e2fb-4fcc-a7f2-d34861e96bff",
        "_uuid": "ccdbfcba-063c-425d-8293-ea927978d962",
        "execution": {
          "iopub.execute_input": "2023-01-18T21:32:38.845228Z",
          "iopub.status.busy": "2023-01-18T21:32:38.843625Z",
          "iopub.status.idle": "2023-01-18T21:32:38.848620Z",
          "shell.execute_reply": "2023-01-18T21:32:38.847735Z"
        },
        "jupyter": {
          "outputs_hidden": false
        },
        "papermill": {
          "duration": 0.022488,
          "end_time": "2023-01-18T21:32:38.850668",
          "exception": false,
          "start_time": "2023-01-18T21:32:38.828180",
          "status": "completed"
        },
        "tags": [],
        "colab": {
          "base_uri": "https://localhost:8080/",
          "height": 1000
        },
        "id": "fb1b669b",
        "outputId": "c0c8da2b-058d-41f2-d80d-108aa1efdd5f"
      },
      "outputs": [
        {
          "output_type": "display_data",
          "data": {
            "text/plain": [
              "<IPython.core.display.HTML object>"
            ],
            "text/html": [
              "<table border=\"1\" class=\"dataframe\">\n",
              "  <thead>\n",
              "    <tr style=\"text-align: right;\">\n",
              "      <th></th>\n",
              "      <th>text</th>\n",
              "      <th>text_</th>\n",
              "    </tr>\n",
              "  </thead>\n",
              "  <tbody>\n",
              "    <tr>\n",
              "      <th>0</th>\n",
              "      <td>xxbos xxmaj great sound from this xxmaj xxunk . xxmaj the only problem is that it 's not really a stereo , but a pair of ear buds . i ca n't tell if the sound is really clear or not , but xxbos xxmaj this saw is one of the best xxmaj i 've ever owned . i have a variety of tools . xxmaj the range is amazing . i</td>\n",
              "      <td>xxmaj great sound from this xxmaj xxunk . xxmaj the only problem is that it 's not really a stereo , but a pair of ear buds . i ca n't tell if the sound is really clear or not , but xxbos xxmaj this saw is one of the best xxmaj i 've ever owned . i have a variety of tools . xxmaj the range is amazing . i have</td>\n",
              "    </tr>\n",
              "    <tr>\n",
              "      <th>1</th>\n",
              "      <td>is still working nicely . xxbos xxmaj this was a very good book ; however , it started out a little slow . i was n't really able to get into it until the middle . xxbos xxmaj so far ( had it for almost a week ) very please with this case . xxmaj it arrived in a very timely manner , and the keyboard charges and pairs with the ipad</td>\n",
              "      <td>still working nicely . xxbos xxmaj this was a very good book ; however , it started out a little slow . i was n't really able to get into it until the middle . xxbos xxmaj so far ( had it for almost a week ) very please with this case . xxmaj it arrived in a very timely manner , and the keyboard charges and pairs with the ipad xxmaj</td>\n",
              "    </tr>\n",
              "    <tr>\n",
              "      <th>2</th>\n",
              "      <td>for about a month now , and they 're still really comfortable . i do recommend getting a size up . xxmaj it 's not just that i like these shoes , i also like the color and the way they look . i will be buying more pairs of these shoes xxunk the design of this shoe . xxmaj it is pretty . i wear a 9.5 and i ordered a</td>\n",
              "      <td>about a month now , and they 're still really comfortable . i do recommend getting a size up . xxmaj it 's not just that i like these shoes , i also like the color and the way they look . i will be buying more pairs of these shoes xxunk the design of this shoe . xxmaj it is pretty . i wear a 9.5 and i ordered a 9.5</td>\n",
              "    </tr>\n",
              "    <tr>\n",
              "      <th>3</th>\n",
              "      <td>very good night vision . xxmaj the only problem you could have with these cameras is , that the night vision is so strong , that it might be too bright in close in setting .. \\n xxmaj update ; xxmaj got another one of these , they shipped it really fast . xxmaj perfectly focused in the xxunk position . xxmaj mounted it adjusted a little bit . xxmaj happy camper</td>\n",
              "      <td>good night vision . xxmaj the only problem you could have with these cameras is , that the night vision is so strong , that it might be too bright in close in setting .. \\n xxmaj update ; xxmaj got another one of these , they shipped it really fast . xxmaj perfectly focused in the xxunk position . xxmaj mounted it adjusted a little bit . xxmaj happy camper now</td>\n",
              "    </tr>\n",
              "    <tr>\n",
              "      <th>4</th>\n",
              "      <td>1 lb sleeping bag . xxmaj the only problem is that it comes with a small mesh bag . i had to return it . xxmaj the mesh bag is the only thing i would say about this xxbos xxmaj bought this a while ago . xxmaj sorry for the late review . xxmaj this is a great flask . xxmaj keeps it ice cold all day . xxbos xxmaj my son</td>\n",
              "      <td>lb sleeping bag . xxmaj the only problem is that it comes with a small mesh bag . i had to return it . xxmaj the mesh bag is the only thing i would say about this xxbos xxmaj bought this a while ago . xxmaj sorry for the late review . xxmaj this is a great flask . xxmaj keeps it ice cold all day . xxbos xxmaj my son purchased</td>\n",
              "    </tr>\n",
              "    <tr>\n",
              "      <th>5</th>\n",
              "      <td>. xxup beware : it is very easy to bend the ears . so be gentle . 4 , install the rake as instructed . hope this helps . enjoy the clean rake . xxbos xxmaj all though the movie was not to great it was n't xxunk either . xxmaj the 3 stooges are not really suited for a xxunk movie , but they 3 new stooges would be good doing</td>\n",
              "      <td>xxup beware : it is very easy to bend the ears . so be gentle . 4 , install the rake as instructed . hope this helps . enjoy the clean rake . xxbos xxmaj all though the movie was not to great it was n't xxunk either . xxmaj the 3 stooges are not really suited for a xxunk movie , but they 3 new stooges would be good doing xxup</td>\n",
              "    </tr>\n",
              "    <tr>\n",
              "      <th>6</th>\n",
              "      <td>'s literally plug and play . xxmaj the speeds it provides is meh . i have a xxunk connection but only about xxunk gets through on this adapter . xxmaj other powerline adapters keep me on much higher speeds . xxmaj after a few months , the adapter would lose connection for about a minute every so often . xxmaj as more time went by , it 'd get worst and worst</td>\n",
              "      <td>literally plug and play . xxmaj the speeds it provides is meh . i have a xxunk connection but only about xxunk gets through on this adapter . xxmaj other powerline adapters keep me on much higher speeds . xxmaj after a few months , the adapter would lose connection for about a minute every so often . xxmaj as more time went by , it 'd get worst and worst eventually</td>\n",
              "    </tr>\n",
              "    <tr>\n",
              "      <th>7</th>\n",
              "      <td>were illuminated , that s my only complaint . xxbos xxmaj sizing is done by chestnuts . xxmaj the fit is as described . i ordered a size 6 . xxbos nice for my 12 yo daughter 's everyday use for school to match with her wardrobe . not so fascinated but my daughter liked all of it so i gave it a xxunk . xxbos xxmaj these are great headphones for</td>\n",
              "      <td>illuminated , that s my only complaint . xxbos xxmaj sizing is done by chestnuts . xxmaj the fit is as described . i ordered a size 6 . xxbos nice for my 12 yo daughter 's everyday use for school to match with her wardrobe . not so fascinated but my daughter liked all of it so i gave it a xxunk . xxbos xxmaj these are great headphones for casual</td>\n",
              "    </tr>\n",
              "    <tr>\n",
              "      <th>8</th>\n",
              "      <td>crossfire reels . xxbos xxmaj awful ! xxmaj tried them on my dog and the quality is great . \\n\\n xxmaj the only reason i gave it 4 stars is that the plastic part is very small , and xxbos xxmaj rock steady voltages and monitoring to boot ! i must admit i was always skeptical of \" super \" expensive xxunk but i am surprised at how amazingly versatile and stable</td>\n",
              "      <td>reels . xxbos xxmaj awful ! xxmaj tried them on my dog and the quality is great . \\n\\n xxmaj the only reason i gave it 4 stars is that the plastic part is very small , and xxbos xxmaj rock steady voltages and monitoring to boot ! i must admit i was always skeptical of \" super \" expensive xxunk but i am surprised at how amazingly versatile and stable they</td>\n",
              "    </tr>\n",
              "    <tr>\n",
              "      <th>9</th>\n",
              "      <td>up debris well , gets into tight spots and corners , gets fairly low so that you can get a good ways under beds and couches . \\n\\n xxup edit : 6 months later . i still think this is a great vacuum for the price . xxmaj it will vacuum about 6 rooms ( xxunk xxrep 3 0 sq ft ) before needing a charge . xxmaj it picks up most</td>\n",
              "      <td>debris well , gets into tight spots and corners , gets fairly low so that you can get a good ways under beds and couches . \\n\\n xxup edit : 6 months later . i still think this is a great vacuum for the price . xxmaj it will vacuum about 6 rooms ( xxunk xxrep 3 0 sq ft ) before needing a charge . xxmaj it picks up most things</td>\n",
              "    </tr>\n",
              "  </tbody>\n",
              "</table>"
            ]
          },
          "metadata": {}
        }
      ],
      "source": [
        "dls_lm.show_batch(max_n = 10)"
      ]
    },
    {
      "cell_type": "markdown",
      "id": "ab3963af",
      "metadata": {
        "_cell_guid": "a8c3fa63-ae51-4903-b6df-4a97fbf5133d",
        "_uuid": "a306e43b-cacf-4ce2-8973-6a499da3652c",
        "papermill": {
          "duration": 0.014225,
          "end_time": "2023-01-18T21:32:38.879352",
          "exception": false,
          "start_time": "2023-01-18T21:32:38.865127",
          "status": "completed"
        },
        "tags": [],
        "id": "ab3963af"
      },
      "source": [
        "Next we create a language model learner.\n",
        "\n",
        "Use Perplexity metric to track LLM performance (among how many words the model is confused at predicting next word)."
      ]
    },
    {
      "cell_type": "code",
      "execution_count": 18,
      "id": "2cd4af95",
      "metadata": {
        "_cell_guid": "ba17bf51-1e2a-4bfb-acc6-b49dfc56c7a1",
        "_uuid": "3d64fdcf-95d2-4d68-8e97-ce84bae5bbc7",
        "execution": {
          "iopub.execute_input": "2023-01-18T21:32:38.910963Z",
          "iopub.status.busy": "2023-01-18T21:32:38.909380Z",
          "iopub.status.idle": "2023-01-18T21:32:38.914186Z",
          "shell.execute_reply": "2023-01-18T21:32:38.913283Z"
        },
        "jupyter": {
          "outputs_hidden": false
        },
        "papermill": {
          "duration": 0.02234,
          "end_time": "2023-01-18T21:32:38.916148",
          "exception": false,
          "start_time": "2023-01-18T21:32:38.893808",
          "status": "completed"
        },
        "tags": [],
        "id": "2cd4af95"
      },
      "outputs": [],
      "source": [
        "lm_learner = language_model_learner(\n",
        "            dls_lm, \n",
        "            AWD_LSTM, \n",
        "            wd=0.1,\n",
        "            metrics=[Perplexity()]).to_fp16()"
      ]
    },
    {
      "cell_type": "markdown",
      "source": [
        "Once more, we find the optimal learning rate."
      ],
      "metadata": {
        "id": "5mZ3PGZSoBz4"
      },
      "id": "5mZ3PGZSoBz4"
    },
    {
      "cell_type": "code",
      "source": [
        "lr = lm_learner.lr_find()\n",
        "lr"
      ],
      "metadata": {
        "colab": {
          "base_uri": "https://localhost:8080/",
          "height": 492
        },
        "id": "yE6Vu6JIgElo",
        "outputId": "e21cd81e-6cf0-4671-bac3-827083dafdc4"
      },
      "id": "yE6Vu6JIgElo",
      "execution_count": 19,
      "outputs": [
        {
          "output_type": "display_data",
          "data": {
            "text/plain": [
              "<IPython.core.display.HTML object>"
            ],
            "text/html": [
              "\n",
              "<style>\n",
              "    /* Turns off some styling */\n",
              "    progress {\n",
              "        /* gets rid of default border in Firefox and Opera. */\n",
              "        border: none;\n",
              "        /* Needs to be in here for Safari polyfill so background images work as expected. */\n",
              "        background-size: auto;\n",
              "    }\n",
              "    progress:not([value]), progress:not([value])::-webkit-progress-bar {\n",
              "        background: repeating-linear-gradient(45deg, #7e7e7e, #7e7e7e 10px, #5c5c5c 10px, #5c5c5c 20px);\n",
              "    }\n",
              "    .progress-bar-interrupted, .progress-bar-interrupted::-webkit-progress-bar {\n",
              "        background: #F44336;\n",
              "    }\n",
              "</style>\n"
            ]
          },
          "metadata": {}
        },
        {
          "output_type": "display_data",
          "data": {
            "text/plain": [
              "<IPython.core.display.HTML object>"
            ],
            "text/html": []
          },
          "metadata": {}
        },
        {
          "output_type": "execute_result",
          "data": {
            "text/plain": [
              "SuggestedLRs(valley=0.0063095735386013985)"
            ]
          },
          "metadata": {},
          "execution_count": 19
        },
        {
          "output_type": "display_data",
          "data": {
            "text/plain": [
              "<Figure size 640x480 with 1 Axes>"
            ],
            "image/png": "[encoded data removed]"
          },
          "metadata": {}
        }
      ]
    },
    {
      "cell_type": "markdown",
      "id": "c99ba52e",
      "metadata": {
        "_cell_guid": "02b2a416-97d2-4703-97ca-c525ac94c072",
        "_uuid": "1aa0722c-f4e7-4972-9855-8d6ee4dedf65",
        "papermill": {
          "duration": 0.014236,
          "end_time": "2023-01-18T21:32:38.944822",
          "exception": false,
          "start_time": "2023-01-18T21:32:38.930586",
          "status": "completed"
        },
        "tags": [],
        "id": "c99ba52e"
      },
      "source": [
        "Next, we train the model for 1 epoch. By default, aside from the final\n",
        "layers, other inner layers of the model are $frozen$. \n",
        "\n",
        "In other words, the pre-trained language model is kept intact, the essence of of **transfer learning**."
      ]
    },
    {
      "cell_type": "code",
      "execution_count": 20,
      "id": "4415d978",
      "metadata": {
        "_cell_guid": "488ff5fe-5e90-4495-88d8-5b171d48b08a",
        "_uuid": "42b35b8e-7e5e-4c5f-a39f-6167f061adb6",
        "execution": {
          "iopub.execute_input": "2023-01-18T21:32:38.975630Z",
          "iopub.status.busy": "2023-01-18T21:32:38.974691Z",
          "iopub.status.idle": "2023-01-18T21:32:38.979214Z",
          "shell.execute_reply": "2023-01-18T21:32:38.978323Z"
        },
        "jupyter": {
          "outputs_hidden": false
        },
        "papermill": {
          "duration": 0.022024,
          "end_time": "2023-01-18T21:32:38.981178",
          "exception": false,
          "start_time": "2023-01-18T21:32:38.959154",
          "status": "completed"
        },
        "tags": [],
        "colab": {
          "base_uri": "https://localhost:8080/",
          "height": 100
        },
        "id": "4415d978",
        "outputId": "aa832e4c-2218-4c4c-f26f-0963d746ec35"
      },
      "outputs": [
        {
          "output_type": "display_data",
          "data": {
            "text/plain": [
              "<IPython.core.display.HTML object>"
            ],
            "text/html": [
              "\n",
              "<style>\n",
              "    /* Turns off some styling */\n",
              "    progress {\n",
              "        /* gets rid of default border in Firefox and Opera. */\n",
              "        border: none;\n",
              "        /* Needs to be in here for Safari polyfill so background images work as expected. */\n",
              "        background-size: auto;\n",
              "    }\n",
              "    progress:not([value]), progress:not([value])::-webkit-progress-bar {\n",
              "        background: repeating-linear-gradient(45deg, #7e7e7e, #7e7e7e 10px, #5c5c5c 10px, #5c5c5c 20px);\n",
              "    }\n",
              "    .progress-bar-interrupted, .progress-bar-interrupted::-webkit-progress-bar {\n",
              "        background: #F44336;\n",
              "    }\n",
              "</style>\n"
            ]
          },
          "metadata": {}
        },
        {
          "output_type": "display_data",
          "data": {
            "text/plain": [
              "<IPython.core.display.HTML object>"
            ],
            "text/html": [
              "<table border=\"1\" class=\"dataframe\">\n",
              "  <thead>\n",
              "    <tr style=\"text-align: left;\">\n",
              "      <th>epoch</th>\n",
              "      <th>train_loss</th>\n",
              "      <th>valid_loss</th>\n",
              "      <th>perplexity</th>\n",
              "      <th>time</th>\n",
              "    </tr>\n",
              "  </thead>\n",
              "  <tbody>\n",
              "    <tr>\n",
              "      <td>0</td>\n",
              "      <td>3.681517</td>\n",
              "      <td>3.402245</td>\n",
              "      <td>30.031439</td>\n",
              "      <td>02:51</td>\n",
              "    </tr>\n",
              "  </tbody>\n",
              "</table>"
            ]
          },
          "metadata": {}
        }
      ],
      "source": [
        "lm_learner.fit_one_cycle(1, lr[0])"
      ]
    },
    {
      "cell_type": "markdown",
      "id": "a8bb022f",
      "metadata": {
        "_cell_guid": "c3bfa931-0c71-4f56-a21a-606a6fcd34a9",
        "_uuid": "0041d125-f622-48a5-a3f9-c2d25074ddde",
        "papermill": {
          "duration": 0.014417,
          "end_time": "2023-01-18T21:32:39.009893",
          "exception": false,
          "start_time": "2023-01-18T21:32:38.995476",
          "status": "completed"
        },
        "tags": [],
        "id": "a8bb022f"
      },
      "source": [
        "Save language model state after 1 epoch."
      ]
    },
    {
      "cell_type": "code",
      "execution_count": 21,
      "id": "fc517c10",
      "metadata": {
        "_cell_guid": "5de6446d-9b0f-40f7-aea3-b4902da18e68",
        "_uuid": "2de7b3df-4eaa-45e7-aa43-2a9eaa5a7d58",
        "execution": {
          "iopub.execute_input": "2023-01-18T21:32:39.040233Z",
          "iopub.status.busy": "2023-01-18T21:32:39.039889Z",
          "iopub.status.idle": "2023-01-18T21:32:39.044083Z",
          "shell.execute_reply": "2023-01-18T21:32:39.043073Z"
        },
        "jupyter": {
          "outputs_hidden": false
        },
        "papermill": {
          "duration": 0.021865,
          "end_time": "2023-01-18T21:32:39.046069",
          "exception": false,
          "start_time": "2023-01-18T21:32:39.024204",
          "status": "completed"
        },
        "tags": [],
        "id": "fc517c10",
        "colab": {
          "base_uri": "https://localhost:8080/"
        },
        "outputId": "1a62536b-81ec-4716-b5a5-ec50d5f7b0e2"
      },
      "outputs": [
        {
          "output_type": "execute_result",
          "data": {
            "text/plain": [
              "Path('models/1epoch.pth')"
            ]
          },
          "metadata": {},
          "execution_count": 21
        }
      ],
      "source": [
        "lm_learner.save('1epoch')"
      ]
    },
    {
      "cell_type": "markdown",
      "id": "a9f3f4cb",
      "metadata": {
        "_cell_guid": "72c34cf5-365f-48f1-8277-523d9f65a361",
        "_uuid": "953a3a51-8f43-4b68-8ec3-0d4e1c1196d2",
        "papermill": {
          "duration": 0.014296,
          "end_time": "2023-01-18T21:32:39.074958",
          "exception": false,
          "start_time": "2023-01-18T21:32:39.060662",
          "status": "completed"
        },
        "tags": [],
        "id": "a9f3f4cb"
      },
      "source": [
        "Next, we unfreeze all layers of model for futher tuning."
      ]
    },
    {
      "cell_type": "code",
      "execution_count": 22,
      "id": "4295ef5c",
      "metadata": {
        "_cell_guid": "c50916dc-8edf-47f9-9cfc-6a97cb9a502b",
        "_uuid": "c4250484-ddb4-4493-862a-cb7bfce1ec25",
        "execution": {
          "iopub.execute_input": "2023-01-18T21:32:39.105608Z",
          "iopub.status.busy": "2023-01-18T21:32:39.104796Z",
          "iopub.status.idle": "2023-01-18T21:32:39.109015Z",
          "shell.execute_reply": "2023-01-18T21:32:39.108056Z"
        },
        "jupyter": {
          "outputs_hidden": false
        },
        "papermill": {
          "duration": 0.02169,
          "end_time": "2023-01-18T21:32:39.110981",
          "exception": false,
          "start_time": "2023-01-18T21:32:39.089291",
          "status": "completed"
        },
        "tags": [],
        "id": "4295ef5c"
      },
      "outputs": [],
      "source": [
        "lm_learner.unfreeze()"
      ]
    },
    {
      "cell_type": "markdown",
      "source": [
        "As before, find the optimal learning rate."
      ],
      "metadata": {
        "id": "YstfLnBfXNPk"
      },
      "id": "YstfLnBfXNPk"
    },
    {
      "cell_type": "code",
      "source": [
        "lr = lm_learner.lr_find()\n",
        "lr"
      ],
      "metadata": {
        "id": "vIpzyl-CgMBM",
        "colab": {
          "base_uri": "https://localhost:8080/",
          "height": 492
        },
        "outputId": "ad24f8a8-bea2-47d3-be82-9ed3d4607547"
      },
      "id": "vIpzyl-CgMBM",
      "execution_count": 23,
      "outputs": [
        {
          "output_type": "display_data",
          "data": {
            "text/plain": [
              "<IPython.core.display.HTML object>"
            ],
            "text/html": [
              "\n",
              "<style>\n",
              "    /* Turns off some styling */\n",
              "    progress {\n",
              "        /* gets rid of default border in Firefox and Opera. */\n",
              "        border: none;\n",
              "        /* Needs to be in here for Safari polyfill so background images work as expected. */\n",
              "        background-size: auto;\n",
              "    }\n",
              "    progress:not([value]), progress:not([value])::-webkit-progress-bar {\n",
              "        background: repeating-linear-gradient(45deg, #7e7e7e, #7e7e7e 10px, #5c5c5c 10px, #5c5c5c 20px);\n",
              "    }\n",
              "    .progress-bar-interrupted, .progress-bar-interrupted::-webkit-progress-bar {\n",
              "        background: #F44336;\n",
              "    }\n",
              "</style>\n"
            ]
          },
          "metadata": {}
        },
        {
          "output_type": "display_data",
          "data": {
            "text/plain": [
              "<IPython.core.display.HTML object>"
            ],
            "text/html": []
          },
          "metadata": {}
        },
        {
          "output_type": "execute_result",
          "data": {
            "text/plain": [
              "SuggestedLRs(valley=3.630780702224001e-05)"
            ]
          },
          "metadata": {},
          "execution_count": 23
        },
        {
          "output_type": "display_data",
          "data": {
            "text/plain": [
              "<Figure size 640x480 with 1 Axes>"
            ],
            "image/png": "[encoded data removed]"
          },
          "metadata": {}
        }
      ]
    },
    {
      "cell_type": "markdown",
      "source": [
        "Train language model for 3 epochs."
      ],
      "metadata": {
        "id": "rjo7JRtXohJa"
      },
      "id": "rjo7JRtXohJa"
    },
    {
      "cell_type": "code",
      "execution_count": 24,
      "id": "75a5f9de",
      "metadata": {
        "_cell_guid": "f3807a2d-a8b7-4fc4-8f71-57352d020fea",
        "_uuid": "25ca60f9-32c3-4d24-bd3e-1afcfda6210d",
        "execution": {
          "iopub.execute_input": "2023-01-18T21:32:39.142529Z",
          "iopub.status.busy": "2023-01-18T21:32:39.141008Z",
          "iopub.status.idle": "2023-01-18T21:32:39.145711Z",
          "shell.execute_reply": "2023-01-18T21:32:39.144864Z"
        },
        "jupyter": {
          "outputs_hidden": false
        },
        "papermill": {
          "duration": 0.022294,
          "end_time": "2023-01-18T21:32:39.147727",
          "exception": false,
          "start_time": "2023-01-18T21:32:39.125433",
          "status": "completed"
        },
        "tags": [],
        "id": "75a5f9de",
        "colab": {
          "base_uri": "https://localhost:8080/",
          "height": 160
        },
        "outputId": "5c845b9e-e1d1-47bd-f8cd-1aa824ba16f1"
      },
      "outputs": [
        {
          "output_type": "display_data",
          "data": {
            "text/plain": [
              "<IPython.core.display.HTML object>"
            ],
            "text/html": [
              "\n",
              "<style>\n",
              "    /* Turns off some styling */\n",
              "    progress {\n",
              "        /* gets rid of default border in Firefox and Opera. */\n",
              "        border: none;\n",
              "        /* Needs to be in here for Safari polyfill so background images work as expected. */\n",
              "        background-size: auto;\n",
              "    }\n",
              "    progress:not([value]), progress:not([value])::-webkit-progress-bar {\n",
              "        background: repeating-linear-gradient(45deg, #7e7e7e, #7e7e7e 10px, #5c5c5c 10px, #5c5c5c 20px);\n",
              "    }\n",
              "    .progress-bar-interrupted, .progress-bar-interrupted::-webkit-progress-bar {\n",
              "        background: #F44336;\n",
              "    }\n",
              "</style>\n"
            ]
          },
          "metadata": {}
        },
        {
          "output_type": "display_data",
          "data": {
            "text/plain": [
              "<IPython.core.display.HTML object>"
            ],
            "text/html": [
              "<table border=\"1\" class=\"dataframe\">\n",
              "  <thead>\n",
              "    <tr style=\"text-align: left;\">\n",
              "      <th>epoch</th>\n",
              "      <th>train_loss</th>\n",
              "      <th>valid_loss</th>\n",
              "      <th>perplexity</th>\n",
              "      <th>time</th>\n",
              "    </tr>\n",
              "  </thead>\n",
              "  <tbody>\n",
              "    <tr>\n",
              "      <td>0</td>\n",
              "      <td>3.578676</td>\n",
              "      <td>3.325600</td>\n",
              "      <td>27.815674</td>\n",
              "      <td>02:57</td>\n",
              "    </tr>\n",
              "    <tr>\n",
              "      <td>1</td>\n",
              "      <td>3.464225</td>\n",
              "      <td>3.286367</td>\n",
              "      <td>26.745520</td>\n",
              "      <td>02:55</td>\n",
              "    </tr>\n",
              "    <tr>\n",
              "      <td>2</td>\n",
              "      <td>3.483678</td>\n",
              "      <td>3.281260</td>\n",
              "      <td>26.609274</td>\n",
              "      <td>02:57</td>\n",
              "    </tr>\n",
              "  </tbody>\n",
              "</table>"
            ]
          },
          "metadata": {}
        }
      ],
      "source": [
        "lm_learner.fit_one_cycle(3, lr[0])"
      ]
    },
    {
      "cell_type": "code",
      "source": [
        "lm_learner.recorder.plot_loss()"
      ],
      "metadata": {
        "id": "UmQo9u5dillI",
        "colab": {
          "base_uri": "https://localhost:8080/",
          "height": 451
        },
        "outputId": "77fbc167-dac3-4f3f-eb88-1714d9a7fea8"
      },
      "id": "UmQo9u5dillI",
      "execution_count": 25,
      "outputs": [
        {
          "output_type": "display_data",
          "data": {
            "text/plain": [
              "<Figure size 640x480 with 1 Axes>"
            ],
            "image/png": "[encoded data removed]"
          },
          "metadata": {}
        }
      ]
    },
    {
      "cell_type": "markdown",
      "id": "f6303f07",
      "metadata": {
        "_cell_guid": "f4ecaff9-e2c4-4a10-b005-9fc9aebdd321",
        "_uuid": "2a26cdf4-62a7-48ec-9d11-98e78e7acc76",
        "papermill": {
          "duration": 0.014266,
          "end_time": "2023-01-18T21:32:39.176371",
          "exception": false,
          "start_time": "2023-01-18T21:32:39.162105",
          "status": "completed"
        },
        "tags": [],
        "id": "f6303f07"
      },
      "source": [
        "Save the fully tuned model."
      ]
    },
    {
      "cell_type": "code",
      "execution_count": 26,
      "id": "ebd831d0",
      "metadata": {
        "_cell_guid": "b76c9321-a1f3-4673-bb54-ab0ae86d2882",
        "_uuid": "182f2d96-cb9b-4897-bcda-af69e787b481",
        "execution": {
          "iopub.execute_input": "2023-01-18T21:32:39.207986Z",
          "iopub.status.busy": "2023-01-18T21:32:39.206424Z",
          "iopub.status.idle": "2023-01-18T21:32:39.211230Z",
          "shell.execute_reply": "2023-01-18T21:32:39.210270Z"
        },
        "jupyter": {
          "outputs_hidden": false
        },
        "papermill": {
          "duration": 0.022222,
          "end_time": "2023-01-18T21:32:39.213182",
          "exception": false,
          "start_time": "2023-01-18T21:32:39.190960",
          "status": "completed"
        },
        "tags": [],
        "id": "ebd831d0"
      },
      "outputs": [],
      "source": [
        "lm_learner.save_encoder('finetuned')"
      ]
    },
    {
      "cell_type": "markdown",
      "id": "3d6c9484",
      "metadata": {
        "_cell_guid": "3a625921-a83f-494a-b87b-852caab01d4f",
        "_uuid": "73f0cb97-d7e3-4f77-8637-309568cd7be3",
        "papermill": {
          "duration": 0.014147,
          "end_time": "2023-01-18T21:32:39.306544",
          "exception": false,
          "start_time": "2023-01-18T21:32:39.292397",
          "status": "completed"
        },
        "tags": [],
        "id": "3d6c9484"
      },
      "source": [
        "Recall, the original classifier we built was great. However, being motivated, we will use the new LLM to build a classifier with the hope of beating the previous model. Game on!\n",
        "\n",
        "Create DataLoaders for classification using the domain specific language model. Notice, we set $is\\_lm=False$ and use the vocabulary list from the LLM by setting $vocab=dls\\_lm.vocab$."
      ]
    },
    {
      "cell_type": "code",
      "execution_count": 27,
      "id": "fab4a91c",
      "metadata": {
        "_cell_guid": "58190c03-2e4a-4d32-bf32-6344696075ce",
        "_uuid": "b264d5a6-afdc-4ec6-b7cb-be8baacade98",
        "execution": {
          "iopub.execute_input": "2023-01-18T21:32:39.337562Z",
          "iopub.status.busy": "2023-01-18T21:32:39.336680Z",
          "iopub.status.idle": "2023-01-18T21:32:39.341532Z",
          "shell.execute_reply": "2023-01-18T21:32:39.340692Z"
        },
        "jupyter": {
          "outputs_hidden": false
        },
        "papermill": {
          "duration": 0.022216,
          "end_time": "2023-01-18T21:32:39.343457",
          "exception": false,
          "start_time": "2023-01-18T21:32:39.321241",
          "status": "completed"
        },
        "tags": [],
        "id": "fab4a91c",
        "colab": {
          "base_uri": "https://localhost:8080/",
          "height": 38
        },
        "outputId": "e5ff4fcd-8d7a-453c-929b-e04ec68ac90a"
      },
      "outputs": [
        {
          "output_type": "display_data",
          "data": {
            "text/plain": [
              "<IPython.core.display.HTML object>"
            ],
            "text/html": [
              "\n",
              "<style>\n",
              "    /* Turns off some styling */\n",
              "    progress {\n",
              "        /* gets rid of default border in Firefox and Opera. */\n",
              "        border: none;\n",
              "        /* Needs to be in here for Safari polyfill so background images work as expected. */\n",
              "        background-size: auto;\n",
              "    }\n",
              "    progress:not([value]), progress:not([value])::-webkit-progress-bar {\n",
              "        background: repeating-linear-gradient(45deg, #7e7e7e, #7e7e7e 10px, #5c5c5c 10px, #5c5c5c 20px);\n",
              "    }\n",
              "    .progress-bar-interrupted, .progress-bar-interrupted::-webkit-progress-bar {\n",
              "        background: #F44336;\n",
              "    }\n",
              "</style>\n"
            ]
          },
          "metadata": {}
        },
        {
          "output_type": "display_data",
          "data": {
            "text/plain": [
              "<IPython.core.display.HTML object>"
            ],
            "text/html": []
          },
          "metadata": {}
        }
      ],
      "source": [
        "dls_cls = DataBlock(\n",
        "            blocks=(TextBlock.from_df(text_cols=('text'), \n",
        "                              is_lm=False, \n",
        "                              vocab=dls_lm.vocab), \n",
        "            CategoryBlock),\n",
        "            get_x=ColReader('text'),\n",
        "            get_y=ColReader('label'), \n",
        "            splitter=RandomSplitter(valid_pct=0.2, \n",
        "                                    seed=12345)\n",
        "            ).dataloaders(df, bs=64)"
      ]
    },
    {
      "cell_type": "code",
      "execution_count": 28,
      "id": "e682c1ee",
      "metadata": {
        "_cell_guid": "e62244e9-7c5d-429a-9a63-674d463bd724",
        "_uuid": "40007b73-409e-46e7-aac6-8ff60a9784b8",
        "execution": {
          "iopub.execute_input": "2023-01-18T21:32:39.374715Z",
          "iopub.status.busy": "2023-01-18T21:32:39.373140Z",
          "iopub.status.idle": "2023-01-18T21:32:39.377872Z",
          "shell.execute_reply": "2023-01-18T21:32:39.376999Z"
        },
        "jupyter": {
          "outputs_hidden": false
        },
        "papermill": {
          "duration": 0.02216,
          "end_time": "2023-01-18T21:32:39.379890",
          "exception": false,
          "start_time": "2023-01-18T21:32:39.357730",
          "status": "completed"
        },
        "tags": [],
        "id": "e682c1ee",
        "colab": {
          "base_uri": "https://localhost:8080/",
          "height": 392
        },
        "outputId": "e33a108a-a57e-4c81-b23b-cb0819d0fb74"
      },
      "outputs": [
        {
          "output_type": "display_data",
          "data": {
            "text/plain": [
              "<IPython.core.display.HTML object>"
            ],
            "text/html": [
              "<table border=\"1\" class=\"dataframe\">\n",
              "  <thead>\n",
              "    <tr style=\"text-align: right;\">\n",
              "      <th></th>\n",
              "      <th>text</th>\n",
              "      <th>category</th>\n",
              "    </tr>\n",
              "  </thead>\n",
              "  <tbody>\n",
              "    <tr>\n",
              "      <th>0</th>\n",
              "      <td>xxbos i compared this rawhide to &amp; &lt; a data - hook=\"product - link - linked \" class=\"a - link - normal \" href= \" / good - buddy - usa - rawhide - braided - sticks - for - dogs-7 - to-8 - inch-2 - count - pack - of-1 / dp / xxup b005gwvwja / ref = cm_cr_arp_d_rvw_txt?ie = utf8\"&gt;good xxmaj buddy xxup usa xxmaj rawhide xxmaj braided xxmaj sticks for xxmaj dogs , 7 to 8 - inch , 2 xxmaj count ( pack of 1 ) &lt; / a &gt; &amp; for my 3 year old labradoodle . \\n\\n xxup where xxup it xxup is xxup made : xxmaj this is made in xxup china . xxmaj the &amp; &lt; a data - hook=\"product - link - linked \" class=\"a - link - normal \" href= \" / good - buddy - usa - rawhide -</td>\n",
              "      <td>OR</td>\n",
              "    </tr>\n",
              "    <tr>\n",
              "      <th>1</th>\n",
              "      <td>xxbos xxmaj this is a classy looking watch . i do n't get much opportunity to \" dress up \" these days , and its nice to have an inexpensive watch to have \" on reserve \" for those events where it does happen . xxmaj typically xxmaj i 'm wearing my casio tough solar watch with a suit , and it does n't look right ( even if it is a good representation of \" the real me \" ) . \\n\\n xxmaj now with the xxmaj xxunk xxmaj i 'll have an appropriate watch to wear \" occasionally \" . \\n\\n xxmaj you may want to pick up a watch sizing kit , i have one because xxmaj i 'm buying most of my watches online these days . xxmaj this is the one i have : &amp; &lt; a data - hook=\"product - link - linked \"</td>\n",
              "      <td>OR</td>\n",
              "    </tr>\n",
              "    <tr>\n",
              "      <th>2</th>\n",
              "      <td>xxbos ( source : i xxunk a digital copy of this book for free on a read - to - review basis . xxmaj thanks to author xxmaj kris xxmaj xxunk . ) \\n xxmaj erin is good at tennis , but while she likes it , it does n't mean everything to her , not the way it does to her mom . xxmaj erin 's mom is determined that xxmaj erin use her talent for tennis , and become something really good , but xxmaj erin just wants to have a normal life . \\n\\n xxmaj one day whilst visiting her grandmother , xxmaj erin finds herself sent back in time to 1970 , where she has the chance to play tennis against her mother . \\n xxmaj who will win the match ? xxmaj is xxmaj erin better than her mother ? xxmaj and how will xxmaj</td>\n",
              "      <td>OR</td>\n",
              "    </tr>\n",
              "  </tbody>\n",
              "</table>"
            ]
          },
          "metadata": {}
        }
      ],
      "source": [
        "dls_cls.show_batch(max_n=3)"
      ]
    },
    {
      "cell_type": "markdown",
      "id": "cabf1480",
      "metadata": {
        "_cell_guid": "dbe88362-490a-4529-ae8e-2fc32811a26b",
        "_uuid": "2e7cd64b-f227-4662-8c90-41cad2a09c94",
        "papermill": {
          "duration": 0.014226,
          "end_time": "2023-01-18T21:32:39.408441",
          "exception": false,
          "start_time": "2023-01-18T21:32:39.394215",
          "status": "completed"
        },
        "tags": [],
        "id": "cabf1480"
      },
      "source": [
        "Create text classification learner and use the LLM as the encoder."
      ]
    },
    {
      "cell_type": "code",
      "execution_count": 29,
      "id": "704e7575",
      "metadata": {
        "_cell_guid": "865faf8b-914f-411d-9582-4a6b6e3cf920",
        "_uuid": "b90bc0a4-ff99-4018-b04a-44bc1fc55611",
        "execution": {
          "iopub.execute_input": "2023-01-18T21:32:39.440157Z",
          "iopub.status.busy": "2023-01-18T21:32:39.439306Z",
          "iopub.status.idle": "2023-01-18T21:32:39.444484Z",
          "shell.execute_reply": "2023-01-18T21:32:39.443546Z"
        },
        "jupyter": {
          "outputs_hidden": false
        },
        "papermill": {
          "duration": 0.023466,
          "end_time": "2023-01-18T21:32:39.446712",
          "exception": false,
          "start_time": "2023-01-18T21:32:39.423246",
          "status": "completed"
        },
        "tags": [],
        "id": "704e7575"
      },
      "outputs": [],
      "source": [
        "learn = text_classifier_learner(dls_cls, \n",
        "                                AWD_LSTM, \n",
        "                                drop_mult=0.5, \n",
        "                                metrics=[accuracy, Precision(), Recall(), F1Score()])\n",
        "learn = learn.load_encoder('finetuned')"
      ]
    },
    {
      "cell_type": "markdown",
      "source": [
        "Find the optimal learning rate."
      ],
      "metadata": {
        "id": "kcBP9Cs05Z8C"
      },
      "id": "kcBP9Cs05Z8C"
    },
    {
      "cell_type": "code",
      "source": [
        "lr = learn.lr_find()"
      ],
      "metadata": {
        "id": "d7blfeK41mIP",
        "colab": {
          "base_uri": "https://localhost:8080/",
          "height": 475
        },
        "outputId": "b2087a2d-9ae8-47c7-cd5d-367a3256ff76"
      },
      "id": "d7blfeK41mIP",
      "execution_count": 30,
      "outputs": [
        {
          "output_type": "display_data",
          "data": {
            "text/plain": [
              "<IPython.core.display.HTML object>"
            ],
            "text/html": [
              "\n",
              "<style>\n",
              "    /* Turns off some styling */\n",
              "    progress {\n",
              "        /* gets rid of default border in Firefox and Opera. */\n",
              "        border: none;\n",
              "        /* Needs to be in here for Safari polyfill so background images work as expected. */\n",
              "        background-size: auto;\n",
              "    }\n",
              "    progress:not([value]), progress:not([value])::-webkit-progress-bar {\n",
              "        background: repeating-linear-gradient(45deg, #7e7e7e, #7e7e7e 10px, #5c5c5c 10px, #5c5c5c 20px);\n",
              "    }\n",
              "    .progress-bar-interrupted, .progress-bar-interrupted::-webkit-progress-bar {\n",
              "        background: #F44336;\n",
              "    }\n",
              "</style>\n"
            ]
          },
          "metadata": {}
        },
        {
          "output_type": "display_data",
          "data": {
            "text/plain": [
              "<IPython.core.display.HTML object>"
            ],
            "text/html": []
          },
          "metadata": {}
        },
        {
          "output_type": "display_data",
          "data": {
            "text/plain": [
              "<Figure size 640x480 with 1 Axes>"
            ],
            "image/png": "[encoded data removed]"
          },
          "metadata": {}
        }
      ]
    },
    {
      "cell_type": "markdown",
      "source": [
        "And tune the model for 3 epochs."
      ],
      "metadata": {
        "id": "vxpCClkQ5fSa"
      },
      "id": "vxpCClkQ5fSa"
    },
    {
      "cell_type": "code",
      "execution_count": 31,
      "id": "9c196c31",
      "metadata": {
        "_cell_guid": "46e92bf6-f9bd-4f3d-9c55-a625987060f4",
        "_uuid": "4d585937-1805-490e-8668-f95efa18121d",
        "execution": {
          "iopub.execute_input": "2023-01-18T21:32:39.515286Z",
          "iopub.status.busy": "2023-01-18T21:32:39.514430Z",
          "iopub.status.idle": "2023-01-18T21:32:39.519053Z",
          "shell.execute_reply": "2023-01-18T21:32:39.518205Z"
        },
        "jupyter": {
          "outputs_hidden": false
        },
        "papermill": {
          "duration": 0.021788,
          "end_time": "2023-01-18T21:32:39.520790",
          "exception": false,
          "start_time": "2023-01-18T21:32:39.499002",
          "status": "completed"
        },
        "tags": [],
        "id": "9c196c31",
        "colab": {
          "base_uri": "https://localhost:8080/",
          "height": 222
        },
        "outputId": "293eb33f-7d8b-40e9-d667-4ddbc85346c0"
      },
      "outputs": [
        {
          "output_type": "display_data",
          "data": {
            "text/plain": [
              "<IPython.core.display.HTML object>"
            ],
            "text/html": [
              "\n",
              "<style>\n",
              "    /* Turns off some styling */\n",
              "    progress {\n",
              "        /* gets rid of default border in Firefox and Opera. */\n",
              "        border: none;\n",
              "        /* Needs to be in here for Safari polyfill so background images work as expected. */\n",
              "        background-size: auto;\n",
              "    }\n",
              "    progress:not([value]), progress:not([value])::-webkit-progress-bar {\n",
              "        background: repeating-linear-gradient(45deg, #7e7e7e, #7e7e7e 10px, #5c5c5c 10px, #5c5c5c 20px);\n",
              "    }\n",
              "    .progress-bar-interrupted, .progress-bar-interrupted::-webkit-progress-bar {\n",
              "        background: #F44336;\n",
              "    }\n",
              "</style>\n"
            ]
          },
          "metadata": {}
        },
        {
          "output_type": "display_data",
          "data": {
            "text/plain": [
              "<IPython.core.display.HTML object>"
            ],
            "text/html": [
              "<table border=\"1\" class=\"dataframe\">\n",
              "  <thead>\n",
              "    <tr style=\"text-align: left;\">\n",
              "      <th>epoch</th>\n",
              "      <th>train_loss</th>\n",
              "      <th>valid_loss</th>\n",
              "      <th>accuracy</th>\n",
              "      <th>precision_score</th>\n",
              "      <th>recall_score</th>\n",
              "      <th>f1_score</th>\n",
              "      <th>time</th>\n",
              "    </tr>\n",
              "  </thead>\n",
              "  <tbody>\n",
              "    <tr>\n",
              "      <td>0</td>\n",
              "      <td>0.323608</td>\n",
              "      <td>0.242557</td>\n",
              "      <td>0.898095</td>\n",
              "      <td>0.934955</td>\n",
              "      <td>0.853756</td>\n",
              "      <td>0.892512</td>\n",
              "      <td>01:09</td>\n",
              "    </tr>\n",
              "  </tbody>\n",
              "</table>"
            ]
          },
          "metadata": {}
        },
        {
          "output_type": "display_data",
          "data": {
            "text/plain": [
              "<IPython.core.display.HTML object>"
            ],
            "text/html": [
              "\n",
              "<style>\n",
              "    /* Turns off some styling */\n",
              "    progress {\n",
              "        /* gets rid of default border in Firefox and Opera. */\n",
              "        border: none;\n",
              "        /* Needs to be in here for Safari polyfill so background images work as expected. */\n",
              "        background-size: auto;\n",
              "    }\n",
              "    progress:not([value]), progress:not([value])::-webkit-progress-bar {\n",
              "        background: repeating-linear-gradient(45deg, #7e7e7e, #7e7e7e 10px, #5c5c5c 10px, #5c5c5c 20px);\n",
              "    }\n",
              "    .progress-bar-interrupted, .progress-bar-interrupted::-webkit-progress-bar {\n",
              "        background: #F44336;\n",
              "    }\n",
              "</style>\n"
            ]
          },
          "metadata": {}
        },
        {
          "output_type": "display_data",
          "data": {
            "text/plain": [
              "<IPython.core.display.HTML object>"
            ],
            "text/html": [
              "<table border=\"1\" class=\"dataframe\">\n",
              "  <thead>\n",
              "    <tr style=\"text-align: left;\">\n",
              "      <th>epoch</th>\n",
              "      <th>train_loss</th>\n",
              "      <th>valid_loss</th>\n",
              "      <th>accuracy</th>\n",
              "      <th>precision_score</th>\n",
              "      <th>recall_score</th>\n",
              "      <th>f1_score</th>\n",
              "      <th>time</th>\n",
              "    </tr>\n",
              "  </thead>\n",
              "  <tbody>\n",
              "    <tr>\n",
              "      <td>0</td>\n",
              "      <td>0.195852</td>\n",
              "      <td>0.141835</td>\n",
              "      <td>0.938412</td>\n",
              "      <td>0.981609</td>\n",
              "      <td>0.892438</td>\n",
              "      <td>0.934902</td>\n",
              "      <td>02:19</td>\n",
              "    </tr>\n",
              "    <tr>\n",
              "      <td>1</td>\n",
              "      <td>0.174162</td>\n",
              "      <td>0.210898</td>\n",
              "      <td>0.922953</td>\n",
              "      <td>0.994448</td>\n",
              "      <td>0.849264</td>\n",
              "      <td>0.916139</td>\n",
              "      <td>02:19</td>\n",
              "    </tr>\n",
              "    <tr>\n",
              "      <td>2</td>\n",
              "      <td>0.082811</td>\n",
              "      <td>0.225423</td>\n",
              "      <td>0.929879</td>\n",
              "      <td>0.997110</td>\n",
              "      <td>0.860993</td>\n",
              "      <td>0.924066</td>\n",
              "      <td>02:19</td>\n",
              "    </tr>\n",
              "  </tbody>\n",
              "</table>"
            ]
          },
          "metadata": {}
        }
      ],
      "source": [
        "learn.fine_tune(3, lr[0])"
      ]
    },
    {
      "cell_type": "markdown",
      "id": "b3782b41",
      "metadata": {
        "_cell_guid": "91c3f5ce-1fe8-4802-8f9a-a04317f96952",
        "_uuid": "807234a5-be52-43fc-aa26-19d0de77e38c",
        "papermill": {
          "duration": 0.014142,
          "end_time": "2023-01-18T21:32:39.697683",
          "exception": false,
          "start_time": "2023-01-18T21:32:39.683541",
          "status": "completed"
        },
        "tags": [],
        "id": "b3782b41"
      },
      "source": [
        " ## New model performance\n",
        "\n",
        " The new model has marginally better *precision* ($99\\%$ versus $98\\%$) and *recall* ($86\\%$ versus $85\\%$).\n",
        " \n",
        " The confusion matrix shows the new model has performed better overall (567 total missclassifications, previously 631).\n",
        "\n",
        " So, is the new model truly better? The answer is *yes*. Since the key objective was to identify fake (computer generated) reviews, the new model has performed better by misclassifying fewer CGs (10 versus 50)."
      ]
    },
    {
      "cell_type": "code",
      "source": [
        "interp = ClassificationInterpretation.from_learner(learn)\n",
        "interp.plot_confusion_matrix()"
      ],
      "metadata": {
        "id": "46483003",
        "colab": {
          "base_uri": "https://localhost:8080/",
          "height": 526
        },
        "outputId": "128173b2-0a9f-4a31-fb87-4341de6eaa3e"
      },
      "id": "46483003",
      "execution_count": 32,
      "outputs": [
        {
          "output_type": "display_data",
          "data": {
            "text/plain": [
              "<IPython.core.display.HTML object>"
            ],
            "text/html": [
              "\n",
              "<style>\n",
              "    /* Turns off some styling */\n",
              "    progress {\n",
              "        /* gets rid of default border in Firefox and Opera. */\n",
              "        border: none;\n",
              "        /* Needs to be in here for Safari polyfill so background images work as expected. */\n",
              "        background-size: auto;\n",
              "    }\n",
              "    progress:not([value]), progress:not([value])::-webkit-progress-bar {\n",
              "        background: repeating-linear-gradient(45deg, #7e7e7e, #7e7e7e 10px, #5c5c5c 10px, #5c5c5c 20px);\n",
              "    }\n",
              "    .progress-bar-interrupted, .progress-bar-interrupted::-webkit-progress-bar {\n",
              "        background: #F44336;\n",
              "    }\n",
              "</style>\n"
            ]
          },
          "metadata": {}
        },
        {
          "output_type": "display_data",
          "data": {
            "text/plain": [
              "<IPython.core.display.HTML object>"
            ],
            "text/html": []
          },
          "metadata": {}
        },
        {
          "output_type": "display_data",
          "data": {
            "text/plain": [
              "<IPython.core.display.HTML object>"
            ],
            "text/html": [
              "\n",
              "<style>\n",
              "    /* Turns off some styling */\n",
              "    progress {\n",
              "        /* gets rid of default border in Firefox and Opera. */\n",
              "        border: none;\n",
              "        /* Needs to be in here for Safari polyfill so background images work as expected. */\n",
              "        background-size: auto;\n",
              "    }\n",
              "    progress:not([value]), progress:not([value])::-webkit-progress-bar {\n",
              "        background: repeating-linear-gradient(45deg, #7e7e7e, #7e7e7e 10px, #5c5c5c 10px, #5c5c5c 20px);\n",
              "    }\n",
              "    .progress-bar-interrupted, .progress-bar-interrupted::-webkit-progress-bar {\n",
              "        background: #F44336;\n",
              "    }\n",
              "</style>\n"
            ]
          },
          "metadata": {}
        },
        {
          "output_type": "display_data",
          "data": {
            "text/plain": [
              "<IPython.core.display.HTML object>"
            ],
            "text/html": []
          },
          "metadata": {}
        },
        {
          "output_type": "display_data",
          "data": {
            "text/plain": [
              "<Figure size 640x480 with 1 Axes>"
            ],
            "image/png": "[encoded data removed]"
          },
          "metadata": {}
        }
      ]
    },
    {
      "cell_type": "markdown",
      "source": [
        "Finally, let's use the LLM for text generation (NLG). Text generation involves prompting with some text and asking the model to generate additional text.\n",
        "\n",
        "The generated text is not very sophisticated but kind of makes sense. One could experiment with various settings, e.g. *temperature*, to get different results."
      ],
      "metadata": {
        "id": "NaPsZR5uaclT"
      },
      "id": "NaPsZR5uaclT"
    },
    {
      "cell_type": "code",
      "source": [
        "N_WORDS = 40\n",
        "temperature = 0.75\n",
        "PROMPTS = [\"My husband is hard of hearing and would have difficult time\", \n",
        "           \"I have never encountered such an easy method\", \n",
        "           \"The quality is unquestionable\"]\n",
        "\n",
        "preds = [lm_learner.predict(p, N_WORDS, temperature=temperature) for p in PROMPTS]\n",
        "\n",
        "for idx in range(len(PROMPTS)):\n",
        "  print(f'{idx}: {preds[idx]}')"
      ],
      "metadata": {
        "colab": {
          "base_uri": "https://localhost:8080/",
          "height": 87
        },
        "id": "MjdpRcWkattj",
        "outputId": "5073ff95-5899-47b6-a79c-8fc0e0476ced"
      },
      "id": "MjdpRcWkattj",
      "execution_count": 41,
      "outputs": [
        {
          "output_type": "display_data",
          "data": {
            "text/plain": [
              "<IPython.core.display.HTML object>"
            ],
            "text/html": [
              "\n",
              "<style>\n",
              "    /* Turns off some styling */\n",
              "    progress {\n",
              "        /* gets rid of default border in Firefox and Opera. */\n",
              "        border: none;\n",
              "        /* Needs to be in here for Safari polyfill so background images work as expected. */\n",
              "        background-size: auto;\n",
              "    }\n",
              "    progress:not([value]), progress:not([value])::-webkit-progress-bar {\n",
              "        background: repeating-linear-gradient(45deg, #7e7e7e, #7e7e7e 10px, #5c5c5c 10px, #5c5c5c 20px);\n",
              "    }\n",
              "    .progress-bar-interrupted, .progress-bar-interrupted::-webkit-progress-bar {\n",
              "        background: #F44336;\n",
              "    }\n",
              "</style>\n"
            ]
          },
          "metadata": {}
        },
        {
          "output_type": "display_data",
          "data": {
            "text/plain": [
              "<IPython.core.display.HTML object>"
            ],
            "text/html": []
          },
          "metadata": {}
        },
        {
          "output_type": "display_data",
          "data": {
            "text/plain": [
              "<IPython.core.display.HTML object>"
            ],
            "text/html": [
              "\n",
              "<style>\n",
              "    /* Turns off some styling */\n",
              "    progress {\n",
              "        /* gets rid of default border in Firefox and Opera. */\n",
              "        border: none;\n",
              "        /* Needs to be in here for Safari polyfill so background images work as expected. */\n",
              "        background-size: auto;\n",
              "    }\n",
              "    progress:not([value]), progress:not([value])::-webkit-progress-bar {\n",
              "        background: repeating-linear-gradient(45deg, #7e7e7e, #7e7e7e 10px, #5c5c5c 10px, #5c5c5c 20px);\n",
              "    }\n",
              "    .progress-bar-interrupted, .progress-bar-interrupted::-webkit-progress-bar {\n",
              "        background: #F44336;\n",
              "    }\n",
              "</style>\n"
            ]
          },
          "metadata": {}
        },
        {
          "output_type": "display_data",
          "data": {
            "text/plain": [
              "<IPython.core.display.HTML object>"
            ],
            "text/html": []
          },
          "metadata": {}
        },
        {
          "output_type": "display_data",
          "data": {
            "text/plain": [
              "<IPython.core.display.HTML object>"
            ],
            "text/html": [
              "\n",
              "<style>\n",
              "    /* Turns off some styling */\n",
              "    progress {\n",
              "        /* gets rid of default border in Firefox and Opera. */\n",
              "        border: none;\n",
              "        /* Needs to be in here for Safari polyfill so background images work as expected. */\n",
              "        background-size: auto;\n",
              "    }\n",
              "    progress:not([value]), progress:not([value])::-webkit-progress-bar {\n",
              "        background: repeating-linear-gradient(45deg, #7e7e7e, #7e7e7e 10px, #5c5c5c 10px, #5c5c5c 20px);\n",
              "    }\n",
              "    .progress-bar-interrupted, .progress-bar-interrupted::-webkit-progress-bar {\n",
              "        background: #F44336;\n",
              "    }\n",
              "</style>\n"
            ]
          },
          "metadata": {}
        },
        {
          "output_type": "display_data",
          "data": {
            "text/plain": [
              "<IPython.core.display.HTML object>"
            ],
            "text/html": []
          },
          "metadata": {}
        },
        {
          "output_type": "stream",
          "name": "stdout",
          "text": [
            "0: My husband is hard of hearing and would have difficult time getting through the house . This is a good product for this price . It 's very easy to use and the fit is good ! Great product . Works great . My\n",
            "1: i have never encountered such an easy method to make a lens , and i am very pleased with the purchase . i am very pleased with the quality of this product . It is a great buy for my son , and once he is able\n",
            "2: The quality is xxunk and the picture is pretty . The only downside is that the plastic parts are not very sturdy . The plastic part is very hard to clean and it is not the only one that holds a lot\n"
          ]
        }
      ]
    },
    {
      "cell_type": "markdown",
      "source": [
        "## Conclusion\n",
        "\n",
        "Through the implementation of this project we have explored NLP, NLU, and NLG concepts using Fastai.\n",
        "\n",
        "We have trained a LLM model that that has better classification performance and is also capable of text generation. The ability to build domain specific LLMs on readily available Google Colab infrastructutre is a game changer and make NLP/ML innovation available to citizen developers."
      ],
      "metadata": {
        "id": "e74Vy23enb1_"
      },
      "id": "e74Vy23enb1_"
    }
  ],
  "metadata": {
    "kernelspec": {
      "display_name": "Python 3",
      "language": "python",
      "name": "python3"
    },
    "language_info": {
      "codemirror_mode": {
        "name": "ipython",
        "version": 3
      },
      "file_extension": ".py",
      "mimetype": "text/x-python",
      "name": "python",
      "nbconvert_exporter": "python",
      "pygments_lexer": "ipython3",
      "version": "3.7.12"
    },
    "papermill": {
      "default_parameters": {},
      "duration": 430.528588,
      "end_time": "2023-01-18T21:32:43.425766",
      "environment_variables": {},
      "exception": null,
      "input_path": "__notebook__.ipynb",
      "output_path": "__notebook__.ipynb",
      "parameters": {},
      "start_time": "2023-01-18T21:25:32.897178",
      "version": "2.3.4"
    },
    "colab": {
      "provenance": [],
      "gpuType": "T4",
      "include_colab_link": true
    },
    "accelerator": "GPU",
    "gpuClass": "standard"
  },
  "nbformat": 4,
  "nbformat_minor": 5
}